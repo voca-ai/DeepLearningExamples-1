{
 "cells": [
  {
   "cell_type": "markdown",
   "metadata": {},
   "source": [
    "# Voice Quality Test. \n",
    "## For starting it, select Run->Run All Cells\n",
    "### Dec 2020\n"
   ]
  },
  {
   "cell_type": "code",
   "execution_count": null,
   "metadata": {
    "jupyter": {
     "source_hidden": true
    }
   },
   "outputs": [],
   "source": [
    "import random\n",
    "import numpy as np\n",
    "import IPython\n",
    "import time\n",
    "from IPython.display import display, Markdown, Audio\n",
    "from ipywidgets import widgets\n",
    "#!jupyter nbextension enable --py widgetsnbextension"
   ]
  },
  {
   "cell_type": "code",
   "execution_count": null,
   "metadata": {
    "jupyter": {
     "source_hidden": true
    }
   },
   "outputs": [],
   "source": [
    "random.seed(17)\n",
    "\n",
    "n_questions = 25\n",
    "arr = np.ndarray((n_questions,3)).astype(int)\n",
    "for t in range(n_questions):\n",
    "    a = [0,1,2]\n",
    "    random.shuffle(a)\n",
    "    arr[t,:] = a\n",
    "\n",
    "with open(\"counter.txt\",\"r\") as cnt:\n",
    "    ccol = cnt.readlines()[-1]\n",
    "col = int(ccol) % 3\n",
    "with open(\"counter.txt\",\"a\") as cnt:\n",
    "    cnt.write(\"{}\\n\".format(int(ccol)+1))\n",
    "    \n",
    "selections = list(arr[:,col])\n",
    "col_names = ['a','b','c']\n",
    "\n",
    "display(widgets.HTML(\n",
    "    value=\"<h1>Voice Quality<br></h1><body>Thanks for participating. Please select for each utternace it percieved quality with the folowing scale:<br><ol>\"\n",
    "            \"<li>Bad</li>\"\n",
    "            \"<li>Poor</li>\"\n",
    "            \"<li>Fair</li>\"\n",
    "            \"<li>Good</li>\"\n",
    "            \"<li>Excellent</li>\"\n",
    "            \"</ol>\"\n",
    "            \"<b>This test is not checking how much 'Jenny like' is a voice, but rather only how good it sounds </b><br>\"\n",
    "            \"After completing the entries press the Done button. <br>Good luck and thank you.<br><br><br>\"\n",
    "            \"</body>\"\n",
    "))        \n",
    "\n",
    "sliders = []\n",
    "txt = widgets.Text(\n",
    "    value='',\n",
    "    placeholder='Type something like your name or id',\n",
    "    description='Name:',\n",
    "    disabled=False\n",
    ")\n",
    "display(txt)\n",
    "\n",
    "for t in range(n_questions):\n",
    "    name = f\"Q/{col_names[selections[t]]}_{t}.wav\"\n",
    "    with open(name,\"rb\") as wf:\n",
    "        data = wf.read()\n",
    "    display(widgets.HTML(\n",
    "        value=f\"<h2>Utterance <b>{t+1}:</b></h2>\"\n",
    "    ))        \n",
    "    display(Audio(data=data, rate=22050))\n",
    "    fs = widgets.FloatSlider(\n",
    "        value=3,\n",
    "        min=1,\n",
    "        max=5,\n",
    "        step=0.1,\n",
    "        description='Test:',\n",
    "        disabled=False,\n",
    "        continuous_update=False,\n",
    "        orientation='horizontal',\n",
    "        readout=True,\n",
    "        readout_format='.1f',\n",
    "    )\n",
    "    sliders.append(fs)\n",
    "    display(fs)\n",
    "\n",
    "button = widgets.Button(description=\"Done\")\n",
    "\n",
    "def on_button_clicked(b):\n",
    "    mytime = time.time()\n",
    "    with open(\"Q_replies.csv\",\"a\") as f:\n",
    "        for t in range(n_questions):\n",
    "            f.write(\"{},{},{},{}\\n\".format(mytime,txt.value.replace(\",\",\"_\"),t,col_names[selections[t]],sliders[t].value))\n",
    "    html.value=\"<h2>Saved data! Thank you</h2><br><body>you can close the browser window now...</body>\"\n",
    "\n",
    "button.on_click(on_button_clicked)\n",
    "\n",
    "display(button)\n",
    "html = widgets.HTML(\n",
    "    value=\"\"\n",
    ")\n",
    "display(html)        \n"
   ]
  }
 ],
 "metadata": {
  "autoplay": {
   "autoRun": false,
   "hideCodeCells": false
  },
  "kernelspec": {
   "display_name": "Python 3",
   "language": "python",
   "name": "python3"
  },
  "language_info": {
   "codemirror_mode": {
    "name": "ipython",
    "version": 3
   },
   "file_extension": ".py",
   "mimetype": "text/x-python",
   "name": "python",
   "nbconvert_exporter": "python",
   "pygments_lexer": "ipython3",
   "version": "3.6.10"
  },
  "widgets": {
   "application/vnd.jupyter.widget-state+json": {
    "state": {
     "0012d4e4073d4f6dbc8b6408adb40aed": {
      "model_module": "@jupyter-widgets/controls",
      "model_module_version": "1.5.0",
      "model_name": "SliderStyleModel",
      "state": {
       "description_width": ""
      }
     },
     "0027b41c16cb4fdca03acf198da00c9a": {
      "model_module": "@jupyter-widgets/controls",
      "model_module_version": "1.5.0",
      "model_name": "HTMLModel",
      "state": {
       "layout": "IPY_MODEL_ad7448c2f16d4176b372d5dffe0faf6b",
       "style": "IPY_MODEL_117fc5eb81ff4a678b0a81670917338e",
       "value": "<h2>Utterance <b>21:</b></h2>"
      }
     },
     "0063109a7d64446ea882e2b5a2ad951e": {
      "model_module": "@jupyter-widgets/base",
      "model_module_version": "1.2.0",
      "model_name": "LayoutModel",
      "state": {}
     },
     "008b0e9595ad4a10880c085bfa64e9b2": {
      "model_module": "@jupyter-widgets/controls",
      "model_module_version": "1.5.0",
      "model_name": "DescriptionStyleModel",
      "state": {
       "description_width": ""
      }
     },
     "008e76e54a1442d9a7442d7ee2119b98": {
      "model_module": "@jupyter-widgets/base",
      "model_module_version": "1.2.0",
      "model_name": "LayoutModel",
      "state": {}
     },
     "00aa25cc0c734362b639cba985729bd7": {
      "model_module": "@jupyter-widgets/controls",
      "model_module_version": "1.5.0",
      "model_name": "DescriptionStyleModel",
      "state": {
       "description_width": ""
      }
     },
     "00c62c54ba5e40199830b452107642ca": {
      "model_module": "@jupyter-widgets/controls",
      "model_module_version": "1.5.0",
      "model_name": "FloatSliderModel",
      "state": {
       "continuous_update": false,
       "description": "Test:",
       "layout": "IPY_MODEL_252bc60dad2345d2875cdc22288fb71b",
       "max": 5,
       "min": 1,
       "readout_format": ".1f",
       "step": 0.1,
       "style": "IPY_MODEL_75f1be0f19cb4ee98d737f6a0d259113",
       "value": 3
      }
     },
     "012cca4fe50d4415b29aba761613184f": {
      "model_module": "@jupyter-widgets/controls",
      "model_module_version": "1.5.0",
      "model_name": "SliderStyleModel",
      "state": {
       "description_width": ""
      }
     },
     "013d4c538bc040598a395452bf00552d": {
      "model_module": "@jupyter-widgets/controls",
      "model_module_version": "1.5.0",
      "model_name": "HTMLModel",
      "state": {
       "layout": "IPY_MODEL_20617e6819774b32bf9bc29ac4049da7",
       "style": "IPY_MODEL_cdbb644256d54febaf9e8c07bf94230e",
       "value": "<h2>Utterance <b>19:</b></h2>"
      }
     },
     "01441e84dcab4c00a1ae02847b1a8261": {
      "model_module": "@jupyter-widgets/controls",
      "model_module_version": "1.5.0",
      "model_name": "SliderStyleModel",
      "state": {
       "description_width": ""
      }
     },
     "01520e3f9ddc49ecbc0d2f2967cd5efd": {
      "model_module": "@jupyter-widgets/base",
      "model_module_version": "1.2.0",
      "model_name": "LayoutModel",
      "state": {}
     },
     "0188744e16ff4eb38a2f3fdd174bfb67": {
      "model_module": "@jupyter-widgets/controls",
      "model_module_version": "1.5.0",
      "model_name": "FloatSliderModel",
      "state": {
       "continuous_update": false,
       "description": "Test:",
       "layout": "IPY_MODEL_f1707eecd7f845a2ab923e57e71ffc13",
       "max": 5,
       "min": 1,
       "readout_format": ".1f",
       "step": 0.1,
       "style": "IPY_MODEL_ea97b1ee4f234269b2f94dd3e3236548",
       "value": 3
      }
     },
     "01d7ce6a19de4517a71aa26abddfb318": {
      "model_module": "@jupyter-widgets/controls",
      "model_module_version": "1.5.0",
      "model_name": "HTMLModel",
      "state": {
       "layout": "IPY_MODEL_616647bf0b5f4fb4a658bba3b532346e",
       "style": "IPY_MODEL_f5407e3465dc4de38c4dee81fe6e44e0",
       "value": "<h2>Utterance <b>13:</b></h2>"
      }
     },
     "021e4faa0a35448c9701a91a62759d2f": {
      "model_module": "@jupyter-widgets/base",
      "model_module_version": "1.2.0",
      "model_name": "LayoutModel",
      "state": {}
     },
     "0230e2d9fdf2494d8ae569222f16d8ea": {
      "model_module": "@jupyter-widgets/controls",
      "model_module_version": "1.5.0",
      "model_name": "FloatSliderModel",
      "state": {
       "continuous_update": false,
       "description": "Test:",
       "layout": "IPY_MODEL_ff484c741f1e4b0a9be1085294e32d4b",
       "max": 5,
       "min": 1,
       "readout_format": ".1f",
       "step": 0.1,
       "style": "IPY_MODEL_8d86364c2a1a414e917ddbc80b90ec28",
       "value": 3
      }
     },
     "025c2c56969846009bcba9416c766bca": {
      "model_module": "@jupyter-widgets/controls",
      "model_module_version": "1.5.0",
      "model_name": "FloatSliderModel",
      "state": {
       "continuous_update": false,
       "description": "Test:",
       "layout": "IPY_MODEL_8ba510a1e4aa45c5a364c46906480715",
       "max": 5,
       "min": 1,
       "readout_format": ".1f",
       "step": 0.1,
       "style": "IPY_MODEL_7361864f8e1e49428bb5418191d21252",
       "value": 4.3
      }
     },
     "028d336dd9c14592923c6a47ce71aa1f": {
      "model_module": "@jupyter-widgets/controls",
      "model_module_version": "1.5.0",
      "model_name": "DescriptionStyleModel",
      "state": {
       "description_width": ""
      }
     },
     "02a3f33d938a4f0caaf89dcc7302f750": {
      "model_module": "@jupyter-widgets/base",
      "model_module_version": "1.2.0",
      "model_name": "LayoutModel",
      "state": {}
     },
     "0306958682474912b4ddd65e9934ec09": {
      "model_module": "@jupyter-widgets/controls",
      "model_module_version": "1.5.0",
      "model_name": "FloatSliderModel",
      "state": {
       "continuous_update": false,
       "description": "Test:",
       "layout": "IPY_MODEL_c7e568b1a294409e9e7cd4a3a69bf81c",
       "max": 5,
       "min": 1,
       "readout_format": ".1f",
       "step": 0.1,
       "style": "IPY_MODEL_a192592a6156420d853c42b4e364fed9",
       "value": 3
      }
     },
     "030ba1a0c1cd446aa8971a1b930059b7": {
      "model_module": "@jupyter-widgets/controls",
      "model_module_version": "1.5.0",
      "model_name": "HTMLModel",
      "state": {
       "layout": "IPY_MODEL_43cbad6b3c544c6ca8cebed2d93d926f",
       "style": "IPY_MODEL_77af88915d2942518dad7b3d5bc97a06",
       "value": "<h2>Utterance <b>3:</b></h2>"
      }
     },
     "03250eb7b1fe46189127b0ebca6d8dc3": {
      "model_module": "@jupyter-widgets/controls",
      "model_module_version": "1.5.0",
      "model_name": "SliderStyleModel",
      "state": {
       "description_width": ""
      }
     },
     "03515add2fd244339f5ef68cd01dae31": {
      "model_module": "@jupyter-widgets/controls",
      "model_module_version": "1.5.0",
      "model_name": "SliderStyleModel",
      "state": {
       "description_width": ""
      }
     },
     "0375c8f3741e4bd586b17234a4d88591": {
      "model_module": "@jupyter-widgets/controls",
      "model_module_version": "1.5.0",
      "model_name": "FloatSliderModel",
      "state": {
       "continuous_update": false,
       "description": "Test:",
       "layout": "IPY_MODEL_a9af8663b1a544f6a88e9d75dac8300b",
       "max": 5,
       "min": 1,
       "readout_format": ".1f",
       "step": 0.1,
       "style": "IPY_MODEL_4724c3638f014be091eeee629bc7ef46",
       "value": 3
      }
     },
     "0392c11214bf493292df7cb12486edfb": {
      "model_module": "@jupyter-widgets/controls",
      "model_module_version": "1.5.0",
      "model_name": "HTMLModel",
      "state": {
       "layout": "IPY_MODEL_d5a560eaf863446c946e819ff45e5fbd",
       "style": "IPY_MODEL_179688727131499e9580a36cf49cf353",
       "value": "<h2>Utterance <b>14:</b></h2>"
      }
     },
     "0399b41556594bb9b9655258e41fdfeb": {
      "model_module": "@jupyter-widgets/controls",
      "model_module_version": "1.5.0",
      "model_name": "FloatSliderModel",
      "state": {
       "continuous_update": false,
       "description": "Test:",
       "layout": "IPY_MODEL_f690e4d3660a4fc3a318ed5573b2e7d7",
       "max": 5,
       "min": 1,
       "readout_format": ".1f",
       "step": 0.1,
       "style": "IPY_MODEL_53c1e92d0744477cbee3d0307128e787",
       "value": 3
      }
     },
     "04021e8781a841e7a4450ca7b580807c": {
      "model_module": "@jupyter-widgets/controls",
      "model_module_version": "1.5.0",
      "model_name": "HTMLModel",
      "state": {
       "layout": "IPY_MODEL_efac4698b08244e69684a16ada30dcb0",
       "style": "IPY_MODEL_0735fa870f914257bad5c291b3b36daf",
       "value": "<h2>Utterance <b>7:</b></h2>"
      }
     },
     "040c875b62904f088a79901e83168d1d": {
      "model_module": "@jupyter-widgets/base",
      "model_module_version": "1.2.0",
      "model_name": "LayoutModel",
      "state": {}
     },
     "040f13bdd2f943cc8e21690a6bf8314d": {
      "model_module": "@jupyter-widgets/controls",
      "model_module_version": "1.5.0",
      "model_name": "DescriptionStyleModel",
      "state": {
       "description_width": ""
      }
     },
     "04139127b2e7436abb52282464371223": {
      "model_module": "@jupyter-widgets/controls",
      "model_module_version": "1.5.0",
      "model_name": "DescriptionStyleModel",
      "state": {
       "description_width": ""
      }
     },
     "04899f1a0c8f4c4e8a822e78f8a3a5d3": {
      "model_module": "@jupyter-widgets/controls",
      "model_module_version": "1.5.0",
      "model_name": "DescriptionStyleModel",
      "state": {
       "description_width": ""
      }
     },
     "04bb6cedd0014187920bb9099ffca33f": {
      "model_module": "@jupyter-widgets/controls",
      "model_module_version": "1.5.0",
      "model_name": "HTMLModel",
      "state": {
       "layout": "IPY_MODEL_b938136f97dc4d79b1f96efb29363aa5",
       "style": "IPY_MODEL_ec6b7597da644dd4a0c2aa08666d809f",
       "value": "<h2>Utterance <b>5:</b></h2>"
      }
     },
     "0549b62f19f14d6eb2017fa6565a0ef6": {
      "model_module": "@jupyter-widgets/base",
      "model_module_version": "1.2.0",
      "model_name": "LayoutModel",
      "state": {}
     },
     "0590a966c6de4fa4bec042c21632cb4d": {
      "model_module": "@jupyter-widgets/controls",
      "model_module_version": "1.5.0",
      "model_name": "DescriptionStyleModel",
      "state": {
       "description_width": ""
      }
     },
     "05bcef2ab777480cb97e59d88b199776": {
      "model_module": "@jupyter-widgets/controls",
      "model_module_version": "1.5.0",
      "model_name": "HTMLModel",
      "state": {
       "layout": "IPY_MODEL_84fdbec77c55484987c40a92a3066062",
       "style": "IPY_MODEL_99ef26d0c610466bb9bf19b614a4dcc7",
       "value": "<h1>Voice selection<br></h1><body>Thanks for participating. Please select for each utternace it percieved quality with the folowing scale:<br><ol><li>Bad</li><li>Poor</li><li>Fair</li><li>Good</li><li>Excellent</li></ol><br><b>Note this test is not checking how much 'Jenny like' is a voice, but rather only how it sounds </b><br>After completing the questionaire press the button and you are done. Good luck and thank you.</body>"
      }
     },
     "05d8b9313b81419d934fd2486916d57b": {
      "model_module": "@jupyter-widgets/controls",
      "model_module_version": "1.5.0",
      "model_name": "HTMLModel",
      "state": {
       "layout": "IPY_MODEL_07b08aac04544f448d3993a41d21a309",
       "style": "IPY_MODEL_99413de53b3e429e931c2b2bac2df268",
       "value": "<h2>Utterance <b>20:</b></h2>"
      }
     },
     "05da72d385e14c13b8a88bb4a9bf2091": {
      "model_module": "@jupyter-widgets/controls",
      "model_module_version": "1.5.0",
      "model_name": "HTMLModel",
      "state": {
       "layout": "IPY_MODEL_80f3ce8009b446bb9264ff8fdc9649a3",
       "style": "IPY_MODEL_febb05a44a934bcf91256f1c67dd998e",
       "value": "<h2>Utterance <b>4:</b></h2>"
      }
     },
     "05f134fe5e9b4e70901da1cad094c34f": {
      "model_module": "@jupyter-widgets/base",
      "model_module_version": "1.2.0",
      "model_name": "LayoutModel",
      "state": {}
     },
     "05f9afa212cf4392a5879a9fe75b9a70": {
      "model_module": "@jupyter-widgets/controls",
      "model_module_version": "1.5.0",
      "model_name": "FloatSliderModel",
      "state": {
       "continuous_update": false,
       "description": "Test:",
       "layout": "IPY_MODEL_a06823c2633542cf9b0e564ac90078dd",
       "max": 5,
       "min": 1,
       "readout_format": ".1f",
       "step": 0.1,
       "style": "IPY_MODEL_3208b7c770384eeabaa4980f29f68455",
       "value": 3
      }
     },
     "06002aa7e98f44b0be40ae887d5b8952": {
      "model_module": "@jupyter-widgets/controls",
      "model_module_version": "1.5.0",
      "model_name": "FloatSliderModel",
      "state": {
       "continuous_update": false,
       "description": "Test:",
       "layout": "IPY_MODEL_33537c35f2554abb86a864fbe4bd0bea",
       "max": 5,
       "min": 1,
       "readout_format": ".1f",
       "step": 0.1,
       "style": "IPY_MODEL_7416df3f406e49fe81eda5223ef44f70",
       "value": 3
      }
     },
     "0635b45665234c4292dc1adf08a22fb0": {
      "model_module": "@jupyter-widgets/controls",
      "model_module_version": "1.5.0",
      "model_name": "SliderStyleModel",
      "state": {
       "description_width": ""
      }
     },
     "06408561bb3640f5b590655f6f83bfc5": {
      "model_module": "@jupyter-widgets/controls",
      "model_module_version": "1.5.0",
      "model_name": "SliderStyleModel",
      "state": {
       "description_width": ""
      }
     },
     "06659eb2a3e44277b12ca2b86f9bb14e": {
      "model_module": "@jupyter-widgets/base",
      "model_module_version": "1.2.0",
      "model_name": "LayoutModel",
      "state": {}
     },
     "067073f571df4012ac24008ecc12055e": {
      "model_module": "@jupyter-widgets/controls",
      "model_module_version": "1.5.0",
      "model_name": "SliderStyleModel",
      "state": {
       "description_width": ""
      }
     },
     "067b6aa0181c49fdaa38c8aae58df0d3": {
      "model_module": "@jupyter-widgets/base",
      "model_module_version": "1.2.0",
      "model_name": "LayoutModel",
      "state": {}
     },
     "06da12de51eb42179f8b8344079f1cf6": {
      "model_module": "@jupyter-widgets/controls",
      "model_module_version": "1.5.0",
      "model_name": "FloatSliderModel",
      "state": {
       "continuous_update": false,
       "description": "Test:",
       "layout": "IPY_MODEL_fc1c3fc7be1e4ecab31996427072ddf1",
       "max": 5,
       "min": 1,
       "readout_format": ".1f",
       "step": 0.1,
       "style": "IPY_MODEL_51609da6936d490bbbaacee97c28062a",
       "value": 3
      }
     },
     "06ea552dbbf4483ab9d1a1eaead48032": {
      "model_module": "@jupyter-widgets/base",
      "model_module_version": "1.2.0",
      "model_name": "LayoutModel",
      "state": {}
     },
     "07115627f5b443b2ac7a01f0b434607a": {
      "model_module": "@jupyter-widgets/base",
      "model_module_version": "1.2.0",
      "model_name": "LayoutModel",
      "state": {}
     },
     "072b8797301c4e939db256d9b2e1b63b": {
      "model_module": "@jupyter-widgets/controls",
      "model_module_version": "1.5.0",
      "model_name": "HTMLModel",
      "state": {
       "layout": "IPY_MODEL_f2ffa94cbac649c4ab76f7f4dd31180a",
       "style": "IPY_MODEL_d7a90e6399fa49dca4a63c1dc56e94f9",
       "value": "<h2>Utterance <b>22:</b></h2>"
      }
     },
     "0735fa870f914257bad5c291b3b36daf": {
      "model_module": "@jupyter-widgets/controls",
      "model_module_version": "1.5.0",
      "model_name": "DescriptionStyleModel",
      "state": {
       "description_width": ""
      }
     },
     "073caea018134e6c946a3fa813a4d724": {
      "model_module": "@jupyter-widgets/base",
      "model_module_version": "1.2.0",
      "model_name": "LayoutModel",
      "state": {}
     },
     "075ce766eefb4a9a8845a34b81c48ec6": {
      "model_module": "@jupyter-widgets/base",
      "model_module_version": "1.2.0",
      "model_name": "LayoutModel",
      "state": {}
     },
     "0771c350dd034475987ed6aa79603710": {
      "model_module": "@jupyter-widgets/controls",
      "model_module_version": "1.5.0",
      "model_name": "HTMLModel",
      "state": {
       "layout": "IPY_MODEL_26d52ef8755a43b9b7a2395b961f9aae",
       "style": "IPY_MODEL_d3b77e39db994cd795a1d2f1b3bd3c0a",
       "value": "<h2>Utterance <b>11:</b></h2>"
      }
     },
     "0788346b64de4a1781c8b13261ca0366": {
      "model_module": "@jupyter-widgets/base",
      "model_module_version": "1.2.0",
      "model_name": "LayoutModel",
      "state": {}
     },
     "079695f025074b7090d8ed281645bc99": {
      "model_module": "@jupyter-widgets/controls",
      "model_module_version": "1.5.0",
      "model_name": "DescriptionStyleModel",
      "state": {
       "description_width": ""
      }
     },
     "07983b1b7e054cc7bbe57fdf4b6f0738": {
      "model_module": "@jupyter-widgets/controls",
      "model_module_version": "1.5.0",
      "model_name": "HTMLModel",
      "state": {
       "layout": "IPY_MODEL_610ee0c0197f472195fd171bf9d38b81",
       "style": "IPY_MODEL_517fd594f6ab4ac78d08c77f91894cd8",
       "value": "<h2>Utterance <b>4:</b></h2>"
      }
     },
     "0799d00d3f8f4241a413939fb3790e2e": {
      "model_module": "@jupyter-widgets/controls",
      "model_module_version": "1.5.0",
      "model_name": "DescriptionStyleModel",
      "state": {
       "description_width": ""
      }
     },
     "07b08aac04544f448d3993a41d21a309": {
      "model_module": "@jupyter-widgets/base",
      "model_module_version": "1.2.0",
      "model_name": "LayoutModel",
      "state": {}
     },
     "07baf8d9b7074eb397b100cb4fa73946": {
      "model_module": "@jupyter-widgets/base",
      "model_module_version": "1.2.0",
      "model_name": "LayoutModel",
      "state": {}
     },
     "07cd415708a04445837d3a93d4c42af6": {
      "model_module": "@jupyter-widgets/base",
      "model_module_version": "1.2.0",
      "model_name": "LayoutModel",
      "state": {}
     },
     "07dbdcda4d4e49579337f8f963787d39": {
      "model_module": "@jupyter-widgets/base",
      "model_module_version": "1.2.0",
      "model_name": "LayoutModel",
      "state": {}
     },
     "08369526844e47659dd071e3a02ef5f5": {
      "model_module": "@jupyter-widgets/base",
      "model_module_version": "1.2.0",
      "model_name": "LayoutModel",
      "state": {}
     },
     "08636a1d056c4316b25b3c751ee67ed7": {
      "model_module": "@jupyter-widgets/controls",
      "model_module_version": "1.5.0",
      "model_name": "SliderStyleModel",
      "state": {
       "description_width": ""
      }
     },
     "087df31d832b4233ad2ef9ca7359ef93": {
      "model_module": "@jupyter-widgets/controls",
      "model_module_version": "1.5.0",
      "model_name": "SliderStyleModel",
      "state": {
       "description_width": ""
      }
     },
     "08857614e0c24c368be6a6226d3808ad": {
      "model_module": "@jupyter-widgets/base",
      "model_module_version": "1.2.0",
      "model_name": "LayoutModel",
      "state": {}
     },
     "089fc37de53d44119c59eb1022a81405": {
      "model_module": "@jupyter-widgets/controls",
      "model_module_version": "1.5.0",
      "model_name": "HTMLModel",
      "state": {
       "layout": "IPY_MODEL_fc480446d9ed4918bfe0e9daa687197d",
       "style": "IPY_MODEL_8bc5aa55678f485f846a874aef1e7227",
       "value": "<h2>Utterance <b>1:</b></h2>"
      }
     },
     "08d0669da77f476bae8b2acebcd1e7a8": {
      "model_module": "@jupyter-widgets/controls",
      "model_module_version": "1.5.0",
      "model_name": "DescriptionStyleModel",
      "state": {
       "description_width": ""
      }
     },
     "08dc61a2276d41aca7bd37c24aa0e278": {
      "model_module": "@jupyter-widgets/controls",
      "model_module_version": "1.5.0",
      "model_name": "FloatSliderModel",
      "state": {
       "continuous_update": false,
       "description": "Test:",
       "layout": "IPY_MODEL_c1cc5991d83941709a900e130f351a71",
       "max": 5,
       "min": 1,
       "readout_format": ".1f",
       "step": 0.1,
       "style": "IPY_MODEL_7c875a6694c1403dbe2b8e55e1ff17e5",
       "value": 3
      }
     },
     "0908fd0c313747fe861f96cf3015706c": {
      "model_module": "@jupyter-widgets/base",
      "model_module_version": "1.2.0",
      "model_name": "LayoutModel",
      "state": {}
     },
     "093bd5e31265455683e1e23201d7fcf7": {
      "model_module": "@jupyter-widgets/controls",
      "model_module_version": "1.5.0",
      "model_name": "HTMLModel",
      "state": {
       "layout": "IPY_MODEL_bb5acf8d6e6342c29cd76fdf9f11b74d",
       "style": "IPY_MODEL_0590a966c6de4fa4bec042c21632cb4d",
       "value": "<h2>Utterance <b>24:</b></h2>"
      }
     },
     "0951198a56dd40b2a802c2b07d896026": {
      "model_module": "@jupyter-widgets/controls",
      "model_module_version": "1.5.0",
      "model_name": "DescriptionStyleModel",
      "state": {
       "description_width": ""
      }
     },
     "09667a79dfd5426788b8b160db8938c0": {
      "model_module": "@jupyter-widgets/controls",
      "model_module_version": "1.5.0",
      "model_name": "DescriptionStyleModel",
      "state": {
       "description_width": ""
      }
     },
     "0967815323f04774bed9e817ac51d9ce": {
      "model_module": "@jupyter-widgets/controls",
      "model_module_version": "1.5.0",
      "model_name": "DescriptionStyleModel",
      "state": {
       "description_width": ""
      }
     },
     "097ab5c215fa41ea907fd3d5d42941d8": {
      "model_module": "@jupyter-widgets/base",
      "model_module_version": "1.2.0",
      "model_name": "LayoutModel",
      "state": {}
     },
     "09878bff706f4f48a368e41617c013a0": {
      "model_module": "@jupyter-widgets/controls",
      "model_module_version": "1.5.0",
      "model_name": "HTMLModel",
      "state": {
       "layout": "IPY_MODEL_694ae2c3c730446ab0fab901f69e1780",
       "style": "IPY_MODEL_12e930ec534149f9bc547303bf814ee0",
       "value": "<h2>Utterance <b>16:</b></h2>"
      }
     },
     "09a4021830f54512bec8fa1d45680b8d": {
      "model_module": "@jupyter-widgets/controls",
      "model_module_version": "1.5.0",
      "model_name": "HTMLModel",
      "state": {
       "layout": "IPY_MODEL_b5bb63e6c1e44803a768e3d367123dcd",
       "style": "IPY_MODEL_63466d0db0244f73bdb3b8bea8a504c9",
       "value": "<h2>Utterance <b>11:</b></h2>"
      }
     },
     "09a82d85fd7b4f15b4048df6576fa242": {
      "model_module": "@jupyter-widgets/base",
      "model_module_version": "1.2.0",
      "model_name": "LayoutModel",
      "state": {}
     },
     "0a45a2915571431fbc0dacb31d387c38": {
      "model_module": "@jupyter-widgets/controls",
      "model_module_version": "1.5.0",
      "model_name": "SliderStyleModel",
      "state": {
       "description_width": ""
      }
     },
     "0a4b3fb02a10432ea3daadc69f334160": {
      "model_module": "@jupyter-widgets/controls",
      "model_module_version": "1.5.0",
      "model_name": "HTMLModel",
      "state": {
       "layout": "IPY_MODEL_e769945c87064f4b817702653d61b421",
       "style": "IPY_MODEL_81d00157f05440ccb0b20603288db2b1",
       "value": "<h2>Utterance <b>11:</b></h2>"
      }
     },
     "0a5390121791487b9e0fe08554e70d28": {
      "model_module": "@jupyter-widgets/controls",
      "model_module_version": "1.5.0",
      "model_name": "FloatSliderModel",
      "state": {
       "continuous_update": false,
       "description": "Test:",
       "layout": "IPY_MODEL_eb3361dc7ca04b6eaa392fa260a178b9",
       "max": 5,
       "min": 1,
       "readout_format": ".1f",
       "step": 0.1,
       "style": "IPY_MODEL_48da436bdbd144909a12417578b11034",
       "value": 3
      }
     },
     "0a7a6bf1ec16471b97e8addb39ee9a18": {
      "model_module": "@jupyter-widgets/controls",
      "model_module_version": "1.5.0",
      "model_name": "FloatSliderModel",
      "state": {
       "continuous_update": false,
       "description": "Test:",
       "layout": "IPY_MODEL_51e71efad8754c3c8d2eee0212436609",
       "max": 5,
       "min": 1,
       "readout_format": ".1f",
       "step": 0.1,
       "style": "IPY_MODEL_c717bc2bdc1245c6a9d2fd770c20bc86",
       "value": 3
      }
     },
     "0ac03f2a69e0433a8d6fe04ecb2715ec": {
      "model_module": "@jupyter-widgets/controls",
      "model_module_version": "1.5.0",
      "model_name": "HTMLModel",
      "state": {
       "layout": "IPY_MODEL_c64ed039d9ad4aafb4e818d2a03a9847",
       "style": "IPY_MODEL_5377d59c804f42c09820d77655bbd61d",
       "value": "<h2>Utterance <b>13:</b></h2>"
      }
     },
     "0b3547e14eae4ab7810785c8f969e5a0": {
      "model_module": "@jupyter-widgets/controls",
      "model_module_version": "1.5.0",
      "model_name": "HTMLModel",
      "state": {
       "layout": "IPY_MODEL_703a975bd5b240e591b331596853ceea",
       "style": "IPY_MODEL_a2f3bafe42bd4beea57777f278f321a3",
       "value": "<h2>Utterance <b>9:</b></h2>"
      }
     },
     "0b39a48b452f48fc9d05ff4bef470696": {
      "model_module": "@jupyter-widgets/controls",
      "model_module_version": "1.5.0",
      "model_name": "HTMLModel",
      "state": {
       "layout": "IPY_MODEL_2302e31543cb4957af5269e9fe878825",
       "style": "IPY_MODEL_4cb32b0363054b5490f84f05b44ffb81",
       "value": "<h2>Utterance <b>1:</b></h2>"
      }
     },
     "0b8a406de585424a8e5bd0e226aa0c43": {
      "model_module": "@jupyter-widgets/controls",
      "model_module_version": "1.5.0",
      "model_name": "FloatSliderModel",
      "state": {
       "continuous_update": false,
       "description": "Test:",
       "layout": "IPY_MODEL_01520e3f9ddc49ecbc0d2f2967cd5efd",
       "max": 5,
       "min": 1,
       "readout_format": ".1f",
       "step": 0.1,
       "style": "IPY_MODEL_f69166029f364fb4b4fae3492827a969",
       "value": 3
      }
     },
     "0b924c8d44ec41a8a75ef73dae9aee3f": {
      "model_module": "@jupyter-widgets/base",
      "model_module_version": "1.2.0",
      "model_name": "LayoutModel",
      "state": {}
     },
     "0b9812a4735f415786546b44cdcfa65d": {
      "model_module": "@jupyter-widgets/base",
      "model_module_version": "1.2.0",
      "model_name": "LayoutModel",
      "state": {}
     },
     "0b9da9f2af45490aa7a6479d417d0892": {
      "model_module": "@jupyter-widgets/controls",
      "model_module_version": "1.5.0",
      "model_name": "FloatSliderModel",
      "state": {
       "continuous_update": false,
       "description": "Test:",
       "layout": "IPY_MODEL_38af1b9bd3c546a39abe83672a3a30f6",
       "max": 5,
       "min": 1,
       "readout_format": ".1f",
       "step": 0.1,
       "style": "IPY_MODEL_5e65dadfee3e46b395655cf35a9f827c",
       "value": 3
      }
     },
     "0bbb39135a2f45d99ab383262ad4b61d": {
      "model_module": "@jupyter-widgets/base",
      "model_module_version": "1.2.0",
      "model_name": "LayoutModel",
      "state": {}
     },
     "0bc2cd835db744558b8d851b1d300496": {
      "model_module": "@jupyter-widgets/controls",
      "model_module_version": "1.5.0",
      "model_name": "FloatSliderModel",
      "state": {
       "continuous_update": false,
       "description": "Test:",
       "layout": "IPY_MODEL_bd4c3834ddf741b1abffa5d16372cc5a",
       "max": 5,
       "min": 1,
       "readout_format": ".1f",
       "step": 0.1,
       "style": "IPY_MODEL_b056f31361a6489296a176411a35920a",
       "value": 3
      }
     },
     "0c1f0a34de6b45aa89c82b198184cc87": {
      "model_module": "@jupyter-widgets/controls",
      "model_module_version": "1.5.0",
      "model_name": "DescriptionStyleModel",
      "state": {
       "description_width": ""
      }
     },
     "0c2531e685ed40189152c31ef2a34d8f": {
      "model_module": "@jupyter-widgets/controls",
      "model_module_version": "1.5.0",
      "model_name": "SliderStyleModel",
      "state": {
       "description_width": ""
      }
     },
     "0c2c305a7b224823bce0809a71d19cf1": {
      "model_module": "@jupyter-widgets/controls",
      "model_module_version": "1.5.0",
      "model_name": "SliderStyleModel",
      "state": {
       "description_width": ""
      }
     },
     "0c340674710440e3956e91d07c1cd566": {
      "model_module": "@jupyter-widgets/base",
      "model_module_version": "1.2.0",
      "model_name": "LayoutModel",
      "state": {}
     },
     "0c716342302e401d98ed542a8d814095": {
      "model_module": "@jupyter-widgets/base",
      "model_module_version": "1.2.0",
      "model_name": "LayoutModel",
      "state": {}
     },
     "0c86fe16ac6a4ec39e0406463925ee49": {
      "model_module": "@jupyter-widgets/controls",
      "model_module_version": "1.5.0",
      "model_name": "SliderStyleModel",
      "state": {
       "description_width": ""
      }
     },
     "0c897346252d4516b77436f40c521e55": {
      "model_module": "@jupyter-widgets/base",
      "model_module_version": "1.2.0",
      "model_name": "LayoutModel",
      "state": {}
     },
     "0cb566d0227747d2aea7088a70c0c947": {
      "model_module": "@jupyter-widgets/controls",
      "model_module_version": "1.5.0",
      "model_name": "HTMLModel",
      "state": {
       "layout": "IPY_MODEL_8b0312561d6e42eeb8fb6b92577db42a",
       "style": "IPY_MODEL_5971500ecb5543f6b0dd68f23be2ee85",
       "value": "<h2>Utterance <b>18:</b></h2>"
      }
     },
     "0cf586c39f2b46b8ad290d5ee03f4e22": {
      "model_module": "@jupyter-widgets/base",
      "model_module_version": "1.2.0",
      "model_name": "LayoutModel",
      "state": {}
     },
     "0d0de3b4cecc4d04a2eb2a4fb8dc3b42": {
      "model_module": "@jupyter-widgets/controls",
      "model_module_version": "1.5.0",
      "model_name": "HTMLModel",
      "state": {
       "layout": "IPY_MODEL_e2d7c2adc44a453a968a80ebd7203543",
       "style": "IPY_MODEL_a95f340382c5468cb275bbcd3aebedee",
       "value": "<h2>Utterance <b>24:</b></h2>"
      }
     },
     "0d1ef94800bf4ee9a1796c753efcbe60": {
      "model_module": "@jupyter-widgets/controls",
      "model_module_version": "1.5.0",
      "model_name": "FloatSliderModel",
      "state": {
       "continuous_update": false,
       "description": "Test:",
       "layout": "IPY_MODEL_b91f839ea27c4ab48382a29c16b8e8db",
       "max": 5,
       "min": 1,
       "readout_format": ".1f",
       "step": 0.1,
       "style": "IPY_MODEL_1b8ca9a009f64820bb1ba4b8d089a562",
       "value": 3
      }
     },
     "0d23cdc365c445558e9ddc45dad8e921": {
      "model_module": "@jupyter-widgets/controls",
      "model_module_version": "1.5.0",
      "model_name": "HTMLModel",
      "state": {
       "layout": "IPY_MODEL_4803dfb4bb25455fa5144c043e3031a8",
       "style": "IPY_MODEL_b80aa26dd9744979bdce45f5dd226849",
       "value": "<h2>Utterance <b>19:</b></h2>"
      }
     },
     "0d4cae2f96bc42f295c8d49a621fe128": {
      "model_module": "@jupyter-widgets/base",
      "model_module_version": "1.2.0",
      "model_name": "LayoutModel",
      "state": {}
     },
     "0d57511e0f6c48728f42ace5d1611693": {
      "model_module": "@jupyter-widgets/controls",
      "model_module_version": "1.5.0",
      "model_name": "SliderStyleModel",
      "state": {
       "description_width": ""
      }
     },
     "0db658942474411893800db17b9eea20": {
      "model_module": "@jupyter-widgets/base",
      "model_module_version": "1.2.0",
      "model_name": "LayoutModel",
      "state": {}
     },
     "0e1b1f6838e34571afb63608a30fa07b": {
      "model_module": "@jupyter-widgets/controls",
      "model_module_version": "1.5.0",
      "model_name": "SliderStyleModel",
      "state": {
       "description_width": ""
      }
     },
     "0e353de6f310438396356e3a538d22c7": {
      "model_module": "@jupyter-widgets/base",
      "model_module_version": "1.2.0",
      "model_name": "LayoutModel",
      "state": {}
     },
     "0e66a18d6ca043a2804cb90f0d493b1a": {
      "model_module": "@jupyter-widgets/controls",
      "model_module_version": "1.5.0",
      "model_name": "FloatSliderModel",
      "state": {
       "continuous_update": false,
       "description": "Test:",
       "layout": "IPY_MODEL_382725ad04e54173a7bfc93478c59e76",
       "max": 5,
       "min": 1,
       "readout_format": ".1f",
       "step": 0.1,
       "style": "IPY_MODEL_c7a19f28d993419b84d22ad687cd2350",
       "value": 3
      }
     },
     "0e8553ec44014141aba78a57af3d2b73": {
      "model_module": "@jupyter-widgets/controls",
      "model_module_version": "1.5.0",
      "model_name": "HTMLModel",
      "state": {
       "layout": "IPY_MODEL_8a1ff1e7e24f4e038ab82c117c47e996",
       "style": "IPY_MODEL_1154bf181d374c568e7f10475c76da44",
       "value": "<h2>Utterance <b>11:</b></h2>"
      }
     },
     "0ebb02ed431f45f49fb5351547e6654e": {
      "model_module": "@jupyter-widgets/controls",
      "model_module_version": "1.5.0",
      "model_name": "SliderStyleModel",
      "state": {
       "description_width": ""
      }
     },
     "0ebcad8e95f24ee38d4f4ba92421c4e0": {
      "model_module": "@jupyter-widgets/controls",
      "model_module_version": "1.5.0",
      "model_name": "HTMLModel",
      "state": {
       "layout": "IPY_MODEL_da4158b5e36f4f67bf2718755a8d6e0a",
       "style": "IPY_MODEL_371ed5f5d5c44a6c995ec12b6ebcd95e",
       "value": "<h2>Utterance <b>24:</b></h2>"
      }
     },
     "0edfbe32f0a44b23b141d3893fbb4d87": {
      "model_module": "@jupyter-widgets/base",
      "model_module_version": "1.2.0",
      "model_name": "LayoutModel",
      "state": {}
     },
     "0f008756137b4c1b9e84fd0d1ec2c1b9": {
      "model_module": "@jupyter-widgets/controls",
      "model_module_version": "1.5.0",
      "model_name": "SliderStyleModel",
      "state": {
       "description_width": ""
      }
     },
     "0f1088fa3769414b8bd239d8bb3faad9": {
      "model_module": "@jupyter-widgets/controls",
      "model_module_version": "1.5.0",
      "model_name": "SliderStyleModel",
      "state": {
       "description_width": ""
      }
     },
     "0f11feee53954c829f9601c43f1f0a57": {
      "model_module": "@jupyter-widgets/controls",
      "model_module_version": "1.5.0",
      "model_name": "DescriptionStyleModel",
      "state": {
       "description_width": ""
      }
     },
     "0f4354ff90624da392bbde6aac3e2142": {
      "model_module": "@jupyter-widgets/base",
      "model_module_version": "1.2.0",
      "model_name": "LayoutModel",
      "state": {}
     },
     "0f5aeabeb898413e98f9593e114c620a": {
      "model_module": "@jupyter-widgets/controls",
      "model_module_version": "1.5.0",
      "model_name": "HTMLModel",
      "state": {
       "layout": "IPY_MODEL_a9c04ac9f31245ad959776e4c97f71d9",
       "style": "IPY_MODEL_b201ccbe012f40ef93f97ac5001002df",
       "value": "<h2>Utterance <b>21:</b></h2>"
      }
     },
     "0f5b765c28bf40e99d4f44d853ed29c7": {
      "model_module": "@jupyter-widgets/controls",
      "model_module_version": "1.5.0",
      "model_name": "SliderStyleModel",
      "state": {
       "description_width": ""
      }
     },
     "0f6f2e80b5e74e169196167453995709": {
      "model_module": "@jupyter-widgets/controls",
      "model_module_version": "1.5.0",
      "model_name": "DescriptionStyleModel",
      "state": {
       "description_width": ""
      }
     },
     "0fa6c95a9e8845b0a9a529f1119ebcc0": {
      "model_module": "@jupyter-widgets/controls",
      "model_module_version": "1.5.0",
      "model_name": "FloatSliderModel",
      "state": {
       "continuous_update": false,
       "description": "Test:",
       "layout": "IPY_MODEL_39fb6b3a226b457a834e886db2e8c98d",
       "max": 5,
       "min": 1,
       "readout_format": ".1f",
       "step": 0.1,
       "style": "IPY_MODEL_5931651f5df9454d8ee6871836f8ec70",
       "value": 3
      }
     },
     "0fa7a994cb73461982056c4737d2a69f": {
      "model_module": "@jupyter-widgets/controls",
      "model_module_version": "1.5.0",
      "model_name": "FloatSliderModel",
      "state": {
       "continuous_update": false,
       "description": "Test:",
       "layout": "IPY_MODEL_4aff2d0e649e4677872d9ce1d8806df6",
       "max": 5,
       "min": 1,
       "readout_format": ".1f",
       "step": 0.1,
       "style": "IPY_MODEL_8d42406e68b140dda03e8ea85a640e25",
       "value": 3
      }
     },
     "0fad76c7825b406f8eaebf59b48a3568": {
      "model_module": "@jupyter-widgets/controls",
      "model_module_version": "1.5.0",
      "model_name": "DescriptionStyleModel",
      "state": {
       "description_width": ""
      }
     },
     "0fc68894c0fa4b4fb33a903415e56e45": {
      "model_module": "@jupyter-widgets/controls",
      "model_module_version": "1.5.0",
      "model_name": "HTMLModel",
      "state": {
       "layout": "IPY_MODEL_067b6aa0181c49fdaa38c8aae58df0d3",
       "style": "IPY_MODEL_340ab3a131014cdd8e101fedad1605b5",
       "value": "<h2>Utterance <b>9:</b></h2>"
      }
     },
     "0fcb8e179d4d449d8dafee5e6e1199be": {
      "model_module": "@jupyter-widgets/base",
      "model_module_version": "1.2.0",
      "model_name": "LayoutModel",
      "state": {}
     },
     "0fe241889b88441287f878455681cb28": {
      "model_module": "@jupyter-widgets/controls",
      "model_module_version": "1.5.0",
      "model_name": "HTMLModel",
      "state": {
       "layout": "IPY_MODEL_f3252692834d474f84547a55fbc5e468",
       "style": "IPY_MODEL_540a30a358364d6990cae796d8f432e0",
       "value": "<h2>Utterance <b>21:</b></h2>"
      }
     },
     "0ff22a2da49d4d5a85cea15470a1a4c6": {
      "model_module": "@jupyter-widgets/controls",
      "model_module_version": "1.5.0",
      "model_name": "DescriptionStyleModel",
      "state": {
       "description_width": ""
      }
     },
     "0ff2693e9b6b437699bd78f450d12017": {
      "model_module": "@jupyter-widgets/controls",
      "model_module_version": "1.5.0",
      "model_name": "FloatSliderModel",
      "state": {
       "continuous_update": false,
       "description": "Test:",
       "layout": "IPY_MODEL_9f2fbb7ce5a34c8fa8fdf2d8c3f9b1f3",
       "max": 5,
       "min": 1,
       "readout_format": ".1f",
       "step": 0.1,
       "style": "IPY_MODEL_d7eab7fcf83649c2be8d02ad6bf9da09",
       "value": 3
      }
     },
     "104cdd9eabc24151800af2c5868552f6": {
      "model_module": "@jupyter-widgets/controls",
      "model_module_version": "1.5.0",
      "model_name": "SliderStyleModel",
      "state": {
       "description_width": ""
      }
     },
     "10534bb544e44b4fa7ec429675b52491": {
      "model_module": "@jupyter-widgets/controls",
      "model_module_version": "1.5.0",
      "model_name": "FloatSliderModel",
      "state": {
       "continuous_update": false,
       "description": "Test:",
       "layout": "IPY_MODEL_e4da4a9005f84608956f196b8c8032a1",
       "max": 5,
       "min": 1,
       "readout_format": ".1f",
       "step": 0.1,
       "style": "IPY_MODEL_163b11ee5371467eabb6e8c6c2bdcb39",
       "value": 3
      }
     },
     "106b7283b2e844afaf6bb191d1152f7a": {
      "model_module": "@jupyter-widgets/base",
      "model_module_version": "1.2.0",
      "model_name": "LayoutModel",
      "state": {}
     },
     "1089e452597b48d4a0da434216720c63": {
      "model_module": "@jupyter-widgets/controls",
      "model_module_version": "1.5.0",
      "model_name": "SliderStyleModel",
      "state": {
       "description_width": ""
      }
     },
     "10b523254a724aeaa197e1349f44906a": {
      "model_module": "@jupyter-widgets/base",
      "model_module_version": "1.2.0",
      "model_name": "LayoutModel",
      "state": {}
     },
     "10d5a9f1269448bdab44175d999dabeb": {
      "model_module": "@jupyter-widgets/controls",
      "model_module_version": "1.5.0",
      "model_name": "TextModel",
      "state": {
       "description": "Name:",
       "layout": "IPY_MODEL_9d0dd0a1d5d94849b94669514751ce43",
       "placeholder": "Type something like your name or id",
       "style": "IPY_MODEL_8bfcce4e14354de1bbfe5c6238495727"
      }
     },
     "10efaf0e2a514455b9a1f23f6c751b7c": {
      "model_module": "@jupyter-widgets/base",
      "model_module_version": "1.2.0",
      "model_name": "LayoutModel",
      "state": {}
     },
     "10f49af168c943d38f799d30bab4f6d7": {
      "model_module": "@jupyter-widgets/controls",
      "model_module_version": "1.5.0",
      "model_name": "HTMLModel",
      "state": {
       "layout": "IPY_MODEL_9b8e2f7b47144a00a006b83cc0dcb4de",
       "style": "IPY_MODEL_2a5382080c0f45fdb0821b5db3bb55be",
       "value": "<h2>Utterance <b>12:</b></h2>"
      }
     },
     "10fd2eb53f184d92ba5252f195c1299f": {
      "model_module": "@jupyter-widgets/controls",
      "model_module_version": "1.5.0",
      "model_name": "DescriptionStyleModel",
      "state": {
       "description_width": ""
      }
     },
     "114a8f5bfbdc4d959a5d6b16a514825a": {
      "model_module": "@jupyter-widgets/controls",
      "model_module_version": "1.5.0",
      "model_name": "FloatSliderModel",
      "state": {
       "continuous_update": false,
       "description": "Test:",
       "layout": "IPY_MODEL_7c0c9ef2a16e40218e9790b0b6af0b8a",
       "max": 5,
       "min": 1,
       "readout_format": ".1f",
       "step": 0.1,
       "style": "IPY_MODEL_fa9540e88ccf45d69ba23e51c692c0c7",
       "value": 3
      }
     },
     "1154bf181d374c568e7f10475c76da44": {
      "model_module": "@jupyter-widgets/controls",
      "model_module_version": "1.5.0",
      "model_name": "DescriptionStyleModel",
      "state": {
       "description_width": ""
      }
     },
     "117bbb7eb2d74e6d8ba575ebd99ba398": {
      "model_module": "@jupyter-widgets/controls",
      "model_module_version": "1.5.0",
      "model_name": "DescriptionStyleModel",
      "state": {
       "description_width": ""
      }
     },
     "117bc26643f048cc83dd22e8b99362c0": {
      "model_module": "@jupyter-widgets/base",
      "model_module_version": "1.2.0",
      "model_name": "LayoutModel",
      "state": {}
     },
     "117fc5eb81ff4a678b0a81670917338e": {
      "model_module": "@jupyter-widgets/controls",
      "model_module_version": "1.5.0",
      "model_name": "DescriptionStyleModel",
      "state": {
       "description_width": ""
      }
     },
     "1192b2ef57614ce18f458693ea42006a": {
      "model_module": "@jupyter-widgets/base",
      "model_module_version": "1.2.0",
      "model_name": "LayoutModel",
      "state": {}
     },
     "11a4c5cb6adf49c8b2c08456c5cb8885": {
      "model_module": "@jupyter-widgets/controls",
      "model_module_version": "1.5.0",
      "model_name": "HTMLModel",
      "state": {
       "layout": "IPY_MODEL_13daae27b449488ea30b5a0e312a576c",
       "style": "IPY_MODEL_70f7eed25b4e47b7b5d3df930c29cb3e",
       "value": "<h2>Utterance <b>25:</b></h2>"
      }
     },
     "11f03075c97f4f1199f38b9717973be0": {
      "model_module": "@jupyter-widgets/base",
      "model_module_version": "1.2.0",
      "model_name": "LayoutModel",
      "state": {}
     },
     "11f09ea0e1d04df3a953d39161f73a28": {
      "model_module": "@jupyter-widgets/controls",
      "model_module_version": "1.5.0",
      "model_name": "HTMLModel",
      "state": {
       "layout": "IPY_MODEL_4f6a4a63214d450a9a77126a1f5b6340",
       "style": "IPY_MODEL_91f0bd194882485d8a9865bf4a8bf56c",
       "value": "<h2>Utterance <b>17:</b></h2>"
      }
     },
     "12e930ec534149f9bc547303bf814ee0": {
      "model_module": "@jupyter-widgets/controls",
      "model_module_version": "1.5.0",
      "model_name": "DescriptionStyleModel",
      "state": {
       "description_width": ""
      }
     },
     "130f07b1f7d54c179c1a96327eb4d657": {
      "model_module": "@jupyter-widgets/base",
      "model_module_version": "1.2.0",
      "model_name": "LayoutModel",
      "state": {}
     },
     "131593db3f00498f96e6d0a40a3d3714": {
      "model_module": "@jupyter-widgets/controls",
      "model_module_version": "1.5.0",
      "model_name": "DescriptionStyleModel",
      "state": {
       "description_width": ""
      }
     },
     "13215c4dd9e24df28911a04a50501e2b": {
      "model_module": "@jupyter-widgets/base",
      "model_module_version": "1.2.0",
      "model_name": "LayoutModel",
      "state": {}
     },
     "134c47fb672f41adac9d387ca67f6e8a": {
      "model_module": "@jupyter-widgets/controls",
      "model_module_version": "1.5.0",
      "model_name": "HTMLModel",
      "state": {
       "layout": "IPY_MODEL_ba1de21980ce4361a0d806fe2fb94ef7",
       "style": "IPY_MODEL_3f8ee82697754470852055c8126a11eb",
       "value": "<h2>Utterance <b>16:</b></h2>"
      }
     },
     "135f6e4f85b94f57a444a3b7871665f2": {
      "model_module": "@jupyter-widgets/controls",
      "model_module_version": "1.5.0",
      "model_name": "FloatSliderModel",
      "state": {
       "continuous_update": false,
       "description": "Test:",
       "layout": "IPY_MODEL_f7ce2cedf9d04199b4b6f056e0070633",
       "max": 5,
       "min": 1,
       "readout_format": ".1f",
       "step": 0.1,
       "style": "IPY_MODEL_a670233dbf2843fc8669579962e58890",
       "value": 3
      }
     },
     "1360f3873d8642149e1b295870ca215f": {
      "model_module": "@jupyter-widgets/controls",
      "model_module_version": "1.5.0",
      "model_name": "DescriptionStyleModel",
      "state": {
       "description_width": ""
      }
     },
     "138a9e6012dd4f50a98793850e07f3f3": {
      "model_module": "@jupyter-widgets/controls",
      "model_module_version": "1.5.0",
      "model_name": "SliderStyleModel",
      "state": {
       "description_width": ""
      }
     },
     "1391ceb76b754f0faf4c8768929774b3": {
      "model_module": "@jupyter-widgets/controls",
      "model_module_version": "1.5.0",
      "model_name": "HTMLModel",
      "state": {
       "layout": "IPY_MODEL_33ad54021d724b239bfa4afa144e5e97",
       "style": "IPY_MODEL_ce1182d2d8c445469a3fdfd177b01aba",
       "value": "<h2>Utterance <b>23:</b></h2>"
      }
     },
     "13a699528f0b478c86a533aeec87fb2a": {
      "model_module": "@jupyter-widgets/controls",
      "model_module_version": "1.5.0",
      "model_name": "FloatSliderModel",
      "state": {
       "continuous_update": false,
       "description": "Test:",
       "layout": "IPY_MODEL_84bfb458611d42199bcadc447e7d4c61",
       "max": 5,
       "min": 1,
       "readout_format": ".1f",
       "step": 0.1,
       "style": "IPY_MODEL_e7b8c984ae6e425995b11ba2fed649f6",
       "value": 3
      }
     },
     "13b532a2b5b54684861f21d571208f20": {
      "model_module": "@jupyter-widgets/controls",
      "model_module_version": "1.5.0",
      "model_name": "HTMLModel",
      "state": {
       "layout": "IPY_MODEL_f7d3bc5b3d9844d59dbc9e78778127b2",
       "style": "IPY_MODEL_61e6adb569134239b0ef412e3fee40a2",
       "value": "<h2>Utterance <b>7:</b></h2>"
      }
     },
     "13d0325c529846aa89cebb814fdaa1e8": {
      "model_module": "@jupyter-widgets/controls",
      "model_module_version": "1.5.0",
      "model_name": "HTMLModel",
      "state": {
       "layout": "IPY_MODEL_3002d3c69c0a4853ac02c0681a9c1050",
       "style": "IPY_MODEL_ef2781d8048f4298a2169e1060157e0d",
       "value": "<h2>Utterance <b>22:</b></h2>"
      }
     },
     "13da743e30254d8a9a8b233d04b139af": {
      "model_module": "@jupyter-widgets/controls",
      "model_module_version": "1.5.0",
      "model_name": "FloatSliderModel",
      "state": {
       "continuous_update": false,
       "description": "Test:",
       "layout": "IPY_MODEL_1480ffcbf09141a1b8bdd6cacde46246",
       "max": 5,
       "min": 1,
       "readout_format": ".1f",
       "step": 0.1,
       "style": "IPY_MODEL_13f053b92fd94f2c8edf919392fa58d3",
       "value": 3
      }
     },
     "13daae27b449488ea30b5a0e312a576c": {
      "model_module": "@jupyter-widgets/base",
      "model_module_version": "1.2.0",
      "model_name": "LayoutModel",
      "state": {}
     },
     "13eac94aca5347c49331e901af5ebee4": {
      "model_module": "@jupyter-widgets/controls",
      "model_module_version": "1.5.0",
      "model_name": "HTMLModel",
      "state": {
       "layout": "IPY_MODEL_36ef281d71ce441d89b0b0e0d734fa8a",
       "style": "IPY_MODEL_89322432d4c54251a10026185d859352",
       "value": "<h2>Utterance <b>10:</b></h2>"
      }
     },
     "13f053b92fd94f2c8edf919392fa58d3": {
      "model_module": "@jupyter-widgets/controls",
      "model_module_version": "1.5.0",
      "model_name": "SliderStyleModel",
      "state": {
       "description_width": ""
      }
     },
     "13f55bcee34f4ae2a68d1221d247969c": {
      "model_module": "@jupyter-widgets/base",
      "model_module_version": "1.2.0",
      "model_name": "LayoutModel",
      "state": {}
     },
     "1404fa86166a45c08f1a601f70a83843": {
      "model_module": "@jupyter-widgets/controls",
      "model_module_version": "1.5.0",
      "model_name": "ButtonModel",
      "state": {
       "description": "Done",
       "layout": "IPY_MODEL_a572151518014d68bf82e1b2f93d8feb",
       "style": "IPY_MODEL_32bc1ec1106d402bac1416a1fbbde16b"
      }
     },
     "140ececb1d154d28a7558c7b10e412b6": {
      "model_module": "@jupyter-widgets/controls",
      "model_module_version": "1.5.0",
      "model_name": "DescriptionStyleModel",
      "state": {
       "description_width": ""
      }
     },
     "141e803d1a434bda92c157e5ae8de8d9": {
      "model_module": "@jupyter-widgets/controls",
      "model_module_version": "1.5.0",
      "model_name": "FloatSliderModel",
      "state": {
       "continuous_update": false,
       "description": "Test:",
       "layout": "IPY_MODEL_2e48e66256794c20a51cb0c6972510c7",
       "max": 5,
       "min": 1,
       "readout_format": ".1f",
       "step": 0.1,
       "style": "IPY_MODEL_01441e84dcab4c00a1ae02847b1a8261",
       "value": 3
      }
     },
     "1431f3a8f7c347eb831412cede9aefdd": {
      "model_module": "@jupyter-widgets/controls",
      "model_module_version": "1.5.0",
      "model_name": "DescriptionStyleModel",
      "state": {
       "description_width": ""
      }
     },
     "1450b7c3ea254cc6892d2c62fc4caf03": {
      "model_module": "@jupyter-widgets/controls",
      "model_module_version": "1.5.0",
      "model_name": "SliderStyleModel",
      "state": {
       "description_width": ""
      }
     },
     "145906ca4363479cb375e68926b1b856": {
      "model_module": "@jupyter-widgets/controls",
      "model_module_version": "1.5.0",
      "model_name": "DescriptionStyleModel",
      "state": {
       "description_width": ""
      }
     },
     "1480ffcbf09141a1b8bdd6cacde46246": {
      "model_module": "@jupyter-widgets/base",
      "model_module_version": "1.2.0",
      "model_name": "LayoutModel",
      "state": {}
     },
     "1484f3ae4bbd4c13ab6682ac940a8e5c": {
      "model_module": "@jupyter-widgets/controls",
      "model_module_version": "1.5.0",
      "model_name": "HTMLModel",
      "state": {
       "layout": "IPY_MODEL_f2d36c2697f1435388352e077164d1c2",
       "style": "IPY_MODEL_f1f318833626481d8a8f138d593b7049",
       "value": "<h2>Utterance <b>8:</b></h2>"
      }
     },
     "1487feff6a5e42fb924b117faf50a99e": {
      "model_module": "@jupyter-widgets/base",
      "model_module_version": "1.2.0",
      "model_name": "LayoutModel",
      "state": {}
     },
     "149b50bb7fc84143a0b56603a6a990a9": {
      "model_module": "@jupyter-widgets/controls",
      "model_module_version": "1.5.0",
      "model_name": "FloatSliderModel",
      "state": {
       "continuous_update": false,
       "description": "Test:",
       "layout": "IPY_MODEL_4876482f363a422f97c34515a8508ebe",
       "max": 5,
       "min": 1,
       "readout_format": ".1f",
       "step": 0.1,
       "style": "IPY_MODEL_59c6d9bf1450420ca384bfe97fbf8ecc",
       "value": 3
      }
     },
     "14ac286e6f1c465ba141f9cba1cfdee3": {
      "model_module": "@jupyter-widgets/base",
      "model_module_version": "1.2.0",
      "model_name": "LayoutModel",
      "state": {}
     },
     "14b5d58bf3d848d097784f9f44f029ab": {
      "model_module": "@jupyter-widgets/base",
      "model_module_version": "1.2.0",
      "model_name": "LayoutModel",
      "state": {}
     },
     "14bd4fb0b4234196a99d5b75aef51f12": {
      "model_module": "@jupyter-widgets/controls",
      "model_module_version": "1.5.0",
      "model_name": "HTMLModel",
      "state": {
       "layout": "IPY_MODEL_58b0b6d2bf974bafb71faf312a7c4853",
       "style": "IPY_MODEL_8a1c7c0eaae14e0581d1f67a7a68afda",
       "value": "<h2>Utterance <b>24:</b></h2>"
      }
     },
     "14d81b26b866499dbbea0058be2a2369": {
      "model_module": "@jupyter-widgets/controls",
      "model_module_version": "1.5.0",
      "model_name": "DescriptionStyleModel",
      "state": {
       "description_width": ""
      }
     },
     "14dcc5417512406fbdeb97006c561b86": {
      "model_module": "@jupyter-widgets/controls",
      "model_module_version": "1.5.0",
      "model_name": "SliderStyleModel",
      "state": {
       "description_width": ""
      }
     },
     "14dec4d0474f45b187335bf6d73b3487": {
      "model_module": "@jupyter-widgets/controls",
      "model_module_version": "1.5.0",
      "model_name": "SliderStyleModel",
      "state": {
       "description_width": ""
      }
     },
     "14f6cf0b2de64bff80f9fb12aa25c379": {
      "model_module": "@jupyter-widgets/base",
      "model_module_version": "1.2.0",
      "model_name": "LayoutModel",
      "state": {}
     },
     "15030143025d4af195ecd0e12c32b0fb": {
      "model_module": "@jupyter-widgets/controls",
      "model_module_version": "1.5.0",
      "model_name": "DescriptionStyleModel",
      "state": {
       "description_width": ""
      }
     },
     "150fa67f218747479cdb3cd66266962e": {
      "model_module": "@jupyter-widgets/base",
      "model_module_version": "1.2.0",
      "model_name": "LayoutModel",
      "state": {}
     },
     "1521395e8b3f4a6c8a6815ab05d2f9d1": {
      "model_module": "@jupyter-widgets/controls",
      "model_module_version": "1.5.0",
      "model_name": "HTMLModel",
      "state": {
       "layout": "IPY_MODEL_14ac286e6f1c465ba141f9cba1cfdee3",
       "style": "IPY_MODEL_2b6ac3acefff42bfa77dbce7b4f11b99",
       "value": "<h2>Utterance <b>23:</b></h2>"
      }
     },
     "15aca86837a84317b498b5b783090e8e": {
      "model_module": "@jupyter-widgets/base",
      "model_module_version": "1.2.0",
      "model_name": "LayoutModel",
      "state": {}
     },
     "15bbc66ff4684e9f933f6f01f9e740cb": {
      "model_module": "@jupyter-widgets/controls",
      "model_module_version": "1.5.0",
      "model_name": "FloatSliderModel",
      "state": {
       "continuous_update": false,
       "description": "Test:",
       "layout": "IPY_MODEL_6be0aaf59bef486c9c39a8d6df427b6d",
       "max": 5,
       "min": 1,
       "readout_format": ".1f",
       "step": 0.1,
       "style": "IPY_MODEL_087df31d832b4233ad2ef9ca7359ef93",
       "value": 3
      }
     },
     "15fb995596f544bbb9f21a14df63b799": {
      "model_module": "@jupyter-widgets/base",
      "model_module_version": "1.2.0",
      "model_name": "LayoutModel",
      "state": {}
     },
     "1604c2e52fcf4905ae1af8fca1926c23": {
      "model_module": "@jupyter-widgets/base",
      "model_module_version": "1.2.0",
      "model_name": "LayoutModel",
      "state": {}
     },
     "163b11ee5371467eabb6e8c6c2bdcb39": {
      "model_module": "@jupyter-widgets/controls",
      "model_module_version": "1.5.0",
      "model_name": "SliderStyleModel",
      "state": {
       "description_width": ""
      }
     },
     "164f7587f4ae43e7a602e36dfea842d9": {
      "model_module": "@jupyter-widgets/controls",
      "model_module_version": "1.5.0",
      "model_name": "SliderStyleModel",
      "state": {
       "description_width": ""
      }
     },
     "16568a66ec58449991f7407cb98cf627": {
      "model_module": "@jupyter-widgets/controls",
      "model_module_version": "1.5.0",
      "model_name": "ButtonStyleModel",
      "state": {}
     },
     "16832fc4bcd84f2387226f67288bd27b": {
      "model_module": "@jupyter-widgets/controls",
      "model_module_version": "1.5.0",
      "model_name": "HTMLModel",
      "state": {
       "layout": "IPY_MODEL_db18a31de6ad46f6a725329654ea2afe",
       "style": "IPY_MODEL_7a039b5207254bbb8350778e91efe067",
       "value": "<h2>Utterance <b>15:</b></h2>"
      }
     },
     "169b1b1fbd404a6bade925f1eb84f7b4": {
      "model_module": "@jupyter-widgets/controls",
      "model_module_version": "1.5.0",
      "model_name": "SliderStyleModel",
      "state": {
       "description_width": ""
      }
     },
     "16cf9c037f874c538c4ede3e1db40401": {
      "model_module": "@jupyter-widgets/controls",
      "model_module_version": "1.5.0",
      "model_name": "FloatSliderModel",
      "state": {
       "continuous_update": false,
       "description": "Test:",
       "layout": "IPY_MODEL_708f5b4335eb4ca5bfda986ef6bb56cc",
       "max": 5,
       "min": 1,
       "readout_format": ".1f",
       "step": 0.1,
       "style": "IPY_MODEL_28b67e5382764ffe826cfd05d04d38b9",
       "value": 3
      }
     },
     "16d5893fa1474bc3a68255304ddc0597": {
      "model_module": "@jupyter-widgets/controls",
      "model_module_version": "1.5.0",
      "model_name": "DescriptionStyleModel",
      "state": {
       "description_width": ""
      }
     },
     "16d983d0faef4475baf050c0bd6d7026": {
      "model_module": "@jupyter-widgets/base",
      "model_module_version": "1.2.0",
      "model_name": "LayoutModel",
      "state": {}
     },
     "16e295f31eb845bd908dcf934457dfc8": {
      "model_module": "@jupyter-widgets/base",
      "model_module_version": "1.2.0",
      "model_name": "LayoutModel",
      "state": {}
     },
     "176ecedc8faf43ac923704397353a846": {
      "model_module": "@jupyter-widgets/controls",
      "model_module_version": "1.5.0",
      "model_name": "HTMLModel",
      "state": {
       "layout": "IPY_MODEL_89339ff2ed3a4387b25f3019232f174a",
       "style": "IPY_MODEL_e1e14a48060647bebe0b7e2e68d7d22a",
       "value": "<h2>Utterance <b>14:</b></h2>"
      }
     },
     "179688727131499e9580a36cf49cf353": {
      "model_module": "@jupyter-widgets/controls",
      "model_module_version": "1.5.0",
      "model_name": "DescriptionStyleModel",
      "state": {
       "description_width": ""
      }
     },
     "17b9ccb3eca84fdca98ca2524217e6b1": {
      "model_module": "@jupyter-widgets/controls",
      "model_module_version": "1.5.0",
      "model_name": "HTMLModel",
      "state": {
       "layout": "IPY_MODEL_4561cc1318dc455caeb7bc865159119a",
       "style": "IPY_MODEL_d1e437ef0e1041aebdb237f53f215c47",
       "value": "<h2>Utterance <b>22:</b></h2>"
      }
     },
     "17d129a52c374c8c970e4a36cd945332": {
      "model_module": "@jupyter-widgets/controls",
      "model_module_version": "1.5.0",
      "model_name": "DescriptionStyleModel",
      "state": {
       "description_width": ""
      }
     },
     "17ed459caa9a483da1053ca5a62a6044": {
      "model_module": "@jupyter-widgets/controls",
      "model_module_version": "1.5.0",
      "model_name": "SliderStyleModel",
      "state": {
       "description_width": ""
      }
     },
     "184902e293f64c619f5a3ef7256d3bfa": {
      "model_module": "@jupyter-widgets/controls",
      "model_module_version": "1.5.0",
      "model_name": "FloatSliderModel",
      "state": {
       "continuous_update": false,
       "description": "Test:",
       "layout": "IPY_MODEL_c0f63f1b62c847c2aba2cd202634b36a",
       "max": 5,
       "min": 1,
       "readout_format": ".1f",
       "step": 0.1,
       "style": "IPY_MODEL_f8cded357dea46eba27d274fa461f814",
       "value": 3
      }
     },
     "186973ba93814801b4b7c84c98ab0162": {
      "model_module": "@jupyter-widgets/controls",
      "model_module_version": "1.5.0",
      "model_name": "HTMLModel",
      "state": {
       "layout": "IPY_MODEL_a16ca9e5089d43829f41f6c2d094ed7e",
       "style": "IPY_MODEL_af6340ccbf37465884c2299aba1ff490",
       "value": "<h2>Utterance <b>19:</b></h2>"
      }
     },
     "1898763a079d4ecd99e78e7829979fcd": {
      "model_module": "@jupyter-widgets/controls",
      "model_module_version": "1.5.0",
      "model_name": "SliderStyleModel",
      "state": {
       "description_width": ""
      }
     },
     "18b18477ae3b453e9edcd182229a48ee": {
      "model_module": "@jupyter-widgets/controls",
      "model_module_version": "1.5.0",
      "model_name": "SliderStyleModel",
      "state": {
       "description_width": ""
      }
     },
     "18c79a6d5f9d4374bb94024a34657953": {
      "model_module": "@jupyter-widgets/base",
      "model_module_version": "1.2.0",
      "model_name": "LayoutModel",
      "state": {}
     },
     "18eba95edb8f4ef085d27bb991ffcf81": {
      "model_module": "@jupyter-widgets/base",
      "model_module_version": "1.2.0",
      "model_name": "LayoutModel",
      "state": {}
     },
     "191db430eece482ab2c5bd7312e07df4": {
      "model_module": "@jupyter-widgets/controls",
      "model_module_version": "1.5.0",
      "model_name": "FloatSliderModel",
      "state": {
       "continuous_update": false,
       "description": "Test:",
       "layout": "IPY_MODEL_3c81055b7a584728bbe340b5bdbb9bd2",
       "max": 5,
       "min": 1,
       "readout_format": ".1f",
       "step": 0.1,
       "style": "IPY_MODEL_3170e68378734b29a424265654aaa889",
       "value": 3
      }
     },
     "19557b7f84c14f4b9d8440589e118de6": {
      "model_module": "@jupyter-widgets/controls",
      "model_module_version": "1.5.0",
      "model_name": "HTMLModel",
      "state": {
       "layout": "IPY_MODEL_c4620e12481f4f6aaace074d906e301d",
       "style": "IPY_MODEL_ce35dd35d304472a8b7f131d5f382f90",
       "value": "<h2>Utterance <b>14:</b></h2>"
      }
     },
     "196256368e74413f81809282b7cb6185": {
      "model_module": "@jupyter-widgets/base",
      "model_module_version": "1.2.0",
      "model_name": "LayoutModel",
      "state": {}
     },
     "1972a67803594c71809c6353f8f47276": {
      "model_module": "@jupyter-widgets/controls",
      "model_module_version": "1.5.0",
      "model_name": "SliderStyleModel",
      "state": {
       "description_width": ""
      }
     },
     "19b8817db5464e8b80b2470bf31c9336": {
      "model_module": "@jupyter-widgets/base",
      "model_module_version": "1.2.0",
      "model_name": "LayoutModel",
      "state": {}
     },
     "19e7b539dbf04e638abf3dcb249a414c": {
      "model_module": "@jupyter-widgets/base",
      "model_module_version": "1.2.0",
      "model_name": "LayoutModel",
      "state": {}
     },
     "1a57a2f78309480683159058298993b3": {
      "model_module": "@jupyter-widgets/base",
      "model_module_version": "1.2.0",
      "model_name": "LayoutModel",
      "state": {}
     },
     "1a822aa07ce846738e8679addbbe0231": {
      "model_module": "@jupyter-widgets/controls",
      "model_module_version": "1.5.0",
      "model_name": "SliderStyleModel",
      "state": {
       "description_width": ""
      }
     },
     "1a9013a4358e486386d20812b8407dae": {
      "model_module": "@jupyter-widgets/controls",
      "model_module_version": "1.5.0",
      "model_name": "DescriptionStyleModel",
      "state": {
       "description_width": ""
      }
     },
     "1aa740c5c94f468581c0732432b00869": {
      "model_module": "@jupyter-widgets/controls",
      "model_module_version": "1.5.0",
      "model_name": "FloatSliderModel",
      "state": {
       "continuous_update": false,
       "description": "Test:",
       "layout": "IPY_MODEL_773fb4440fd0466baf00289a9c482c27",
       "max": 5,
       "min": 1,
       "readout_format": ".1f",
       "step": 0.1,
       "style": "IPY_MODEL_337a2dbeb0c5400fb457741963386c34",
       "value": 3
      }
     },
     "1aa8192fe5a7406dad11ac5e73b658af": {
      "model_module": "@jupyter-widgets/base",
      "model_module_version": "1.2.0",
      "model_name": "LayoutModel",
      "state": {}
     },
     "1ad82ea572a64cddb59b5549760da184": {
      "model_module": "@jupyter-widgets/controls",
      "model_module_version": "1.5.0",
      "model_name": "DescriptionStyleModel",
      "state": {
       "description_width": ""
      }
     },
     "1ae9618f765746faa7382b3e62410bd3": {
      "model_module": "@jupyter-widgets/controls",
      "model_module_version": "1.5.0",
      "model_name": "DescriptionStyleModel",
      "state": {
       "description_width": ""
      }
     },
     "1b0c811730b9407e9dfc15674aae9b14": {
      "model_module": "@jupyter-widgets/controls",
      "model_module_version": "1.5.0",
      "model_name": "DescriptionStyleModel",
      "state": {
       "description_width": ""
      }
     },
     "1b1f04fd973d40cfa4851fb647639b51": {
      "model_module": "@jupyter-widgets/controls",
      "model_module_version": "1.5.0",
      "model_name": "FloatSliderModel",
      "state": {
       "continuous_update": false,
       "description": "Test:",
       "layout": "IPY_MODEL_e70a032c35c7497dbd5b911deaf0a694",
       "max": 5,
       "min": 1,
       "readout_format": ".1f",
       "step": 0.1,
       "style": "IPY_MODEL_b072b2a2ab314cbc8abb5307547a713f",
       "value": 3
      }
     },
     "1b5d63e600104ca38829ffb1a79cd366": {
      "model_module": "@jupyter-widgets/controls",
      "model_module_version": "1.5.0",
      "model_name": "HTMLModel",
      "state": {
       "layout": "IPY_MODEL_07baf8d9b7074eb397b100cb4fa73946",
       "style": "IPY_MODEL_50002740a0ba4f68a20a0efecd40a836",
       "value": "<h2>Utterance <b>13:</b></h2>"
      }
     },
     "1b8a03aecf844f2e9383813dbea92c97": {
      "model_module": "@jupyter-widgets/base",
      "model_module_version": "1.2.0",
      "model_name": "LayoutModel",
      "state": {}
     },
     "1b8ca9a009f64820bb1ba4b8d089a562": {
      "model_module": "@jupyter-widgets/controls",
      "model_module_version": "1.5.0",
      "model_name": "SliderStyleModel",
      "state": {
       "description_width": ""
      }
     },
     "1bdc29d07c9148829e72a47e7202cf91": {
      "model_module": "@jupyter-widgets/controls",
      "model_module_version": "1.5.0",
      "model_name": "HTMLModel",
      "state": {
       "layout": "IPY_MODEL_18eba95edb8f4ef085d27bb991ffcf81",
       "style": "IPY_MODEL_d4644806d16241a7a634d5ff6eb81ac8",
       "value": "<h2>Utterance <b>9:</b></h2>"
      }
     },
     "1be543f297be481cbeff404ea5c2aad4": {
      "model_module": "@jupyter-widgets/base",
      "model_module_version": "1.2.0",
      "model_name": "LayoutModel",
      "state": {}
     },
     "1c11cff0ff004cd9aeb5f89f7723e06a": {
      "model_module": "@jupyter-widgets/base",
      "model_module_version": "1.2.0",
      "model_name": "LayoutModel",
      "state": {}
     },
     "1c3863c6030c4eca85c2d276de7e7443": {
      "model_module": "@jupyter-widgets/controls",
      "model_module_version": "1.5.0",
      "model_name": "FloatSliderModel",
      "state": {
       "continuous_update": false,
       "description": "Test:",
       "layout": "IPY_MODEL_b1b16ab055864b939e43e66bc5b2e343",
       "max": 5,
       "min": 1,
       "readout_format": ".1f",
       "step": 0.1,
       "style": "IPY_MODEL_79fddf7aa5e14b088b72698a905156b5",
       "value": 3
      }
     },
     "1c78b91756df4e0589ff6fc4bd05513b": {
      "model_module": "@jupyter-widgets/controls",
      "model_module_version": "1.5.0",
      "model_name": "DescriptionStyleModel",
      "state": {
       "description_width": ""
      }
     },
     "1c81814ad1754933ae306a31614e299d": {
      "model_module": "@jupyter-widgets/controls",
      "model_module_version": "1.5.0",
      "model_name": "HTMLModel",
      "state": {
       "layout": "IPY_MODEL_0fcb8e179d4d449d8dafee5e6e1199be",
       "style": "IPY_MODEL_886f9ab0bb3b4207bdcbdac8630d6152",
       "value": "<h2>Utterance <b>7:</b></h2>"
      }
     },
     "1c8d860485264692830a91b0a33161c3": {
      "model_module": "@jupyter-widgets/controls",
      "model_module_version": "1.5.0",
      "model_name": "SliderStyleModel",
      "state": {
       "description_width": ""
      }
     },
     "1c98b44c51824d84a00a29d64fc76bea": {
      "model_module": "@jupyter-widgets/base",
      "model_module_version": "1.2.0",
      "model_name": "LayoutModel",
      "state": {}
     },
     "1ca5814607604da3a8d90d40fc19e4db": {
      "model_module": "@jupyter-widgets/controls",
      "model_module_version": "1.5.0",
      "model_name": "DescriptionStyleModel",
      "state": {
       "description_width": ""
      }
     },
     "1cc938e3d66343fb983be07a7db18534": {
      "model_module": "@jupyter-widgets/controls",
      "model_module_version": "1.5.0",
      "model_name": "DescriptionStyleModel",
      "state": {
       "description_width": ""
      }
     },
     "1ce67db3aec74abc99b027cc64bb65a8": {
      "model_module": "@jupyter-widgets/controls",
      "model_module_version": "1.5.0",
      "model_name": "DescriptionStyleModel",
      "state": {
       "description_width": ""
      }
     },
     "1d00c73a5dc345bf9f1ff789192c4be1": {
      "model_module": "@jupyter-widgets/controls",
      "model_module_version": "1.5.0",
      "model_name": "DescriptionStyleModel",
      "state": {
       "description_width": ""
      }
     },
     "1d5ec37e62904c4e82fd2f68df3f264d": {
      "model_module": "@jupyter-widgets/base",
      "model_module_version": "1.2.0",
      "model_name": "LayoutModel",
      "state": {}
     },
     "1dbc1283f32141fdb8d8ac956001629f": {
      "model_module": "@jupyter-widgets/controls",
      "model_module_version": "1.5.0",
      "model_name": "DescriptionStyleModel",
      "state": {
       "description_width": ""
      }
     },
     "1dd490120d1243aab2cd227f93d3667f": {
      "model_module": "@jupyter-widgets/controls",
      "model_module_version": "1.5.0",
      "model_name": "DescriptionStyleModel",
      "state": {
       "description_width": ""
      }
     },
     "1e5472c96df44e96a3a5f40576680db2": {
      "model_module": "@jupyter-widgets/controls",
      "model_module_version": "1.5.0",
      "model_name": "SliderStyleModel",
      "state": {
       "description_width": ""
      }
     },
     "1e89c8801b184798a3cecc95192d5a84": {
      "model_module": "@jupyter-widgets/controls",
      "model_module_version": "1.5.0",
      "model_name": "SliderStyleModel",
      "state": {
       "description_width": ""
      }
     },
     "1e99b0c3135b4a519f55369d1abaaf02": {
      "model_module": "@jupyter-widgets/base",
      "model_module_version": "1.2.0",
      "model_name": "LayoutModel",
      "state": {}
     },
     "1eb4710207eb4d4e9fb576f4526aa56b": {
      "model_module": "@jupyter-widgets/controls",
      "model_module_version": "1.5.0",
      "model_name": "DescriptionStyleModel",
      "state": {
       "description_width": ""
      }
     },
     "1ec83945596b4105b5e30c4d15c4b69f": {
      "model_module": "@jupyter-widgets/controls",
      "model_module_version": "1.5.0",
      "model_name": "HTMLModel",
      "state": {
       "layout": "IPY_MODEL_8577ea20ac3c4bf488ec950aeed6c9ed",
       "style": "IPY_MODEL_2053642bbdae4f259bd7c982de680214",
       "value": "<h2>Utterance <b>12:</b></h2>"
      }
     },
     "1ecdd3d60a7d4b5883d735935ff2cd27": {
      "model_module": "@jupyter-widgets/base",
      "model_module_version": "1.2.0",
      "model_name": "LayoutModel",
      "state": {}
     },
     "1ed19c7657cb49beb0882a040288587c": {
      "model_module": "@jupyter-widgets/controls",
      "model_module_version": "1.5.0",
      "model_name": "HTMLModel",
      "state": {
       "layout": "IPY_MODEL_a60731fc78a44b8c90f895c454219b77",
       "style": "IPY_MODEL_5487f39fb4a0407685656d91654c0125",
       "value": "<h2>Utterance <b>8:</b></h2>"
      }
     },
     "1f06360ba7844af2b31b7e84788f1356": {
      "model_module": "@jupyter-widgets/controls",
      "model_module_version": "1.5.0",
      "model_name": "FloatSliderModel",
      "state": {
       "continuous_update": false,
       "description": "Test:",
       "layout": "IPY_MODEL_ed940f436ab94e26b4ac554ce080b95e",
       "max": 5,
       "min": 1,
       "readout_format": ".1f",
       "step": 0.1,
       "style": "IPY_MODEL_8539c778d5b44260ab9782ec12818717",
       "value": 3
      }
     },
     "1f37cfaef7044f5485a29b98cb162378": {
      "model_module": "@jupyter-widgets/base",
      "model_module_version": "1.2.0",
      "model_name": "LayoutModel",
      "state": {}
     },
     "1f5478aa4664499da952237fc489517e": {
      "model_module": "@jupyter-widgets/controls",
      "model_module_version": "1.5.0",
      "model_name": "DescriptionStyleModel",
      "state": {
       "description_width": ""
      }
     },
     "1f7051e1c7af42f48e603fb9aeda1eac": {
      "model_module": "@jupyter-widgets/controls",
      "model_module_version": "1.5.0",
      "model_name": "FloatSliderModel",
      "state": {
       "continuous_update": false,
       "description": "Test:",
       "layout": "IPY_MODEL_69dbc781cb5a40288c6d2633d672fd2b",
       "max": 5,
       "min": 1,
       "readout_format": ".1f",
       "step": 0.1,
       "style": "IPY_MODEL_03250eb7b1fe46189127b0ebca6d8dc3",
       "value": 3
      }
     },
     "1f74af96265c4be39e019873548d682c": {
      "model_module": "@jupyter-widgets/controls",
      "model_module_version": "1.5.0",
      "model_name": "SliderStyleModel",
      "state": {
       "description_width": ""
      }
     },
     "1fcfc220bba047f3aaeafc6587dc96f0": {
      "model_module": "@jupyter-widgets/controls",
      "model_module_version": "1.5.0",
      "model_name": "HTMLModel",
      "state": {
       "layout": "IPY_MODEL_021e4faa0a35448c9701a91a62759d2f",
       "style": "IPY_MODEL_4bb433f30bfa48ab8a9c36b37af85998",
       "value": "<h2>Utterance <b>23:</b></h2>"
      }
     },
     "1fe18bccb26a4b0eb057604dbd6b60de": {
      "model_module": "@jupyter-widgets/base",
      "model_module_version": "1.2.0",
      "model_name": "LayoutModel",
      "state": {}
     },
     "200ab7fa96534522ba37c2dcbb1464ed": {
      "model_module": "@jupyter-widgets/controls",
      "model_module_version": "1.5.0",
      "model_name": "SliderStyleModel",
      "state": {
       "description_width": ""
      }
     },
     "20188e0be7784d95902d07167583abb5": {
      "model_module": "@jupyter-widgets/controls",
      "model_module_version": "1.5.0",
      "model_name": "HTMLModel",
      "state": {
       "layout": "IPY_MODEL_b8effcd303c44bd88ba626306c5625b6",
       "style": "IPY_MODEL_2f1252b5f630404a80926fbb5a126f7f",
       "value": "<h2>Utterance <b>24:</b></h2>"
      }
     },
     "20223a9b24dd4048be6c49f0b0e34062": {
      "model_module": "@jupyter-widgets/controls",
      "model_module_version": "1.5.0",
      "model_name": "DescriptionStyleModel",
      "state": {
       "description_width": ""
      }
     },
     "2053642bbdae4f259bd7c982de680214": {
      "model_module": "@jupyter-widgets/controls",
      "model_module_version": "1.5.0",
      "model_name": "DescriptionStyleModel",
      "state": {
       "description_width": ""
      }
     },
     "2053b2131e2044e397901256353ac17d": {
      "model_module": "@jupyter-widgets/controls",
      "model_module_version": "1.5.0",
      "model_name": "FloatSliderModel",
      "state": {
       "continuous_update": false,
       "description": "Test:",
       "layout": "IPY_MODEL_60a1bd4308a4431fbbb471a64eea203d",
       "max": 5,
       "min": 1,
       "readout_format": ".1f",
       "step": 0.1,
       "style": "IPY_MODEL_f10d3d72d17145c1af2673571e974aab",
       "value": 3
      }
     },
     "20617e6819774b32bf9bc29ac4049da7": {
      "model_module": "@jupyter-widgets/base",
      "model_module_version": "1.2.0",
      "model_name": "LayoutModel",
      "state": {}
     },
     "206af4bcfc5a4617ba26d07703991612": {
      "model_module": "@jupyter-widgets/controls",
      "model_module_version": "1.5.0",
      "model_name": "FloatSliderModel",
      "state": {
       "continuous_update": false,
       "description": "Test:",
       "layout": "IPY_MODEL_fb892cc70d3242d9a9ab1a24e0659be8",
       "max": 5,
       "min": 1,
       "readout_format": ".1f",
       "step": 0.1,
       "style": "IPY_MODEL_012cca4fe50d4415b29aba761613184f",
       "value": 3
      }
     },
     "21494c5892254b84a26895886e6b0dfd": {
      "model_module": "@jupyter-widgets/controls",
      "model_module_version": "1.5.0",
      "model_name": "TextModel",
      "state": {
       "description": "Name:",
       "layout": "IPY_MODEL_4fa140fe11224df697152be26ab327cd",
       "placeholder": "Type something like your name or id",
       "style": "IPY_MODEL_4dd9a76b11314c7b8f95ae1b42afae61"
      }
     },
     "2161ea7865f143d794d530602d804f6f": {
      "model_module": "@jupyter-widgets/base",
      "model_module_version": "1.2.0",
      "model_name": "LayoutModel",
      "state": {}
     },
     "217d1a18cbba4e5394b75486e107aa2d": {
      "model_module": "@jupyter-widgets/controls",
      "model_module_version": "1.5.0",
      "model_name": "HTMLModel",
      "state": {
       "layout": "IPY_MODEL_9efa994de6844d8da365da9259baf2e1",
       "style": "IPY_MODEL_1ca5814607604da3a8d90d40fc19e4db",
       "value": "<h2>Saved data! Thank you</h2>"
      }
     },
     "218576d060824305b70828c8b7f24246": {
      "model_module": "@jupyter-widgets/controls",
      "model_module_version": "1.5.0",
      "model_name": "FloatSliderModel",
      "state": {
       "continuous_update": false,
       "description": "Test:",
       "layout": "IPY_MODEL_5c1d723edebd4ca581df2bff936afba5",
       "max": 5,
       "min": 1,
       "readout_format": ".1f",
       "step": 0.1,
       "style": "IPY_MODEL_067073f571df4012ac24008ecc12055e",
       "value": 3
      }
     },
     "2187ff5c70c54f3e99ac20d222ca6378": {
      "model_module": "@jupyter-widgets/base",
      "model_module_version": "1.2.0",
      "model_name": "LayoutModel",
      "state": {}
     },
     "219d8d2fcdc542f0b3f61e123542f8bd": {
      "model_module": "@jupyter-widgets/controls",
      "model_module_version": "1.5.0",
      "model_name": "HTMLModel",
      "state": {
       "layout": "IPY_MODEL_541031b571914c24a5682baa34ac9c0f",
       "style": "IPY_MODEL_ca14cf6e4fa6434a94c6e585fb7519c6",
       "value": "<h2>Utterance <b>17:</b></h2>"
      }
     },
     "21ae4bd430234ac6aa59fd57eda2e241": {
      "model_module": "@jupyter-widgets/controls",
      "model_module_version": "1.5.0",
      "model_name": "HTMLModel",
      "state": {
       "layout": "IPY_MODEL_1d5ec37e62904c4e82fd2f68df3f264d",
       "style": "IPY_MODEL_7dbdee15e0404026959016fe8788bcb8",
       "value": "<h2>Utterance <b>7:</b></h2>"
      }
     },
     "21b1ff5b9b334120b80fc0145cf1218e": {
      "model_module": "@jupyter-widgets/base",
      "model_module_version": "1.2.0",
      "model_name": "LayoutModel",
      "state": {}
     },
     "21ec52be4fd74219b783a332e9b4c6f1": {
      "model_module": "@jupyter-widgets/base",
      "model_module_version": "1.2.0",
      "model_name": "LayoutModel",
      "state": {}
     },
     "22229b98d2fe4037ad9c3d4d3258d23c": {
      "model_module": "@jupyter-widgets/controls",
      "model_module_version": "1.5.0",
      "model_name": "DescriptionStyleModel",
      "state": {
       "description_width": ""
      }
     },
     "2267a216134d40958e98f66c3a5ff080": {
      "model_module": "@jupyter-widgets/controls",
      "model_module_version": "1.5.0",
      "model_name": "DescriptionStyleModel",
      "state": {
       "description_width": ""
      }
     },
     "22681d47478548c394b85d711f1d87ac": {
      "model_module": "@jupyter-widgets/controls",
      "model_module_version": "1.5.0",
      "model_name": "SliderStyleModel",
      "state": {
       "description_width": ""
      }
     },
     "22d53b88b95546cfb7a3d442dc6384d7": {
      "model_module": "@jupyter-widgets/controls",
      "model_module_version": "1.5.0",
      "model_name": "TextModel",
      "state": {
       "description": "Name:",
       "layout": "IPY_MODEL_70bae4d8575e4539aa6afd85801c39ba",
       "placeholder": "Type something like your name or id",
       "style": "IPY_MODEL_4f69febf669f409cb35dc6b089e85277"
      }
     },
     "22f70fedd92b4ee7a63edf0c21416def": {
      "model_module": "@jupyter-widgets/controls",
      "model_module_version": "1.5.0",
      "model_name": "HTMLModel",
      "state": {
       "layout": "IPY_MODEL_3afaaa80fbfc4439b2a39d3bf1336804",
       "style": "IPY_MODEL_517e77501394450a85ad3fb589a318f3",
       "value": "<h2>Utterance <b>12:</b></h2>"
      }
     },
     "2302e31543cb4957af5269e9fe878825": {
      "model_module": "@jupyter-widgets/base",
      "model_module_version": "1.2.0",
      "model_name": "LayoutModel",
      "state": {}
     },
     "2331f38249914b81981bce08b3850fdd": {
      "model_module": "@jupyter-widgets/controls",
      "model_module_version": "1.5.0",
      "model_name": "HTMLModel",
      "state": {
       "layout": "IPY_MODEL_59e34a4ead3e4a7581bb20885560ca00",
       "style": "IPY_MODEL_1cc938e3d66343fb983be07a7db18534",
       "value": "<h1>Voice Quality<br></h1><body>Thanks for participating. Please select for each utternace it percieved quality with the folowing scale:<br><ol><li>Bad</li><li>Poor</li><li>Fair</li><li>Good</li><li>Excellent</li></ol><b>This test is not checking how much 'Jenny like' is a voice, but rather only how good it sounds </b><br>After completing the entries press the Done button. <br>Good luck and thank you.<br><br><br></body>"
      }
     },
     "23575f0244304e4088ec73ecdf8b0f84": {
      "model_module": "@jupyter-widgets/base",
      "model_module_version": "1.2.0",
      "model_name": "LayoutModel",
      "state": {}
     },
     "23666a7758b5436581c1d88b5d6aa3fe": {
      "model_module": "@jupyter-widgets/controls",
      "model_module_version": "1.5.0",
      "model_name": "SliderStyleModel",
      "state": {
       "description_width": ""
      }
     },
     "236ebc14d58445a580d4d5ee5e2f2dec": {
      "model_module": "@jupyter-widgets/controls",
      "model_module_version": "1.5.0",
      "model_name": "SliderStyleModel",
      "state": {
       "description_width": ""
      }
     },
     "2372a34d98244c1ba750e52d5f6f57f2": {
      "model_module": "@jupyter-widgets/base",
      "model_module_version": "1.2.0",
      "model_name": "LayoutModel",
      "state": {}
     },
     "237ea752890246119d037c49fc58537c": {
      "model_module": "@jupyter-widgets/base",
      "model_module_version": "1.2.0",
      "model_name": "LayoutModel",
      "state": {}
     },
     "243a4f59d20647ab870e991b6ac73217": {
      "model_module": "@jupyter-widgets/controls",
      "model_module_version": "1.5.0",
      "model_name": "FloatSliderModel",
      "state": {
       "continuous_update": false,
       "description": "Test:",
       "layout": "IPY_MODEL_b0771a108b96484f99fa200c45b9c69d",
       "max": 5,
       "min": 1,
       "readout_format": ".1f",
       "step": 0.1,
       "style": "IPY_MODEL_3c2757324891465394f48ad57795384e",
       "value": 3
      }
     },
     "244bcf39286f400d861acca7ed081237": {
      "model_module": "@jupyter-widgets/base",
      "model_module_version": "1.2.0",
      "model_name": "LayoutModel",
      "state": {}
     },
     "24a6810168374013bcc510c75be0f320": {
      "model_module": "@jupyter-widgets/controls",
      "model_module_version": "1.5.0",
      "model_name": "FloatSliderModel",
      "state": {
       "continuous_update": false,
       "description": "Test:",
       "layout": "IPY_MODEL_d945aff1751e4ead85d8be4970801530",
       "max": 5,
       "min": 1,
       "readout_format": ".1f",
       "step": 0.1,
       "style": "IPY_MODEL_1e5472c96df44e96a3a5f40576680db2",
       "value": 3
      }
     },
     "24bbd473f51e446db3b62ff754cc8291": {
      "model_module": "@jupyter-widgets/base",
      "model_module_version": "1.2.0",
      "model_name": "LayoutModel",
      "state": {}
     },
     "24e2f43494c542658185e7c68b4adf79": {
      "model_module": "@jupyter-widgets/base",
      "model_module_version": "1.2.0",
      "model_name": "LayoutModel",
      "state": {}
     },
     "24e880bc5a794745905efc574cf66631": {
      "model_module": "@jupyter-widgets/controls",
      "model_module_version": "1.5.0",
      "model_name": "FloatSliderModel",
      "state": {
       "continuous_update": false,
       "description": "Test:",
       "layout": "IPY_MODEL_a5e339aa89334b5ca1adde50d5e8416a",
       "max": 5,
       "min": 1,
       "readout_format": ".1f",
       "step": 0.1,
       "style": "IPY_MODEL_adacfed3406640d985ae8411957b00d1",
       "value": 3
      }
     },
     "2529ff06d1d647619e21ffc3acbbda1d": {
      "model_module": "@jupyter-widgets/base",
      "model_module_version": "1.2.0",
      "model_name": "LayoutModel",
      "state": {}
     },
     "252bc60dad2345d2875cdc22288fb71b": {
      "model_module": "@jupyter-widgets/base",
      "model_module_version": "1.2.0",
      "model_name": "LayoutModel",
      "state": {}
     },
     "2546d39e06474deaa4b9c5773b1df25b": {
      "model_module": "@jupyter-widgets/controls",
      "model_module_version": "1.5.0",
      "model_name": "FloatSliderModel",
      "state": {
       "continuous_update": false,
       "description": "Test:",
       "layout": "IPY_MODEL_2f8ec310e43c483d9433e2952db0492f",
       "max": 5,
       "min": 1,
       "readout_format": ".1f",
       "step": 0.1,
       "style": "IPY_MODEL_82bfc860195a42398acad79da3c8fadf",
       "value": 3
      }
     },
     "255dc162c98b465bba15106dea8676b9": {
      "model_module": "@jupyter-widgets/controls",
      "model_module_version": "1.5.0",
      "model_name": "DescriptionStyleModel",
      "state": {
       "description_width": ""
      }
     },
     "256b038b371340718fd2793682a4f9f4": {
      "model_module": "@jupyter-widgets/controls",
      "model_module_version": "1.5.0",
      "model_name": "SliderStyleModel",
      "state": {
       "description_width": ""
      }
     },
     "257dc5a009ee4b8186ad350a82881472": {
      "model_module": "@jupyter-widgets/base",
      "model_module_version": "1.2.0",
      "model_name": "LayoutModel",
      "state": {}
     },
     "25aaa67231114406a0de161f0800e755": {
      "model_module": "@jupyter-widgets/base",
      "model_module_version": "1.2.0",
      "model_name": "LayoutModel",
      "state": {}
     },
     "25c4096071504010ae65876878f1357b": {
      "model_module": "@jupyter-widgets/controls",
      "model_module_version": "1.5.0",
      "model_name": "SliderStyleModel",
      "state": {
       "description_width": ""
      }
     },
     "25f7dee558974f58b316079a6647ef9c": {
      "model_module": "@jupyter-widgets/controls",
      "model_module_version": "1.5.0",
      "model_name": "DescriptionStyleModel",
      "state": {
       "description_width": ""
      }
     },
     "25feb2d2f701422bb646858b3c917bf1": {
      "model_module": "@jupyter-widgets/controls",
      "model_module_version": "1.5.0",
      "model_name": "HTMLModel",
      "state": {
       "layout": "IPY_MODEL_56ee1cf04ae24668bd772d52dcb00b6b",
       "style": "IPY_MODEL_73d92e658bb146d78d4b6b524105b7df",
       "value": "<h2>Utterance <b>15:</b></h2>"
      }
     },
     "26249cb1bc444905b6463b9d9c5889d5": {
      "model_module": "@jupyter-widgets/controls",
      "model_module_version": "1.5.0",
      "model_name": "DescriptionStyleModel",
      "state": {
       "description_width": ""
      }
     },
     "263b28b7fdc5446e9aaf1592efda4fd4": {
      "model_module": "@jupyter-widgets/base",
      "model_module_version": "1.2.0",
      "model_name": "LayoutModel",
      "state": {}
     },
     "2652f8a92d96458f8796f1c0ac073bbd": {
      "model_module": "@jupyter-widgets/controls",
      "model_module_version": "1.5.0",
      "model_name": "DescriptionStyleModel",
      "state": {
       "description_width": ""
      }
     },
     "267e8e034598494eb2e18f95e312c958": {
      "model_module": "@jupyter-widgets/controls",
      "model_module_version": "1.5.0",
      "model_name": "HTMLModel",
      "state": {
       "layout": "IPY_MODEL_6b33e6079b5c49999b0295e07b060d44",
       "style": "IPY_MODEL_f3c2069cbc6c4218a4f124a5b5da0692",
       "value": "<h2>Utterance <b>22:</b></h2>"
      }
     },
     "268bfa9ce5e645d2a47c6c6b9a249ef6": {
      "model_module": "@jupyter-widgets/base",
      "model_module_version": "1.2.0",
      "model_name": "LayoutModel",
      "state": {}
     },
     "26a0ede6519542b9ae33e13d08d561cb": {
      "model_module": "@jupyter-widgets/base",
      "model_module_version": "1.2.0",
      "model_name": "LayoutModel",
      "state": {}
     },
     "26a6e647a5ab4e43be3b2e1d481725ff": {
      "model_module": "@jupyter-widgets/controls",
      "model_module_version": "1.5.0",
      "model_name": "HTMLModel",
      "state": {
       "layout": "IPY_MODEL_ee6c53e01f464909b22a6acf00421714",
       "style": "IPY_MODEL_f581d924eb764f0eb61fc958768f0318",
       "value": "<h2>Utterance <b>5:</b></h2>"
      }
     },
     "26abf84a29944a58b5d711fd3d454edf": {
      "model_module": "@jupyter-widgets/controls",
      "model_module_version": "1.5.0",
      "model_name": "FloatSliderModel",
      "state": {
       "continuous_update": false,
       "description": "Test:",
       "layout": "IPY_MODEL_823ab1a6723348e2ba37f9c9a2053b62",
       "max": 5,
       "min": 1,
       "readout_format": ".1f",
       "step": 0.1,
       "style": "IPY_MODEL_3927e2df265a498b93732ea0c3b3c19a",
       "value": 3
      }
     },
     "26d52ef8755a43b9b7a2395b961f9aae": {
      "model_module": "@jupyter-widgets/base",
      "model_module_version": "1.2.0",
      "model_name": "LayoutModel",
      "state": {}
     },
     "26d624143bf14bf6a49c0e93c76f9129": {
      "model_module": "@jupyter-widgets/controls",
      "model_module_version": "1.5.0",
      "model_name": "ButtonModel",
      "state": {
       "description": "Done",
       "layout": "IPY_MODEL_65caddec297940c894571f792cca50b8",
       "style": "IPY_MODEL_e742f48f53ee4245a93a8d5596f89332"
      }
     },
     "27061df8a56c4c7f90955286048d4a35": {
      "model_module": "@jupyter-widgets/controls",
      "model_module_version": "1.5.0",
      "model_name": "ButtonStyleModel",
      "state": {}
     },
     "2706ea8bd30144189b24df594b7085d2": {
      "model_module": "@jupyter-widgets/controls",
      "model_module_version": "1.5.0",
      "model_name": "SliderStyleModel",
      "state": {
       "description_width": ""
      }
     },
     "27552e2e644d43dea21f376589d5f25e": {
      "model_module": "@jupyter-widgets/controls",
      "model_module_version": "1.5.0",
      "model_name": "SliderStyleModel",
      "state": {
       "description_width": ""
      }
     },
     "275af78d9f124ff180243721aa251c48": {
      "model_module": "@jupyter-widgets/base",
      "model_module_version": "1.2.0",
      "model_name": "LayoutModel",
      "state": {}
     },
     "278f304077ba4efaa3afee8ee0151245": {
      "model_module": "@jupyter-widgets/base",
      "model_module_version": "1.2.0",
      "model_name": "LayoutModel",
      "state": {}
     },
     "27983284ec104c1aac6d719e647167b5": {
      "model_module": "@jupyter-widgets/controls",
      "model_module_version": "1.5.0",
      "model_name": "HTMLModel",
      "state": {
       "layout": "IPY_MODEL_c20395210b5a46bda07ba9d8391cc9c0",
       "style": "IPY_MODEL_34378a212095437fb20bb4d54d858ee4",
       "value": "<h1>Voice Quality<br></h1><body>Thanks for participating. Please select for each utternace it percieved quality with the folowing scale:<br><ol><li>Bad</li><li>Poor</li><li>Fair</li><li>Good</li><li>Excellent</li></ol><b>This test is not checking how much 'Jenny like' is a voice, but rather only how good it sounds </b><br>After completing the entries press the Done button. <br>Good luck and thank you.<br><br><br></body>"
      }
     },
     "27a7662ce49a41e8ba31bf5963031ef6": {
      "model_module": "@jupyter-widgets/controls",
      "model_module_version": "1.5.0",
      "model_name": "HTMLModel",
      "state": {
       "layout": "IPY_MODEL_c7501feb789947fea38d8c98cf0601e7",
       "style": "IPY_MODEL_5a2aab2550e742e8b58979ee14cbfad9",
       "value": "<h2>Utterance <b>15:</b></h2>"
      }
     },
     "27a79c13d1984edd9a4a0ee3222e17ed": {
      "model_module": "@jupyter-widgets/base",
      "model_module_version": "1.2.0",
      "model_name": "LayoutModel",
      "state": {}
     },
     "27dc7530b31f4b8dab1830cde7a3712c": {
      "model_module": "@jupyter-widgets/base",
      "model_module_version": "1.2.0",
      "model_name": "LayoutModel",
      "state": {}
     },
     "27de04e0fdc844579bf2e383abcee5b3": {
      "model_module": "@jupyter-widgets/base",
      "model_module_version": "1.2.0",
      "model_name": "LayoutModel",
      "state": {}
     },
     "2806c5cfe5f04854afc68da58d98f7b3": {
      "model_module": "@jupyter-widgets/base",
      "model_module_version": "1.2.0",
      "model_name": "LayoutModel",
      "state": {}
     },
     "28875a452b784c58b7f54035b8d365f8": {
      "model_module": "@jupyter-widgets/controls",
      "model_module_version": "1.5.0",
      "model_name": "DescriptionStyleModel",
      "state": {
       "description_width": ""
      }
     },
     "288b49f79b0a4081b838958e2d9df307": {
      "model_module": "@jupyter-widgets/controls",
      "model_module_version": "1.5.0",
      "model_name": "FloatSliderModel",
      "state": {
       "continuous_update": false,
       "description": "Test:",
       "layout": "IPY_MODEL_67b015588414420690219aae5f4faea5",
       "max": 5,
       "min": 1,
       "readout_format": ".1f",
       "step": 0.1,
       "style": "IPY_MODEL_601ab64397064d9c9d8b6209f64a365e",
       "value": 3
      }
     },
     "2899c26c6fa745ba90604a6e18c870ba": {
      "model_module": "@jupyter-widgets/controls",
      "model_module_version": "1.5.0",
      "model_name": "FloatSliderModel",
      "state": {
       "continuous_update": false,
       "description": "Test:",
       "layout": "IPY_MODEL_53e03c4e27ad479fb8033581df5555aa",
       "max": 5,
       "min": 1,
       "readout_format": ".1f",
       "step": 0.1,
       "style": "IPY_MODEL_db1532319713416e945a708f482ddfa8",
       "value": 3
      }
     },
     "28b67e5382764ffe826cfd05d04d38b9": {
      "model_module": "@jupyter-widgets/controls",
      "model_module_version": "1.5.0",
      "model_name": "SliderStyleModel",
      "state": {
       "description_width": ""
      }
     },
     "28d7e40c029044a182fe2306462ca023": {
      "model_module": "@jupyter-widgets/base",
      "model_module_version": "1.2.0",
      "model_name": "LayoutModel",
      "state": {}
     },
     "2930862220c64659aa0156de8da5bfd6": {
      "model_module": "@jupyter-widgets/controls",
      "model_module_version": "1.5.0",
      "model_name": "HTMLModel",
      "state": {
       "layout": "IPY_MODEL_9221555696fb461795e80029e6458ca9",
       "style": "IPY_MODEL_2fa929244124412795b43041fed93e70",
       "value": "<h2>Utterance <b>14:</b></h2>"
      }
     },
     "29b1c0965b6c4a72a7983aefecef34a7": {
      "model_module": "@jupyter-widgets/base",
      "model_module_version": "1.2.0",
      "model_name": "LayoutModel",
      "state": {}
     },
     "29c6155893d643c9b485c7bc42a4f697": {
      "model_module": "@jupyter-widgets/controls",
      "model_module_version": "1.5.0",
      "model_name": "SliderStyleModel",
      "state": {
       "description_width": ""
      }
     },
     "29c9043134da4cd8ad4e5942ec3e9552": {
      "model_module": "@jupyter-widgets/controls",
      "model_module_version": "1.5.0",
      "model_name": "FloatSliderModel",
      "state": {
       "continuous_update": false,
       "description": "Test:",
       "layout": "IPY_MODEL_677d631029434c70bc3cad19f1c29822",
       "max": 5,
       "min": 1,
       "readout_format": ".1f",
       "step": 0.1,
       "style": "IPY_MODEL_a2b940fdf8644d34adcf1cb88323ea23",
       "value": 3
      }
     },
     "29d344a799b24d1f993266fb4fe8da64": {
      "model_module": "@jupyter-widgets/controls",
      "model_module_version": "1.5.0",
      "model_name": "FloatSliderModel",
      "state": {
       "continuous_update": false,
       "description": "Test:",
       "layout": "IPY_MODEL_2161ea7865f143d794d530602d804f6f",
       "max": 5,
       "min": 1,
       "readout_format": ".1f",
       "step": 0.1,
       "style": "IPY_MODEL_0c86fe16ac6a4ec39e0406463925ee49",
       "value": 4
      }
     },
     "29f5bf59e9e943ba9ce0f4e52ac7b039": {
      "model_module": "@jupyter-widgets/controls",
      "model_module_version": "1.5.0",
      "model_name": "DescriptionStyleModel",
      "state": {
       "description_width": ""
      }
     },
     "2a352a74b72747c78b9d110378c50ab1": {
      "model_module": "@jupyter-widgets/controls",
      "model_module_version": "1.5.0",
      "model_name": "DescriptionStyleModel",
      "state": {
       "description_width": ""
      }
     },
     "2a5382080c0f45fdb0821b5db3bb55be": {
      "model_module": "@jupyter-widgets/controls",
      "model_module_version": "1.5.0",
      "model_name": "DescriptionStyleModel",
      "state": {
       "description_width": ""
      }
     },
     "2a610ff77af54b1c8548e77d1c1a8815": {
      "model_module": "@jupyter-widgets/controls",
      "model_module_version": "1.5.0",
      "model_name": "DescriptionStyleModel",
      "state": {
       "description_width": ""
      }
     },
     "2aa11e49af8143fbbe6c88726bf905b7": {
      "model_module": "@jupyter-widgets/controls",
      "model_module_version": "1.5.0",
      "model_name": "DescriptionStyleModel",
      "state": {
       "description_width": ""
      }
     },
     "2b15de6309a04fe08e3646742fe377d9": {
      "model_module": "@jupyter-widgets/controls",
      "model_module_version": "1.5.0",
      "model_name": "SliderStyleModel",
      "state": {
       "description_width": ""
      }
     },
     "2b32bf5fc3a84762831c1f1f0e21fa9d": {
      "model_module": "@jupyter-widgets/base",
      "model_module_version": "1.2.0",
      "model_name": "LayoutModel",
      "state": {}
     },
     "2b6ac3acefff42bfa77dbce7b4f11b99": {
      "model_module": "@jupyter-widgets/controls",
      "model_module_version": "1.5.0",
      "model_name": "DescriptionStyleModel",
      "state": {
       "description_width": ""
      }
     },
     "2bad492af9d543c9896f25ecca6b9f31": {
      "model_module": "@jupyter-widgets/base",
      "model_module_version": "1.2.0",
      "model_name": "LayoutModel",
      "state": {}
     },
     "2bb8c0acd40e4591a5cd665fdea124c0": {
      "model_module": "@jupyter-widgets/base",
      "model_module_version": "1.2.0",
      "model_name": "LayoutModel",
      "state": {}
     },
     "2bdbe998cb93467e83cd8b25cb34d3b9": {
      "model_module": "@jupyter-widgets/controls",
      "model_module_version": "1.5.0",
      "model_name": "SliderStyleModel",
      "state": {
       "description_width": ""
      }
     },
     "2beb3d7181ae41c497d94af2abdc559e": {
      "model_module": "@jupyter-widgets/controls",
      "model_module_version": "1.5.0",
      "model_name": "FloatSliderModel",
      "state": {
       "continuous_update": false,
       "description": "Test:",
       "layout": "IPY_MODEL_594b37e899dd4ae8b693a36b5302714b",
       "max": 5,
       "min": 1,
       "readout_format": ".1f",
       "step": 0.1,
       "style": "IPY_MODEL_ede9f2ad29d645dab9d59b768f312fd4",
       "value": 3
      }
     },
     "2c0c6bad3777418095418ce07be133d9": {
      "model_module": "@jupyter-widgets/controls",
      "model_module_version": "1.5.0",
      "model_name": "HTMLModel",
      "state": {
       "layout": "IPY_MODEL_7278a8340f1349c29b06177b20586da8",
       "style": "IPY_MODEL_1dbc1283f32141fdb8d8ac956001629f",
       "value": "<h2>Utterance <b>7:</b></h2>"
      }
     },
     "2c280fd724c54dcdb846fcc08fa2c267": {
      "model_module": "@jupyter-widgets/controls",
      "model_module_version": "1.5.0",
      "model_name": "FloatSliderModel",
      "state": {
       "continuous_update": false,
       "description": "Test:",
       "layout": "IPY_MODEL_7d8d3bc2da654554b90a599e44237ec8",
       "max": 5,
       "min": 1,
       "readout_format": ".1f",
       "step": 0.1,
       "style": "IPY_MODEL_8fcb7eee4e904481aa02b6424713c0b7",
       "value": 3
      }
     },
     "2c5839e0d4aa468c8af4e87fb6e63ae9": {
      "model_module": "@jupyter-widgets/base",
      "model_module_version": "1.2.0",
      "model_name": "LayoutModel",
      "state": {}
     },
     "2c58f561c8914f05997da0449b5ad66b": {
      "model_module": "@jupyter-widgets/controls",
      "model_module_version": "1.5.0",
      "model_name": "HTMLModel",
      "state": {
       "layout": "IPY_MODEL_5b7d9cf9ffc14bd9a13cf5ed073d2488",
       "style": "IPY_MODEL_bef40101a2a54d70b84d7fed58a1ef67",
       "value": "<h2>Utterance <b>20:</b></h2>"
      }
     },
     "2c6b83af00a54b7083c67a0464bd8fbb": {
      "model_module": "@jupyter-widgets/controls",
      "model_module_version": "1.5.0",
      "model_name": "DescriptionStyleModel",
      "state": {
       "description_width": ""
      }
     },
     "2c70564edec04612860c5cc27c6bf32d": {
      "model_module": "@jupyter-widgets/base",
      "model_module_version": "1.2.0",
      "model_name": "LayoutModel",
      "state": {}
     },
     "2c9fb41ffa344542b9b08b1f890840ab": {
      "model_module": "@jupyter-widgets/base",
      "model_module_version": "1.2.0",
      "model_name": "LayoutModel",
      "state": {}
     },
     "2ca592feae2e48afa92d33579b86a17e": {
      "model_module": "@jupyter-widgets/base",
      "model_module_version": "1.2.0",
      "model_name": "LayoutModel",
      "state": {}
     },
     "2cbff8f44ce043b19060f7e7b5bd7683": {
      "model_module": "@jupyter-widgets/controls",
      "model_module_version": "1.5.0",
      "model_name": "HTMLModel",
      "state": {
       "layout": "IPY_MODEL_7b61962f2a5c47e89af4888879a9317b",
       "style": "IPY_MODEL_b1411b669dc648f6b51b253b3506fd34",
       "value": "<h2>Utterance <b>2:</b></h2>"
      }
     },
     "2cde7394fbc74f2293db62ab4d495ffe": {
      "model_module": "@jupyter-widgets/base",
      "model_module_version": "1.2.0",
      "model_name": "LayoutModel",
      "state": {}
     },
     "2d17495753354a3fb6a0735f147eadb2": {
      "model_module": "@jupyter-widgets/base",
      "model_module_version": "1.2.0",
      "model_name": "LayoutModel",
      "state": {}
     },
     "2d285d8249814239a5c256f05624f461": {
      "model_module": "@jupyter-widgets/controls",
      "model_module_version": "1.5.0",
      "model_name": "FloatSliderModel",
      "state": {
       "continuous_update": false,
       "description": "Test:",
       "layout": "IPY_MODEL_37504a712db046e8b71d4bd042fade43",
       "max": 5,
       "min": 1,
       "readout_format": ".1f",
       "step": 0.1,
       "style": "IPY_MODEL_2ee80736dfae4ea08ec98cf95cbf6fa2",
       "value": 3
      }
     },
     "2d2a27475c4b4271b1a91bcdcf596863": {
      "model_module": "@jupyter-widgets/controls",
      "model_module_version": "1.5.0",
      "model_name": "SliderStyleModel",
      "state": {
       "description_width": ""
      }
     },
     "2d467e7ba15b430ebd231fc1113a2647": {
      "model_module": "@jupyter-widgets/controls",
      "model_module_version": "1.5.0",
      "model_name": "SliderStyleModel",
      "state": {
       "description_width": ""
      }
     },
     "2d6a7790fc4c43738598eb27b0566a5d": {
      "model_module": "@jupyter-widgets/controls",
      "model_module_version": "1.5.0",
      "model_name": "FloatSliderModel",
      "state": {
       "continuous_update": false,
       "description": "Test:",
       "layout": "IPY_MODEL_cc4702c06cd64f95bc425d89ba311826",
       "max": 5,
       "min": 1,
       "readout_format": ".1f",
       "step": 0.1,
       "style": "IPY_MODEL_8131898527f245ad8e2ef23eb9fcdbc6",
       "value": 3
      }
     },
     "2d9ede42c1744208b6283d353009788d": {
      "model_module": "@jupyter-widgets/base",
      "model_module_version": "1.2.0",
      "model_name": "LayoutModel",
      "state": {}
     },
     "2ddf0be727934b3aa93e3edf4ac1c59c": {
      "model_module": "@jupyter-widgets/controls",
      "model_module_version": "1.5.0",
      "model_name": "FloatSliderModel",
      "state": {
       "continuous_update": false,
       "description": "Test:",
       "layout": "IPY_MODEL_c46b1262e29b437fa5376fd41a61a30c",
       "max": 5,
       "min": 1,
       "readout_format": ".1f",
       "step": 0.1,
       "style": "IPY_MODEL_87686685ff78462e87c38bf6e3988e28",
       "value": 3
      }
     },
     "2dfdbd5ea40346ff88204d825348218b": {
      "model_module": "@jupyter-widgets/controls",
      "model_module_version": "1.5.0",
      "model_name": "HTMLModel",
      "state": {
       "layout": "IPY_MODEL_2c9fb41ffa344542b9b08b1f890840ab",
       "style": "IPY_MODEL_9b51307b0db044a085c149c992a286f5",
       "value": "<h2>Utterance <b>9:</b></h2>"
      }
     },
     "2e48e66256794c20a51cb0c6972510c7": {
      "model_module": "@jupyter-widgets/base",
      "model_module_version": "1.2.0",
      "model_name": "LayoutModel",
      "state": {}
     },
     "2e4b764a7d6b475a9aacf2933000be67": {
      "model_module": "@jupyter-widgets/controls",
      "model_module_version": "1.5.0",
      "model_name": "SliderStyleModel",
      "state": {
       "description_width": ""
      }
     },
     "2ea09941027947d89f168a52fc3e7dd9": {
      "model_module": "@jupyter-widgets/controls",
      "model_module_version": "1.5.0",
      "model_name": "FloatSliderModel",
      "state": {
       "continuous_update": false,
       "description": "Test:",
       "layout": "IPY_MODEL_3a9c158239a74ed38ebf668568e95aac",
       "max": 5,
       "min": 1,
       "readout_format": ".1f",
       "step": 0.1,
       "style": "IPY_MODEL_a7028ed39eeb40b188658d04f09f0e5f",
       "value": 3
      }
     },
     "2eb55305d9fc419c8055d977d48b635e": {
      "model_module": "@jupyter-widgets/controls",
      "model_module_version": "1.5.0",
      "model_name": "HTMLModel",
      "state": {
       "layout": "IPY_MODEL_49be8056090041609c176ec0600c84b3",
       "style": "IPY_MODEL_50d88be595924687a74273c31af36f54",
       "value": "<h2>Utterance <b>18:</b></h2>"
      }
     },
     "2eba40858d494df8bb3ade150684b660": {
      "model_module": "@jupyter-widgets/base",
      "model_module_version": "1.2.0",
      "model_name": "LayoutModel",
      "state": {}
     },
     "2ec4461e2a644025a4585b478682a29a": {
      "model_module": "@jupyter-widgets/base",
      "model_module_version": "1.2.0",
      "model_name": "LayoutModel",
      "state": {}
     },
     "2ee80736dfae4ea08ec98cf95cbf6fa2": {
      "model_module": "@jupyter-widgets/controls",
      "model_module_version": "1.5.0",
      "model_name": "SliderStyleModel",
      "state": {
       "description_width": ""
      }
     },
     "2f1252b5f630404a80926fbb5a126f7f": {
      "model_module": "@jupyter-widgets/controls",
      "model_module_version": "1.5.0",
      "model_name": "DescriptionStyleModel",
      "state": {
       "description_width": ""
      }
     },
     "2f1a34da3e8245d5a5ac135ed66c3e23": {
      "model_module": "@jupyter-widgets/base",
      "model_module_version": "1.2.0",
      "model_name": "LayoutModel",
      "state": {}
     },
     "2f56e68f980643af9336e1105ed685af": {
      "model_module": "@jupyter-widgets/controls",
      "model_module_version": "1.5.0",
      "model_name": "SliderStyleModel",
      "state": {
       "description_width": ""
      }
     },
     "2f5f34c2f92148ae9db31f291847c82f": {
      "model_module": "@jupyter-widgets/controls",
      "model_module_version": "1.5.0",
      "model_name": "FloatSliderModel",
      "state": {
       "continuous_update": false,
       "description": "Test:",
       "layout": "IPY_MODEL_475e4ede50de48bc990329bd2e18c638",
       "max": 5,
       "min": 1,
       "readout_format": ".1f",
       "step": 0.1,
       "style": "IPY_MODEL_354c9d5f4ae241dbadc961d48eebbf8c",
       "value": 3
      }
     },
     "2f7f957734604a378755fa97b2343e0d": {
      "model_module": "@jupyter-widgets/controls",
      "model_module_version": "1.5.0",
      "model_name": "HTMLModel",
      "state": {
       "layout": "IPY_MODEL_b252af380f5f456ab77945b49feb167a",
       "style": "IPY_MODEL_eccd62b26f894f9884a2b851935dcea8",
       "value": "<h2>Utterance <b>5:</b></h2>"
      }
     },
     "2f8ec310e43c483d9433e2952db0492f": {
      "model_module": "@jupyter-widgets/base",
      "model_module_version": "1.2.0",
      "model_name": "LayoutModel",
      "state": {}
     },
     "2f92afa6594449da8e10057ffb2d6292": {
      "model_module": "@jupyter-widgets/controls",
      "model_module_version": "1.5.0",
      "model_name": "DescriptionStyleModel",
      "state": {
       "description_width": ""
      }
     },
     "2fa929244124412795b43041fed93e70": {
      "model_module": "@jupyter-widgets/controls",
      "model_module_version": "1.5.0",
      "model_name": "DescriptionStyleModel",
      "state": {
       "description_width": ""
      }
     },
     "2fd4a069a3454bc8ab408a18af6fdea4": {
      "model_module": "@jupyter-widgets/base",
      "model_module_version": "1.2.0",
      "model_name": "LayoutModel",
      "state": {}
     },
     "2fe02bf838e54777928b59aeaf075564": {
      "model_module": "@jupyter-widgets/base",
      "model_module_version": "1.2.0",
      "model_name": "LayoutModel",
      "state": {}
     },
     "2fe9181ca0374605ba5530b475c9cc1c": {
      "model_module": "@jupyter-widgets/base",
      "model_module_version": "1.2.0",
      "model_name": "LayoutModel",
      "state": {}
     },
     "2fed4c67fc2a40498c6f722641d7a1d6": {
      "model_module": "@jupyter-widgets/controls",
      "model_module_version": "1.5.0",
      "model_name": "FloatSliderModel",
      "state": {
       "continuous_update": false,
       "description": "Test:",
       "layout": "IPY_MODEL_ce8daf9d1fc64b4bbac8986ca30928b2",
       "max": 5,
       "min": 1,
       "readout_format": ".1f",
       "step": 0.1,
       "style": "IPY_MODEL_eec4582b0108418dbaf9f8c8cac1aac7",
       "value": 3
      }
     },
     "3002d3c69c0a4853ac02c0681a9c1050": {
      "model_module": "@jupyter-widgets/base",
      "model_module_version": "1.2.0",
      "model_name": "LayoutModel",
      "state": {}
     },
     "303bf923285341d3a05e707acbd2b6ba": {
      "model_module": "@jupyter-widgets/base",
      "model_module_version": "1.2.0",
      "model_name": "LayoutModel",
      "state": {}
     },
     "305b2210f1ad4d39866ed3a36c977ad5": {
      "model_module": "@jupyter-widgets/controls",
      "model_module_version": "1.5.0",
      "model_name": "SliderStyleModel",
      "state": {
       "description_width": ""
      }
     },
     "305eb6f5751840bda4101b69f6ac5857": {
      "model_module": "@jupyter-widgets/controls",
      "model_module_version": "1.5.0",
      "model_name": "SliderStyleModel",
      "state": {
       "description_width": ""
      }
     },
     "30617d547834458a94d99f1e40d6d2f0": {
      "model_module": "@jupyter-widgets/controls",
      "model_module_version": "1.5.0",
      "model_name": "HTMLModel",
      "state": {
       "layout": "IPY_MODEL_6ebace96d3084ccaa3727e6a8557c43b",
       "style": "IPY_MODEL_44de986def18423fbbc0c70a6040a55b",
       "value": "<h2>Utterance <b>3:</b></h2>"
      }
     },
     "30835822a2114daebf920e0d84c4d4b7": {
      "model_module": "@jupyter-widgets/controls",
      "model_module_version": "1.5.0",
      "model_name": "DescriptionStyleModel",
      "state": {
       "description_width": ""
      }
     },
     "30cd5b5d595f443caabbcecbb204ab68": {
      "model_module": "@jupyter-widgets/controls",
      "model_module_version": "1.5.0",
      "model_name": "HTMLModel",
      "state": {
       "layout": "IPY_MODEL_aae668f5ceeb462b930ec1f6115915d6",
       "style": "IPY_MODEL_6473c63b442143fd95fde2b448695b19",
       "value": "<h2>Utterance <b>20:</b></h2>"
      }
     },
     "310a62e72ff645f580fcee111f2d0705": {
      "model_module": "@jupyter-widgets/controls",
      "model_module_version": "1.5.0",
      "model_name": "HTMLModel",
      "state": {
       "layout": "IPY_MODEL_a67194d934154ca28b5ea7631098ec23",
       "style": "IPY_MODEL_af0bc783ae7d475ab2e6b906cc102299",
       "value": "<h2>Utterance <b>23:</b></h2>"
      }
     },
     "31284cc347d743e58c4b1c2eb9a50231": {
      "model_module": "@jupyter-widgets/controls",
      "model_module_version": "1.5.0",
      "model_name": "FloatSliderModel",
      "state": {
       "continuous_update": false,
       "description": "Test:",
       "layout": "IPY_MODEL_37950c88a522409986d99e5e374d5fb0",
       "max": 5,
       "min": 1,
       "readout_format": ".1f",
       "step": 0.1,
       "style": "IPY_MODEL_e1542f2e14d147e6bf98251a387fdaf8",
       "value": 3
      }
     },
     "314d98e5eb24473da1fdce9c814626ab": {
      "model_module": "@jupyter-widgets/base",
      "model_module_version": "1.2.0",
      "model_name": "LayoutModel",
      "state": {}
     },
     "3154f8df01434858a1714430220b5ad5": {
      "model_module": "@jupyter-widgets/controls",
      "model_module_version": "1.5.0",
      "model_name": "HTMLModel",
      "state": {
       "layout": "IPY_MODEL_f45db2ddac504f7caa20fb52961db9b4",
       "style": "IPY_MODEL_b7dd3af8685749d49687cfb277ae14a8",
       "value": "<h1>Voice selection<br></h1><body>Thanks for participating. Please select for each utternace it percieved quality with the folowing scale:<br><ol><li>Bad</li><li>Poor</li><li>Fair</li><li>Good</li><li>Excellent</li></ol><br><b>Note this test is not checking how much 'Jenny like' is a voice, but rather only how it sounds </b><br>After completing the questionaire press the button and you are done. Good luck and thank you.</body>"
      }
     },
     "3170e68378734b29a424265654aaa889": {
      "model_module": "@jupyter-widgets/controls",
      "model_module_version": "1.5.0",
      "model_name": "SliderStyleModel",
      "state": {
       "description_width": ""
      }
     },
     "31b83b4bb8ce4652b887dc79ee1a261b": {
      "model_module": "@jupyter-widgets/controls",
      "model_module_version": "1.5.0",
      "model_name": "FloatSliderModel",
      "state": {
       "continuous_update": false,
       "description": "Test:",
       "layout": "IPY_MODEL_45a108e22d8a4fd9b683913448d04782",
       "max": 5,
       "min": 1,
       "readout_format": ".1f",
       "step": 0.1,
       "style": "IPY_MODEL_9e6f08362b8e4c9e97f44196ce0119d9",
       "value": 3
      }
     },
     "31bc81cbeba049b4aaf0c3d8ea63a02e": {
      "model_module": "@jupyter-widgets/controls",
      "model_module_version": "1.5.0",
      "model_name": "SliderStyleModel",
      "state": {
       "description_width": ""
      }
     },
     "31c65b9a414d4b968cda3d5728012905": {
      "model_module": "@jupyter-widgets/controls",
      "model_module_version": "1.5.0",
      "model_name": "FloatSliderModel",
      "state": {
       "continuous_update": false,
       "description": "Test:",
       "layout": "IPY_MODEL_d5b4a515c72d415493e120590486b4ee",
       "max": 5,
       "min": 1,
       "readout_format": ".1f",
       "step": 0.1,
       "style": "IPY_MODEL_b88fb13969424e8d8fea114d8e90f18b",
       "value": 3
      }
     },
     "31d18e624f3744e6a89e214ec0c7d2ee": {
      "model_module": "@jupyter-widgets/controls",
      "model_module_version": "1.5.0",
      "model_name": "DescriptionStyleModel",
      "state": {
       "description_width": ""
      }
     },
     "3208b7c770384eeabaa4980f29f68455": {
      "model_module": "@jupyter-widgets/controls",
      "model_module_version": "1.5.0",
      "model_name": "SliderStyleModel",
      "state": {
       "description_width": ""
      }
     },
     "326e66882bf845e287f139ec09fa42f8": {
      "model_module": "@jupyter-widgets/base",
      "model_module_version": "1.2.0",
      "model_name": "LayoutModel",
      "state": {}
     },
     "32bb1d293da04226b398eb12918b726d": {
      "model_module": "@jupyter-widgets/controls",
      "model_module_version": "1.5.0",
      "model_name": "DescriptionStyleModel",
      "state": {
       "description_width": ""
      }
     },
     "32bc1ec1106d402bac1416a1fbbde16b": {
      "model_module": "@jupyter-widgets/controls",
      "model_module_version": "1.5.0",
      "model_name": "ButtonStyleModel",
      "state": {}
     },
     "32c0d6a7715c41069594ad899946aef8": {
      "model_module": "@jupyter-widgets/base",
      "model_module_version": "1.2.0",
      "model_name": "LayoutModel",
      "state": {}
     },
     "32e85f81e48e46388021d551c27638a7": {
      "model_module": "@jupyter-widgets/controls",
      "model_module_version": "1.5.0",
      "model_name": "DescriptionStyleModel",
      "state": {
       "description_width": ""
      }
     },
     "3307416365724c309f93d76286f836c4": {
      "model_module": "@jupyter-widgets/controls",
      "model_module_version": "1.5.0",
      "model_name": "DescriptionStyleModel",
      "state": {
       "description_width": ""
      }
     },
     "333cd91fa280466899ac6b93713ba4b4": {
      "model_module": "@jupyter-widgets/controls",
      "model_module_version": "1.5.0",
      "model_name": "HTMLModel",
      "state": {
       "layout": "IPY_MODEL_5be04fe487954ccabef8fd23f250ad63",
       "style": "IPY_MODEL_bccc25b83c7b42f8a89efd0f8c90b1f2",
       "value": "<h2>Utterance <b>7:</b></h2>"
      }
     },
     "33537c35f2554abb86a864fbe4bd0bea": {
      "model_module": "@jupyter-widgets/base",
      "model_module_version": "1.2.0",
      "model_name": "LayoutModel",
      "state": {}
     },
     "337a2dbeb0c5400fb457741963386c34": {
      "model_module": "@jupyter-widgets/controls",
      "model_module_version": "1.5.0",
      "model_name": "SliderStyleModel",
      "state": {
       "description_width": ""
      }
     },
     "33ad54021d724b239bfa4afa144e5e97": {
      "model_module": "@jupyter-widgets/base",
      "model_module_version": "1.2.0",
      "model_name": "LayoutModel",
      "state": {}
     },
     "33ae39382b6a4c8eb2095083fd70126e": {
      "model_module": "@jupyter-widgets/base",
      "model_module_version": "1.2.0",
      "model_name": "LayoutModel",
      "state": {}
     },
     "33e202410f7b4fe5945f7c35a752b546": {
      "model_module": "@jupyter-widgets/base",
      "model_module_version": "1.2.0",
      "model_name": "LayoutModel",
      "state": {}
     },
     "340ab3a131014cdd8e101fedad1605b5": {
      "model_module": "@jupyter-widgets/controls",
      "model_module_version": "1.5.0",
      "model_name": "DescriptionStyleModel",
      "state": {
       "description_width": ""
      }
     },
     "34378a212095437fb20bb4d54d858ee4": {
      "model_module": "@jupyter-widgets/controls",
      "model_module_version": "1.5.0",
      "model_name": "DescriptionStyleModel",
      "state": {
       "description_width": ""
      }
     },
     "343911dd7abb48129e85b1b3aa988e18": {
      "model_module": "@jupyter-widgets/controls",
      "model_module_version": "1.5.0",
      "model_name": "FloatSliderModel",
      "state": {
       "continuous_update": false,
       "description": "Test:",
       "layout": "IPY_MODEL_27a79c13d1984edd9a4a0ee3222e17ed",
       "max": 5,
       "min": 1,
       "readout_format": ".1f",
       "step": 0.1,
       "style": "IPY_MODEL_c02a861ad3b4432aa5e503a2a7ecb1fd",
       "value": 3
      }
     },
     "34597dc3fc3541cc998e7f38a38f3d13": {
      "model_module": "@jupyter-widgets/base",
      "model_module_version": "1.2.0",
      "model_name": "LayoutModel",
      "state": {}
     },
     "347bd3c5f8ad462db327e9d58ced370e": {
      "model_module": "@jupyter-widgets/controls",
      "model_module_version": "1.5.0",
      "model_name": "FloatSliderModel",
      "state": {
       "continuous_update": false,
       "description": "Test:",
       "layout": "IPY_MODEL_4b85c254f3264418b1e03c9a2f005b98",
       "max": 5,
       "min": 1,
       "readout_format": ".1f",
       "step": 0.1,
       "style": "IPY_MODEL_70480559d0e341168f718b7b6f0d10b0",
       "value": 3
      }
     },
     "348654a7b0ae438b92ae9f8db96c26f5": {
      "model_module": "@jupyter-widgets/controls",
      "model_module_version": "1.5.0",
      "model_name": "FloatSliderModel",
      "state": {
       "continuous_update": false,
       "description": "Test:",
       "layout": "IPY_MODEL_1aa8192fe5a7406dad11ac5e73b658af",
       "max": 5,
       "min": 1,
       "readout_format": ".1f",
       "step": 0.1,
       "style": "IPY_MODEL_ec3ed8ee1ce54b4bab00f9d3e488b665",
       "value": 3
      }
     },
     "34fa1105348c4339add15976bc62a9d7": {
      "model_module": "@jupyter-widgets/controls",
      "model_module_version": "1.5.0",
      "model_name": "DescriptionStyleModel",
      "state": {
       "description_width": ""
      }
     },
     "351db73dd7874f6faa5f345a3380280a": {
      "model_module": "@jupyter-widgets/controls",
      "model_module_version": "1.5.0",
      "model_name": "FloatSliderModel",
      "state": {
       "continuous_update": false,
       "description": "Test:",
       "layout": "IPY_MODEL_10efaf0e2a514455b9a1f23f6c751b7c",
       "max": 5,
       "min": 1,
       "readout_format": ".1f",
       "step": 0.1,
       "style": "IPY_MODEL_bde199470dbc431e910b8c2e510b1818",
       "value": 3
      }
     },
     "352674abc2bb46be99e7e4558aca6095": {
      "model_module": "@jupyter-widgets/base",
      "model_module_version": "1.2.0",
      "model_name": "LayoutModel",
      "state": {}
     },
     "353e1667184349b0824bff7d7448c605": {
      "model_module": "@jupyter-widgets/controls",
      "model_module_version": "1.5.0",
      "model_name": "HTMLModel",
      "state": {
       "layout": "IPY_MODEL_9f3288836a274b63a4a7141d5ac75bf6",
       "style": "IPY_MODEL_2f92afa6594449da8e10057ffb2d6292",
       "value": "<h2>Utterance <b>5:</b></h2>"
      }
     },
     "354c9d5f4ae241dbadc961d48eebbf8c": {
      "model_module": "@jupyter-widgets/controls",
      "model_module_version": "1.5.0",
      "model_name": "SliderStyleModel",
      "state": {
       "description_width": ""
      }
     },
     "357d83223db34963bc8a91b8bbbb1862": {
      "model_module": "@jupyter-widgets/base",
      "model_module_version": "1.2.0",
      "model_name": "LayoutModel",
      "state": {}
     },
     "35aeecc5dfc74f60987aa11773780dcb": {
      "model_module": "@jupyter-widgets/base",
      "model_module_version": "1.2.0",
      "model_name": "LayoutModel",
      "state": {}
     },
     "35b12b6593d04dca93754857c449fe76": {
      "model_module": "@jupyter-widgets/base",
      "model_module_version": "1.2.0",
      "model_name": "LayoutModel",
      "state": {}
     },
     "35e414cb6d91429d89a6d04ba2d37c5d": {
      "model_module": "@jupyter-widgets/controls",
      "model_module_version": "1.5.0",
      "model_name": "HTMLModel",
      "state": {
       "layout": "IPY_MODEL_6d310f81da2440acb3778b9fdf7d9f38",
       "style": "IPY_MODEL_64fbd6ebbdc746d5920f048656e114e6",
       "value": "<h2>Utterance <b>16:</b></h2>"
      }
     },
     "35fb9c162ec845d190a9024b464ad918": {
      "model_module": "@jupyter-widgets/base",
      "model_module_version": "1.2.0",
      "model_name": "LayoutModel",
      "state": {}
     },
     "36837852f61d4455af710559bdbb84d8": {
      "model_module": "@jupyter-widgets/controls",
      "model_module_version": "1.5.0",
      "model_name": "DescriptionStyleModel",
      "state": {
       "description_width": ""
      }
     },
     "36a150e36d1f49edae51f0d16e74eeb3": {
      "model_module": "@jupyter-widgets/controls",
      "model_module_version": "1.5.0",
      "model_name": "DescriptionStyleModel",
      "state": {
       "description_width": ""
      }
     },
     "36bec1b895a0484c9b3997d1ba5ab137": {
      "model_module": "@jupyter-widgets/base",
      "model_module_version": "1.2.0",
      "model_name": "LayoutModel",
      "state": {}
     },
     "36cbf2ddd9b74886aaadfee0b8e88f56": {
      "model_module": "@jupyter-widgets/controls",
      "model_module_version": "1.5.0",
      "model_name": "DescriptionStyleModel",
      "state": {
       "description_width": ""
      }
     },
     "36da681809694bb4a8621d27d444f578": {
      "model_module": "@jupyter-widgets/controls",
      "model_module_version": "1.5.0",
      "model_name": "DescriptionStyleModel",
      "state": {
       "description_width": ""
      }
     },
     "36ef281d71ce441d89b0b0e0d734fa8a": {
      "model_module": "@jupyter-widgets/base",
      "model_module_version": "1.2.0",
      "model_name": "LayoutModel",
      "state": {}
     },
     "371ed5f5d5c44a6c995ec12b6ebcd95e": {
      "model_module": "@jupyter-widgets/controls",
      "model_module_version": "1.5.0",
      "model_name": "DescriptionStyleModel",
      "state": {
       "description_width": ""
      }
     },
     "37357f738a874d43a68c35c7ff1cc4bc": {
      "model_module": "@jupyter-widgets/base",
      "model_module_version": "1.2.0",
      "model_name": "LayoutModel",
      "state": {}
     },
     "3743b87265404b23a30631bd8463b588": {
      "model_module": "@jupyter-widgets/base",
      "model_module_version": "1.2.0",
      "model_name": "LayoutModel",
      "state": {}
     },
     "37504a712db046e8b71d4bd042fade43": {
      "model_module": "@jupyter-widgets/base",
      "model_module_version": "1.2.0",
      "model_name": "LayoutModel",
      "state": {}
     },
     "3785af8cdb88492b9db08ae79529fa96": {
      "model_module": "@jupyter-widgets/controls",
      "model_module_version": "1.5.0",
      "model_name": "FloatSliderModel",
      "state": {
       "continuous_update": false,
       "description": "Test:",
       "layout": "IPY_MODEL_9735ca28dc2e47ea9adb5f5633f54802",
       "max": 5,
       "min": 1,
       "readout_format": ".1f",
       "step": 0.1,
       "style": "IPY_MODEL_604b8a2bad4c466aab7ec6e4c0e038ec",
       "value": 3
      }
     },
     "37950c88a522409986d99e5e374d5fb0": {
      "model_module": "@jupyter-widgets/base",
      "model_module_version": "1.2.0",
      "model_name": "LayoutModel",
      "state": {}
     },
     "37c5b75c9928494c9daa819fefab3436": {
      "model_module": "@jupyter-widgets/controls",
      "model_module_version": "1.5.0",
      "model_name": "SliderStyleModel",
      "state": {
       "description_width": ""
      }
     },
     "37db771f2e9d4fa28213d5fe6868eb88": {
      "model_module": "@jupyter-widgets/controls",
      "model_module_version": "1.5.0",
      "model_name": "DescriptionStyleModel",
      "state": {
       "description_width": ""
      }
     },
     "380b84a431124ba9aac0e45e5522efb2": {
      "model_module": "@jupyter-widgets/controls",
      "model_module_version": "1.5.0",
      "model_name": "SliderStyleModel",
      "state": {
       "description_width": ""
      }
     },
     "382725ad04e54173a7bfc93478c59e76": {
      "model_module": "@jupyter-widgets/base",
      "model_module_version": "1.2.0",
      "model_name": "LayoutModel",
      "state": {}
     },
     "3841d8fe0d87404bae6b465f477ec4a0": {
      "model_module": "@jupyter-widgets/controls",
      "model_module_version": "1.5.0",
      "model_name": "FloatSliderModel",
      "state": {
       "continuous_update": false,
       "description": "Test:",
       "layout": "IPY_MODEL_4cc5ec9354a543eb980943c76348eae8",
       "max": 5,
       "min": 1,
       "readout_format": ".1f",
       "step": 0.1,
       "style": "IPY_MODEL_d920e61c5e134bb2a38f8dfbb0bbb984",
       "value": 3
      }
     },
     "384abb3cdf0e4309babbcbd40878e05f": {
      "model_module": "@jupyter-widgets/controls",
      "model_module_version": "1.5.0",
      "model_name": "DescriptionStyleModel",
      "state": {
       "description_width": ""
      }
     },
     "38af1b9bd3c546a39abe83672a3a30f6": {
      "model_module": "@jupyter-widgets/base",
      "model_module_version": "1.2.0",
      "model_name": "LayoutModel",
      "state": {}
     },
     "38b053daa1ce47a99def686945f75ddb": {
      "model_module": "@jupyter-widgets/controls",
      "model_module_version": "1.5.0",
      "model_name": "DescriptionStyleModel",
      "state": {
       "description_width": ""
      }
     },
     "38c2b77fc38940a88fa60a9dce9ab443": {
      "model_module": "@jupyter-widgets/base",
      "model_module_version": "1.2.0",
      "model_name": "LayoutModel",
      "state": {}
     },
     "38ce4fee2e09405aa97919ab659e3be7": {
      "model_module": "@jupyter-widgets/controls",
      "model_module_version": "1.5.0",
      "model_name": "HTMLModel",
      "state": {
       "layout": "IPY_MODEL_cc13233496954be9b7f9f6709827b983",
       "style": "IPY_MODEL_d3696fc097a54957ac97cd5d8a12c937",
       "value": "<h2>Utterance <b>6:</b></h2>"
      }
     },
     "38dd66d7833b40a99a80941a9fe68b83": {
      "model_module": "@jupyter-widgets/controls",
      "model_module_version": "1.5.0",
      "model_name": "DescriptionStyleModel",
      "state": {
       "description_width": ""
      }
     },
     "38ea289be71943228b6f25ba89eaec7a": {
      "model_module": "@jupyter-widgets/controls",
      "model_module_version": "1.5.0",
      "model_name": "FloatSliderModel",
      "state": {
       "continuous_update": false,
       "description": "Test:",
       "layout": "IPY_MODEL_4e832381ba034ecfb38d70d41da7adc9",
       "max": 5,
       "min": 1,
       "readout_format": ".1f",
       "step": 0.1,
       "style": "IPY_MODEL_41e6ed46757b4595b5c0385d0e0a8f97",
       "value": 3
      }
     },
     "38ed670dc4634bdf8dc046a85039bf97": {
      "model_module": "@jupyter-widgets/base",
      "model_module_version": "1.2.0",
      "model_name": "LayoutModel",
      "state": {}
     },
     "38f43aa3192b48499ce052fcca18fb1e": {
      "model_module": "@jupyter-widgets/base",
      "model_module_version": "1.2.0",
      "model_name": "LayoutModel",
      "state": {}
     },
     "3927e2df265a498b93732ea0c3b3c19a": {
      "model_module": "@jupyter-widgets/controls",
      "model_module_version": "1.5.0",
      "model_name": "SliderStyleModel",
      "state": {
       "description_width": ""
      }
     },
     "39395919c3654df9bd69ff435c2775d4": {
      "model_module": "@jupyter-widgets/base",
      "model_module_version": "1.2.0",
      "model_name": "LayoutModel",
      "state": {}
     },
     "3984eda4eb73444db2d0102cf8c343b0": {
      "model_module": "@jupyter-widgets/controls",
      "model_module_version": "1.5.0",
      "model_name": "FloatSliderModel",
      "state": {
       "continuous_update": false,
       "description": "Test:",
       "layout": "IPY_MODEL_57af419b90cb4289b6363bc76cec69c5",
       "max": 5,
       "min": 1,
       "readout_format": ".1f",
       "step": 0.1,
       "style": "IPY_MODEL_0ebb02ed431f45f49fb5351547e6654e",
       "value": 3
      }
     },
     "39b697ec80bc4b1e93b125c4676743f6": {
      "model_module": "@jupyter-widgets/controls",
      "model_module_version": "1.5.0",
      "model_name": "HTMLModel",
      "state": {
       "layout": "IPY_MODEL_150fa67f218747479cdb3cd66266962e",
       "style": "IPY_MODEL_1b0c811730b9407e9dfc15674aae9b14",
       "value": "<h2>Utterance <b>6:</b></h2>"
      }
     },
     "39bc13d9460d4579a6122690aa865dda": {
      "model_module": "@jupyter-widgets/controls",
      "model_module_version": "1.5.0",
      "model_name": "FloatSliderModel",
      "state": {
       "continuous_update": false,
       "description": "Test:",
       "layout": "IPY_MODEL_df58468808e3463fb82647b08e73b95c",
       "max": 5,
       "min": 1,
       "readout_format": ".1f",
       "step": 0.1,
       "style": "IPY_MODEL_9f94a2e987484656af229d79f5114fd0",
       "value": 3
      }
     },
     "39bcb9eaf88d4390a7a1981bcbb5c208": {
      "model_module": "@jupyter-widgets/controls",
      "model_module_version": "1.5.0",
      "model_name": "FloatSliderModel",
      "state": {
       "continuous_update": false,
       "description": "Test:",
       "layout": "IPY_MODEL_2fd4a069a3454bc8ab408a18af6fdea4",
       "max": 5,
       "min": 1,
       "readout_format": ".1f",
       "step": 0.1,
       "style": "IPY_MODEL_7d36d326068a4eaaacf1520d3f5843bf",
       "value": 3
      }
     },
     "39fb6b3a226b457a834e886db2e8c98d": {
      "model_module": "@jupyter-widgets/base",
      "model_module_version": "1.2.0",
      "model_name": "LayoutModel",
      "state": {}
     },
     "39fd60b20eec4d5f91bfe20b1f0d2541": {
      "model_module": "@jupyter-widgets/controls",
      "model_module_version": "1.5.0",
      "model_name": "DescriptionStyleModel",
      "state": {
       "description_width": ""
      }
     },
     "3a00f963780345aa9313138b93a086f7": {
      "model_module": "@jupyter-widgets/controls",
      "model_module_version": "1.5.0",
      "model_name": "DescriptionStyleModel",
      "state": {
       "description_width": ""
      }
     },
     "3a5e52cd34a14830a88fefab27551c02": {
      "model_module": "@jupyter-widgets/controls",
      "model_module_version": "1.5.0",
      "model_name": "FloatSliderModel",
      "state": {
       "continuous_update": false,
       "description": "Test:",
       "layout": "IPY_MODEL_a60960fe343848b695254df4f37c9f03",
       "max": 5,
       "min": 1,
       "readout_format": ".1f",
       "step": 0.1,
       "style": "IPY_MODEL_f073c6a4a40a4722b6a032327db33f52",
       "value": 3
      }
     },
     "3a6a0598babc4a5298b86ab274cb5e08": {
      "model_module": "@jupyter-widgets/controls",
      "model_module_version": "1.5.0",
      "model_name": "HTMLModel",
      "state": {
       "layout": "IPY_MODEL_4e2e91c9982f4ed09fd36eaf2a796c22",
       "style": "IPY_MODEL_36cbf2ddd9b74886aaadfee0b8e88f56",
       "value": "<h2>Utterance <b>21:</b></h2>"
      }
     },
     "3a94f78171594f149f6adaf15247f39f": {
      "model_module": "@jupyter-widgets/controls",
      "model_module_version": "1.5.0",
      "model_name": "DescriptionStyleModel",
      "state": {
       "description_width": ""
      }
     },
     "3a9c158239a74ed38ebf668568e95aac": {
      "model_module": "@jupyter-widgets/base",
      "model_module_version": "1.2.0",
      "model_name": "LayoutModel",
      "state": {}
     },
     "3abbab42f6e14c848152c4f2281ca578": {
      "model_module": "@jupyter-widgets/controls",
      "model_module_version": "1.5.0",
      "model_name": "HTMLModel",
      "state": {
       "layout": "IPY_MODEL_e1d34845aa5f4ba3b1c1cda18b0dba90",
       "style": "IPY_MODEL_f2427a0c756a4668be9dd400c7c421f6",
       "value": "<h2>Utterance <b>13:</b></h2>"
      }
     },
     "3abce8c58e6745dfa77c2b5af1ca71b1": {
      "model_module": "@jupyter-widgets/controls",
      "model_module_version": "1.5.0",
      "model_name": "DescriptionStyleModel",
      "state": {
       "description_width": ""
      }
     },
     "3acc188a0b2a4bf8a1e2172b7a24d722": {
      "model_module": "@jupyter-widgets/controls",
      "model_module_version": "1.5.0",
      "model_name": "SliderStyleModel",
      "state": {
       "description_width": ""
      }
     },
     "3adcbd288f3b4399ba31f10e8a05af26": {
      "model_module": "@jupyter-widgets/base",
      "model_module_version": "1.2.0",
      "model_name": "LayoutModel",
      "state": {}
     },
     "3aebbafb78b548659d5bde5cd86b5eb1": {
      "model_module": "@jupyter-widgets/controls",
      "model_module_version": "1.5.0",
      "model_name": "HTMLModel",
      "state": {
       "layout": "IPY_MODEL_ca00b0cbaabd4d7ebfdae76c16bae376",
       "style": "IPY_MODEL_0ff22a2da49d4d5a85cea15470a1a4c6",
       "value": "<h2>Utterance <b>10:</b></h2>"
      }
     },
     "3afaaa80fbfc4439b2a39d3bf1336804": {
      "model_module": "@jupyter-widgets/base",
      "model_module_version": "1.2.0",
      "model_name": "LayoutModel",
      "state": {}
     },
     "3b0e0d1891254eab984e08792a85c0d6": {
      "model_module": "@jupyter-widgets/controls",
      "model_module_version": "1.5.0",
      "model_name": "FloatSliderModel",
      "state": {
       "continuous_update": false,
       "description": "Test:",
       "layout": "IPY_MODEL_f38e355f417840efb1dc5aafc4dd69b2",
       "max": 5,
       "min": 1,
       "readout_format": ".1f",
       "step": 0.1,
       "style": "IPY_MODEL_9c30ec97acae4edca0e3e9659a0d6ebe",
       "value": 3
      }
     },
     "3b232f656a5049099c804a97f4c8437b": {
      "model_module": "@jupyter-widgets/controls",
      "model_module_version": "1.5.0",
      "model_name": "SliderStyleModel",
      "state": {
       "description_width": ""
      }
     },
     "3b30c83d79dc444885d95362ba2fee22": {
      "model_module": "@jupyter-widgets/base",
      "model_module_version": "1.2.0",
      "model_name": "LayoutModel",
      "state": {}
     },
     "3b4f81c7b292427ba6c1c915076abca1": {
      "model_module": "@jupyter-widgets/controls",
      "model_module_version": "1.5.0",
      "model_name": "HTMLModel",
      "state": {
       "layout": "IPY_MODEL_c90adab573cf41c29b44bf464d0dbbbb",
       "style": "IPY_MODEL_0fad76c7825b406f8eaebf59b48a3568",
       "value": "<h2>Utterance <b>9:</b></h2>"
      }
     },
     "3b59aa1770d94289843dda87667b6661": {
      "model_module": "@jupyter-widgets/base",
      "model_module_version": "1.2.0",
      "model_name": "LayoutModel",
      "state": {}
     },
     "3b9394c0337749caa10741fa957be28d": {
      "model_module": "@jupyter-widgets/controls",
      "model_module_version": "1.5.0",
      "model_name": "HTMLModel",
      "state": {
       "layout": "IPY_MODEL_a23dcedf432f4462ba7b2143273b815b",
       "style": "IPY_MODEL_1360f3873d8642149e1b295870ca215f",
       "value": "<h2>Utterance <b>20:</b></h2>"
      }
     },
     "3b98c562d02643caaa370d5f1701d510": {
      "model_module": "@jupyter-widgets/controls",
      "model_module_version": "1.5.0",
      "model_name": "HTMLModel",
      "state": {
       "layout": "IPY_MODEL_520acdc22ea54dce8bcfec111ff4ab61",
       "style": "IPY_MODEL_028d336dd9c14592923c6a47ce71aa1f",
       "value": "<h2>Utterance <b>23:</b></h2>"
      }
     },
     "3ba1c9e980ee40f88833da01963de48f": {
      "model_module": "@jupyter-widgets/controls",
      "model_module_version": "1.5.0",
      "model_name": "HTMLModel",
      "state": {
       "layout": "IPY_MODEL_f6e276a3bd7f4bdf9de0736c90d9f0d1",
       "style": "IPY_MODEL_0967815323f04774bed9e817ac51d9ce",
       "value": "<h2>Utterance <b>18:</b></h2>"
      }
     },
     "3ba7403191374e5681f805800c62dcc9": {
      "model_module": "@jupyter-widgets/controls",
      "model_module_version": "1.5.0",
      "model_name": "HTMLModel",
      "state": {
       "layout": "IPY_MODEL_bab8781048f24c878e75b80bfcead654",
       "style": "IPY_MODEL_117bbb7eb2d74e6d8ba575ebd99ba398",
       "value": "<h2>Utterance <b>10:</b></h2>"
      }
     },
     "3bdcdb6c8d3243728492719152501200": {
      "model_module": "@jupyter-widgets/base",
      "model_module_version": "1.2.0",
      "model_name": "LayoutModel",
      "state": {}
     },
     "3c2757324891465394f48ad57795384e": {
      "model_module": "@jupyter-widgets/controls",
      "model_module_version": "1.5.0",
      "model_name": "SliderStyleModel",
      "state": {
       "description_width": ""
      }
     },
     "3c27d7c635864e8bbe13e6cd93af9b3e": {
      "model_module": "@jupyter-widgets/base",
      "model_module_version": "1.2.0",
      "model_name": "LayoutModel",
      "state": {}
     },
     "3c361341da2c4e8e91e000130e44a8ce": {
      "model_module": "@jupyter-widgets/base",
      "model_module_version": "1.2.0",
      "model_name": "LayoutModel",
      "state": {}
     },
     "3c384002384d4bf9b3e91d69eb47818b": {
      "model_module": "@jupyter-widgets/controls",
      "model_module_version": "1.5.0",
      "model_name": "FloatSliderModel",
      "state": {
       "continuous_update": false,
       "description": "Test:",
       "layout": "IPY_MODEL_8d81972f8399470eaa021ce883ac4200",
       "max": 5,
       "min": 1,
       "readout_format": ".1f",
       "step": 0.1,
       "style": "IPY_MODEL_dfe0acc4c121478780ad483e4e57ae4c",
       "value": 3
      }
     },
     "3c4ab6a69a3a4794ae5e83c4a9d46f23": {
      "model_module": "@jupyter-widgets/controls",
      "model_module_version": "1.5.0",
      "model_name": "HTMLModel",
      "state": {
       "layout": "IPY_MODEL_b609eb36ae0340cb8815f3324ec566c8",
       "style": "IPY_MODEL_4ac5291a371944be83cd9bb32fc17266",
       "value": "<h2>Utterance <b>6:</b></h2>"
      }
     },
     "3c5fd2ee3b634621a035dc8c5eb5a594": {
      "model_module": "@jupyter-widgets/controls",
      "model_module_version": "1.5.0",
      "model_name": "SliderStyleModel",
      "state": {
       "description_width": ""
      }
     },
     "3c81055b7a584728bbe340b5bdbb9bd2": {
      "model_module": "@jupyter-widgets/base",
      "model_module_version": "1.2.0",
      "model_name": "LayoutModel",
      "state": {}
     },
     "3c8203ba96104df6a5239200398d2f85": {
      "model_module": "@jupyter-widgets/base",
      "model_module_version": "1.2.0",
      "model_name": "LayoutModel",
      "state": {}
     },
     "3c8b264cc81a445393b86255cd3f834a": {
      "model_module": "@jupyter-widgets/controls",
      "model_module_version": "1.5.0",
      "model_name": "FloatSliderModel",
      "state": {
       "continuous_update": false,
       "description": "Test:",
       "layout": "IPY_MODEL_56183b302824403385ed6c3d72879028",
       "max": 5,
       "min": 1,
       "readout_format": ".1f",
       "step": 0.1,
       "style": "IPY_MODEL_710783e9a9434a39a688d9db46dc6d31",
       "value": 3
      }
     },
     "3cb190ac36e74d0da9daf982ae6f38d9": {
      "model_module": "@jupyter-widgets/controls",
      "model_module_version": "1.5.0",
      "model_name": "FloatSliderModel",
      "state": {
       "continuous_update": false,
       "description": "Test:",
       "layout": "IPY_MODEL_ae3d98dce65b4052bb8b94fcaa2373a3",
       "max": 5,
       "min": 1,
       "readout_format": ".1f",
       "step": 0.1,
       "style": "IPY_MODEL_4b99a7bf87664b96a0f2e02e4c166d3c",
       "value": 3
      }
     },
     "3cbf62551d214d41a815d2800d03db0b": {
      "model_module": "@jupyter-widgets/controls",
      "model_module_version": "1.5.0",
      "model_name": "TextModel",
      "state": {
       "description": "Name:",
       "layout": "IPY_MODEL_40d5af914260416c86ac62590c64517d",
       "placeholder": "Type something like your name or id",
       "style": "IPY_MODEL_fe69c8d82ef4461b90074e3598af3776"
      }
     },
     "3ce74d7434554da9b02666d66e0d1238": {
      "model_module": "@jupyter-widgets/controls",
      "model_module_version": "1.5.0",
      "model_name": "SliderStyleModel",
      "state": {
       "description_width": ""
      }
     },
     "3cfed5cb1a4f464a8833475179df59b8": {
      "model_module": "@jupyter-widgets/controls",
      "model_module_version": "1.5.0",
      "model_name": "DescriptionStyleModel",
      "state": {
       "description_width": ""
      }
     },
     "3d252190fc8340cdbdc1ef5db8551b3d": {
      "model_module": "@jupyter-widgets/controls",
      "model_module_version": "1.5.0",
      "model_name": "ButtonModel",
      "state": {
       "description": "Done",
       "layout": "IPY_MODEL_68deacaff6f24b829decb6d29c1b9333",
       "style": "IPY_MODEL_af767dce3630441bbbeee2fd1fd5beab"
      }
     },
     "3d30b2abf6e740e4954cd1b7309ed533": {
      "model_module": "@jupyter-widgets/base",
      "model_module_version": "1.2.0",
      "model_name": "LayoutModel",
      "state": {}
     },
     "3d4f244ce4e04602b448731a8916b388": {
      "model_module": "@jupyter-widgets/controls",
      "model_module_version": "1.5.0",
      "model_name": "FloatSliderModel",
      "state": {
       "continuous_update": false,
       "description": "Test:",
       "layout": "IPY_MODEL_ed9cf5fb862e44adae932415af44d368",
       "max": 5,
       "min": 1,
       "readout_format": ".1f",
       "step": 0.1,
       "style": "IPY_MODEL_d9b54506d95e4e949a4bc0d083b6259f",
       "value": 3
      }
     },
     "3d790fc54dd84271996bb7f23deb7f77": {
      "model_module": "@jupyter-widgets/base",
      "model_module_version": "1.2.0",
      "model_name": "LayoutModel",
      "state": {}
     },
     "3d79a2de1a4746f5920dc831019dfd8a": {
      "model_module": "@jupyter-widgets/base",
      "model_module_version": "1.2.0",
      "model_name": "LayoutModel",
      "state": {}
     },
     "3d9cc67a153f4647adeb797b90563d75": {
      "model_module": "@jupyter-widgets/base",
      "model_module_version": "1.2.0",
      "model_name": "LayoutModel",
      "state": {}
     },
     "3daeb81509384c9daf952c3707bd9de4": {
      "model_module": "@jupyter-widgets/controls",
      "model_module_version": "1.5.0",
      "model_name": "HTMLModel",
      "state": {
       "layout": "IPY_MODEL_e1f3d99a2faa4554856845f547fafbc1",
       "style": "IPY_MODEL_c1699af144c34d2f83037eb0ec5d581a",
       "value": "<h2>Utterance <b>5:</b></h2>"
      }
     },
     "3dbb4727f6334ed590eeb023e994312c": {
      "model_module": "@jupyter-widgets/controls",
      "model_module_version": "1.5.0",
      "model_name": "DescriptionStyleModel",
      "state": {
       "description_width": ""
      }
     },
     "3dbe33fa1c234edea727312fcc240581": {
      "model_module": "@jupyter-widgets/base",
      "model_module_version": "1.2.0",
      "model_name": "LayoutModel",
      "state": {}
     },
     "3de31b745e854ed3958a5cd1b27accb7": {
      "model_module": "@jupyter-widgets/controls",
      "model_module_version": "1.5.0",
      "model_name": "FloatSliderModel",
      "state": {
       "continuous_update": false,
       "description": "Test:",
       "layout": "IPY_MODEL_d034cd45a9a24f85b15c10f58ed8da4e",
       "max": 5,
       "min": 1,
       "readout_format": ".1f",
       "step": 0.1,
       "style": "IPY_MODEL_3ce74d7434554da9b02666d66e0d1238",
       "value": 3
      }
     },
     "3de72caa89744ce1818ae0211dbf5170": {
      "model_module": "@jupyter-widgets/controls",
      "model_module_version": "1.5.0",
      "model_name": "SliderStyleModel",
      "state": {
       "description_width": ""
      }
     },
     "3df901c5f3454dbcbddd4913aa257d35": {
      "model_module": "@jupyter-widgets/controls",
      "model_module_version": "1.5.0",
      "model_name": "FloatSliderModel",
      "state": {
       "continuous_update": false,
       "description": "Test:",
       "layout": "IPY_MODEL_638de102d9394de0905f934c9b5a69bd",
       "max": 5,
       "min": 1,
       "readout_format": ".1f",
       "step": 0.1,
       "style": "IPY_MODEL_c3252ae7737847d0a4f9089d1008e88b",
       "value": 3
      }
     },
     "3e4980b2494d4f96979899effcfc95f3": {
      "model_module": "@jupyter-widgets/base",
      "model_module_version": "1.2.0",
      "model_name": "LayoutModel",
      "state": {}
     },
     "3e56552f79e0468e9c2747623de9eb08": {
      "model_module": "@jupyter-widgets/controls",
      "model_module_version": "1.5.0",
      "model_name": "DescriptionStyleModel",
      "state": {
       "description_width": ""
      }
     },
     "3e6f5d0d34c2431b84581b12ad1dd413": {
      "model_module": "@jupyter-widgets/controls",
      "model_module_version": "1.5.0",
      "model_name": "DescriptionStyleModel",
      "state": {
       "description_width": ""
      }
     },
     "3e70521964b940d2a4db4ddf36400072": {
      "model_module": "@jupyter-widgets/controls",
      "model_module_version": "1.5.0",
      "model_name": "DescriptionStyleModel",
      "state": {
       "description_width": ""
      }
     },
     "3e9cdc92e1fe43209232d9e33fa1de3b": {
      "model_module": "@jupyter-widgets/controls",
      "model_module_version": "1.5.0",
      "model_name": "HTMLModel",
      "state": {
       "layout": "IPY_MODEL_a4f301e268664b289760bc3ba809347e",
       "style": "IPY_MODEL_dd2be269e06a406c87e94bd36690a347",
       "value": "<h2>Utterance <b>8:</b></h2>"
      }
     },
     "3e9f4c04e6624ba49bf9e67e29ab26b6": {
      "model_module": "@jupyter-widgets/controls",
      "model_module_version": "1.5.0",
      "model_name": "FloatSliderModel",
      "state": {
       "continuous_update": false,
       "description": "Test:",
       "layout": "IPY_MODEL_ccef04428e5f4403bf2b110b704cc2af",
       "max": 5,
       "min": 1,
       "readout_format": ".1f",
       "step": 0.1,
       "style": "IPY_MODEL_a9f91f9d882644cabc6d545d6180092c",
       "value": 3
      }
     },
     "3ecdf772ece64fab86790dfbbabb9294": {
      "model_module": "@jupyter-widgets/controls",
      "model_module_version": "1.5.0",
      "model_name": "FloatSliderModel",
      "state": {
       "continuous_update": false,
       "description": "Test:",
       "layout": "IPY_MODEL_f5213e03cc3f4623870a63d9c3342dda",
       "max": 5,
       "min": 1,
       "readout_format": ".1f",
       "step": 0.1,
       "style": "IPY_MODEL_b38fea67384a4054ba4d1b4b1fc67b78",
       "value": 3
      }
     },
     "3ed4498cbf9747ce9430802d89a5732f": {
      "model_module": "@jupyter-widgets/base",
      "model_module_version": "1.2.0",
      "model_name": "LayoutModel",
      "state": {}
     },
     "3efc6d6837c948efaf5a96b17f8a7afd": {
      "model_module": "@jupyter-widgets/base",
      "model_module_version": "1.2.0",
      "model_name": "LayoutModel",
      "state": {}
     },
     "3f1a1f8c4af942679736f15ff813c9d1": {
      "model_module": "@jupyter-widgets/base",
      "model_module_version": "1.2.0",
      "model_name": "LayoutModel",
      "state": {}
     },
     "3f1b1d0764ec4a34a9f6469e1baff733": {
      "model_module": "@jupyter-widgets/controls",
      "model_module_version": "1.5.0",
      "model_name": "HTMLModel",
      "state": {
       "layout": "IPY_MODEL_3d30b2abf6e740e4954cd1b7309ed533",
       "style": "IPY_MODEL_2652f8a92d96458f8796f1c0ac073bbd",
       "value": "<h2>Utterance <b>16:</b></h2>"
      }
     },
     "3f1e73493b374b9eb72fbf8f7ea99ada": {
      "model_module": "@jupyter-widgets/base",
      "model_module_version": "1.2.0",
      "model_name": "LayoutModel",
      "state": {}
     },
     "3f2b952f5fd848a0948af67f512ccf90": {
      "model_module": "@jupyter-widgets/controls",
      "model_module_version": "1.5.0",
      "model_name": "HTMLModel",
      "state": {
       "layout": "IPY_MODEL_1c98b44c51824d84a00a29d64fc76bea",
       "style": "IPY_MODEL_ad3b1900818f492ca4b9fa3ccc448fb6",
       "value": "<h2>Utterance <b>19:</b></h2>"
      }
     },
     "3f5b552719f347c3aec89bd2001633a3": {
      "model_module": "@jupyter-widgets/controls",
      "model_module_version": "1.5.0",
      "model_name": "FloatSliderModel",
      "state": {
       "continuous_update": false,
       "description": "Test:",
       "layout": "IPY_MODEL_733a7fe97b7a4f6083e2ec125d435382",
       "max": 5,
       "min": 1,
       "readout_format": ".1f",
       "step": 0.1,
       "style": "IPY_MODEL_27552e2e644d43dea21f376589d5f25e",
       "value": 3
      }
     },
     "3f68db678c9a40c7bf4681deed10b8ed": {
      "model_module": "@jupyter-widgets/controls",
      "model_module_version": "1.5.0",
      "model_name": "DescriptionStyleModel",
      "state": {
       "description_width": ""
      }
     },
     "3f8ee82697754470852055c8126a11eb": {
      "model_module": "@jupyter-widgets/controls",
      "model_module_version": "1.5.0",
      "model_name": "DescriptionStyleModel",
      "state": {
       "description_width": ""
      }
     },
     "3f9db765bda0444d876b916e4230a9bd": {
      "model_module": "@jupyter-widgets/controls",
      "model_module_version": "1.5.0",
      "model_name": "SliderStyleModel",
      "state": {
       "description_width": ""
      }
     },
     "3fd77f5eb0634e4882edb960416480c5": {
      "model_module": "@jupyter-widgets/controls",
      "model_module_version": "1.5.0",
      "model_name": "FloatSliderModel",
      "state": {
       "continuous_update": false,
       "description": "Test:",
       "layout": "IPY_MODEL_f64ed0b2abb8471f82183908068e4beb",
       "max": 5,
       "min": 1,
       "readout_format": ".1f",
       "step": 0.1,
       "style": "IPY_MODEL_bab202b57c2643e7b63d38b0596585ad",
       "value": 3
      }
     },
     "3fdd4684ffd04711aa1882ebbc037985": {
      "model_module": "@jupyter-widgets/controls",
      "model_module_version": "1.5.0",
      "model_name": "DescriptionStyleModel",
      "state": {
       "description_width": ""
      }
     },
     "3fe21864675f4320ba215a9a88ca34ae": {
      "model_module": "@jupyter-widgets/controls",
      "model_module_version": "1.5.0",
      "model_name": "DescriptionStyleModel",
      "state": {
       "description_width": ""
      }
     },
     "3ff460240d374ad1a35bb42603bfaa73": {
      "model_module": "@jupyter-widgets/controls",
      "model_module_version": "1.5.0",
      "model_name": "SliderStyleModel",
      "state": {
       "description_width": ""
      }
     },
     "3ff994d755c04b6babccd9159dc49743": {
      "model_module": "@jupyter-widgets/controls",
      "model_module_version": "1.5.0",
      "model_name": "HTMLModel",
      "state": {
       "layout": "IPY_MODEL_c532547ffc144764afc2f5c3e0f5b234",
       "style": "IPY_MODEL_b1f1b6764c0d416eabcdca75baf1aa64",
       "value": "<h2>Utterance <b>14:</b></h2>"
      }
     },
     "3ffab93b5a1d41e08a95c22504f56e6d": {
      "model_module": "@jupyter-widgets/controls",
      "model_module_version": "1.5.0",
      "model_name": "HTMLModel",
      "state": {
       "layout": "IPY_MODEL_76dde681ad6d4613b011db8b7b9d15f7",
       "style": "IPY_MODEL_ec2f984d23fa4176bb5e194582d6408a",
       "value": "<h2>Utterance <b>22:</b></h2>"
      }
     },
     "403d78263a514cdfbce4cf41c254647a": {
      "model_module": "@jupyter-widgets/base",
      "model_module_version": "1.2.0",
      "model_name": "LayoutModel",
      "state": {}
     },
     "404f066fb44b4ed2bf0f1de86f6f1df7": {
      "model_module": "@jupyter-widgets/base",
      "model_module_version": "1.2.0",
      "model_name": "LayoutModel",
      "state": {}
     },
     "406d203c66d3405588a269d98ce8d939": {
      "model_module": "@jupyter-widgets/controls",
      "model_module_version": "1.5.0",
      "model_name": "HTMLModel",
      "state": {
       "layout": "IPY_MODEL_fd21a474bac04bfbb65403de5539d23f",
       "style": "IPY_MODEL_69b84f2a3da54d94be9e07e4ee6a1b46",
       "value": "<h2>Utterance <b>5:</b></h2>"
      }
     },
     "40a7ea71cb8a4e9cad6cc594c70c7138": {
      "model_module": "@jupyter-widgets/base",
      "model_module_version": "1.2.0",
      "model_name": "LayoutModel",
      "state": {}
     },
     "40d5af914260416c86ac62590c64517d": {
      "model_module": "@jupyter-widgets/base",
      "model_module_version": "1.2.0",
      "model_name": "LayoutModel",
      "state": {}
     },
     "41037262c89544bc8b27b93b246beb82": {
      "model_module": "@jupyter-widgets/controls",
      "model_module_version": "1.5.0",
      "model_name": "FloatSliderModel",
      "state": {
       "continuous_update": false,
       "description": "Test:",
       "layout": "IPY_MODEL_e552d8d538894e7491f04e24cbf69159",
       "max": 5,
       "min": 1,
       "readout_format": ".1f",
       "step": 0.1,
       "style": "IPY_MODEL_1a822aa07ce846738e8679addbbe0231",
       "value": 3
      }
     },
     "4164b00371864c0cbfe35398b5a00912": {
      "model_module": "@jupyter-widgets/controls",
      "model_module_version": "1.5.0",
      "model_name": "HTMLModel",
      "state": {
       "layout": "IPY_MODEL_827f3d5479f046a8a5529d1528e2edfd",
       "style": "IPY_MODEL_64afd368000042a19b29613b11092818",
       "value": "<h2>Utterance <b>2:</b></h2>"
      }
     },
     "419d4a90e7894889b962ee1f2efdedd1": {
      "model_module": "@jupyter-widgets/controls",
      "model_module_version": "1.5.0",
      "model_name": "SliderStyleModel",
      "state": {
       "description_width": ""
      }
     },
     "41a25d27015d4f1ba2cd6d5e4a44b2ce": {
      "model_module": "@jupyter-widgets/controls",
      "model_module_version": "1.5.0",
      "model_name": "HTMLModel",
      "state": {
       "layout": "IPY_MODEL_196256368e74413f81809282b7cb6185",
       "style": "IPY_MODEL_fb2ad70d8cd646518275c171e886d1b6",
       "value": "<h2>Utterance <b>14:</b></h2>"
      }
     },
     "41bb09eedf1642c6ac0a2b8362141140": {
      "model_module": "@jupyter-widgets/controls",
      "model_module_version": "1.5.0",
      "model_name": "FloatSliderModel",
      "state": {
       "continuous_update": false,
       "description": "Test:",
       "layout": "IPY_MODEL_dba5ab3c62f44a61bbaffada9aebce74",
       "max": 5,
       "min": 1,
       "readout_format": ".1f",
       "step": 0.1,
       "style": "IPY_MODEL_87f8db8bfef44c1cb62eed26e7de8db5",
       "value": 3
      }
     },
     "41e479b1b12c4a1681bb8b1f25dafe98": {
      "model_module": "@jupyter-widgets/controls",
      "model_module_version": "1.5.0",
      "model_name": "FloatSliderModel",
      "state": {
       "continuous_update": false,
       "description": "Test:",
       "layout": "IPY_MODEL_0c897346252d4516b77436f40c521e55",
       "max": 5,
       "min": 1,
       "readout_format": ".1f",
       "step": 0.1,
       "style": "IPY_MODEL_3acc188a0b2a4bf8a1e2172b7a24d722",
       "value": 3
      }
     },
     "41e6ed46757b4595b5c0385d0e0a8f97": {
      "model_module": "@jupyter-widgets/controls",
      "model_module_version": "1.5.0",
      "model_name": "SliderStyleModel",
      "state": {
       "description_width": ""
      }
     },
     "41f81cd822324f9cb45e7aba36402c5a": {
      "model_module": "@jupyter-widgets/base",
      "model_module_version": "1.2.0",
      "model_name": "LayoutModel",
      "state": {}
     },
     "4251d7d434564e779585183afaccd02b": {
      "model_module": "@jupyter-widgets/controls",
      "model_module_version": "1.5.0",
      "model_name": "SliderStyleModel",
      "state": {
       "description_width": ""
      }
     },
     "4258aa2590a1405a9b6af6c79ccebcdc": {
      "model_module": "@jupyter-widgets/controls",
      "model_module_version": "1.5.0",
      "model_name": "DescriptionStyleModel",
      "state": {
       "description_width": ""
      }
     },
     "426c83c42d6a4a65a92a361c23cd5fc6": {
      "model_module": "@jupyter-widgets/controls",
      "model_module_version": "1.5.0",
      "model_name": "FloatSliderModel",
      "state": {
       "continuous_update": false,
       "description": "Test:",
       "layout": "IPY_MODEL_485d090995ec43e4bee1afc72386a1b4",
       "max": 5,
       "min": 1,
       "readout_format": ".1f",
       "step": 0.1,
       "style": "IPY_MODEL_eed5ce0fbe744ca5bfa2f4ec21b1bce8",
       "value": 3
      }
     },
     "426eccc3a59e4119ae0cae53fc5db9a1": {
      "model_module": "@jupyter-widgets/base",
      "model_module_version": "1.2.0",
      "model_name": "LayoutModel",
      "state": {}
     },
     "427e012618124d7e88d5e4179891c6dd": {
      "model_module": "@jupyter-widgets/controls",
      "model_module_version": "1.5.0",
      "model_name": "DescriptionStyleModel",
      "state": {
       "description_width": ""
      }
     },
     "429130cb40b449ae84f0e4e15653518e": {
      "model_module": "@jupyter-widgets/controls",
      "model_module_version": "1.5.0",
      "model_name": "FloatSliderModel",
      "state": {
       "continuous_update": false,
       "description": "Test:",
       "layout": "IPY_MODEL_df76c14d61744dd5a7320de49850925f",
       "max": 5,
       "min": 1,
       "readout_format": ".1f",
       "step": 0.1,
       "style": "IPY_MODEL_dbf40001f3af41d280f85e92f47ec00c",
       "value": 3
      }
     },
     "42d021cd725d4951ab349786575c2aa6": {
      "model_module": "@jupyter-widgets/controls",
      "model_module_version": "1.5.0",
      "model_name": "HTMLModel",
      "state": {
       "layout": "IPY_MODEL_e4c8be3af7784457871141a726c3540f",
       "style": "IPY_MODEL_09667a79dfd5426788b8b160db8938c0",
       "value": "<h2>Utterance <b>13:</b></h2>"
      }
     },
     "42d8aaaffc0a4184b013c53e82e54962": {
      "model_module": "@jupyter-widgets/base",
      "model_module_version": "1.2.0",
      "model_name": "LayoutModel",
      "state": {}
     },
     "42f73ea54b97439d98ce81691f769d02": {
      "model_module": "@jupyter-widgets/controls",
      "model_module_version": "1.5.0",
      "model_name": "DescriptionStyleModel",
      "state": {
       "description_width": ""
      }
     },
     "42f8e5321c8e4ea6844ec39a6110dee5": {
      "model_module": "@jupyter-widgets/controls",
      "model_module_version": "1.5.0",
      "model_name": "DescriptionStyleModel",
      "state": {
       "description_width": ""
      }
     },
     "433e65df10834bc9bcc12aba3c21328d": {
      "model_module": "@jupyter-widgets/controls",
      "model_module_version": "1.5.0",
      "model_name": "SliderStyleModel",
      "state": {
       "description_width": ""
      }
     },
     "438359a3ee6549d1ad9d7fa20dfcabd6": {
      "model_module": "@jupyter-widgets/controls",
      "model_module_version": "1.5.0",
      "model_name": "SliderStyleModel",
      "state": {
       "description_width": ""
      }
     },
     "4395fd8724f94e38810ccfcfcafc316e": {
      "model_module": "@jupyter-widgets/controls",
      "model_module_version": "1.5.0",
      "model_name": "SliderStyleModel",
      "state": {
       "description_width": ""
      }
     },
     "43ad97f20636462ca00170b6870b3e6f": {
      "model_module": "@jupyter-widgets/controls",
      "model_module_version": "1.5.0",
      "model_name": "FloatSliderModel",
      "state": {
       "continuous_update": false,
       "description": "Test:",
       "layout": "IPY_MODEL_37357f738a874d43a68c35c7ff1cc4bc",
       "max": 5,
       "min": 1,
       "readout_format": ".1f",
       "step": 0.1,
       "style": "IPY_MODEL_bc0c8ede39a548c9a2a760a42f50d50f",
       "value": 3
      }
     },
     "43cbad6b3c544c6ca8cebed2d93d926f": {
      "model_module": "@jupyter-widgets/base",
      "model_module_version": "1.2.0",
      "model_name": "LayoutModel",
      "state": {}
     },
     "43e489881ec44782810dc3d911cc07f9": {
      "model_module": "@jupyter-widgets/controls",
      "model_module_version": "1.5.0",
      "model_name": "HTMLModel",
      "state": {
       "layout": "IPY_MODEL_6a10a087db804518831bf38bfa410968",
       "style": "IPY_MODEL_bf5f90f6babd4293a31cc202ba6279a6",
       "value": "<h2>Utterance <b>3:</b></h2>"
      }
     },
     "43e65d895b8d40a9a69e9c03642897ef": {
      "model_module": "@jupyter-widgets/controls",
      "model_module_version": "1.5.0",
      "model_name": "HTMLModel",
      "state": {
       "layout": "IPY_MODEL_702e86621d4b4bcfbfa2ad75e943bbea",
       "style": "IPY_MODEL_4cb7335080764c6baf95e331c425b161",
       "value": "<h2>Utterance <b>2:</b></h2>"
      }
     },
     "441974d5a86548bb8f508f35155c807f": {
      "model_module": "@jupyter-widgets/controls",
      "model_module_version": "1.5.0",
      "model_name": "SliderStyleModel",
      "state": {
       "description_width": ""
      }
     },
     "444b1f31ccd140da9bed75b535b9a5f6": {
      "model_module": "@jupyter-widgets/base",
      "model_module_version": "1.2.0",
      "model_name": "LayoutModel",
      "state": {}
     },
     "44652d57f8f04b9fb5b077068852d1be": {
      "model_module": "@jupyter-widgets/controls",
      "model_module_version": "1.5.0",
      "model_name": "FloatSliderModel",
      "state": {
       "continuous_update": false,
       "description": "Test:",
       "layout": "IPY_MODEL_4a62163dcc614d1caad54008bdbc9ee7",
       "max": 5,
       "min": 1,
       "readout_format": ".1f",
       "step": 0.1,
       "style": "IPY_MODEL_80e4473ed83c46b39927be9676f8d1d1",
       "value": 3
      }
     },
     "4473c8148bff4d3cb910424506d2a661": {
      "model_module": "@jupyter-widgets/controls",
      "model_module_version": "1.5.0",
      "model_name": "DescriptionStyleModel",
      "state": {
       "description_width": ""
      }
     },
     "4484417d667041f1a31fa51e6121e816": {
      "model_module": "@jupyter-widgets/controls",
      "model_module_version": "1.5.0",
      "model_name": "HTMLModel",
      "state": {
       "layout": "IPY_MODEL_24e2f43494c542658185e7c68b4adf79",
       "style": "IPY_MODEL_b56e1be330a84383b90048fae6b51a66",
       "value": "<h2>Utterance <b>3:</b></h2>"
      }
     },
     "448478ee5e5941cc874fc481d85fcce5": {
      "model_module": "@jupyter-widgets/controls",
      "model_module_version": "1.5.0",
      "model_name": "DescriptionStyleModel",
      "state": {
       "description_width": ""
      }
     },
     "44a5483761c9489fa587d353fdf650c3": {
      "model_module": "@jupyter-widgets/controls",
      "model_module_version": "1.5.0",
      "model_name": "SliderStyleModel",
      "state": {
       "description_width": ""
      }
     },
     "44cd3a505de746e1ac653efbef6f0524": {
      "model_module": "@jupyter-widgets/controls",
      "model_module_version": "1.5.0",
      "model_name": "FloatSliderModel",
      "state": {
       "continuous_update": false,
       "description": "Test:",
       "layout": "IPY_MODEL_7b7918a6863d4ad79d038a50605f809d",
       "max": 5,
       "min": 1,
       "readout_format": ".1f",
       "step": 0.1,
       "style": "IPY_MODEL_97bd07b7e3a248fbb90c867176d8772a",
       "value": 3
      }
     },
     "44d14939fcc7411c89770babf09ec5e2": {
      "model_module": "@jupyter-widgets/controls",
      "model_module_version": "1.5.0",
      "model_name": "SliderStyleModel",
      "state": {
       "description_width": ""
      }
     },
     "44de986def18423fbbc0c70a6040a55b": {
      "model_module": "@jupyter-widgets/controls",
      "model_module_version": "1.5.0",
      "model_name": "DescriptionStyleModel",
      "state": {
       "description_width": ""
      }
     },
     "44f0aa95cd93468da61f8b9b32537849": {
      "model_module": "@jupyter-widgets/controls",
      "model_module_version": "1.5.0",
      "model_name": "FloatSliderModel",
      "state": {
       "continuous_update": false,
       "description": "Test:",
       "layout": "IPY_MODEL_b21e1d2c1ced4b279e05f3cd90767d54",
       "max": 5,
       "min": 1,
       "readout_format": ".1f",
       "step": 0.1,
       "style": "IPY_MODEL_87f3f9eed50e4a65ae8fe6f5f38753cf",
       "value": 3
      }
     },
     "4533da066b854092912884cfb65be479": {
      "model_module": "@jupyter-widgets/controls",
      "model_module_version": "1.5.0",
      "model_name": "FloatSliderModel",
      "state": {
       "continuous_update": false,
       "description": "Test:",
       "layout": "IPY_MODEL_96c82c676a4d489e8bc4899ee4565297",
       "max": 5,
       "min": 1,
       "readout_format": ".1f",
       "step": 0.1,
       "style": "IPY_MODEL_5f482497aeb94581b125d106d5e251ab",
       "value": 3
      }
     },
     "4539f75e77e0430580d05991734c43d1": {
      "model_module": "@jupyter-widgets/controls",
      "model_module_version": "1.5.0",
      "model_name": "FloatSliderModel",
      "state": {
       "continuous_update": false,
       "description": "Test:",
       "layout": "IPY_MODEL_6452b4b59dab4f45b82fee3d62be5b77",
       "max": 5,
       "min": 1,
       "readout_format": ".1f",
       "step": 0.1,
       "style": "IPY_MODEL_9ebfbcb0113e4820aec2c4041517b0cd",
       "value": 3
      }
     },
     "45576afdd39a4bde81e381d8b5ff6852": {
      "model_module": "@jupyter-widgets/controls",
      "model_module_version": "1.5.0",
      "model_name": "ButtonModel",
      "state": {
       "description": "Done",
       "layout": "IPY_MODEL_32c0d6a7715c41069594ad899946aef8",
       "style": "IPY_MODEL_bb8771809fcf432db23de8b221a4bc5a"
      }
     },
     "4559bce258264fe3828c21c0d7345344": {
      "model_module": "@jupyter-widgets/controls",
      "model_module_version": "1.5.0",
      "model_name": "DescriptionStyleModel",
      "state": {
       "description_width": ""
      }
     },
     "4561cc1318dc455caeb7bc865159119a": {
      "model_module": "@jupyter-widgets/base",
      "model_module_version": "1.2.0",
      "model_name": "LayoutModel",
      "state": {}
     },
     "45a108e22d8a4fd9b683913448d04782": {
      "model_module": "@jupyter-widgets/base",
      "model_module_version": "1.2.0",
      "model_name": "LayoutModel",
      "state": {}
     },
     "45fdca2e11154727a565c78024ca2f1c": {
      "model_module": "@jupyter-widgets/controls",
      "model_module_version": "1.5.0",
      "model_name": "SliderStyleModel",
      "state": {
       "description_width": ""
      }
     },
     "46006313af4f472aa28e12675c9218c4": {
      "model_module": "@jupyter-widgets/controls",
      "model_module_version": "1.5.0",
      "model_name": "DescriptionStyleModel",
      "state": {
       "description_width": ""
      }
     },
     "463c117e163148cd85460005a9789ec7": {
      "model_module": "@jupyter-widgets/controls",
      "model_module_version": "1.5.0",
      "model_name": "FloatSliderModel",
      "state": {
       "continuous_update": false,
       "description": "Test:",
       "layout": "IPY_MODEL_560b3ce9d2ca4529a5da750db8f1480d",
       "max": 5,
       "min": 1,
       "readout_format": ".1f",
       "step": 0.1,
       "style": "IPY_MODEL_45fdca2e11154727a565c78024ca2f1c",
       "value": 3
      }
     },
     "4646d951bb0d4d47b29c5fd9aec5cf4a": {
      "model_module": "@jupyter-widgets/controls",
      "model_module_version": "1.5.0",
      "model_name": "DescriptionStyleModel",
      "state": {
       "description_width": ""
      }
     },
     "4669003f17fb4e49be441071a7a4d5ff": {
      "model_module": "@jupyter-widgets/controls",
      "model_module_version": "1.5.0",
      "model_name": "DescriptionStyleModel",
      "state": {
       "description_width": ""
      }
     },
     "467a873f5c094f84b103424a94550548": {
      "model_module": "@jupyter-widgets/controls",
      "model_module_version": "1.5.0",
      "model_name": "SliderStyleModel",
      "state": {
       "description_width": ""
      }
     },
     "467c012cb8984424b25dd44d07367817": {
      "model_module": "@jupyter-widgets/controls",
      "model_module_version": "1.5.0",
      "model_name": "SliderStyleModel",
      "state": {
       "description_width": ""
      }
     },
     "467ef21b5b324e79bece0d5253f0c6fb": {
      "model_module": "@jupyter-widgets/controls",
      "model_module_version": "1.5.0",
      "model_name": "DescriptionStyleModel",
      "state": {
       "description_width": ""
      }
     },
     "46c858d99c164abd8f05ffad1db1d856": {
      "model_module": "@jupyter-widgets/base",
      "model_module_version": "1.2.0",
      "model_name": "LayoutModel",
      "state": {}
     },
     "4716c1b4ce7c47cf8e531838414e9055": {
      "model_module": "@jupyter-widgets/controls",
      "model_module_version": "1.5.0",
      "model_name": "TextModel",
      "state": {
       "description": "What is your name",
       "layout": "IPY_MODEL_39395919c3654df9bd69ff435c2775d4",
       "placeholder": "Type something",
       "style": "IPY_MODEL_7f3d390023ef449481b90e2fd36bf93e"
      }
     },
     "4724c3638f014be091eeee629bc7ef46": {
      "model_module": "@jupyter-widgets/controls",
      "model_module_version": "1.5.0",
      "model_name": "SliderStyleModel",
      "state": {
       "description_width": ""
      }
     },
     "472fb83ad5744cc0afef649d397c162b": {
      "model_module": "@jupyter-widgets/base",
      "model_module_version": "1.2.0",
      "model_name": "LayoutModel",
      "state": {}
     },
     "4742564855fc4dc5a0553d8503a94960": {
      "model_module": "@jupyter-widgets/controls",
      "model_module_version": "1.5.0",
      "model_name": "SliderStyleModel",
      "state": {
       "description_width": ""
      }
     },
     "475cb0e1c78b4d6983df5bad6370ff43": {
      "model_module": "@jupyter-widgets/controls",
      "model_module_version": "1.5.0",
      "model_name": "FloatSliderModel",
      "state": {
       "continuous_update": false,
       "description": "Test:",
       "layout": "IPY_MODEL_a87f69c671de4daea77e7dc12d1267f9",
       "max": 5,
       "min": 1,
       "readout_format": ".1f",
       "step": 0.1,
       "style": "IPY_MODEL_6b19bbc48d0b44c58ff14bdd1ceab759",
       "value": 3
      }
     },
     "475e4ede50de48bc990329bd2e18c638": {
      "model_module": "@jupyter-widgets/base",
      "model_module_version": "1.2.0",
      "model_name": "LayoutModel",
      "state": {}
     },
     "47b4176dfd064f01a91743d7adec0aeb": {
      "model_module": "@jupyter-widgets/base",
      "model_module_version": "1.2.0",
      "model_name": "LayoutModel",
      "state": {}
     },
     "47d82abb447f4ca0910c958a5eeb9cc4": {
      "model_module": "@jupyter-widgets/controls",
      "model_module_version": "1.5.0",
      "model_name": "DescriptionStyleModel",
      "state": {
       "description_width": ""
      }
     },
     "47ecf2c27a434e978e49a9896a99653d": {
      "model_module": "@jupyter-widgets/controls",
      "model_module_version": "1.5.0",
      "model_name": "SliderStyleModel",
      "state": {
       "description_width": ""
      }
     },
     "47f3dc8db42a4e11baf22dc92ff19610": {
      "model_module": "@jupyter-widgets/controls",
      "model_module_version": "1.5.0",
      "model_name": "SliderStyleModel",
      "state": {
       "description_width": ""
      }
     },
     "4803dfb4bb25455fa5144c043e3031a8": {
      "model_module": "@jupyter-widgets/base",
      "model_module_version": "1.2.0",
      "model_name": "LayoutModel",
      "state": {}
     },
     "481b415ee10c405499a12ea5da76bc7d": {
      "model_module": "@jupyter-widgets/controls",
      "model_module_version": "1.5.0",
      "model_name": "SliderStyleModel",
      "state": {
       "description_width": ""
      }
     },
     "485d090995ec43e4bee1afc72386a1b4": {
      "model_module": "@jupyter-widgets/base",
      "model_module_version": "1.2.0",
      "model_name": "LayoutModel",
      "state": {}
     },
     "4876482f363a422f97c34515a8508ebe": {
      "model_module": "@jupyter-widgets/base",
      "model_module_version": "1.2.0",
      "model_name": "LayoutModel",
      "state": {}
     },
     "488395e68e504bd5aa1a906ee9c55697": {
      "model_module": "@jupyter-widgets/controls",
      "model_module_version": "1.5.0",
      "model_name": "DescriptionStyleModel",
      "state": {
       "description_width": ""
      }
     },
     "48ab750eabe341829faf1c321a7e6b5e": {
      "model_module": "@jupyter-widgets/controls",
      "model_module_version": "1.5.0",
      "model_name": "FloatSliderModel",
      "state": {
       "continuous_update": false,
       "description": "Test:",
       "layout": "IPY_MODEL_7b0597a8d6bf4d07860345ba7ef2189d",
       "max": 5,
       "min": 1,
       "readout_format": ".1f",
       "step": 0.1,
       "style": "IPY_MODEL_5933d3c2f2564d39ab72eaa81bd3262a",
       "value": 3
      }
     },
     "48c14e169ca34abd84ddf715d8ea24a8": {
      "model_module": "@jupyter-widgets/controls",
      "model_module_version": "1.5.0",
      "model_name": "DescriptionStyleModel",
      "state": {
       "description_width": ""
      }
     },
     "48c9fa7f4beb44658b2e6c38485072f4": {
      "model_module": "@jupyter-widgets/controls",
      "model_module_version": "1.5.0",
      "model_name": "DescriptionStyleModel",
      "state": {
       "description_width": ""
      }
     },
     "48da436bdbd144909a12417578b11034": {
      "model_module": "@jupyter-widgets/controls",
      "model_module_version": "1.5.0",
      "model_name": "SliderStyleModel",
      "state": {
       "description_width": ""
      }
     },
     "48e27bc39592490a8942ba85dc90925a": {
      "model_module": "@jupyter-widgets/controls",
      "model_module_version": "1.5.0",
      "model_name": "SliderStyleModel",
      "state": {
       "description_width": ""
      }
     },
     "49161ceefd86445281713729c403eaec": {
      "model_module": "@jupyter-widgets/controls",
      "model_module_version": "1.5.0",
      "model_name": "SliderStyleModel",
      "state": {
       "description_width": ""
      }
     },
     "4933106c6b75481dbf10d9574d96d62a": {
      "model_module": "@jupyter-widgets/controls",
      "model_module_version": "1.5.0",
      "model_name": "SliderStyleModel",
      "state": {
       "description_width": ""
      }
     },
     "49440aae6010438589d6dcf76c48b53c": {
      "model_module": "@jupyter-widgets/controls",
      "model_module_version": "1.5.0",
      "model_name": "HTMLModel",
      "state": {
       "layout": "IPY_MODEL_a89a2befcac044668ac612efc480e683",
       "style": "IPY_MODEL_ed9ac94005f649b1abe27a96756bb2c8",
       "value": "<h2>Utterance <b>25:</b></h2>"
      }
     },
     "49b78d720d0f4be4a0be10e7cbb231a7": {
      "model_module": "@jupyter-widgets/base",
      "model_module_version": "1.2.0",
      "model_name": "LayoutModel",
      "state": {}
     },
     "49be8056090041609c176ec0600c84b3": {
      "model_module": "@jupyter-widgets/base",
      "model_module_version": "1.2.0",
      "model_name": "LayoutModel",
      "state": {}
     },
     "49cdc6bdf3df4f87a45b76e37a907cd0": {
      "model_module": "@jupyter-widgets/controls",
      "model_module_version": "1.5.0",
      "model_name": "FloatSliderModel",
      "state": {
       "continuous_update": false,
       "description": "Test:",
       "layout": "IPY_MODEL_dde7aef6256343beac2f4534c6af6cd8",
       "max": 5,
       "min": 1,
       "readout_format": ".1f",
       "step": 0.1,
       "style": "IPY_MODEL_87baed6697734370a84060c1722638fe",
       "value": 3
      }
     },
     "4a0a2bdbdd2146c4b9be76f91b097538": {
      "model_module": "@jupyter-widgets/controls",
      "model_module_version": "1.5.0",
      "model_name": "DescriptionStyleModel",
      "state": {
       "description_width": ""
      }
     },
     "4a4c7efc513347cb89244acc169b5a35": {
      "model_module": "@jupyter-widgets/base",
      "model_module_version": "1.2.0",
      "model_name": "LayoutModel",
      "state": {}
     },
     "4a62163dcc614d1caad54008bdbc9ee7": {
      "model_module": "@jupyter-widgets/base",
      "model_module_version": "1.2.0",
      "model_name": "LayoutModel",
      "state": {}
     },
     "4a842e1421fb491484116748423ed85b": {
      "model_module": "@jupyter-widgets/controls",
      "model_module_version": "1.5.0",
      "model_name": "FloatSliderModel",
      "state": {
       "continuous_update": false,
       "description": "Test:",
       "layout": "IPY_MODEL_88f8ead56d21461583422010727c63a3",
       "max": 5,
       "min": 1,
       "readout_format": ".1f",
       "step": 0.1,
       "style": "IPY_MODEL_853546dc4a35444aa179c60d08cef2bf",
       "value": 3
      }
     },
     "4a89c5d00750421eaf002c5977b62942": {
      "model_module": "@jupyter-widgets/controls",
      "model_module_version": "1.5.0",
      "model_name": "FloatSliderModel",
      "state": {
       "continuous_update": false,
       "description": "Test:",
       "layout": "IPY_MODEL_77c1100004c54d6d81905ef2137be819",
       "max": 5,
       "min": 1,
       "readout_format": ".1f",
       "step": 0.1,
       "style": "IPY_MODEL_0f1088fa3769414b8bd239d8bb3faad9",
       "value": 3
      }
     },
     "4a9caef85c11438ba150c972cc608f33": {
      "model_module": "@jupyter-widgets/controls",
      "model_module_version": "1.5.0",
      "model_name": "HTMLModel",
      "state": {
       "layout": "IPY_MODEL_06ea552dbbf4483ab9d1a1eaead48032",
       "style": "IPY_MODEL_38b053daa1ce47a99def686945f75ddb",
       "value": "<h2>Utterance <b>4:</b></h2>"
      }
     },
     "4ac5291a371944be83cd9bb32fc17266": {
      "model_module": "@jupyter-widgets/controls",
      "model_module_version": "1.5.0",
      "model_name": "DescriptionStyleModel",
      "state": {
       "description_width": ""
      }
     },
     "4ad88a87dcb941df869ef745e1ce943c": {
      "model_module": "@jupyter-widgets/controls",
      "model_module_version": "1.5.0",
      "model_name": "HTMLModel",
      "state": {
       "layout": "IPY_MODEL_56b0befbb6b64879b690700d2b9a6d6f",
       "style": "IPY_MODEL_fc2e5a328e82490ea98a4fe19fd087a0",
       "value": "<h2>Utterance <b>8:</b></h2>"
      }
     },
     "4aff2d0e649e4677872d9ce1d8806df6": {
      "model_module": "@jupyter-widgets/base",
      "model_module_version": "1.2.0",
      "model_name": "LayoutModel",
      "state": {}
     },
     "4b11fa7444c346969cbf733a113186db": {
      "model_module": "@jupyter-widgets/controls",
      "model_module_version": "1.5.0",
      "model_name": "DescriptionStyleModel",
      "state": {
       "description_width": ""
      }
     },
     "4b46278762ac49a2a16649b533d588c3": {
      "model_module": "@jupyter-widgets/controls",
      "model_module_version": "1.5.0",
      "model_name": "HTMLModel",
      "state": {
       "layout": "IPY_MODEL_2187ff5c70c54f3e99ac20d222ca6378",
       "style": "IPY_MODEL_ba0a0236b07d4001a97c0eac51c623d3",
       "value": "<h2>Utterance <b>16:</b></h2>"
      }
     },
     "4b4b194dda234f40ae9ed2e58eeed32d": {
      "model_module": "@jupyter-widgets/controls",
      "model_module_version": "1.5.0",
      "model_name": "DescriptionStyleModel",
      "state": {
       "description_width": ""
      }
     },
     "4b5d5556500c4fbeb37324ac9c3e46bd": {
      "model_module": "@jupyter-widgets/base",
      "model_module_version": "1.2.0",
      "model_name": "LayoutModel",
      "state": {}
     },
     "4b6e379333ac495ba3713c3cbd3ef605": {
      "model_module": "@jupyter-widgets/controls",
      "model_module_version": "1.5.0",
      "model_name": "FloatSliderModel",
      "state": {
       "continuous_update": false,
       "description": "Test:",
       "layout": "IPY_MODEL_26a0ede6519542b9ae33e13d08d561cb",
       "max": 5,
       "min": 1,
       "readout_format": ".1f",
       "step": 0.1,
       "style": "IPY_MODEL_aa05a14593b949a49bfa5d3412b5e6d9",
       "value": 3
      }
     },
     "4b7084f5c93c47979920d983efcc09f7": {
      "model_module": "@jupyter-widgets/controls",
      "model_module_version": "1.5.0",
      "model_name": "HTMLModel",
      "state": {
       "layout": "IPY_MODEL_ce5037de36a44d10900917f0027ed573",
       "style": "IPY_MODEL_f87a6859ad394f2badc302911cef9f42",
       "value": "<h2>Utterance <b>7:</b></h2>"
      }
     },
     "4b81c596e96d4b638a3bfce20a966ee8": {
      "model_module": "@jupyter-widgets/base",
      "model_module_version": "1.2.0",
      "model_name": "LayoutModel",
      "state": {}
     },
     "4b85c254f3264418b1e03c9a2f005b98": {
      "model_module": "@jupyter-widgets/base",
      "model_module_version": "1.2.0",
      "model_name": "LayoutModel",
      "state": {}
     },
     "4b99a7bf87664b96a0f2e02e4c166d3c": {
      "model_module": "@jupyter-widgets/controls",
      "model_module_version": "1.5.0",
      "model_name": "SliderStyleModel",
      "state": {
       "description_width": ""
      }
     },
     "4bb3fbabfbf34d9482ddf970912de8e8": {
      "model_module": "@jupyter-widgets/controls",
      "model_module_version": "1.5.0",
      "model_name": "FloatSliderModel",
      "state": {
       "continuous_update": false,
       "description": "Test:",
       "layout": "IPY_MODEL_875ae09f3df94c30b41b29310cd70e2e",
       "max": 5,
       "min": 1,
       "readout_format": ".1f",
       "step": 0.1,
       "style": "IPY_MODEL_d882d6d82f2d4f108ad6f50741e9dd9c",
       "value": 3
      }
     },
     "4bb433f30bfa48ab8a9c36b37af85998": {
      "model_module": "@jupyter-widgets/controls",
      "model_module_version": "1.5.0",
      "model_name": "DescriptionStyleModel",
      "state": {
       "description_width": ""
      }
     },
     "4c22d5b04d92411aa1613d593551ed33": {
      "model_module": "@jupyter-widgets/controls",
      "model_module_version": "1.5.0",
      "model_name": "SliderStyleModel",
      "state": {
       "description_width": ""
      }
     },
     "4c3d1cac27454371babfd0bd4dace25d": {
      "model_module": "@jupyter-widgets/controls",
      "model_module_version": "1.5.0",
      "model_name": "HTMLModel",
      "state": {
       "layout": "IPY_MODEL_33e202410f7b4fe5945f7c35a752b546",
       "style": "IPY_MODEL_c60cc19b8f844b26ab85c904dd9f3c7d",
       "value": "<h2>Utterance <b>9:</b></h2>"
      }
     },
     "4c7b601b85084e3e8d288c2c5d06c59d": {
      "model_module": "@jupyter-widgets/controls",
      "model_module_version": "1.5.0",
      "model_name": "HTMLModel",
      "state": {
       "layout": "IPY_MODEL_f86b40c3e4e44ddfb758a542f9e466a8",
       "style": "IPY_MODEL_3e6f5d0d34c2431b84581b12ad1dd413",
       "value": "<h2>Utterance <b>22:</b></h2>"
      }
     },
     "4c8a319d6d8144af91a76f418d4d3308": {
      "model_module": "@jupyter-widgets/base",
      "model_module_version": "1.2.0",
      "model_name": "LayoutModel",
      "state": {}
     },
     "4cad88aa8d1b4b31906629e87ac084e4": {
      "model_module": "@jupyter-widgets/controls",
      "model_module_version": "1.5.0",
      "model_name": "DescriptionStyleModel",
      "state": {
       "description_width": ""
      }
     },
     "4cb32b0363054b5490f84f05b44ffb81": {
      "model_module": "@jupyter-widgets/controls",
      "model_module_version": "1.5.0",
      "model_name": "DescriptionStyleModel",
      "state": {
       "description_width": ""
      }
     },
     "4cb7335080764c6baf95e331c425b161": {
      "model_module": "@jupyter-widgets/controls",
      "model_module_version": "1.5.0",
      "model_name": "DescriptionStyleModel",
      "state": {
       "description_width": ""
      }
     },
     "4cbea87371954e4e9f6aae9113af01e8": {
      "model_module": "@jupyter-widgets/controls",
      "model_module_version": "1.5.0",
      "model_name": "DescriptionStyleModel",
      "state": {
       "description_width": ""
      }
     },
     "4cc5ec9354a543eb980943c76348eae8": {
      "model_module": "@jupyter-widgets/base",
      "model_module_version": "1.2.0",
      "model_name": "LayoutModel",
      "state": {}
     },
     "4ce101fc9b3a4bd78e1599a33cad3d2f": {
      "model_module": "@jupyter-widgets/base",
      "model_module_version": "1.2.0",
      "model_name": "LayoutModel",
      "state": {}
     },
     "4d3495302139479aa575ad46c19eca47": {
      "model_module": "@jupyter-widgets/controls",
      "model_module_version": "1.5.0",
      "model_name": "DescriptionStyleModel",
      "state": {
       "description_width": ""
      }
     },
     "4d76f3908d2c4d109d781726b5d08640": {
      "model_module": "@jupyter-widgets/controls",
      "model_module_version": "1.5.0",
      "model_name": "HTMLModel",
      "state": {
       "layout": "IPY_MODEL_46c858d99c164abd8f05ffad1db1d856",
       "style": "IPY_MODEL_a75b763041b84c75901c75231ce930c9",
       "value": "<h2>Utterance <b>7:</b></h2>"
      }
     },
     "4d78b4ade71746198979385a854580a7": {
      "model_module": "@jupyter-widgets/controls",
      "model_module_version": "1.5.0",
      "model_name": "FloatSliderModel",
      "state": {
       "continuous_update": false,
       "description": "Test:",
       "layout": "IPY_MODEL_93050b1ff292451f94f3bf7f9beb2188",
       "max": 5,
       "min": 1,
       "readout_format": ".1f",
       "step": 0.1,
       "style": "IPY_MODEL_beeec41bf5c5472395b42f8a181c0b7a",
       "value": 3
      }
     },
     "4d8a75b39fe642108ac9a6850100644d": {
      "model_module": "@jupyter-widgets/controls",
      "model_module_version": "1.5.0",
      "model_name": "SliderStyleModel",
      "state": {
       "description_width": ""
      }
     },
     "4dd2c6d236b54b5e846f32929acf9145": {
      "model_module": "@jupyter-widgets/controls",
      "model_module_version": "1.5.0",
      "model_name": "HTMLModel",
      "state": {
       "layout": "IPY_MODEL_0908fd0c313747fe861f96cf3015706c",
       "style": "IPY_MODEL_a215887990944612906773d0965fdbed",
       "value": "<h2>Utterance <b>1:</b></h2>"
      }
     },
     "4dd9a76b11314c7b8f95ae1b42afae61": {
      "model_module": "@jupyter-widgets/controls",
      "model_module_version": "1.5.0",
      "model_name": "DescriptionStyleModel",
      "state": {
       "description_width": ""
      }
     },
     "4e00bca63c904550b9de65fdcc7d1d90": {
      "model_module": "@jupyter-widgets/base",
      "model_module_version": "1.2.0",
      "model_name": "LayoutModel",
      "state": {}
     },
     "4e2e91c9982f4ed09fd36eaf2a796c22": {
      "model_module": "@jupyter-widgets/base",
      "model_module_version": "1.2.0",
      "model_name": "LayoutModel",
      "state": {}
     },
     "4e38add41c2148c2a9938ff62a899ba6": {
      "model_module": "@jupyter-widgets/controls",
      "model_module_version": "1.5.0",
      "model_name": "SliderStyleModel",
      "state": {
       "description_width": ""
      }
     },
     "4e45734af8b14ba19fb5ba4813e4c320": {
      "model_module": "@jupyter-widgets/controls",
      "model_module_version": "1.5.0",
      "model_name": "SliderStyleModel",
      "state": {
       "description_width": ""
      }
     },
     "4e832381ba034ecfb38d70d41da7adc9": {
      "model_module": "@jupyter-widgets/base",
      "model_module_version": "1.2.0",
      "model_name": "LayoutModel",
      "state": {}
     },
     "4e885e1876d64abf84f5dcaf840c3d14": {
      "model_module": "@jupyter-widgets/controls",
      "model_module_version": "1.5.0",
      "model_name": "FloatSliderModel",
      "state": {
       "continuous_update": false,
       "description": "Test:",
       "layout": "IPY_MODEL_63cce39c9dab47acbf9dff4f306872d1",
       "max": 5,
       "min": 1,
       "readout_format": ".1f",
       "step": 0.1,
       "style": "IPY_MODEL_d00c32dd028b4f44ab42d62f85c01f5d",
       "value": 3
      }
     },
     "4e943bc8a96c4400a9f921dc3c759dcd": {
      "model_module": "@jupyter-widgets/controls",
      "model_module_version": "1.5.0",
      "model_name": "FloatSliderModel",
      "state": {
       "continuous_update": false,
       "description": "Test:",
       "layout": "IPY_MODEL_403d78263a514cdfbce4cf41c254647a",
       "max": 5,
       "min": 1,
       "readout_format": ".1f",
       "step": 0.1,
       "style": "IPY_MODEL_0012d4e4073d4f6dbc8b6408adb40aed",
       "value": 3
      }
     },
     "4eb162d845654aff9b67d0b506f93400": {
      "model_module": "@jupyter-widgets/base",
      "model_module_version": "1.2.0",
      "model_name": "LayoutModel",
      "state": {}
     },
     "4ebb1fcc28bc4bf0b80a6420bedc2647": {
      "model_module": "@jupyter-widgets/controls",
      "model_module_version": "1.5.0",
      "model_name": "FloatSliderModel",
      "state": {
       "continuous_update": false,
       "description": "Test:",
       "layout": "IPY_MODEL_d96dc251c3794091854924c7a713992d",
       "max": 5,
       "min": 1,
       "readout_format": ".1f",
       "step": 0.1,
       "style": "IPY_MODEL_8b521792776546fb8bb698ca964ffdb8",
       "value": 3
      }
     },
     "4f2ae3850b6b4295b28212c0b6ee2a21": {
      "model_module": "@jupyter-widgets/controls",
      "model_module_version": "1.5.0",
      "model_name": "FloatSliderModel",
      "state": {
       "continuous_update": false,
       "description": "Test:",
       "layout": "IPY_MODEL_314d98e5eb24473da1fdce9c814626ab",
       "max": 5,
       "min": 1,
       "readout_format": ".1f",
       "step": 0.1,
       "style": "IPY_MODEL_685c5e59237d49eb9ff32f961a2bb1fd",
       "value": 3
      }
     },
     "4f3d1addb8ca4eb1b5344ff9c9934adc": {
      "model_module": "@jupyter-widgets/controls",
      "model_module_version": "1.5.0",
      "model_name": "DescriptionStyleModel",
      "state": {
       "description_width": ""
      }
     },
     "4f45a26647cc4d45ae07f0a482525f5f": {
      "model_module": "@jupyter-widgets/base",
      "model_module_version": "1.2.0",
      "model_name": "LayoutModel",
      "state": {}
     },
     "4f45a42b5bf54017a674f7d42aee15f5": {
      "model_module": "@jupyter-widgets/base",
      "model_module_version": "1.2.0",
      "model_name": "LayoutModel",
      "state": {}
     },
     "4f6189a5cf404c3dab70d1e36bb6f91a": {
      "model_module": "@jupyter-widgets/controls",
      "model_module_version": "1.5.0",
      "model_name": "HTMLModel",
      "state": {
       "layout": "IPY_MODEL_b162e9343cf045c89b11d79626171dfc",
       "style": "IPY_MODEL_df894aba688341af884a9e7d6d77cb56",
       "value": "<h2>Utterance <b>10:</b></h2>"
      }
     },
     "4f69febf669f409cb35dc6b089e85277": {
      "model_module": "@jupyter-widgets/controls",
      "model_module_version": "1.5.0",
      "model_name": "DescriptionStyleModel",
      "state": {
       "description_width": ""
      }
     },
     "4f6a4a63214d450a9a77126a1f5b6340": {
      "model_module": "@jupyter-widgets/base",
      "model_module_version": "1.2.0",
      "model_name": "LayoutModel",
      "state": {}
     },
     "4f7d0ed68b754ffca658fe096f2ce030": {
      "model_module": "@jupyter-widgets/base",
      "model_module_version": "1.2.0",
      "model_name": "LayoutModel",
      "state": {}
     },
     "4fa140fe11224df697152be26ab327cd": {
      "model_module": "@jupyter-widgets/base",
      "model_module_version": "1.2.0",
      "model_name": "LayoutModel",
      "state": {}
     },
     "4fc055a071b64e7c86a9a80c4aca9ba7": {
      "model_module": "@jupyter-widgets/base",
      "model_module_version": "1.2.0",
      "model_name": "LayoutModel",
      "state": {}
     },
     "4fc44e5bb9e144efa6e88e228e83e5ec": {
      "model_module": "@jupyter-widgets/controls",
      "model_module_version": "1.5.0",
      "model_name": "FloatSliderModel",
      "state": {
       "continuous_update": false,
       "description": "Test:",
       "layout": "IPY_MODEL_097ab5c215fa41ea907fd3d5d42941d8",
       "max": 5,
       "min": 1,
       "readout_format": ".1f",
       "step": 0.1,
       "style": "IPY_MODEL_5a42e13db26b474880a20b5f58392504",
       "value": 3
      }
     },
     "50002740a0ba4f68a20a0efecd40a836": {
      "model_module": "@jupyter-widgets/controls",
      "model_module_version": "1.5.0",
      "model_name": "DescriptionStyleModel",
      "state": {
       "description_width": ""
      }
     },
     "50034d2a335c4fefb74b69031259455a": {
      "model_module": "@jupyter-widgets/controls",
      "model_module_version": "1.5.0",
      "model_name": "DescriptionStyleModel",
      "state": {
       "description_width": ""
      }
     },
     "50583f2a87404c1ba1af89aa6d4ccedb": {
      "model_module": "@jupyter-widgets/controls",
      "model_module_version": "1.5.0",
      "model_name": "HTMLModel",
      "state": {
       "layout": "IPY_MODEL_3c361341da2c4e8e91e000130e44a8ce",
       "style": "IPY_MODEL_e98b1d942bbf4891aa6737e2e5b26bc3",
       "value": "<h2>Utterance <b>2:</b></h2>"
      }
     },
     "505e90192a1c4ae4a14c6a38af88542f": {
      "model_module": "@jupyter-widgets/controls",
      "model_module_version": "1.5.0",
      "model_name": "HTMLModel",
      "state": {
       "layout": "IPY_MODEL_28d7e40c029044a182fe2306462ca023",
       "style": "IPY_MODEL_145906ca4363479cb375e68926b1b856",
       "value": "<h2>Utterance <b>2:</b></h2>"
      }
     },
     "506ba1d6b43743c4a6703ac808282442": {
      "model_module": "@jupyter-widgets/controls",
      "model_module_version": "1.5.0",
      "model_name": "FloatSliderModel",
      "state": {
       "continuous_update": false,
       "description": "Test:",
       "layout": "IPY_MODEL_915c44a6488d4ba9bf6dfda52742cd78",
       "max": 5,
       "min": 1,
       "readout_format": ".1f",
       "step": 0.1,
       "style": "IPY_MODEL_0c2531e685ed40189152c31ef2a34d8f",
       "value": 3
      }
     },
     "5091e00ad4ea42a28dbeaef822bfccb4": {
      "model_module": "@jupyter-widgets/controls",
      "model_module_version": "1.5.0",
      "model_name": "FloatSliderModel",
      "state": {
       "continuous_update": false,
       "description": "Test:",
       "layout": "IPY_MODEL_a15f21391a8a4f3e9c5bc0906bfbdc41",
       "max": 5,
       "min": 1,
       "readout_format": ".1f",
       "step": 0.1,
       "style": "IPY_MODEL_a1e9dd30771e418a8e88490e610a5c94",
       "value": 3
      }
     },
     "50d88be595924687a74273c31af36f54": {
      "model_module": "@jupyter-widgets/controls",
      "model_module_version": "1.5.0",
      "model_name": "DescriptionStyleModel",
      "state": {
       "description_width": ""
      }
     },
     "50ea565266264ea0af2cfb46821e0806": {
      "model_module": "@jupyter-widgets/controls",
      "model_module_version": "1.5.0",
      "model_name": "FloatSliderModel",
      "state": {
       "continuous_update": false,
       "description": "Test:",
       "layout": "IPY_MODEL_62154e36090146e5ac571b899475bcc2",
       "max": 5,
       "min": 1,
       "readout_format": ".1f",
       "step": 0.1,
       "style": "IPY_MODEL_7053f13d3d3247eeb84943684f7de5bf",
       "value": 3
      }
     },
     "50f664b59d054d0fac2cde9ea7eed082": {
      "model_module": "@jupyter-widgets/base",
      "model_module_version": "1.2.0",
      "model_name": "LayoutModel",
      "state": {}
     },
     "50faebb4a47345bc96b3fadcabc9522c": {
      "model_module": "@jupyter-widgets/controls",
      "model_module_version": "1.5.0",
      "model_name": "FloatSliderModel",
      "state": {
       "continuous_update": false,
       "description": "Test:",
       "layout": "IPY_MODEL_f6813a47cc354150af6c006506839b95",
       "max": 5,
       "min": 1,
       "readout_format": ".1f",
       "step": 0.1,
       "style": "IPY_MODEL_e47c64e6e49b43f3b185b40ecc1ec5c7",
       "value": 1.8
      }
     },
     "514072acdf9148dbae1186f1ef3da5d7": {
      "model_module": "@jupyter-widgets/base",
      "model_module_version": "1.2.0",
      "model_name": "LayoutModel",
      "state": {}
     },
     "51443800075d46339872c0ef12095146": {
      "model_module": "@jupyter-widgets/controls",
      "model_module_version": "1.5.0",
      "model_name": "DescriptionStyleModel",
      "state": {
       "description_width": ""
      }
     },
     "515526665446405aa8da00ac37fca3fa": {
      "model_module": "@jupyter-widgets/base",
      "model_module_version": "1.2.0",
      "model_name": "LayoutModel",
      "state": {}
     },
     "51609da6936d490bbbaacee97c28062a": {
      "model_module": "@jupyter-widgets/controls",
      "model_module_version": "1.5.0",
      "model_name": "SliderStyleModel",
      "state": {
       "description_width": ""
      }
     },
     "517e77501394450a85ad3fb589a318f3": {
      "model_module": "@jupyter-widgets/controls",
      "model_module_version": "1.5.0",
      "model_name": "DescriptionStyleModel",
      "state": {
       "description_width": ""
      }
     },
     "517fd594f6ab4ac78d08c77f91894cd8": {
      "model_module": "@jupyter-widgets/controls",
      "model_module_version": "1.5.0",
      "model_name": "DescriptionStyleModel",
      "state": {
       "description_width": ""
      }
     },
     "519c958389cc445185a8cb59320edf8d": {
      "model_module": "@jupyter-widgets/controls",
      "model_module_version": "1.5.0",
      "model_name": "DescriptionStyleModel",
      "state": {
       "description_width": ""
      }
     },
     "51d4b411d96b4399aee4cb4dc7a472a3": {
      "model_module": "@jupyter-widgets/controls",
      "model_module_version": "1.5.0",
      "model_name": "SliderStyleModel",
      "state": {
       "description_width": ""
      }
     },
     "51e71efad8754c3c8d2eee0212436609": {
      "model_module": "@jupyter-widgets/base",
      "model_module_version": "1.2.0",
      "model_name": "LayoutModel",
      "state": {}
     },
     "51ea32aa86be4bdea2429524dad49ce6": {
      "model_module": "@jupyter-widgets/base",
      "model_module_version": "1.2.0",
      "model_name": "LayoutModel",
      "state": {}
     },
     "520acdc22ea54dce8bcfec111ff4ab61": {
      "model_module": "@jupyter-widgets/base",
      "model_module_version": "1.2.0",
      "model_name": "LayoutModel",
      "state": {}
     },
     "520ba0b59b2243f9b844ecb6e5425189": {
      "model_module": "@jupyter-widgets/base",
      "model_module_version": "1.2.0",
      "model_name": "LayoutModel",
      "state": {}
     },
     "5211859888d54e659a5c50f8d5ec7c59": {
      "model_module": "@jupyter-widgets/controls",
      "model_module_version": "1.5.0",
      "model_name": "FloatSliderModel",
      "state": {
       "continuous_update": false,
       "description": "Test:",
       "layout": "IPY_MODEL_fe75be41be964e10a8186e34e4e70fdf",
       "max": 5,
       "min": 1,
       "readout_format": ".1f",
       "step": 0.1,
       "style": "IPY_MODEL_705448f3f93146fda1d08b76f661a08a",
       "value": 3
      }
     },
     "525ebb4e251346a6b649f60cc3bbf6e9": {
      "model_module": "@jupyter-widgets/base",
      "model_module_version": "1.2.0",
      "model_name": "LayoutModel",
      "state": {}
     },
     "5275684a0486426686cc39b405201476": {
      "model_module": "@jupyter-widgets/controls",
      "model_module_version": "1.5.0",
      "model_name": "FloatSliderModel",
      "state": {
       "continuous_update": false,
       "description": "Test:",
       "layout": "IPY_MODEL_0d4cae2f96bc42f295c8d49a621fe128",
       "max": 5,
       "min": 1,
       "readout_format": ".1f",
       "step": 0.1,
       "style": "IPY_MODEL_47ecf2c27a434e978e49a9896a99653d",
       "value": 3
      }
     },
     "528a1f5edec4463c9207adde29fb99be": {
      "model_module": "@jupyter-widgets/controls",
      "model_module_version": "1.5.0",
      "model_name": "SliderStyleModel",
      "state": {
       "description_width": ""
      }
     },
     "5291ad3b96c5482984a4429313f0a1fb": {
      "model_module": "@jupyter-widgets/controls",
      "model_module_version": "1.5.0",
      "model_name": "DescriptionStyleModel",
      "state": {
       "description_width": ""
      }
     },
     "52adaa3659ae481a8d2da88140a954a0": {
      "model_module": "@jupyter-widgets/controls",
      "model_module_version": "1.5.0",
      "model_name": "SliderStyleModel",
      "state": {
       "description_width": ""
      }
     },
     "52b701ec536942859a6d973d10c98cbe": {
      "model_module": "@jupyter-widgets/controls",
      "model_module_version": "1.5.0",
      "model_name": "FloatSliderModel",
      "state": {
       "continuous_update": false,
       "description": "Test:",
       "layout": "IPY_MODEL_687882b9adfd45249e4194ccb70efdd8",
       "max": 5,
       "min": 1,
       "readout_format": ".1f",
       "step": 0.1,
       "style": "IPY_MODEL_b09c895141c1402d84b067bf87d3750f",
       "value": 3
      }
     },
     "5352cf232ef44a598bb21619ef483be7": {
      "model_module": "@jupyter-widgets/controls",
      "model_module_version": "1.5.0",
      "model_name": "FloatSliderModel",
      "state": {
       "continuous_update": false,
       "description": "Test:",
       "layout": "IPY_MODEL_29b1c0965b6c4a72a7983aefecef34a7",
       "max": 5,
       "min": 1,
       "readout_format": ".1f",
       "step": 0.1,
       "style": "IPY_MODEL_7792d571c8d94bed9eeeae506970a0ec",
       "value": 3
      }
     },
     "5377d59c804f42c09820d77655bbd61d": {
      "model_module": "@jupyter-widgets/controls",
      "model_module_version": "1.5.0",
      "model_name": "DescriptionStyleModel",
      "state": {
       "description_width": ""
      }
     },
     "538e39fbc4b6493ca1b45aaaaccf3cd6": {
      "model_module": "@jupyter-widgets/controls",
      "model_module_version": "1.5.0",
      "model_name": "HTMLModel",
      "state": {
       "layout": "IPY_MODEL_d4c0f1743bc34b858d83061d19e50f5b",
       "style": "IPY_MODEL_997f80cc8b5e441085d8301a6b325e31",
       "value": "<h2>Utterance <b>6:</b></h2>"
      }
     },
     "53a8bcf38de348d89daabec3eaaf6e54": {
      "model_module": "@jupyter-widgets/controls",
      "model_module_version": "1.5.0",
      "model_name": "HTMLModel",
      "state": {
       "layout": "IPY_MODEL_8eeae6fd40324959a938f217dc1e31ef",
       "style": "IPY_MODEL_e10e0f03ed264f04b921ed026bea0d54",
       "value": "<h2>Utterance <b>10:</b></h2>"
      }
     },
     "53b345a2adb749dfac0be1b08f23863a": {
      "model_module": "@jupyter-widgets/controls",
      "model_module_version": "1.5.0",
      "model_name": "SliderStyleModel",
      "state": {
       "description_width": ""
      }
     },
     "53c1e92d0744477cbee3d0307128e787": {
      "model_module": "@jupyter-widgets/controls",
      "model_module_version": "1.5.0",
      "model_name": "SliderStyleModel",
      "state": {
       "description_width": ""
      }
     },
     "53d03849d66342ad8a4a8147ee874185": {
      "model_module": "@jupyter-widgets/controls",
      "model_module_version": "1.5.0",
      "model_name": "HTMLModel",
      "state": {
       "layout": "IPY_MODEL_2529ff06d1d647619e21ffc3acbbda1d",
       "style": "IPY_MODEL_2267a216134d40958e98f66c3a5ff080",
       "value": "<h2>Utterance <b>19:</b></h2>"
      }
     },
     "53e03c4e27ad479fb8033581df5555aa": {
      "model_module": "@jupyter-widgets/base",
      "model_module_version": "1.2.0",
      "model_name": "LayoutModel",
      "state": {}
     },
     "540a30a358364d6990cae796d8f432e0": {
      "model_module": "@jupyter-widgets/controls",
      "model_module_version": "1.5.0",
      "model_name": "DescriptionStyleModel",
      "state": {
       "description_width": ""
      }
     },
     "540b3fa1a7db45229c455e5822a82e2d": {
      "model_module": "@jupyter-widgets/base",
      "model_module_version": "1.2.0",
      "model_name": "LayoutModel",
      "state": {}
     },
     "541031b571914c24a5682baa34ac9c0f": {
      "model_module": "@jupyter-widgets/base",
      "model_module_version": "1.2.0",
      "model_name": "LayoutModel",
      "state": {}
     },
     "541b7e3e2dfb43d08eb30d75bee48726": {
      "model_module": "@jupyter-widgets/controls",
      "model_module_version": "1.5.0",
      "model_name": "FloatSliderModel",
      "state": {
       "continuous_update": false,
       "description": "Test:",
       "layout": "IPY_MODEL_b99c1efb495f40ea8cec8154bee3356c",
       "max": 5,
       "min": 1,
       "readout_format": ".1f",
       "step": 0.1,
       "style": "IPY_MODEL_9538f840b0ee444fa099c3cd247fdb32",
       "value": 3
      }
     },
     "5450b8a24e5e47799c8fb1367f57b1b2": {
      "model_module": "@jupyter-widgets/controls",
      "model_module_version": "1.5.0",
      "model_name": "HTMLModel",
      "state": {
       "layout": "IPY_MODEL_ad1ae1cd832e475fb34287c397459238",
       "style": "IPY_MODEL_9cf84febbf5e4982800b758c6e5d484c",
       "value": "<h2>Utterance <b>14:</b></h2>"
      }
     },
     "546e8cbf3b16465f89c940cfe28c2f66": {
      "model_module": "@jupyter-widgets/controls",
      "model_module_version": "1.5.0",
      "model_name": "HTMLModel",
      "state": {
       "layout": "IPY_MODEL_cd087d2a65d642c5b40e1766a4ede74f",
       "style": "IPY_MODEL_04899f1a0c8f4c4e8a822e78f8a3a5d3",
       "value": "<h1>Voice selection<br></h1><body>Thanks for participating. Please select for each utternace it percieved quality with the folowing scale:<br><ol><li>Bad</li><li>Poor</li><li>Fair</li><li>Good</li><li>Excellent</li></ol><b>Note this test is not checking how much 'Jenny like' is a voice, but rather only how it sounds </b><br>After completing the questionaire press the button and you are done. <br>Good luck and thank you.<br><br><br></body>"
      }
     },
     "5476292b4dbf4d0497f30d078cc11e87": {
      "model_module": "@jupyter-widgets/controls",
      "model_module_version": "1.5.0",
      "model_name": "DescriptionStyleModel",
      "state": {
       "description_width": ""
      }
     },
     "5487f39fb4a0407685656d91654c0125": {
      "model_module": "@jupyter-widgets/controls",
      "model_module_version": "1.5.0",
      "model_name": "DescriptionStyleModel",
      "state": {
       "description_width": ""
      }
     },
     "548efe5659cd4a8cab87e464082939c7": {
      "model_module": "@jupyter-widgets/controls",
      "model_module_version": "1.5.0",
      "model_name": "SliderStyleModel",
      "state": {
       "description_width": ""
      }
     },
     "54e6ab555c1942888c4dbedd41b536d4": {
      "model_module": "@jupyter-widgets/controls",
      "model_module_version": "1.5.0",
      "model_name": "DescriptionStyleModel",
      "state": {
       "description_width": ""
      }
     },
     "54f58769b3d542cebe780ab452a58e09": {
      "model_module": "@jupyter-widgets/base",
      "model_module_version": "1.2.0",
      "model_name": "LayoutModel",
      "state": {}
     },
     "5506778616064a6c825fbfac0acdaec5": {
      "model_module": "@jupyter-widgets/base",
      "model_module_version": "1.2.0",
      "model_name": "LayoutModel",
      "state": {}
     },
     "5516d52c30c44f1cb1f21e9ff9447bdc": {
      "model_module": "@jupyter-widgets/controls",
      "model_module_version": "1.5.0",
      "model_name": "FloatSliderModel",
      "state": {
       "continuous_update": false,
       "description": "Test:",
       "layout": "IPY_MODEL_8b8a047f24874b4faa4b03031104bf19",
       "max": 5,
       "min": 1,
       "readout_format": ".1f",
       "step": 0.1,
       "style": "IPY_MODEL_f8f7cc7ab8c141919fcbf0c39e7989c7",
       "value": 3
      }
     },
     "55188746ace44585b55934b69c6e29b6": {
      "model_module": "@jupyter-widgets/controls",
      "model_module_version": "1.5.0",
      "model_name": "FloatSliderModel",
      "state": {
       "continuous_update": false,
       "description": "Test:",
       "layout": "IPY_MODEL_6e1821262f4a454b915f425a3f06e1a6",
       "max": 5,
       "min": 1,
       "readout_format": ".1f",
       "step": 0.1,
       "style": "IPY_MODEL_7089a4c2eed04c6dad1b92e05b31ae4b",
       "value": 3
      }
     },
     "5541cb995a5e4919905e89ba7060c6a9": {
      "model_module": "@jupyter-widgets/base",
      "model_module_version": "1.2.0",
      "model_name": "LayoutModel",
      "state": {}
     },
     "555a78ec3f5e457c84d573062d855abf": {
      "model_module": "@jupyter-widgets/controls",
      "model_module_version": "1.5.0",
      "model_name": "SliderStyleModel",
      "state": {
       "description_width": ""
      }
     },
     "55616b75dfbe45e1817266c285a6e353": {
      "model_module": "@jupyter-widgets/controls",
      "model_module_version": "1.5.0",
      "model_name": "HTMLModel",
      "state": {
       "layout": "IPY_MODEL_3b59aa1770d94289843dda87667b6661",
       "style": "IPY_MODEL_c0347b55a0d747028da9046cda4a9029",
       "value": "<h2>Utterance <b>18:</b></h2>"
      }
     },
     "5581e0630fc3404c83c98a07735bcdbd": {
      "model_module": "@jupyter-widgets/controls",
      "model_module_version": "1.5.0",
      "model_name": "HTMLModel",
      "state": {
       "layout": "IPY_MODEL_cd2fe8d0655840328b04f338367bd4fb",
       "style": "IPY_MODEL_cac25c33cf4043719fa27e109644d175",
       "value": "<h2>Utterance <b>9:</b></h2>"
      }
     },
     "559b3252f30140c2a3825aaf6bd1ac49": {
      "model_module": "@jupyter-widgets/controls",
      "model_module_version": "1.5.0",
      "model_name": "HTMLModel",
      "state": {
       "layout": "IPY_MODEL_96d9a0303ab441d69714cd8e12de0c5e",
       "style": "IPY_MODEL_31d18e624f3744e6a89e214ec0c7d2ee",
       "value": "<h2>Utterance <b>1:</b></h2>"
      }
     },
     "559c18a7fde24bf8b6ca1a2389657542": {
      "model_module": "@jupyter-widgets/controls",
      "model_module_version": "1.5.0",
      "model_name": "HTMLModel",
      "state": {
       "layout": "IPY_MODEL_ee95032cbc0f4a60ba096b144a1f3859",
       "style": "IPY_MODEL_e7d2d8eebcc6485c857187fec186f6a9",
       "value": "<h2>Utterance <b>23:</b></h2>"
      }
     },
     "55a38162be8b4079a444ef9d9c02ae53": {
      "model_module": "@jupyter-widgets/controls",
      "model_module_version": "1.5.0",
      "model_name": "FloatSliderModel",
      "state": {
       "continuous_update": false,
       "description": "Test:",
       "layout": "IPY_MODEL_71617a56c7f94b668d4afc55befd12fe",
       "max": 5,
       "min": 1,
       "readout_format": ".1f",
       "step": 0.1,
       "style": "IPY_MODEL_25c4096071504010ae65876878f1357b",
       "value": 3
      }
     },
     "55b9462cd9104b1888b30997973b5dbb": {
      "model_module": "@jupyter-widgets/base",
      "model_module_version": "1.2.0",
      "model_name": "LayoutModel",
      "state": {}
     },
     "55d20787fa684f8d800c1f897afba643": {
      "model_module": "@jupyter-widgets/controls",
      "model_module_version": "1.5.0",
      "model_name": "FloatSliderModel",
      "state": {
       "continuous_update": false,
       "description": "Test:",
       "layout": "IPY_MODEL_f0fc270e797c4f7e9ca85f6accc526a0",
       "max": 5,
       "min": 1,
       "readout_format": ".1f",
       "step": 0.1,
       "style": "IPY_MODEL_51d4b411d96b4399aee4cb4dc7a472a3",
       "value": 3
      }
     },
     "55dd227e8fe94a7e89d7552a63bfc974": {
      "model_module": "@jupyter-widgets/controls",
      "model_module_version": "1.5.0",
      "model_name": "SliderStyleModel",
      "state": {
       "description_width": ""
      }
     },
     "560b3ce9d2ca4529a5da750db8f1480d": {
      "model_module": "@jupyter-widgets/base",
      "model_module_version": "1.2.0",
      "model_name": "LayoutModel",
      "state": {}
     },
     "5617bf39e7264b978dc0a74861e1b927": {
      "model_module": "@jupyter-widgets/controls",
      "model_module_version": "1.5.0",
      "model_name": "DescriptionStyleModel",
      "state": {
       "description_width": ""
      }
     },
     "56183b302824403385ed6c3d72879028": {
      "model_module": "@jupyter-widgets/base",
      "model_module_version": "1.2.0",
      "model_name": "LayoutModel",
      "state": {}
     },
     "56b0befbb6b64879b690700d2b9a6d6f": {
      "model_module": "@jupyter-widgets/base",
      "model_module_version": "1.2.0",
      "model_name": "LayoutModel",
      "state": {}
     },
     "56ee1cf04ae24668bd772d52dcb00b6b": {
      "model_module": "@jupyter-widgets/base",
      "model_module_version": "1.2.0",
      "model_name": "LayoutModel",
      "state": {}
     },
     "570941fb56024198bfe2a0d21e556d50": {
      "model_module": "@jupyter-widgets/base",
      "model_module_version": "1.2.0",
      "model_name": "LayoutModel",
      "state": {}
     },
     "5709dc0a367949989906755cdc0a6b44": {
      "model_module": "@jupyter-widgets/base",
      "model_module_version": "1.2.0",
      "model_name": "LayoutModel",
      "state": {}
     },
     "57199db0ae1045fdb3beca5c212ff481": {
      "model_module": "@jupyter-widgets/base",
      "model_module_version": "1.2.0",
      "model_name": "LayoutModel",
      "state": {}
     },
     "5742d5855bf14812bcb711f268755283": {
      "model_module": "@jupyter-widgets/controls",
      "model_module_version": "1.5.0",
      "model_name": "FloatSliderModel",
      "state": {
       "continuous_update": false,
       "description": "Test:",
       "layout": "IPY_MODEL_6c30a31f18194890beff2fc466efd7b6",
       "max": 5,
       "min": 1,
       "readout_format": ".1f",
       "step": 0.1,
       "style": "IPY_MODEL_be2f88d7fe8a4190872ec294b65b833a",
       "value": 3
      }
     },
     "575c270037534d378b465bd201f44936": {
      "model_module": "@jupyter-widgets/base",
      "model_module_version": "1.2.0",
      "model_name": "LayoutModel",
      "state": {}
     },
     "577479db6f8941df9226e87b7c61ac8f": {
      "model_module": "@jupyter-widgets/controls",
      "model_module_version": "1.5.0",
      "model_name": "FloatSliderModel",
      "state": {
       "continuous_update": false,
       "description": "Test:",
       "layout": "IPY_MODEL_13215c4dd9e24df28911a04a50501e2b",
       "max": 5,
       "min": 1,
       "readout_format": ".1f",
       "step": 0.1,
       "style": "IPY_MODEL_57c5505c45ae4e08bd0c6d06e8417d70",
       "value": 3
      }
     },
     "5789992293ea42a887e96c781ee19b3d": {
      "model_module": "@jupyter-widgets/base",
      "model_module_version": "1.2.0",
      "model_name": "LayoutModel",
      "state": {}
     },
     "579d0b1971074c418c8a6c1dfa4b350a": {
      "model_module": "@jupyter-widgets/controls",
      "model_module_version": "1.5.0",
      "model_name": "FloatSliderModel",
      "state": {
       "continuous_update": false,
       "description": "Test:",
       "layout": "IPY_MODEL_59739da0942044ecbae0ceda65e62ea0",
       "max": 5,
       "min": 1,
       "readout_format": ".1f",
       "step": 0.1,
       "style": "IPY_MODEL_e51b116d50344e62aff56050698a883a",
       "value": 3
      }
     },
     "57af419b90cb4289b6363bc76cec69c5": {
      "model_module": "@jupyter-widgets/base",
      "model_module_version": "1.2.0",
      "model_name": "LayoutModel",
      "state": {}
     },
     "57b7ebde761748eba1e385fda66935d1": {
      "model_module": "@jupyter-widgets/controls",
      "model_module_version": "1.5.0",
      "model_name": "FloatSliderModel",
      "state": {
       "continuous_update": false,
       "description": "Test:",
       "layout": "IPY_MODEL_672a9519d9fb467d8a78dcc5d6268caa",
       "max": 5,
       "min": 1,
       "readout_format": ".1f",
       "step": 0.1,
       "style": "IPY_MODEL_104cdd9eabc24151800af2c5868552f6",
       "value": 3
      }
     },
     "57c5505c45ae4e08bd0c6d06e8417d70": {
      "model_module": "@jupyter-widgets/controls",
      "model_module_version": "1.5.0",
      "model_name": "SliderStyleModel",
      "state": {
       "description_width": ""
      }
     },
     "57d032ea230646258137d9c32cc7ec31": {
      "model_module": "@jupyter-widgets/controls",
      "model_module_version": "1.5.0",
      "model_name": "DescriptionStyleModel",
      "state": {
       "description_width": ""
      }
     },
     "5805add9add845f1b7abd9f43d0e1c6f": {
      "model_module": "@jupyter-widgets/controls",
      "model_module_version": "1.5.0",
      "model_name": "HTMLModel",
      "state": {
       "layout": "IPY_MODEL_614089d49d5346079b01ba3ba4fd23cd",
       "style": "IPY_MODEL_e7f0acc1eb4b4e5ebd8faaefbe8646b0",
       "value": "<h2>Utterance <b>10:</b></h2>"
      }
     },
     "582b8e43cd4f4c7fb642c0c0c19e4ada": {
      "model_module": "@jupyter-widgets/controls",
      "model_module_version": "1.5.0",
      "model_name": "FloatSliderModel",
      "state": {
       "continuous_update": false,
       "description": "Test:",
       "layout": "IPY_MODEL_688a06552b3f4fa7ab84d3aab0da02e5",
       "max": 5,
       "min": 1,
       "readout_format": ".1f",
       "step": 0.1,
       "style": "IPY_MODEL_2706ea8bd30144189b24df594b7085d2",
       "value": 3
      }
     },
     "583ad1faaee040b4a77562e20d9abea8": {
      "model_module": "@jupyter-widgets/controls",
      "model_module_version": "1.5.0",
      "model_name": "HTMLModel",
      "state": {
       "layout": "IPY_MODEL_df593d208f404fe1abfbe9a9cde99018",
       "style": "IPY_MODEL_3a00f963780345aa9313138b93a086f7",
       "value": "<h2>Utterance <b>4:</b></h2>"
      }
     },
     "588afcc632444c0e8464e678dd63d233": {
      "model_module": "@jupyter-widgets/controls",
      "model_module_version": "1.5.0",
      "model_name": "HTMLModel",
      "state": {
       "layout": "IPY_MODEL_35fb9c162ec845d190a9024b464ad918",
       "style": "IPY_MODEL_86a180ddb84c4e7fa2c8fc196bab2744",
       "value": "<h2>Utterance <b>2:</b></h2>"
      }
     },
     "589270e2da4e49999a1e87ee3faad91f": {
      "model_module": "@jupyter-widgets/controls",
      "model_module_version": "1.5.0",
      "model_name": "DescriptionStyleModel",
      "state": {
       "description_width": ""
      }
     },
     "589b4edc68834700805c82d494389daa": {
      "model_module": "@jupyter-widgets/base",
      "model_module_version": "1.2.0",
      "model_name": "LayoutModel",
      "state": {}
     },
     "58b0b6d2bf974bafb71faf312a7c4853": {
      "model_module": "@jupyter-widgets/base",
      "model_module_version": "1.2.0",
      "model_name": "LayoutModel",
      "state": {}
     },
     "58b9a2f68ff341e388731392a9c2f590": {
      "model_module": "@jupyter-widgets/controls",
      "model_module_version": "1.5.0",
      "model_name": "SliderStyleModel",
      "state": {
       "description_width": ""
      }
     },
     "58ce6be8e0a3443cb77cced0c7255199": {
      "model_module": "@jupyter-widgets/controls",
      "model_module_version": "1.5.0",
      "model_name": "DescriptionStyleModel",
      "state": {
       "description_width": ""
      }
     },
     "59287a2f97d64fedaafb8b5d8fcc21eb": {
      "model_module": "@jupyter-widgets/base",
      "model_module_version": "1.2.0",
      "model_name": "LayoutModel",
      "state": {}
     },
     "5931651f5df9454d8ee6871836f8ec70": {
      "model_module": "@jupyter-widgets/controls",
      "model_module_version": "1.5.0",
      "model_name": "SliderStyleModel",
      "state": {
       "description_width": ""
      }
     },
     "5933d3c2f2564d39ab72eaa81bd3262a": {
      "model_module": "@jupyter-widgets/controls",
      "model_module_version": "1.5.0",
      "model_name": "SliderStyleModel",
      "state": {
       "description_width": ""
      }
     },
     "593c4d05f5a64daea4c4e965359e753b": {
      "model_module": "@jupyter-widgets/base",
      "model_module_version": "1.2.0",
      "model_name": "LayoutModel",
      "state": {}
     },
     "594b37e899dd4ae8b693a36b5302714b": {
      "model_module": "@jupyter-widgets/base",
      "model_module_version": "1.2.0",
      "model_name": "LayoutModel",
      "state": {}
     },
     "5959c657cdd144429efc64a127a01a9b": {
      "model_module": "@jupyter-widgets/controls",
      "model_module_version": "1.5.0",
      "model_name": "HTMLModel",
      "state": {
       "layout": "IPY_MODEL_d6ae0ad4e41445dfa4f7c0d312247051",
       "style": "IPY_MODEL_9ee82365d02e4b389c91159e4c69802e",
       "value": "<h2>Utterance <b>3:</b></h2>"
      }
     },
     "595d578a7a3a4f388e8f32d952bd4f1a": {
      "model_module": "@jupyter-widgets/controls",
      "model_module_version": "1.5.0",
      "model_name": "HTMLModel",
      "state": {
       "layout": "IPY_MODEL_9855bd911454486386db49a6e55e9578",
       "style": "IPY_MODEL_1431f3a8f7c347eb831412cede9aefdd",
       "value": "<h2>Utterance <b>17:</b></h2>"
      }
     },
     "5971500ecb5543f6b0dd68f23be2ee85": {
      "model_module": "@jupyter-widgets/controls",
      "model_module_version": "1.5.0",
      "model_name": "DescriptionStyleModel",
      "state": {
       "description_width": ""
      }
     },
     "59739da0942044ecbae0ceda65e62ea0": {
      "model_module": "@jupyter-widgets/base",
      "model_module_version": "1.2.0",
      "model_name": "LayoutModel",
      "state": {}
     },
     "597ff2d32700440bbabd9e03cc3b629e": {
      "model_module": "@jupyter-widgets/controls",
      "model_module_version": "1.5.0",
      "model_name": "HTMLModel",
      "state": {
       "layout": "IPY_MODEL_1ecdd3d60a7d4b5883d735935ff2cd27",
       "style": "IPY_MODEL_f60fa11bca1c413193a5dea588be15b2",
       "value": "<h2>Utterance <b>14:</b></h2>"
      }
     },
     "59c6d9bf1450420ca384bfe97fbf8ecc": {
      "model_module": "@jupyter-widgets/controls",
      "model_module_version": "1.5.0",
      "model_name": "SliderStyleModel",
      "state": {
       "description_width": ""
      }
     },
     "59e34a4ead3e4a7581bb20885560ca00": {
      "model_module": "@jupyter-widgets/base",
      "model_module_version": "1.2.0",
      "model_name": "LayoutModel",
      "state": {}
     },
     "5a2aab2550e742e8b58979ee14cbfad9": {
      "model_module": "@jupyter-widgets/controls",
      "model_module_version": "1.5.0",
      "model_name": "DescriptionStyleModel",
      "state": {
       "description_width": ""
      }
     },
     "5a42e13db26b474880a20b5f58392504": {
      "model_module": "@jupyter-widgets/controls",
      "model_module_version": "1.5.0",
      "model_name": "SliderStyleModel",
      "state": {
       "description_width": ""
      }
     },
     "5a5fdad930ac473395e6abce6d2e2391": {
      "model_module": "@jupyter-widgets/controls",
      "model_module_version": "1.5.0",
      "model_name": "SliderStyleModel",
      "state": {
       "description_width": ""
      }
     },
     "5a6fe49f9c23467784f1afc98532ccce": {
      "model_module": "@jupyter-widgets/controls",
      "model_module_version": "1.5.0",
      "model_name": "DescriptionStyleModel",
      "state": {
       "description_width": ""
      }
     },
     "5aa31888fabb415c834eada53e8353db": {
      "model_module": "@jupyter-widgets/controls",
      "model_module_version": "1.5.0",
      "model_name": "DescriptionStyleModel",
      "state": {
       "description_width": ""
      }
     },
     "5ab24dd23da74b38ab44454d7503f284": {
      "model_module": "@jupyter-widgets/base",
      "model_module_version": "1.2.0",
      "model_name": "LayoutModel",
      "state": {}
     },
     "5ab40ae0bfbd466d91bbc4ca914ddf1f": {
      "model_module": "@jupyter-widgets/controls",
      "model_module_version": "1.5.0",
      "model_name": "HTMLModel",
      "state": {
       "layout": "IPY_MODEL_7acf9baeb10b4474aee98d8c3dfdb888",
       "style": "IPY_MODEL_0799d00d3f8f4241a413939fb3790e2e",
       "value": "<h2>Utterance <b>8:</b></h2>"
      }
     },
     "5ab55eef89d14c4180c964106d3f38cf": {
      "model_module": "@jupyter-widgets/controls",
      "model_module_version": "1.5.0",
      "model_name": "FloatSliderModel",
      "state": {
       "continuous_update": false,
       "description": "Test:",
       "layout": "IPY_MODEL_540b3fa1a7db45229c455e5822a82e2d",
       "max": 5,
       "min": 1,
       "readout_format": ".1f",
       "step": 0.1,
       "style": "IPY_MODEL_0e1b1f6838e34571afb63608a30fa07b",
       "value": 3
      }
     },
     "5ac781458bdf45559d966343703a436a": {
      "model_module": "@jupyter-widgets/controls",
      "model_module_version": "1.5.0",
      "model_name": "DescriptionStyleModel",
      "state": {
       "description_width": ""
      }
     },
     "5b4034d471ba4da5a051b9379a629df7": {
      "model_module": "@jupyter-widgets/controls",
      "model_module_version": "1.5.0",
      "model_name": "DescriptionStyleModel",
      "state": {
       "description_width": ""
      }
     },
     "5b4b0f7ffba74893ab70447eeac06143": {
      "model_module": "@jupyter-widgets/controls",
      "model_module_version": "1.5.0",
      "model_name": "SliderStyleModel",
      "state": {
       "description_width": ""
      }
     },
     "5b7d9cf9ffc14bd9a13cf5ed073d2488": {
      "model_module": "@jupyter-widgets/base",
      "model_module_version": "1.2.0",
      "model_name": "LayoutModel",
      "state": {}
     },
     "5bb6ffc6790b4de4b93118bd1818434b": {
      "model_module": "@jupyter-widgets/controls",
      "model_module_version": "1.5.0",
      "model_name": "DescriptionStyleModel",
      "state": {
       "description_width": ""
      }
     },
     "5bbb9f69f5ec43fcb1aa728f54ba4360": {
      "model_module": "@jupyter-widgets/controls",
      "model_module_version": "1.5.0",
      "model_name": "SliderStyleModel",
      "state": {
       "description_width": ""
      }
     },
     "5bbed99cc6c7470b87541062cb8df037": {
      "model_module": "@jupyter-widgets/controls",
      "model_module_version": "1.5.0",
      "model_name": "HTMLModel",
      "state": {
       "layout": "IPY_MODEL_a78009662df34880b91c252c6502b820",
       "style": "IPY_MODEL_d2cc9950e30443b493e7b76c31f4a694",
       "value": "<h2>Utterance <b>19:</b></h2>"
      }
     },
     "5be04fe487954ccabef8fd23f250ad63": {
      "model_module": "@jupyter-widgets/base",
      "model_module_version": "1.2.0",
      "model_name": "LayoutModel",
      "state": {}
     },
     "5be1eb310e304575b9b3541dca3e7689": {
      "model_module": "@jupyter-widgets/controls",
      "model_module_version": "1.5.0",
      "model_name": "HTMLModel",
      "state": {
       "layout": "IPY_MODEL_2b32bf5fc3a84762831c1f1f0e21fa9d",
       "style": "IPY_MODEL_b08e37627d674d2faed3b44205d915d3",
       "value": "<h2>Utterance <b>6:</b></h2>"
      }
     },
     "5beeb2d22e304cd28530d12f6292aae8": {
      "model_module": "@jupyter-widgets/controls",
      "model_module_version": "1.5.0",
      "model_name": "HTMLModel",
      "state": {
       "layout": "IPY_MODEL_bec06637bc7f480b9fd6b0d75f9518db",
       "style": "IPY_MODEL_e52b5722ed2c41f887f06b92896dd43f",
       "value": "<h2>Utterance <b>17:</b></h2>"
      }
     },
     "5c0fb7a5c9124a6b976f8c530d7baa44": {
      "model_module": "@jupyter-widgets/controls",
      "model_module_version": "1.5.0",
      "model_name": "SliderStyleModel",
      "state": {
       "description_width": ""
      }
     },
     "5c145b22a563472398ba70dd84340a7b": {
      "model_module": "@jupyter-widgets/controls",
      "model_module_version": "1.5.0",
      "model_name": "HTMLModel",
      "state": {
       "layout": "IPY_MODEL_aea81a95743f4ca3903411dfdb0f4d2f",
       "style": "IPY_MODEL_78fed42fbfb3432a95eb024064a01bd6",
       "value": "<h2>Utterance <b>18:</b></h2>"
      }
     },
     "5c1d723edebd4ca581df2bff936afba5": {
      "model_module": "@jupyter-widgets/base",
      "model_module_version": "1.2.0",
      "model_name": "LayoutModel",
      "state": {}
     },
     "5c8e6cbd40b34c1fa68b69cc8f14c952": {
      "model_module": "@jupyter-widgets/controls",
      "model_module_version": "1.5.0",
      "model_name": "HTMLModel",
      "state": {
       "layout": "IPY_MODEL_6e56a2f7980441fb8f08bd4c37ec52c2",
       "style": "IPY_MODEL_8b76f01fbaaf4f14965302c737a43021",
       "value": "<h2>Utterance <b>23:</b></h2>"
      }
     },
     "5c9847079a3742fe920386b78a575795": {
      "model_module": "@jupyter-widgets/controls",
      "model_module_version": "1.5.0",
      "model_name": "HTMLModel",
      "state": {
       "layout": "IPY_MODEL_5709dc0a367949989906755cdc0a6b44",
       "style": "IPY_MODEL_960427fd492e4912a49325c798457806",
       "value": "<h2>Utterance <b>15:</b></h2>"
      }
     },
     "5d4647d6be8e4abb869f21770a62bc96": {
      "model_module": "@jupyter-widgets/controls",
      "model_module_version": "1.5.0",
      "model_name": "FloatSliderModel",
      "state": {
       "continuous_update": false,
       "description": "Test:",
       "layout": "IPY_MODEL_2ca592feae2e48afa92d33579b86a17e",
       "max": 5,
       "min": 1,
       "readout_format": ".1f",
       "step": 0.1,
       "style": "IPY_MODEL_481b415ee10c405499a12ea5da76bc7d",
       "value": 3
      }
     },
     "5d570d92c7e7406fa990cf8d368e27f2": {
      "model_module": "@jupyter-widgets/controls",
      "model_module_version": "1.5.0",
      "model_name": "FloatSliderModel",
      "state": {
       "continuous_update": false,
       "description": "Test:",
       "layout": "IPY_MODEL_2f1a34da3e8245d5a5ac135ed66c3e23",
       "max": 5,
       "min": 1,
       "readout_format": ".1f",
       "step": 0.1,
       "style": "IPY_MODEL_e17e3ec098b34023848ad1fb983d35f8",
       "value": 3
      }
     },
     "5d8814943fa84939999663ec7191d680": {
      "model_module": "@jupyter-widgets/controls",
      "model_module_version": "1.5.0",
      "model_name": "SliderStyleModel",
      "state": {
       "description_width": ""
      }
     },
     "5d9c6ed8a95f482aaffa6b988d24440f": {
      "model_module": "@jupyter-widgets/controls",
      "model_module_version": "1.5.0",
      "model_name": "FloatSliderModel",
      "state": {
       "continuous_update": false,
       "description": "Test:",
       "layout": "IPY_MODEL_e99c5b938adb4d37b2c1e929cce77752",
       "max": 5,
       "min": 1,
       "readout_format": ".1f",
       "step": 0.1,
       "style": "IPY_MODEL_8ec1289722864404bd9490d1c02d73db",
       "value": 3
      }
     },
     "5de0013cc67e4ce3b4bb0116bfe10144": {
      "model_module": "@jupyter-widgets/controls",
      "model_module_version": "1.5.0",
      "model_name": "FloatSliderModel",
      "state": {
       "continuous_update": false,
       "description": "Test:",
       "layout": "IPY_MODEL_df81fcda90934da1bd3a52b5fc3a567d",
       "max": 5,
       "min": 1,
       "readout_format": ".1f",
       "step": 0.1,
       "style": "IPY_MODEL_f00b6f5bc91243d5acb6a4fd06b09ca7",
       "value": 3
      }
     },
     "5de28d3f5605443b9b4f84feca22bcdf": {
      "model_module": "@jupyter-widgets/controls",
      "model_module_version": "1.5.0",
      "model_name": "DescriptionStyleModel",
      "state": {
       "description_width": ""
      }
     },
     "5e46801c5d1440d4add15653f2d56ebc": {
      "model_module": "@jupyter-widgets/base",
      "model_module_version": "1.2.0",
      "model_name": "LayoutModel",
      "state": {}
     },
     "5e4d76d9c52845f4854d3a2380c8bddc": {
      "model_module": "@jupyter-widgets/controls",
      "model_module_version": "1.5.0",
      "model_name": "HTMLModel",
      "state": {
       "layout": "IPY_MODEL_0f4354ff90624da392bbde6aac3e2142",
       "style": "IPY_MODEL_c97f54a4cac7479c8570aeba9efd18b1",
       "value": "<h2>Utterance <b>18:</b></h2>"
      }
     },
     "5e51c6964f9a4e14ba1a39c8bf8f5906": {
      "model_module": "@jupyter-widgets/controls",
      "model_module_version": "1.5.0",
      "model_name": "FloatSliderModel",
      "state": {
       "continuous_update": false,
       "description": "Test:",
       "layout": "IPY_MODEL_07cd415708a04445837d3a93d4c42af6",
       "max": 5,
       "min": 1,
       "readout_format": ".1f",
       "step": 0.1,
       "style": "IPY_MODEL_1089e452597b48d4a0da434216720c63",
       "value": 3
      }
     },
     "5e52b5c4657149f8b904e9d1995c8f0d": {
      "model_module": "@jupyter-widgets/controls",
      "model_module_version": "1.5.0",
      "model_name": "SliderStyleModel",
      "state": {
       "description_width": ""
      }
     },
     "5e65dadfee3e46b395655cf35a9f827c": {
      "model_module": "@jupyter-widgets/controls",
      "model_module_version": "1.5.0",
      "model_name": "SliderStyleModel",
      "state": {
       "description_width": ""
      }
     },
     "5ea7250db28d44eb982ba3b4f9390063": {
      "model_module": "@jupyter-widgets/controls",
      "model_module_version": "1.5.0",
      "model_name": "HTMLModel",
      "state": {
       "layout": "IPY_MODEL_55b9462cd9104b1888b30997973b5dbb",
       "style": "IPY_MODEL_29f5bf59e9e943ba9ce0f4e52ac7b039",
       "value": "<h2>Utterance <b>15:</b></h2>"
      }
     },
     "5f482497aeb94581b125d106d5e251ab": {
      "model_module": "@jupyter-widgets/controls",
      "model_module_version": "1.5.0",
      "model_name": "SliderStyleModel",
      "state": {
       "description_width": ""
      }
     },
     "5f4a93334d8648bea829c08ac5cba8fc": {
      "model_module": "@jupyter-widgets/base",
      "model_module_version": "1.2.0",
      "model_name": "LayoutModel",
      "state": {}
     },
     "5f574e3759db4bf3b8ca718ac8d6f70c": {
      "model_module": "@jupyter-widgets/base",
      "model_module_version": "1.2.0",
      "model_name": "LayoutModel",
      "state": {}
     },
     "5f5d5476cb5c4ab994183a4b09371d5f": {
      "model_module": "@jupyter-widgets/base",
      "model_module_version": "1.2.0",
      "model_name": "LayoutModel",
      "state": {}
     },
     "5f843725a1ce4186a2cb82fd3bbfc4a6": {
      "model_module": "@jupyter-widgets/controls",
      "model_module_version": "1.5.0",
      "model_name": "DescriptionStyleModel",
      "state": {
       "description_width": ""
      }
     },
     "5fb5445a40cf41b789d7095d17af96c3": {
      "model_module": "@jupyter-widgets/base",
      "model_module_version": "1.2.0",
      "model_name": "LayoutModel",
      "state": {}
     },
     "5fba43bd008d4f758c843038cab545e9": {
      "model_module": "@jupyter-widgets/controls",
      "model_module_version": "1.5.0",
      "model_name": "SliderStyleModel",
      "state": {
       "description_width": ""
      }
     },
     "6016e59aa6b04bf3aa943529033baff6": {
      "model_module": "@jupyter-widgets/controls",
      "model_module_version": "1.5.0",
      "model_name": "FloatSliderModel",
      "state": {
       "continuous_update": false,
       "description": "Test:",
       "layout": "IPY_MODEL_f4645cdb039e464ab6b99eacbfd9f9f4",
       "max": 5,
       "min": 1,
       "readout_format": ".1f",
       "step": 0.1,
       "style": "IPY_MODEL_5b4b0f7ffba74893ab70447eeac06143",
       "value": 3
      }
     },
     "601750d6ff724ea0a6a53a09d0dcf068": {
      "model_module": "@jupyter-widgets/controls",
      "model_module_version": "1.5.0",
      "model_name": "HTMLModel",
      "state": {
       "layout": "IPY_MODEL_2fe02bf838e54777928b59aeaf075564",
       "style": "IPY_MODEL_ec398d7a0e06496daddaaecd3280268c",
       "value": "<h2>Utterance <b>23:</b></h2>"
      }
     },
     "60176d174eb340f182d536fceb191cac": {
      "model_module": "@jupyter-widgets/controls",
      "model_module_version": "1.5.0",
      "model_name": "SliderStyleModel",
      "state": {
       "description_width": ""
      }
     },
     "601ab64397064d9c9d8b6209f64a365e": {
      "model_module": "@jupyter-widgets/controls",
      "model_module_version": "1.5.0",
      "model_name": "SliderStyleModel",
      "state": {
       "description_width": ""
      }
     },
     "601de2e19c5e4bc9b57e57c5f3040b02": {
      "model_module": "@jupyter-widgets/controls",
      "model_module_version": "1.5.0",
      "model_name": "HTMLModel",
      "state": {
       "layout": "IPY_MODEL_61c2f592a6954eed9e33cdb03e9b3923",
       "style": "IPY_MODEL_22229b98d2fe4037ad9c3d4d3258d23c",
       "value": "<h2>Utterance <b>21:</b></h2>"
      }
     },
     "6034e050b2e54fee8338aabe731532e4": {
      "model_module": "@jupyter-widgets/controls",
      "model_module_version": "1.5.0",
      "model_name": "FloatSliderModel",
      "state": {
       "continuous_update": false,
       "description": "Test:",
       "layout": "IPY_MODEL_9185e0eddaf84d4eaf65f75dadb1e2cc",
       "max": 5,
       "min": 1,
       "readout_format": ".1f",
       "step": 0.1,
       "style": "IPY_MODEL_256b038b371340718fd2793682a4f9f4",
       "value": 3
      }
     },
     "60447d210e754af093d1b2c98a0eac1e": {
      "model_module": "@jupyter-widgets/controls",
      "model_module_version": "1.5.0",
      "model_name": "HTMLModel",
      "state": {
       "layout": "IPY_MODEL_be3c489e08c94655ba778d2521bd0ab5",
       "style": "IPY_MODEL_48c9fa7f4beb44658b2e6c38485072f4",
       "value": "<h2>Utterance <b>7:</b></h2>"
      }
     },
     "604b8a2bad4c466aab7ec6e4c0e038ec": {
      "model_module": "@jupyter-widgets/controls",
      "model_module_version": "1.5.0",
      "model_name": "SliderStyleModel",
      "state": {
       "description_width": ""
      }
     },
     "6068d53d35864014bdb648c05168f02a": {
      "model_module": "@jupyter-widgets/controls",
      "model_module_version": "1.5.0",
      "model_name": "HTMLModel",
      "state": {
       "layout": "IPY_MODEL_696d12ca18f84a918f2cbd8c5c8cf511",
       "style": "IPY_MODEL_8b86f71857e045d7a82728c233561df5",
       "value": "<h2>Utterance <b>11:</b></h2>"
      }
     },
     "6070bfe82d464c008a2c5c2ae07f27f6": {
      "model_module": "@jupyter-widgets/controls",
      "model_module_version": "1.5.0",
      "model_name": "FloatSliderModel",
      "state": {
       "continuous_update": false,
       "description": "Test:",
       "layout": "IPY_MODEL_649bc5905c2f4474a7f345e2bb472144",
       "max": 5,
       "min": 1,
       "readout_format": ".1f",
       "step": 0.1,
       "style": "IPY_MODEL_4e45734af8b14ba19fb5ba4813e4c320",
       "value": 3
      }
     },
     "6071515246b34cdca1dfe7dfee9e8a33": {
      "model_module": "@jupyter-widgets/controls",
      "model_module_version": "1.5.0",
      "model_name": "DescriptionStyleModel",
      "state": {
       "description_width": ""
      }
     },
     "60a1bd4308a4431fbbb471a64eea203d": {
      "model_module": "@jupyter-widgets/base",
      "model_module_version": "1.2.0",
      "model_name": "LayoutModel",
      "state": {}
     },
     "60c6f930fc154c00b1d8535d3a242454": {
      "model_module": "@jupyter-widgets/controls",
      "model_module_version": "1.5.0",
      "model_name": "DescriptionStyleModel",
      "state": {
       "description_width": ""
      }
     },
     "610ee0c0197f472195fd171bf9d38b81": {
      "model_module": "@jupyter-widgets/base",
      "model_module_version": "1.2.0",
      "model_name": "LayoutModel",
      "state": {}
     },
     "6132fec3f2bf4dd6bd44f83a370fad53": {
      "model_module": "@jupyter-widgets/base",
      "model_module_version": "1.2.0",
      "model_name": "LayoutModel",
      "state": {}
     },
     "614089d49d5346079b01ba3ba4fd23cd": {
      "model_module": "@jupyter-widgets/base",
      "model_module_version": "1.2.0",
      "model_name": "LayoutModel",
      "state": {}
     },
     "616522599092457296a02b56925e932c": {
      "model_module": "@jupyter-widgets/controls",
      "model_module_version": "1.5.0",
      "model_name": "DescriptionStyleModel",
      "state": {
       "description_width": ""
      }
     },
     "616647bf0b5f4fb4a658bba3b532346e": {
      "model_module": "@jupyter-widgets/base",
      "model_module_version": "1.2.0",
      "model_name": "LayoutModel",
      "state": {}
     },
     "619e02cf062f4bb79bae3c3cee1cfd89": {
      "model_module": "@jupyter-widgets/base",
      "model_module_version": "1.2.0",
      "model_name": "LayoutModel",
      "state": {}
     },
     "61a343834dc74c9ebf7d6e6b579579ae": {
      "model_module": "@jupyter-widgets/controls",
      "model_module_version": "1.5.0",
      "model_name": "FloatSliderModel",
      "state": {
       "continuous_update": false,
       "description": "Test:",
       "layout": "IPY_MODEL_7eeb27ccd8014b6bb0bc4b389a609173",
       "max": 5,
       "min": 1,
       "readout_format": ".1f",
       "step": 0.1,
       "style": "IPY_MODEL_c0311fbc98fb4362b257971c985eebfe",
       "value": 3
      }
     },
     "61c2f592a6954eed9e33cdb03e9b3923": {
      "model_module": "@jupyter-widgets/base",
      "model_module_version": "1.2.0",
      "model_name": "LayoutModel",
      "state": {}
     },
     "61e3e6c99a204edf8d5d3b24e91a185f": {
      "model_module": "@jupyter-widgets/controls",
      "model_module_version": "1.5.0",
      "model_name": "HTMLModel",
      "state": {
       "layout": "IPY_MODEL_38f43aa3192b48499ce052fcca18fb1e",
       "style": "IPY_MODEL_d93e7bda1a7740da8cb38b42053696de",
       "value": "<h2>Utterance <b>17:</b></h2>"
      }
     },
     "61e6adb569134239b0ef412e3fee40a2": {
      "model_module": "@jupyter-widgets/controls",
      "model_module_version": "1.5.0",
      "model_name": "DescriptionStyleModel",
      "state": {
       "description_width": ""
      }
     },
     "62154e36090146e5ac571b899475bcc2": {
      "model_module": "@jupyter-widgets/base",
      "model_module_version": "1.2.0",
      "model_name": "LayoutModel",
      "state": {}
     },
     "621b1e57a8074359a652846d3aa9aa2a": {
      "model_module": "@jupyter-widgets/controls",
      "model_module_version": "1.5.0",
      "model_name": "DescriptionStyleModel",
      "state": {
       "description_width": ""
      }
     },
     "624002703fd143bf8e4b15bc1e928d7f": {
      "model_module": "@jupyter-widgets/controls",
      "model_module_version": "1.5.0",
      "model_name": "SliderStyleModel",
      "state": {
       "description_width": ""
      }
     },
     "626e704dc8074460a32b17813facbecf": {
      "model_module": "@jupyter-widgets/base",
      "model_module_version": "1.2.0",
      "model_name": "LayoutModel",
      "state": {}
     },
     "62a2276c5f5a41219c417c4d5e871443": {
      "model_module": "@jupyter-widgets/controls",
      "model_module_version": "1.5.0",
      "model_name": "FloatSliderModel",
      "state": {
       "continuous_update": false,
       "description": "Test:",
       "layout": "IPY_MODEL_4a4c7efc513347cb89244acc169b5a35",
       "max": 5,
       "min": 1,
       "readout_format": ".1f",
       "step": 0.1,
       "style": "IPY_MODEL_72a0fe15447948a3937083a68b1a5d05",
       "value": 3
      }
     },
     "62a7d0755c034d82a12c9811b8e04c11": {
      "model_module": "@jupyter-widgets/controls",
      "model_module_version": "1.5.0",
      "model_name": "HTMLModel",
      "state": {
       "layout": "IPY_MODEL_e66b37012eda44e0a1f90bc15915357c",
       "style": "IPY_MODEL_4d3495302139479aa575ad46c19eca47",
       "value": "<h2>Utterance <b>6:</b></h2>"
      }
     },
     "62d967e91b2841cda68920700d508b46": {
      "model_module": "@jupyter-widgets/controls",
      "model_module_version": "1.5.0",
      "model_name": "SliderStyleModel",
      "state": {
       "description_width": ""
      }
     },
     "6325a5e9d8134203a108994bf8631ca7": {
      "model_module": "@jupyter-widgets/controls",
      "model_module_version": "1.5.0",
      "model_name": "HTMLModel",
      "state": {
       "layout": "IPY_MODEL_d9970cceb74e4ac3946d9ea4da2aa1c6",
       "style": "IPY_MODEL_519c958389cc445185a8cb59320edf8d",
       "value": "<h2>Utterance <b>19:</b></h2>"
      }
     },
     "63466d0db0244f73bdb3b8bea8a504c9": {
      "model_module": "@jupyter-widgets/controls",
      "model_module_version": "1.5.0",
      "model_name": "DescriptionStyleModel",
      "state": {
       "description_width": ""
      }
     },
     "6359ad9498a04e47beaa6cf8c6f29b0b": {
      "model_module": "@jupyter-widgets/controls",
      "model_module_version": "1.5.0",
      "model_name": "SliderStyleModel",
      "state": {
       "description_width": ""
      }
     },
     "638b63bf86e94860b5cc0e7614b2e659": {
      "model_module": "@jupyter-widgets/controls",
      "model_module_version": "1.5.0",
      "model_name": "ButtonStyleModel",
      "state": {}
     },
     "638de102d9394de0905f934c9b5a69bd": {
      "model_module": "@jupyter-widgets/base",
      "model_module_version": "1.2.0",
      "model_name": "LayoutModel",
      "state": {}
     },
     "639cf3086fb74f5697b55eb58f32c7b1": {
      "model_module": "@jupyter-widgets/controls",
      "model_module_version": "1.5.0",
      "model_name": "HTMLModel",
      "state": {
       "layout": "IPY_MODEL_d226a8e59dc64fc99e72179c64efc769",
       "style": "IPY_MODEL_255dc162c98b465bba15106dea8676b9",
       "value": "<h1>Voice selection<br></h1><body>Thanks for participating. Please select for each utternace it percieved quality with the folowing scale:<br><ol><li>Bad</li><li>Poor</li><li>Fair</li><li>Good</li><li>Excellent</li></ol><br><b>Note this test is not checking how much 'Jenny like' is a voice, but rather only how it sounds </b><br>After completing the questionaire press the button and you are done. Good luck and thank you.</body>"
      }
     },
     "63c2df2ba14e4c79afc427d20e8600dd": {
      "model_module": "@jupyter-widgets/controls",
      "model_module_version": "1.5.0",
      "model_name": "TextModel",
      "state": {
       "description": "Name:",
       "layout": "IPY_MODEL_e997cfa40a434c59b3e72fa552741225",
       "placeholder": "Type something like your name or id",
       "style": "IPY_MODEL_f23f67c954cd445788e31d363286c7ab"
      }
     },
     "63c892e4ff9548d7a08d2cfc9904a9a8": {
      "model_module": "@jupyter-widgets/controls",
      "model_module_version": "1.5.0",
      "model_name": "HTMLModel",
      "state": {
       "layout": "IPY_MODEL_54f58769b3d542cebe780ab452a58e09",
       "style": "IPY_MODEL_86f36c6c46a74f20bf6ce1f326746e7e",
       "value": "<h2>Utterance <b>7:</b></h2>"
      }
     },
     "63cb9c3e3316486e96eedfa9523855cc": {
      "model_module": "@jupyter-widgets/controls",
      "model_module_version": "1.5.0",
      "model_name": "DescriptionStyleModel",
      "state": {
       "description_width": ""
      }
     },
     "63cce39c9dab47acbf9dff4f306872d1": {
      "model_module": "@jupyter-widgets/base",
      "model_module_version": "1.2.0",
      "model_name": "LayoutModel",
      "state": {}
     },
     "6400fb4f7e1147918636474990efbdc8": {
      "model_module": "@jupyter-widgets/controls",
      "model_module_version": "1.5.0",
      "model_name": "DescriptionStyleModel",
      "state": {
       "description_width": ""
      }
     },
     "6452b4b59dab4f45b82fee3d62be5b77": {
      "model_module": "@jupyter-widgets/base",
      "model_module_version": "1.2.0",
      "model_name": "LayoutModel",
      "state": {}
     },
     "6463bb9d9ca14a298daea5fbad183912": {
      "model_module": "@jupyter-widgets/controls",
      "model_module_version": "1.5.0",
      "model_name": "HTMLModel",
      "state": {
       "layout": "IPY_MODEL_11f03075c97f4f1199f38b9717973be0",
       "style": "IPY_MODEL_cef4ed134cb9457da8f0007efe03dce3",
       "value": "<h2>Utterance <b>13:</b></h2>"
      }
     },
     "6473c63b442143fd95fde2b448695b19": {
      "model_module": "@jupyter-widgets/controls",
      "model_module_version": "1.5.0",
      "model_name": "DescriptionStyleModel",
      "state": {
       "description_width": ""
      }
     },
     "6478f635a462437881de2e063c5be255": {
      "model_module": "@jupyter-widgets/controls",
      "model_module_version": "1.5.0",
      "model_name": "HTMLModel",
      "state": {
       "layout": "IPY_MODEL_d43c4d18da4342b7924c7fb539aceda8",
       "style": "IPY_MODEL_a9ed2189f26f49f68154ad005947aaec",
       "value": "<h2>Utterance <b>15:</b></h2>"
      }
     },
     "647c46a8aec142a9aa738645edabd9ab": {
      "model_module": "@jupyter-widgets/controls",
      "model_module_version": "1.5.0",
      "model_name": "FloatSliderModel",
      "state": {
       "continuous_update": false,
       "description": "Test:",
       "layout": "IPY_MODEL_6551e502729342e98a4fbaca0aa2db7f",
       "max": 5,
       "min": 1,
       "readout_format": ".1f",
       "step": 0.1,
       "style": "IPY_MODEL_0f008756137b4c1b9e84fd0d1ec2c1b9",
       "value": 3
      }
     },
     "649bc5905c2f4474a7f345e2bb472144": {
      "model_module": "@jupyter-widgets/base",
      "model_module_version": "1.2.0",
      "model_name": "LayoutModel",
      "state": {}
     },
     "64afd368000042a19b29613b11092818": {
      "model_module": "@jupyter-widgets/controls",
      "model_module_version": "1.5.0",
      "model_name": "DescriptionStyleModel",
      "state": {
       "description_width": ""
      }
     },
     "64be0d87fce543c1a3638a471c024ed8": {
      "model_module": "@jupyter-widgets/base",
      "model_module_version": "1.2.0",
      "model_name": "LayoutModel",
      "state": {}
     },
     "64c3eeb6f56a42d9aa90339101027c2d": {
      "model_module": "@jupyter-widgets/controls",
      "model_module_version": "1.5.0",
      "model_name": "DescriptionStyleModel",
      "state": {
       "description_width": ""
      }
     },
     "64c5ca44bec44ce09a15f16bd5b4ae5a": {
      "model_module": "@jupyter-widgets/controls",
      "model_module_version": "1.5.0",
      "model_name": "HTMLModel",
      "state": {
       "layout": "IPY_MODEL_4eb162d845654aff9b67d0b506f93400",
       "style": "IPY_MODEL_1eb4710207eb4d4e9fb576f4526aa56b",
       "value": "<h2>Utterance <b>13:</b></h2>"
      }
     },
     "64cbcf394a4d4095996f03ac077958ae": {
      "model_module": "@jupyter-widgets/controls",
      "model_module_version": "1.5.0",
      "model_name": "HTMLModel",
      "state": {
       "layout": "IPY_MODEL_dcb5218e68654e539b835d8846c7d74a",
       "style": "IPY_MODEL_14d81b26b866499dbbea0058be2a2369",
       "value": "<h2>Utterance <b>24:</b></h2>"
      }
     },
     "64cda15ba9214cce94ccc1e79e0b7898": {
      "model_module": "@jupyter-widgets/base",
      "model_module_version": "1.2.0",
      "model_name": "LayoutModel",
      "state": {}
     },
     "64d61abec9b9420bbf3464171b765d05": {
      "model_module": "@jupyter-widgets/controls",
      "model_module_version": "1.5.0",
      "model_name": "SliderStyleModel",
      "state": {
       "description_width": ""
      }
     },
     "64fbd6ebbdc746d5920f048656e114e6": {
      "model_module": "@jupyter-widgets/controls",
      "model_module_version": "1.5.0",
      "model_name": "DescriptionStyleModel",
      "state": {
       "description_width": ""
      }
     },
     "6534227549c24d208ed3edebfb1bdeb0": {
      "model_module": "@jupyter-widgets/controls",
      "model_module_version": "1.5.0",
      "model_name": "FloatSliderModel",
      "state": {
       "continuous_update": false,
       "description": "Test:",
       "layout": "IPY_MODEL_e90397201efd4c97a94db34c1fab5b60",
       "max": 5,
       "min": 1,
       "readout_format": ".1f",
       "step": 0.1,
       "style": "IPY_MODEL_6815726fc4434bb9b1c907c9d33d83e6",
       "value": 4.2
      }
     },
     "6551e502729342e98a4fbaca0aa2db7f": {
      "model_module": "@jupyter-widgets/base",
      "model_module_version": "1.2.0",
      "model_name": "LayoutModel",
      "state": {}
     },
     "656c2e42131f463098cc5c8bd02fe616": {
      "model_module": "@jupyter-widgets/controls",
      "model_module_version": "1.5.0",
      "model_name": "DescriptionStyleModel",
      "state": {
       "description_width": ""
      }
     },
     "65caddec297940c894571f792cca50b8": {
      "model_module": "@jupyter-widgets/base",
      "model_module_version": "1.2.0",
      "model_name": "LayoutModel",
      "state": {}
     },
     "65dd4e2c582646da88063bbfaf5bbee8": {
      "model_module": "@jupyter-widgets/base",
      "model_module_version": "1.2.0",
      "model_name": "LayoutModel",
      "state": {}
     },
     "65e95ff0ca6b4e9696513ad59614e9c0": {
      "model_module": "@jupyter-widgets/controls",
      "model_module_version": "1.5.0",
      "model_name": "FloatSliderModel",
      "state": {
       "continuous_update": false,
       "description": "Test:",
       "layout": "IPY_MODEL_76be96f7d76943d2ad2d9045dc072c33",
       "max": 5,
       "min": 1,
       "readout_format": ".1f",
       "step": 0.1,
       "style": "IPY_MODEL_d3b94d1104df4c8da5e21e345152cbed",
       "value": 3
      }
     },
     "6619f0a644e54951bbb13810e0f36788": {
      "model_module": "@jupyter-widgets/controls",
      "model_module_version": "1.5.0",
      "model_name": "SliderStyleModel",
      "state": {
       "description_width": ""
      }
     },
     "66368323b0a14f388f3ab2de115b6658": {
      "model_module": "@jupyter-widgets/base",
      "model_module_version": "1.2.0",
      "model_name": "LayoutModel",
      "state": {}
     },
     "66525ca4fb954fbd827ed9c733eac5ee": {
      "model_module": "@jupyter-widgets/controls",
      "model_module_version": "1.5.0",
      "model_name": "HTMLModel",
      "state": {
       "layout": "IPY_MODEL_bd4ab5212fde40468f801b97e4f5cf0f",
       "style": "IPY_MODEL_4473c8148bff4d3cb910424506d2a661",
       "value": "<h2>Utterance <b>2:</b></h2>"
      }
     },
     "665a09c62df74aecbddbb3832127ebfb": {
      "model_module": "@jupyter-widgets/controls",
      "model_module_version": "1.5.0",
      "model_name": "SliderStyleModel",
      "state": {
       "description_width": ""
      }
     },
     "66d12effc7954e7081a12b46beb932e1": {
      "model_module": "@jupyter-widgets/controls",
      "model_module_version": "1.5.0",
      "model_name": "HTMLModel",
      "state": {
       "layout": "IPY_MODEL_e3c31825552345c6844281c77f881aa9",
       "style": "IPY_MODEL_2c6b83af00a54b7083c67a0464bd8fbb",
       "value": "<h2>Utterance <b>24:</b></h2>"
      }
     },
     "66dc1ae3ba4346baaacacd6472bfe095": {
      "model_module": "@jupyter-widgets/base",
      "model_module_version": "1.2.0",
      "model_name": "LayoutModel",
      "state": {}
     },
     "67105f392b4843ec8c5acd5b05b2bf36": {
      "model_module": "@jupyter-widgets/controls",
      "model_module_version": "1.5.0",
      "model_name": "HTMLModel",
      "state": {
       "layout": "IPY_MODEL_a6f22057c6da4eab8381bd1421eb768c",
       "style": "IPY_MODEL_48c14e169ca34abd84ddf715d8ea24a8",
       "value": "<h2>Utterance <b>11:</b></h2>"
      }
     },
     "6724d076453b4c93898569d91b1b92ec": {
      "model_module": "@jupyter-widgets/controls",
      "model_module_version": "1.5.0",
      "model_name": "DescriptionStyleModel",
      "state": {
       "description_width": ""
      }
     },
     "672a9519d9fb467d8a78dcc5d6268caa": {
      "model_module": "@jupyter-widgets/base",
      "model_module_version": "1.2.0",
      "model_name": "LayoutModel",
      "state": {}
     },
     "67325316cc6f48faba17b1d517231358": {
      "model_module": "@jupyter-widgets/controls",
      "model_module_version": "1.5.0",
      "model_name": "FloatSliderModel",
      "state": {
       "continuous_update": false,
       "description": "Test:",
       "layout": "IPY_MODEL_f5e3d79de3054ee6ba67c779b328cf16",
       "max": 5,
       "min": 1,
       "readout_format": ".1f",
       "step": 0.1,
       "style": "IPY_MODEL_e54d52d4ae7b4279bef750986a0185fd",
       "value": 3
      }
     },
     "674f075458194f5fb80160ac9df6bb41": {
      "model_module": "@jupyter-widgets/controls",
      "model_module_version": "1.5.0",
      "model_name": "HTMLModel",
      "state": {
       "layout": "IPY_MODEL_9b862cc95cda47c0ac4fc21c40294cc6",
       "style": "IPY_MODEL_51443800075d46339872c0ef12095146",
       "value": "<h2>Utterance <b>1:</b></h2>"
      }
     },
     "677d631029434c70bc3cad19f1c29822": {
      "model_module": "@jupyter-widgets/base",
      "model_module_version": "1.2.0",
      "model_name": "LayoutModel",
      "state": {}
     },
     "67960e49e40545319537cef90e0e7b4a": {
      "model_module": "@jupyter-widgets/controls",
      "model_module_version": "1.5.0",
      "model_name": "FloatSliderModel",
      "state": {
       "continuous_update": false,
       "description": "Test:",
       "layout": "IPY_MODEL_c36b7d4132fe4cfaae748795d2b50557",
       "max": 5,
       "min": 1,
       "readout_format": ".1f",
       "step": 0.1,
       "style": "IPY_MODEL_dcf1e13ee3c44a49a82208a918bd9457",
       "value": 3
      }
     },
     "67afcf20210845b38e7fc0fb340462f3": {
      "model_module": "@jupyter-widgets/controls",
      "model_module_version": "1.5.0",
      "model_name": "HTMLModel",
      "state": {
       "layout": "IPY_MODEL_2ec4461e2a644025a4585b478682a29a",
       "style": "IPY_MODEL_87c8d9fa0f48431a91189295d1b0e54e",
       "value": "<h2>Utterance <b>15:</b></h2>"
      }
     },
     "67b015588414420690219aae5f4faea5": {
      "model_module": "@jupyter-widgets/base",
      "model_module_version": "1.2.0",
      "model_name": "LayoutModel",
      "state": {}
     },
     "67c9e154fac5438aa1a3a7265f094ed9": {
      "model_module": "@jupyter-widgets/base",
      "model_module_version": "1.2.0",
      "model_name": "LayoutModel",
      "state": {}
     },
     "67fea9b42dc14980b41090bbce8a54f2": {
      "model_module": "@jupyter-widgets/controls",
      "model_module_version": "1.5.0",
      "model_name": "DescriptionStyleModel",
      "state": {
       "description_width": ""
      }
     },
     "6815726fc4434bb9b1c907c9d33d83e6": {
      "model_module": "@jupyter-widgets/controls",
      "model_module_version": "1.5.0",
      "model_name": "SliderStyleModel",
      "state": {
       "description_width": ""
      }
     },
     "684e46864bda4d3593e777d9e71bccb7": {
      "model_module": "@jupyter-widgets/controls",
      "model_module_version": "1.5.0",
      "model_name": "HTMLModel",
      "state": {
       "layout": "IPY_MODEL_d40c56645a594108a180da671e184495",
       "style": "IPY_MODEL_e853989833194ce8ace1653aedb061ad",
       "value": "<h2>Utterance <b>11:</b></h2>"
      }
     },
     "685c5e59237d49eb9ff32f961a2bb1fd": {
      "model_module": "@jupyter-widgets/controls",
      "model_module_version": "1.5.0",
      "model_name": "SliderStyleModel",
      "state": {
       "description_width": ""
      }
     },
     "68782270b3c546c1bf92202a99b9875b": {
      "model_module": "@jupyter-widgets/controls",
      "model_module_version": "1.5.0",
      "model_name": "SliderStyleModel",
      "state": {
       "description_width": ""
      }
     },
     "687882b9adfd45249e4194ccb70efdd8": {
      "model_module": "@jupyter-widgets/base",
      "model_module_version": "1.2.0",
      "model_name": "LayoutModel",
      "state": {}
     },
     "687f271c2f9343939a5a6d4ee66a01d5": {
      "model_module": "@jupyter-widgets/controls",
      "model_module_version": "1.5.0",
      "model_name": "DescriptionStyleModel",
      "state": {
       "description_width": ""
      }
     },
     "687fd754973f4c15a3c614817e8a3f9b": {
      "model_module": "@jupyter-widgets/controls",
      "model_module_version": "1.5.0",
      "model_name": "DescriptionStyleModel",
      "state": {
       "description_width": ""
      }
     },
     "6887dd068f40491f93b500aa66a77e52": {
      "model_module": "@jupyter-widgets/controls",
      "model_module_version": "1.5.0",
      "model_name": "HTMLModel",
      "state": {
       "layout": "IPY_MODEL_9b931e82b08042b1b26cf95be06542e8",
       "style": "IPY_MODEL_979b3b8374ee40c2882c40e897b9d926",
       "value": "<h2>Saved data! Thank you</h2>"
      }
     },
     "688a06552b3f4fa7ab84d3aab0da02e5": {
      "model_module": "@jupyter-widgets/base",
      "model_module_version": "1.2.0",
      "model_name": "LayoutModel",
      "state": {}
     },
     "68b8634dd26642f5bae93ab7aa1aa290": {
      "model_module": "@jupyter-widgets/controls",
      "model_module_version": "1.5.0",
      "model_name": "DescriptionStyleModel",
      "state": {
       "description_width": ""
      }
     },
     "68d587ea60604c8ab2a334fd782c24d0": {
      "model_module": "@jupyter-widgets/controls",
      "model_module_version": "1.5.0",
      "model_name": "FloatSliderModel",
      "state": {
       "continuous_update": false,
       "description": "Test:",
       "layout": "IPY_MODEL_9108e937aa9443d290e0032a5b99b104",
       "max": 5,
       "min": 1,
       "readout_format": ".1f",
       "step": 0.1,
       "style": "IPY_MODEL_e47aa08347004edf92bef678db93cfaa",
       "value": 3
      }
     },
     "68deacaff6f24b829decb6d29c1b9333": {
      "model_module": "@jupyter-widgets/base",
      "model_module_version": "1.2.0",
      "model_name": "LayoutModel",
      "state": {}
     },
     "68e18db0d7f741efbd7b931d92ec9133": {
      "model_module": "@jupyter-widgets/controls",
      "model_module_version": "1.5.0",
      "model_name": "FloatSliderModel",
      "state": {
       "continuous_update": false,
       "description": "Test:",
       "layout": "IPY_MODEL_42d8aaaffc0a4184b013c53e82e54962",
       "max": 5,
       "min": 1,
       "readout_format": ".1f",
       "step": 0.1,
       "style": "IPY_MODEL_03515add2fd244339f5ef68cd01dae31",
       "value": 3
      }
     },
     "69464dba4f8247e5adf3559addb766f9": {
      "model_module": "@jupyter-widgets/base",
      "model_module_version": "1.2.0",
      "model_name": "LayoutModel",
      "state": {}
     },
     "694ae2c3c730446ab0fab901f69e1780": {
      "model_module": "@jupyter-widgets/base",
      "model_module_version": "1.2.0",
      "model_name": "LayoutModel",
      "state": {}
     },
     "695aa14cffaa4892b0c9df312db54dbf": {
      "model_module": "@jupyter-widgets/controls",
      "model_module_version": "1.5.0",
      "model_name": "HTMLModel",
      "state": {
       "layout": "IPY_MODEL_afc6f8131540416ba86d9eca5a3ce129",
       "style": "IPY_MODEL_616522599092457296a02b56925e932c",
       "value": "<h2>Utterance <b>25:</b></h2>"
      }
     },
     "6960a9db1d5d406b88e362edc6882750": {
      "model_module": "@jupyter-widgets/base",
      "model_module_version": "1.2.0",
      "model_name": "LayoutModel",
      "state": {}
     },
     "6962e561fd38423ebd02e90674504edf": {
      "model_module": "@jupyter-widgets/controls",
      "model_module_version": "1.5.0",
      "model_name": "HTMLModel",
      "state": {
       "layout": "IPY_MODEL_2c70564edec04612860c5cc27c6bf32d",
       "style": "IPY_MODEL_42f73ea54b97439d98ce81691f769d02",
       "value": "<h2>Utterance <b>5:</b></h2>"
      }
     },
     "696d12ca18f84a918f2cbd8c5c8cf511": {
      "model_module": "@jupyter-widgets/base",
      "model_module_version": "1.2.0",
      "model_name": "LayoutModel",
      "state": {}
     },
     "69b80ec2339d4000bbf624b5fbe3ea43": {
      "model_module": "@jupyter-widgets/base",
      "model_module_version": "1.2.0",
      "model_name": "LayoutModel",
      "state": {}
     },
     "69b84f2a3da54d94be9e07e4ee6a1b46": {
      "model_module": "@jupyter-widgets/controls",
      "model_module_version": "1.5.0",
      "model_name": "DescriptionStyleModel",
      "state": {
       "description_width": ""
      }
     },
     "69d4069266094a69947b060767d70091": {
      "model_module": "@jupyter-widgets/base",
      "model_module_version": "1.2.0",
      "model_name": "LayoutModel",
      "state": {}
     },
     "69dbc781cb5a40288c6d2633d672fd2b": {
      "model_module": "@jupyter-widgets/base",
      "model_module_version": "1.2.0",
      "model_name": "LayoutModel",
      "state": {}
     },
     "6a10a087db804518831bf38bfa410968": {
      "model_module": "@jupyter-widgets/base",
      "model_module_version": "1.2.0",
      "model_name": "LayoutModel",
      "state": {}
     },
     "6a12c92c9bca4c168d2de5d8c0a2f290": {
      "model_module": "@jupyter-widgets/controls",
      "model_module_version": "1.5.0",
      "model_name": "FloatSliderModel",
      "state": {
       "continuous_update": false,
       "description": "Test:",
       "layout": "IPY_MODEL_4ce101fc9b3a4bd78e1599a33cad3d2f",
       "max": 5,
       "min": 1,
       "readout_format": ".1f",
       "step": 0.1,
       "style": "IPY_MODEL_fb5722132b5f4ce99b7c7dfb44ded28e",
       "value": 3
      }
     },
     "6a15c796315846938d27feb72c2f151d": {
      "model_module": "@jupyter-widgets/controls",
      "model_module_version": "1.5.0",
      "model_name": "FloatSliderModel",
      "state": {
       "continuous_update": false,
       "description": "Test:",
       "layout": "IPY_MODEL_9aa8105aa6d54d30a76582d478a52fc9",
       "max": 5,
       "min": 1,
       "readout_format": ".1f",
       "step": 0.1,
       "style": "IPY_MODEL_d7695b28320c41c1874f5ee3fd0382ef",
       "value": 3
      }
     },
     "6a2fba921164460b9f6a264afbb3b46e": {
      "model_module": "@jupyter-widgets/controls",
      "model_module_version": "1.5.0",
      "model_name": "SliderStyleModel",
      "state": {
       "description_width": ""
      }
     },
     "6a4311e8c7644ffaa69539cef6d80e7c": {
      "model_module": "@jupyter-widgets/controls",
      "model_module_version": "1.5.0",
      "model_name": "FloatSliderModel",
      "state": {
       "continuous_update": false,
       "description": "Test:",
       "layout": "IPY_MODEL_9a41934152fd4fa3aab058c2f5f89137",
       "max": 5,
       "min": 1,
       "readout_format": ".1f",
       "step": 0.1,
       "style": "IPY_MODEL_76465c2a055f4948bd7eb80b6e894e08",
       "value": 3
      }
     },
     "6a69998fa27544079abff052a79e94bf": {
      "model_module": "@jupyter-widgets/base",
      "model_module_version": "1.2.0",
      "model_name": "LayoutModel",
      "state": {}
     },
     "6a8e210b1373447c8582154ba0d39329": {
      "model_module": "@jupyter-widgets/controls",
      "model_module_version": "1.5.0",
      "model_name": "ButtonModel",
      "state": {
       "description": "Done",
       "layout": "IPY_MODEL_59287a2f97d64fedaafb8b5d8fcc21eb",
       "style": "IPY_MODEL_e99f28d4527d441499565963e47c5b3c"
      }
     },
     "6aa89f54fcf74ed796cd4e5884ccf85f": {
      "model_module": "@jupyter-widgets/base",
      "model_module_version": "1.2.0",
      "model_name": "LayoutModel",
      "state": {}
     },
     "6b156788058d4d55b7c89938d7d535e7": {
      "model_module": "@jupyter-widgets/controls",
      "model_module_version": "1.5.0",
      "model_name": "FloatSliderModel",
      "state": {
       "continuous_update": false,
       "description": "Test:",
       "layout": "IPY_MODEL_7adb6479bf1d4e15a0a3ad0c2389b8f4",
       "max": 5,
       "min": 1,
       "readout_format": ".1f",
       "step": 0.1,
       "style": "IPY_MODEL_6359ad9498a04e47beaa6cf8c6f29b0b",
       "value": 3
      }
     },
     "6b19bbc48d0b44c58ff14bdd1ceab759": {
      "model_module": "@jupyter-widgets/controls",
      "model_module_version": "1.5.0",
      "model_name": "SliderStyleModel",
      "state": {
       "description_width": ""
      }
     },
     "6b2a073ecb0d4a97b51e2cacd7ce81de": {
      "model_module": "@jupyter-widgets/base",
      "model_module_version": "1.2.0",
      "model_name": "LayoutModel",
      "state": {}
     },
     "6b31a77118994c01bfe1f80004e2852f": {
      "model_module": "@jupyter-widgets/controls",
      "model_module_version": "1.5.0",
      "model_name": "SliderStyleModel",
      "state": {
       "description_width": ""
      }
     },
     "6b33e6079b5c49999b0295e07b060d44": {
      "model_module": "@jupyter-widgets/base",
      "model_module_version": "1.2.0",
      "model_name": "LayoutModel",
      "state": {}
     },
     "6b52abd1b3c546ba9a8a1b8bb6a27fd3": {
      "model_module": "@jupyter-widgets/controls",
      "model_module_version": "1.5.0",
      "model_name": "DescriptionStyleModel",
      "state": {
       "description_width": ""
      }
     },
     "6b6c3b2cd7644f2aaa2b5b182c14748e": {
      "model_module": "@jupyter-widgets/controls",
      "model_module_version": "1.5.0",
      "model_name": "SliderStyleModel",
      "state": {
       "description_width": ""
      }
     },
     "6bbb98c45e02435e8c6dc13cd52227ae": {
      "model_module": "@jupyter-widgets/controls",
      "model_module_version": "1.5.0",
      "model_name": "FloatSliderModel",
      "state": {
       "continuous_update": false,
       "description": "Test:",
       "layout": "IPY_MODEL_263b28b7fdc5446e9aaf1592efda4fd4",
       "max": 5,
       "min": 1,
       "readout_format": ".1f",
       "step": 0.1,
       "style": "IPY_MODEL_1450b7c3ea254cc6892d2c62fc4caf03",
       "value": 3
      }
     },
     "6be0aaf59bef486c9c39a8d6df427b6d": {
      "model_module": "@jupyter-widgets/base",
      "model_module_version": "1.2.0",
      "model_name": "LayoutModel",
      "state": {}
     },
     "6c01a7592be7416299b2e8c1763fb9a3": {
      "model_module": "@jupyter-widgets/base",
      "model_module_version": "1.2.0",
      "model_name": "LayoutModel",
      "state": {}
     },
     "6c23e3d22c8a46cdb2209c38c3883000": {
      "model_module": "@jupyter-widgets/controls",
      "model_module_version": "1.5.0",
      "model_name": "FloatSliderModel",
      "state": {
       "continuous_update": false,
       "description": "Test:",
       "layout": "IPY_MODEL_ca5cf7508a1a46409c7423e8b542a563",
       "max": 5,
       "min": 1,
       "readout_format": ".1f",
       "step": 0.1,
       "style": "IPY_MODEL_f6041a856b784a65a43d135041424fc0",
       "value": 3
      }
     },
     "6c30a31f18194890beff2fc466efd7b6": {
      "model_module": "@jupyter-widgets/base",
      "model_module_version": "1.2.0",
      "model_name": "LayoutModel",
      "state": {}
     },
     "6c4eb8050f5d477d8ef3cdfd56ca1d16": {
      "model_module": "@jupyter-widgets/controls",
      "model_module_version": "1.5.0",
      "model_name": "HTMLModel",
      "state": {
       "layout": "IPY_MODEL_ad63a231b2e040ce9c12e0f27bf83c22",
       "style": "IPY_MODEL_ec63b31d9f824f78baf953c20788630a",
       "value": "<h2>Utterance <b>12:</b></h2>"
      }
     },
     "6c5ef262d05746df923a12c6e8a8fbbd": {
      "model_module": "@jupyter-widgets/controls",
      "model_module_version": "1.5.0",
      "model_name": "DescriptionStyleModel",
      "state": {
       "description_width": ""
      }
     },
     "6cc77f3e6ecf496e87aeaf3a4b18b296": {
      "model_module": "@jupyter-widgets/base",
      "model_module_version": "1.2.0",
      "model_name": "LayoutModel",
      "state": {}
     },
     "6cd5691fa73542e4b342b21e2daf9b6f": {
      "model_module": "@jupyter-widgets/controls",
      "model_module_version": "1.5.0",
      "model_name": "FloatSliderModel",
      "state": {
       "continuous_update": false,
       "description": "Test:",
       "layout": "IPY_MODEL_833233fdb39a497fa4bc8e0b2138ee4b",
       "max": 5,
       "min": 1,
       "readout_format": ".1f",
       "step": 0.1,
       "style": "IPY_MODEL_e22ce8925977424691055d1f9e8dbb27",
       "value": 3
      }
     },
     "6d121fa1ecc245bb8e5d644770456e57": {
      "model_module": "@jupyter-widgets/controls",
      "model_module_version": "1.5.0",
      "model_name": "HTMLModel",
      "state": {
       "layout": "IPY_MODEL_bd38be70388047519e080cd618dc52f8",
       "style": "IPY_MODEL_4a0a2bdbdd2146c4b9be76f91b097538",
       "value": "<h2>Utterance <b>19:</b></h2>"
      }
     },
     "6d310f81da2440acb3778b9fdf7d9f38": {
      "model_module": "@jupyter-widgets/base",
      "model_module_version": "1.2.0",
      "model_name": "LayoutModel",
      "state": {}
     },
     "6d42da50298541fabd7ac765be497794": {
      "model_module": "@jupyter-widgets/controls",
      "model_module_version": "1.5.0",
      "model_name": "HTMLModel",
      "state": {
       "layout": "IPY_MODEL_e19073529c454034888f0d36fe74b35f",
       "style": "IPY_MODEL_865bc9399e4140f7a4d79cbd9118f760",
       "value": "<h2>Utterance <b>16:</b></h2>"
      }
     },
     "6d44ae7cf08a4dd8b36a30e71b94e172": {
      "model_module": "@jupyter-widgets/controls",
      "model_module_version": "1.5.0",
      "model_name": "FloatSliderModel",
      "state": {
       "continuous_update": false,
       "description": "Test:",
       "layout": "IPY_MODEL_e4a2a5653e334c9386a3df71aeff80a6",
       "max": 5,
       "min": 1,
       "readout_format": ".1f",
       "step": 0.1,
       "style": "IPY_MODEL_e863d11e8d7f4b41925f501993eab3b0",
       "value": 3
      }
     },
     "6d4cb0f366cf4e8ebf0f831278ab7b53": {
      "model_module": "@jupyter-widgets/controls",
      "model_module_version": "1.5.0",
      "model_name": "HTMLModel",
      "state": {
       "layout": "IPY_MODEL_b2724cd2f5b34b53b9ec33ab706d3899",
       "style": "IPY_MODEL_64c3eeb6f56a42d9aa90339101027c2d",
       "value": "<h2>Utterance <b>18:</b></h2>"
      }
     },
     "6d523065cf9c499594b5d8218a3aef82": {
      "model_module": "@jupyter-widgets/controls",
      "model_module_version": "1.5.0",
      "model_name": "FloatSliderModel",
      "state": {
       "continuous_update": false,
       "description": "Test:",
       "layout": "IPY_MODEL_ecf3109487204431bdb1240500a7d8eb",
       "max": 5,
       "min": 1,
       "readout_format": ".1f",
       "step": 0.1,
       "style": "IPY_MODEL_9b041ffbbbbc446c911f8e8ea4b53d2a",
       "value": 3
      }
     },
     "6d5fcc2d8e864983a492804bae9e8886": {
      "model_module": "@jupyter-widgets/controls",
      "model_module_version": "1.5.0",
      "model_name": "SliderStyleModel",
      "state": {
       "description_width": ""
      }
     },
     "6d6db04020624edf9ea92864f17219c7": {
      "model_module": "@jupyter-widgets/controls",
      "model_module_version": "1.5.0",
      "model_name": "HTMLModel",
      "state": {
       "layout": "IPY_MODEL_b4f9ad2aacdd46cd8211e870dd6aab23",
       "style": "IPY_MODEL_6f5cb530ceb1454884686d77fc262d7e",
       "value": "<h2>Utterance <b>12:</b></h2>"
      }
     },
     "6d6faa053d0743d1b2c77e22fa821300": {
      "model_module": "@jupyter-widgets/controls",
      "model_module_version": "1.5.0",
      "model_name": "HTMLModel",
      "state": {
       "layout": "IPY_MODEL_6b2a073ecb0d4a97b51e2cacd7ce81de",
       "style": "IPY_MODEL_0f11feee53954c829f9601c43f1f0a57",
       "value": "<h2>Utterance <b>25:</b></h2>"
      }
     },
     "6d7cbb5213f64060b85c44705bc51c3b": {
      "model_module": "@jupyter-widgets/controls",
      "model_module_version": "1.5.0",
      "model_name": "DescriptionStyleModel",
      "state": {
       "description_width": ""
      }
     },
     "6d921a3852544e3b95d995d4124524ad": {
      "model_module": "@jupyter-widgets/controls",
      "model_module_version": "1.5.0",
      "model_name": "HTMLModel",
      "state": {
       "layout": "IPY_MODEL_9d830bdc793e4cdbbe4b1bc100db6112",
       "style": "IPY_MODEL_5bb6ffc6790b4de4b93118bd1818434b",
       "value": "<h2>Utterance <b>20:</b></h2>"
      }
     },
     "6d9977804785454db24ede4c75ebbc5b": {
      "model_module": "@jupyter-widgets/controls",
      "model_module_version": "1.5.0",
      "model_name": "FloatSliderModel",
      "state": {
       "continuous_update": false,
       "description": "Test:",
       "layout": "IPY_MODEL_51ea32aa86be4bdea2429524dad49ce6",
       "max": 5,
       "min": 1,
       "readout_format": ".1f",
       "step": 0.1,
       "style": "IPY_MODEL_58b9a2f68ff341e388731392a9c2f590",
       "value": 3
      }
     },
     "6da23ab8c47648c18e0f9461fc85dd12": {
      "model_module": "@jupyter-widgets/base",
      "model_module_version": "1.2.0",
      "model_name": "LayoutModel",
      "state": {}
     },
     "6ded8f7d9f784feaac44d4ebffa25f77": {
      "model_module": "@jupyter-widgets/controls",
      "model_module_version": "1.5.0",
      "model_name": "DescriptionStyleModel",
      "state": {
       "description_width": ""
      }
     },
     "6e1821262f4a454b915f425a3f06e1a6": {
      "model_module": "@jupyter-widgets/base",
      "model_module_version": "1.2.0",
      "model_name": "LayoutModel",
      "state": {}
     },
     "6e2cb3f7c0194597b6b783125e9001e5": {
      "model_module": "@jupyter-widgets/controls",
      "model_module_version": "1.5.0",
      "model_name": "HTMLModel",
      "state": {
       "layout": "IPY_MODEL_d4aa8b18531445c8b628d93912c9baa2",
       "style": "IPY_MODEL_b6fe35400ba44d41b6b10bc74ea5303f",
       "value": "<h2>Utterance <b>13:</b></h2>"
      }
     },
     "6e56a2f7980441fb8f08bd4c37ec52c2": {
      "model_module": "@jupyter-widgets/base",
      "model_module_version": "1.2.0",
      "model_name": "LayoutModel",
      "state": {}
     },
     "6e902b06d44d4329aeaefdd2f3620ee1": {
      "model_module": "@jupyter-widgets/controls",
      "model_module_version": "1.5.0",
      "model_name": "HTMLModel",
      "state": {
       "layout": "IPY_MODEL_c58cbb38df9e4e78a354cd9ec68eaedf",
       "style": "IPY_MODEL_1ad82ea572a64cddb59b5549760da184",
       "value": "<h2>Utterance <b>21:</b></h2>"
      }
     },
     "6e9c0eb3786f4d57a4eddc983dc6e63e": {
      "model_module": "@jupyter-widgets/controls",
      "model_module_version": "1.5.0",
      "model_name": "HTMLModel",
      "state": {
       "layout": "IPY_MODEL_d4646ddb9ba441269986321b1191152f",
       "style": "IPY_MODEL_37db771f2e9d4fa28213d5fe6868eb88",
       "value": "<h2>Utterance <b>6:</b></h2>"
      }
     },
     "6ebace96d3084ccaa3727e6a8557c43b": {
      "model_module": "@jupyter-widgets/base",
      "model_module_version": "1.2.0",
      "model_name": "LayoutModel",
      "state": {}
     },
     "6ebc443e57804c6d916ec503153776b2": {
      "model_module": "@jupyter-widgets/controls",
      "model_module_version": "1.5.0",
      "model_name": "DescriptionStyleModel",
      "state": {
       "description_width": ""
      }
     },
     "6f0fc1493c66466aad40fe3b8a95a3c4": {
      "model_module": "@jupyter-widgets/controls",
      "model_module_version": "1.5.0",
      "model_name": "FloatSliderModel",
      "state": {
       "continuous_update": false,
       "description": "Test:",
       "layout": "IPY_MODEL_73e8c6e969764d818f6c48128c1b715b",
       "max": 5,
       "min": 1,
       "readout_format": ".1f",
       "step": 0.1,
       "style": "IPY_MODEL_aefd107b8ba74b28b5acb43d0b7db8d5",
       "value": 3
      }
     },
     "6f44082183b041349824ca0fed32150f": {
      "model_module": "@jupyter-widgets/base",
      "model_module_version": "1.2.0",
      "model_name": "LayoutModel",
      "state": {}
     },
     "6f5cb530ceb1454884686d77fc262d7e": {
      "model_module": "@jupyter-widgets/controls",
      "model_module_version": "1.5.0",
      "model_name": "DescriptionStyleModel",
      "state": {
       "description_width": ""
      }
     },
     "6f716b39c9cf48a9be6568dba2886649": {
      "model_module": "@jupyter-widgets/controls",
      "model_module_version": "1.5.0",
      "model_name": "HTMLModel",
      "state": {
       "layout": "IPY_MODEL_9d128d9850fa4e6c88aee1c641b6112d",
       "style": "IPY_MODEL_fe251ccd39fe4e53aa05436e1374b4d1",
       "value": "<h2>Utterance <b>19:</b></h2>"
      }
     },
     "6f78bab1187b4bf386ab4aac576120fc": {
      "model_module": "@jupyter-widgets/controls",
      "model_module_version": "1.5.0",
      "model_name": "FloatSliderModel",
      "state": {
       "continuous_update": false,
       "description": "Test:",
       "layout": "IPY_MODEL_073caea018134e6c946a3fa813a4d724",
       "max": 5,
       "min": 1,
       "readout_format": ".1f",
       "step": 0.1,
       "style": "IPY_MODEL_b22065ff14df4206bd14d6b13d64cee8",
       "value": 3
      }
     },
     "6fc10313877848ba862ce21dfe0ad44d": {
      "model_module": "@jupyter-widgets/controls",
      "model_module_version": "1.5.0",
      "model_name": "FloatSliderModel",
      "state": {
       "continuous_update": false,
       "description": "Test:",
       "layout": "IPY_MODEL_4b5d5556500c4fbeb37324ac9c3e46bd",
       "max": 5,
       "min": 1,
       "readout_format": ".1f",
       "step": 0.1,
       "style": "IPY_MODEL_8f83208d56eb41f0bf779a7a122feee1",
       "value": 3
      }
     },
     "6fcc0a7e2988410c93d059d05aeb7eb9": {
      "model_module": "@jupyter-widgets/controls",
      "model_module_version": "1.5.0",
      "model_name": "SliderStyleModel",
      "state": {
       "description_width": ""
      }
     },
     "7013bd91fd4140a1a290ee2d6f1391dc": {
      "model_module": "@jupyter-widgets/controls",
      "model_module_version": "1.5.0",
      "model_name": "HTMLModel",
      "state": {
       "layout": "IPY_MODEL_352674abc2bb46be99e7e4558aca6095",
       "style": "IPY_MODEL_5476292b4dbf4d0497f30d078cc11e87",
       "value": "<h2>Utterance <b>23:</b></h2>"
      }
     },
     "702e86621d4b4bcfbfa2ad75e943bbea": {
      "model_module": "@jupyter-widgets/base",
      "model_module_version": "1.2.0",
      "model_name": "LayoutModel",
      "state": {}
     },
     "703a975bd5b240e591b331596853ceea": {
      "model_module": "@jupyter-widgets/base",
      "model_module_version": "1.2.0",
      "model_name": "LayoutModel",
      "state": {}
     },
     "70480559d0e341168f718b7b6f0d10b0": {
      "model_module": "@jupyter-widgets/controls",
      "model_module_version": "1.5.0",
      "model_name": "SliderStyleModel",
      "state": {
       "description_width": ""
      }
     },
     "7053f13d3d3247eeb84943684f7de5bf": {
      "model_module": "@jupyter-widgets/controls",
      "model_module_version": "1.5.0",
      "model_name": "SliderStyleModel",
      "state": {
       "description_width": ""
      }
     },
     "705448f3f93146fda1d08b76f661a08a": {
      "model_module": "@jupyter-widgets/controls",
      "model_module_version": "1.5.0",
      "model_name": "SliderStyleModel",
      "state": {
       "description_width": ""
      }
     },
     "7089a4c2eed04c6dad1b92e05b31ae4b": {
      "model_module": "@jupyter-widgets/controls",
      "model_module_version": "1.5.0",
      "model_name": "SliderStyleModel",
      "state": {
       "description_width": ""
      }
     },
     "708f5b4335eb4ca5bfda986ef6bb56cc": {
      "model_module": "@jupyter-widgets/base",
      "model_module_version": "1.2.0",
      "model_name": "LayoutModel",
      "state": {}
     },
     "70bae4d8575e4539aa6afd85801c39ba": {
      "model_module": "@jupyter-widgets/base",
      "model_module_version": "1.2.0",
      "model_name": "LayoutModel",
      "state": {}
     },
     "70d1bb7573a545d58636aa2492ca91af": {
      "model_module": "@jupyter-widgets/controls",
      "model_module_version": "1.5.0",
      "model_name": "SliderStyleModel",
      "state": {
       "description_width": ""
      }
     },
     "70ee21fe9ebb48b99c9adb9b0c1ed0e2": {
      "model_module": "@jupyter-widgets/controls",
      "model_module_version": "1.5.0",
      "model_name": "HTMLModel",
      "state": {
       "layout": "IPY_MODEL_794210b36d4a4b0ba5601a5e07d7f3ee",
       "style": "IPY_MODEL_46006313af4f472aa28e12675c9218c4",
       "value": "<h2>Utterance <b>11:</b></h2>"
      }
     },
     "70f7eed25b4e47b7b5d3df930c29cb3e": {
      "model_module": "@jupyter-widgets/controls",
      "model_module_version": "1.5.0",
      "model_name": "DescriptionStyleModel",
      "state": {
       "description_width": ""
      }
     },
     "710783e9a9434a39a688d9db46dc6d31": {
      "model_module": "@jupyter-widgets/controls",
      "model_module_version": "1.5.0",
      "model_name": "SliderStyleModel",
      "state": {
       "description_width": ""
      }
     },
     "711619a41d2e451084458785d9f3bdea": {
      "model_module": "@jupyter-widgets/controls",
      "model_module_version": "1.5.0",
      "model_name": "SliderStyleModel",
      "state": {
       "description_width": ""
      }
     },
     "71617a56c7f94b668d4afc55befd12fe": {
      "model_module": "@jupyter-widgets/base",
      "model_module_version": "1.2.0",
      "model_name": "LayoutModel",
      "state": {}
     },
     "7180062ffcff49df8a8956e2f5292d5b": {
      "model_module": "@jupyter-widgets/base",
      "model_module_version": "1.2.0",
      "model_name": "LayoutModel",
      "state": {}
     },
     "71aa1e2309fc433f80ad037b5be7bccc": {
      "model_module": "@jupyter-widgets/controls",
      "model_module_version": "1.5.0",
      "model_name": "FloatSliderModel",
      "state": {
       "continuous_update": false,
       "description": "Test:",
       "layout": "IPY_MODEL_a00517cabe0d4deea6cfdff74b5366b6",
       "max": 5,
       "min": 1,
       "readout_format": ".1f",
       "step": 0.1,
       "style": "IPY_MODEL_ad8e204e92934f9e9ed1ed96e5ea6a99",
       "value": 3
      }
     },
     "71b7ac5157d649d683e382c809081822": {
      "model_module": "@jupyter-widgets/controls",
      "model_module_version": "1.5.0",
      "model_name": "FloatSliderModel",
      "state": {
       "continuous_update": false,
       "description": "Test:",
       "layout": "IPY_MODEL_7180062ffcff49df8a8956e2f5292d5b",
       "max": 5,
       "min": 1,
       "readout_format": ".1f",
       "step": 0.1,
       "style": "IPY_MODEL_aa2d6042c24d4225a99b60aa54e7889a",
       "value": 3
      }
     },
     "7203bc0fdde9400790575c92014714d3": {
      "model_module": "@jupyter-widgets/controls",
      "model_module_version": "1.5.0",
      "model_name": "DescriptionStyleModel",
      "state": {
       "description_width": ""
      }
     },
     "725399fe8aa7468aa91d4978133a82c0": {
      "model_module": "@jupyter-widgets/controls",
      "model_module_version": "1.5.0",
      "model_name": "SliderStyleModel",
      "state": {
       "description_width": ""
      }
     },
     "7268a8158a1d4873896509a6b1ffa30b": {
      "model_module": "@jupyter-widgets/controls",
      "model_module_version": "1.5.0",
      "model_name": "FloatSliderModel",
      "state": {
       "continuous_update": false,
       "description": "Test:",
       "layout": "IPY_MODEL_88a09c356f1c46509c4d5e01232bb629",
       "max": 5,
       "min": 1,
       "readout_format": ".1f",
       "step": 0.1,
       "style": "IPY_MODEL_14dcc5417512406fbdeb97006c561b86",
       "value": 3
      }
     },
     "7278a8340f1349c29b06177b20586da8": {
      "model_module": "@jupyter-widgets/base",
      "model_module_version": "1.2.0",
      "model_name": "LayoutModel",
      "state": {}
     },
     "72a0fe15447948a3937083a68b1a5d05": {
      "model_module": "@jupyter-widgets/controls",
      "model_module_version": "1.5.0",
      "model_name": "SliderStyleModel",
      "state": {
       "description_width": ""
      }
     },
     "72bd21734a164c28baaac1b270161d29": {
      "model_module": "@jupyter-widgets/base",
      "model_module_version": "1.2.0",
      "model_name": "LayoutModel",
      "state": {}
     },
     "731b1a8cb85742db89ec30df6e841017": {
      "model_module": "@jupyter-widgets/base",
      "model_module_version": "1.2.0",
      "model_name": "LayoutModel",
      "state": {}
     },
     "733a7fe97b7a4f6083e2ec125d435382": {
      "model_module": "@jupyter-widgets/base",
      "model_module_version": "1.2.0",
      "model_name": "LayoutModel",
      "state": {}
     },
     "7361864f8e1e49428bb5418191d21252": {
      "model_module": "@jupyter-widgets/controls",
      "model_module_version": "1.5.0",
      "model_name": "SliderStyleModel",
      "state": {
       "description_width": ""
      }
     },
     "73b2f06f3bb04864ab7c85f2360c3ddb": {
      "model_module": "@jupyter-widgets/controls",
      "model_module_version": "1.5.0",
      "model_name": "FloatSliderModel",
      "state": {
       "continuous_update": false,
       "description": "Test:",
       "layout": "IPY_MODEL_82ea5e462ca749ef908e701f2b1322c5",
       "max": 5,
       "min": 1,
       "readout_format": ".1f",
       "step": 0.1,
       "style": "IPY_MODEL_1898763a079d4ecd99e78e7829979fcd",
       "value": 3
      }
     },
     "73d92e658bb146d78d4b6b524105b7df": {
      "model_module": "@jupyter-widgets/controls",
      "model_module_version": "1.5.0",
      "model_name": "DescriptionStyleModel",
      "state": {
       "description_width": ""
      }
     },
     "73dc51bc6eab437fbceed7dfc2e3d707": {
      "model_module": "@jupyter-widgets/controls",
      "model_module_version": "1.5.0",
      "model_name": "HTMLModel",
      "state": {
       "layout": "IPY_MODEL_08369526844e47659dd071e3a02ef5f5",
       "style": "IPY_MODEL_6724d076453b4c93898569d91b1b92ec",
       "value": "<h2>Utterance <b>3:</b></h2>"
      }
     },
     "73e8c6e969764d818f6c48128c1b715b": {
      "model_module": "@jupyter-widgets/base",
      "model_module_version": "1.2.0",
      "model_name": "LayoutModel",
      "state": {}
     },
     "73ee7877eee74c41bf0e5d498bb4d2fc": {
      "model_module": "@jupyter-widgets/controls",
      "model_module_version": "1.5.0",
      "model_name": "DescriptionStyleModel",
      "state": {
       "description_width": ""
      }
     },
     "73f493f7baaf4a8495a3059d7e58b839": {
      "model_module": "@jupyter-widgets/controls",
      "model_module_version": "1.5.0",
      "model_name": "FloatSliderModel",
      "state": {
       "continuous_update": false,
       "description": "Test:",
       "layout": "IPY_MODEL_27dc7530b31f4b8dab1830cde7a3712c",
       "max": 5,
       "min": 1,
       "readout_format": ".1f",
       "step": 0.1,
       "style": "IPY_MODEL_f3cc75a655524f579a77e665ec38658a",
       "value": 3
      }
     },
     "7416df3f406e49fe81eda5223ef44f70": {
      "model_module": "@jupyter-widgets/controls",
      "model_module_version": "1.5.0",
      "model_name": "SliderStyleModel",
      "state": {
       "description_width": ""
      }
     },
     "741a3bb824ab4d89b6a63688eaee5917": {
      "model_module": "@jupyter-widgets/controls",
      "model_module_version": "1.5.0",
      "model_name": "DescriptionStyleModel",
      "state": {
       "description_width": ""
      }
     },
     "7433158743e24f1d9e6af057c18805ad": {
      "model_module": "@jupyter-widgets/controls",
      "model_module_version": "1.5.0",
      "model_name": "DescriptionStyleModel",
      "state": {
       "description_width": ""
      }
     },
     "7444d6e5e3b942c68b9c51d4af1a9bdd": {
      "model_module": "@jupyter-widgets/base",
      "model_module_version": "1.2.0",
      "model_name": "LayoutModel",
      "state": {}
     },
     "749adefb676240ce9e2b33d225f0854f": {
      "model_module": "@jupyter-widgets/controls",
      "model_module_version": "1.5.0",
      "model_name": "SliderStyleModel",
      "state": {
       "description_width": ""
      }
     },
     "755241cc176e4dbfb0953c48528acd30": {
      "model_module": "@jupyter-widgets/base",
      "model_module_version": "1.2.0",
      "model_name": "LayoutModel",
      "state": {}
     },
     "7592092a477a4ee0b46619cae89d5149": {
      "model_module": "@jupyter-widgets/controls",
      "model_module_version": "1.5.0",
      "model_name": "SliderStyleModel",
      "state": {
       "description_width": ""
      }
     },
     "75cc5498180f4fde96c4fe348b183074": {
      "model_module": "@jupyter-widgets/controls",
      "model_module_version": "1.5.0",
      "model_name": "HTMLModel",
      "state": {
       "layout": "IPY_MODEL_5ab24dd23da74b38ab44454d7503f284",
       "style": "IPY_MODEL_cc7c14bb949445e6bd04f2a2f69030e1",
       "value": "<h2>Utterance <b>5:</b></h2>"
      }
     },
     "75d0d5ddedfa401e93f884ba4540ea78": {
      "model_module": "@jupyter-widgets/controls",
      "model_module_version": "1.5.0",
      "model_name": "SliderStyleModel",
      "state": {
       "description_width": ""
      }
     },
     "75f1be0f19cb4ee98d737f6a0d259113": {
      "model_module": "@jupyter-widgets/controls",
      "model_module_version": "1.5.0",
      "model_name": "SliderStyleModel",
      "state": {
       "description_width": ""
      }
     },
     "7605fdc418254af2a5d8ebbf935498ae": {
      "model_module": "@jupyter-widgets/base",
      "model_module_version": "1.2.0",
      "model_name": "LayoutModel",
      "state": {}
     },
     "760994d6d2f0460bb55f66710541da73": {
      "model_module": "@jupyter-widgets/controls",
      "model_module_version": "1.5.0",
      "model_name": "HTMLModel",
      "state": {
       "layout": "IPY_MODEL_e9302e23205946bb8433388f1fd04abf",
       "style": "IPY_MODEL_d6646fa0198c4b20a7d07d60f435b0b4",
       "value": "<h2>Utterance <b>17:</b></h2>"
      }
     },
     "76285d582cac4f5383f82de0ce0c0a43": {
      "model_module": "@jupyter-widgets/controls",
      "model_module_version": "1.5.0",
      "model_name": "HTMLModel",
      "state": {
       "layout": "IPY_MODEL_84139075d73c453984824ae4af3059b1",
       "style": "IPY_MODEL_85eb856c8b17472bad8c398047eec2ed",
       "value": "<h2>Utterance <b>13:</b></h2>"
      }
     },
     "76465c2a055f4948bd7eb80b6e894e08": {
      "model_module": "@jupyter-widgets/controls",
      "model_module_version": "1.5.0",
      "model_name": "SliderStyleModel",
      "state": {
       "description_width": ""
      }
     },
     "764d4f7766ab465f9585cded2c68c853": {
      "model_module": "@jupyter-widgets/controls",
      "model_module_version": "1.5.0",
      "model_name": "HTMLModel",
      "state": {
       "layout": "IPY_MODEL_3adcbd288f3b4399ba31f10e8a05af26",
       "style": "IPY_MODEL_eca1d3e01c354330ad055c454e6952db",
       "value": "<h2>Utterance <b>9:</b></h2>"
      }
     },
     "76611f5ec7fe4e82897289fef017182b": {
      "model_module": "@jupyter-widgets/controls",
      "model_module_version": "1.5.0",
      "model_name": "HTMLModel",
      "state": {
       "layout": "IPY_MODEL_244bcf39286f400d861acca7ed081237",
       "style": "IPY_MODEL_3e70521964b940d2a4db4ddf36400072",
       "value": "<h2>Utterance <b>1:</b></h2>"
      }
     },
     "767a143a0c8349c79e0dd67dd1385abe": {
      "model_module": "@jupyter-widgets/controls",
      "model_module_version": "1.5.0",
      "model_name": "HTMLModel",
      "state": {
       "layout": "IPY_MODEL_d79a4a36c48d4796a364faf2bcf284dc",
       "style": "IPY_MODEL_c9adbc36ae0c4687bbbede4793154d8c",
       "value": "<h2>Utterance <b>3:</b></h2>"
      }
     },
     "76a0d70f6d824f1aa7794fabd68d247f": {
      "model_module": "@jupyter-widgets/controls",
      "model_module_version": "1.5.0",
      "model_name": "HTMLModel",
      "state": {
       "layout": "IPY_MODEL_64cda15ba9214cce94ccc1e79e0b7898",
       "style": "IPY_MODEL_96aa6d4d9bda4456b1af23079f92c93c",
       "value": "<h2>Utterance <b>6:</b></h2>"
      }
     },
     "76be96f7d76943d2ad2d9045dc072c33": {
      "model_module": "@jupyter-widgets/base",
      "model_module_version": "1.2.0",
      "model_name": "LayoutModel",
      "state": {}
     },
     "76dde681ad6d4613b011db8b7b9d15f7": {
      "model_module": "@jupyter-widgets/base",
      "model_module_version": "1.2.0",
      "model_name": "LayoutModel",
      "state": {}
     },
     "76e14ea328d5440db0944c11b8434e18": {
      "model_module": "@jupyter-widgets/controls",
      "model_module_version": "1.5.0",
      "model_name": "FloatSliderModel",
      "state": {
       "continuous_update": false,
       "description": "Test:",
       "layout": "IPY_MODEL_98e70b25335242e1b7a54234aa5b4ffc",
       "max": 5,
       "min": 1,
       "readout_format": ".1f",
       "step": 0.1,
       "style": "IPY_MODEL_b8542cae3dee45eb80a0d52d750df3aa",
       "value": 3
      }
     },
     "773fb4440fd0466baf00289a9c482c27": {
      "model_module": "@jupyter-widgets/base",
      "model_module_version": "1.2.0",
      "model_name": "LayoutModel",
      "state": {}
     },
     "7792d571c8d94bed9eeeae506970a0ec": {
      "model_module": "@jupyter-widgets/controls",
      "model_module_version": "1.5.0",
      "model_name": "SliderStyleModel",
      "state": {
       "description_width": ""
      }
     },
     "77a62b8e7cae49268756f18dcc2991dd": {
      "model_module": "@jupyter-widgets/base",
      "model_module_version": "1.2.0",
      "model_name": "LayoutModel",
      "state": {}
     },
     "77a9fbc43525423780989c0c04506e1c": {
      "model_module": "@jupyter-widgets/base",
      "model_module_version": "1.2.0",
      "model_name": "LayoutModel",
      "state": {}
     },
     "77af88915d2942518dad7b3d5bc97a06": {
      "model_module": "@jupyter-widgets/controls",
      "model_module_version": "1.5.0",
      "model_name": "DescriptionStyleModel",
      "state": {
       "description_width": ""
      }
     },
     "77c1100004c54d6d81905ef2137be819": {
      "model_module": "@jupyter-widgets/base",
      "model_module_version": "1.2.0",
      "model_name": "LayoutModel",
      "state": {}
     },
     "785dd60eb72342688c38e3adf9ef0258": {
      "model_module": "@jupyter-widgets/base",
      "model_module_version": "1.2.0",
      "model_name": "LayoutModel",
      "state": {}
     },
     "7878cdb6e3dc47d8b674c50e5ab6db64": {
      "model_module": "@jupyter-widgets/base",
      "model_module_version": "1.2.0",
      "model_name": "LayoutModel",
      "state": {}
     },
     "7883fa78bb9840f2afb2dad7a4ad5276": {
      "model_module": "@jupyter-widgets/base",
      "model_module_version": "1.2.0",
      "model_name": "LayoutModel",
      "state": {}
     },
     "788808161e0049338c950162ec8b5fc2": {
      "model_module": "@jupyter-widgets/controls",
      "model_module_version": "1.5.0",
      "model_name": "FloatSliderModel",
      "state": {
       "continuous_update": false,
       "description": "Test:",
       "layout": "IPY_MODEL_aa726480707746a7ac2fe066c0fd881f",
       "max": 5,
       "min": 1,
       "readout_format": ".1f",
       "step": 0.1,
       "style": "IPY_MODEL_93770a7edb0f43fba440f42859d6189e",
       "value": 3
      }
     },
     "789bc877674f4b1bbf563729fc926be6": {
      "model_module": "@jupyter-widgets/base",
      "model_module_version": "1.2.0",
      "model_name": "LayoutModel",
      "state": {}
     },
     "78b77ebf88e142f6ae4f3e4d8d308775": {
      "model_module": "@jupyter-widgets/controls",
      "model_module_version": "1.5.0",
      "model_name": "SliderStyleModel",
      "state": {
       "description_width": ""
      }
     },
     "78bb6a83df1e4613acdce166e4fcaaac": {
      "model_module": "@jupyter-widgets/controls",
      "model_module_version": "1.5.0",
      "model_name": "FloatSliderModel",
      "state": {
       "continuous_update": false,
       "description": "Test:",
       "layout": "IPY_MODEL_9ab6b2dd12e246709ec0e794b2c45020",
       "max": 5,
       "min": 1,
       "readout_format": ".1f",
       "step": 0.1,
       "style": "IPY_MODEL_5c0fb7a5c9124a6b976f8c530d7baa44",
       "value": 3
      }
     },
     "78e1ed0437e14ad0a1e10a7a3d5cee57": {
      "model_module": "@jupyter-widgets/controls",
      "model_module_version": "1.5.0",
      "model_name": "FloatSliderModel",
      "state": {
       "continuous_update": false,
       "description": "Test:",
       "layout": "IPY_MODEL_9aa085904d244ae8adaa5c3b420cb26b",
       "max": 5,
       "min": 1,
       "readout_format": ".1f",
       "step": 0.1,
       "style": "IPY_MODEL_9ee9528d7bea4f9ca241a8abab05a97b",
       "value": 4.2
      }
     },
     "78fed42fbfb3432a95eb024064a01bd6": {
      "model_module": "@jupyter-widgets/controls",
      "model_module_version": "1.5.0",
      "model_name": "DescriptionStyleModel",
      "state": {
       "description_width": ""
      }
     },
     "791774bdea8a45c1b54bb37cd67333a9": {
      "model_module": "@jupyter-widgets/controls",
      "model_module_version": "1.5.0",
      "model_name": "HTMLModel",
      "state": {
       "layout": "IPY_MODEL_0c716342302e401d98ed542a8d814095",
       "style": "IPY_MODEL_926f06a20d8a4fd3adbe317cf3393f7a",
       "value": "<h2>Utterance <b>10:</b></h2>"
      }
     },
     "7921734b0ab84ffd8be1eda4cdf93333": {
      "model_module": "@jupyter-widgets/base",
      "model_module_version": "1.2.0",
      "model_name": "LayoutModel",
      "state": {}
     },
     "794210b36d4a4b0ba5601a5e07d7f3ee": {
      "model_module": "@jupyter-widgets/base",
      "model_module_version": "1.2.0",
      "model_name": "LayoutModel",
      "state": {}
     },
     "796c731aeaaa4146a34611e29a8048b9": {
      "model_module": "@jupyter-widgets/controls",
      "model_module_version": "1.5.0",
      "model_name": "ButtonModel",
      "state": {
       "description": "Done",
       "layout": "IPY_MODEL_3bdcdb6c8d3243728492719152501200",
       "style": "IPY_MODEL_edff830f14a042ef80fb2494fc77c650"
      }
     },
     "79cadae9d3eb49af81a249730357c0a8": {
      "model_module": "@jupyter-widgets/controls",
      "model_module_version": "1.5.0",
      "model_name": "FloatSliderModel",
      "state": {
       "continuous_update": false,
       "description": "Test:",
       "layout": "IPY_MODEL_02a3f33d938a4f0caaf89dcc7302f750",
       "max": 5,
       "min": 1,
       "readout_format": ".1f",
       "step": 0.1,
       "style": "IPY_MODEL_b97f439417cd41d499b288aaed0610f9",
       "value": 3
      }
     },
     "79cf096e16b54de3a890fa90bc810433": {
      "model_module": "@jupyter-widgets/base",
      "model_module_version": "1.2.0",
      "model_name": "LayoutModel",
      "state": {}
     },
     "79fddf7aa5e14b088b72698a905156b5": {
      "model_module": "@jupyter-widgets/controls",
      "model_module_version": "1.5.0",
      "model_name": "SliderStyleModel",
      "state": {
       "description_width": ""
      }
     },
     "7a039b5207254bbb8350778e91efe067": {
      "model_module": "@jupyter-widgets/controls",
      "model_module_version": "1.5.0",
      "model_name": "DescriptionStyleModel",
      "state": {
       "description_width": ""
      }
     },
     "7a21d311c36747488fb361665076b2f8": {
      "model_module": "@jupyter-widgets/base",
      "model_module_version": "1.2.0",
      "model_name": "LayoutModel",
      "state": {}
     },
     "7a39e2036a1a4e7391cd04796922f3e2": {
      "model_module": "@jupyter-widgets/base",
      "model_module_version": "1.2.0",
      "model_name": "LayoutModel",
      "state": {}
     },
     "7a523f90de744f60b6bed9ff48eed47a": {
      "model_module": "@jupyter-widgets/controls",
      "model_module_version": "1.5.0",
      "model_name": "FloatSliderModel",
      "state": {
       "continuous_update": false,
       "description": "Test:",
       "layout": "IPY_MODEL_66368323b0a14f388f3ab2de115b6658",
       "max": 5,
       "min": 1,
       "readout_format": ".1f",
       "step": 0.1,
       "style": "IPY_MODEL_f150f3b499484a05adc4ac40508b6974",
       "value": 3
      }
     },
     "7acf9baeb10b4474aee98d8c3dfdb888": {
      "model_module": "@jupyter-widgets/base",
      "model_module_version": "1.2.0",
      "model_name": "LayoutModel",
      "state": {}
     },
     "7adb6479bf1d4e15a0a3ad0c2389b8f4": {
      "model_module": "@jupyter-widgets/base",
      "model_module_version": "1.2.0",
      "model_name": "LayoutModel",
      "state": {}
     },
     "7b0597a8d6bf4d07860345ba7ef2189d": {
      "model_module": "@jupyter-widgets/base",
      "model_module_version": "1.2.0",
      "model_name": "LayoutModel",
      "state": {}
     },
     "7b30b187c7024157961572ad49114634": {
      "model_module": "@jupyter-widgets/controls",
      "model_module_version": "1.5.0",
      "model_name": "HTMLModel",
      "state": {
       "layout": "IPY_MODEL_10b523254a724aeaa197e1349f44906a",
       "style": "IPY_MODEL_5aa31888fabb415c834eada53e8353db",
       "value": "<h2>Utterance <b>1:</b></h2>"
      }
     },
     "7b3744fa923349348e5fa7f77fc1f364": {
      "model_module": "@jupyter-widgets/controls",
      "model_module_version": "1.5.0",
      "model_name": "DescriptionStyleModel",
      "state": {
       "description_width": ""
      }
     },
     "7b4241f9fd2b4b1b88d04ae29cf0f691": {
      "model_module": "@jupyter-widgets/controls",
      "model_module_version": "1.5.0",
      "model_name": "SliderStyleModel",
      "state": {
       "description_width": ""
      }
     },
     "7b4aaedf221f49ee97894a716a143dc6": {
      "model_module": "@jupyter-widgets/controls",
      "model_module_version": "1.5.0",
      "model_name": "ButtonModel",
      "state": {
       "description": "Done",
       "layout": "IPY_MODEL_b7240fdf10c84359b1702ab5622fd5b2",
       "style": "IPY_MODEL_b9fd70f49f9c4c13ae6bb9f0abff86b4"
      }
     },
     "7b4ed16fd3a74acda7a8939be13e926a": {
      "model_module": "@jupyter-widgets/controls",
      "model_module_version": "1.5.0",
      "model_name": "HTMLModel",
      "state": {
       "layout": "IPY_MODEL_f73d03b71ae94811bd65dff604ac74b8",
       "style": "IPY_MODEL_4646d951bb0d4d47b29c5fd9aec5cf4a",
       "value": "<h2>Utterance <b>21:</b></h2>"
      }
     },
     "7b61962f2a5c47e89af4888879a9317b": {
      "model_module": "@jupyter-widgets/base",
      "model_module_version": "1.2.0",
      "model_name": "LayoutModel",
      "state": {}
     },
     "7b7918a6863d4ad79d038a50605f809d": {
      "model_module": "@jupyter-widgets/base",
      "model_module_version": "1.2.0",
      "model_name": "LayoutModel",
      "state": {}
     },
     "7b820f08dc4348f4b1b33d187f056b2d": {
      "model_module": "@jupyter-widgets/controls",
      "model_module_version": "1.5.0",
      "model_name": "DescriptionStyleModel",
      "state": {
       "description_width": ""
      }
     },
     "7b9bb5d4c30e4b06aa2a3b98da7b7eeb": {
      "model_module": "@jupyter-widgets/controls",
      "model_module_version": "1.5.0",
      "model_name": "FloatSliderModel",
      "state": {
       "continuous_update": false,
       "description": "Test:",
       "layout": "IPY_MODEL_21b1ff5b9b334120b80fc0145cf1218e",
       "max": 5,
       "min": 1,
       "readout_format": ".1f",
       "step": 0.1,
       "style": "IPY_MODEL_0a45a2915571431fbc0dacb31d387c38",
       "value": 3
      }
     },
     "7bea5446172944b3b95351703f0391b5": {
      "model_module": "@jupyter-widgets/controls",
      "model_module_version": "1.5.0",
      "model_name": "FloatSliderModel",
      "state": {
       "continuous_update": false,
       "description": "Test:",
       "layout": "IPY_MODEL_3f1e73493b374b9eb72fbf8f7ea99ada",
       "max": 5,
       "min": 1,
       "readout_format": ".1f",
       "step": 0.1,
       "style": "IPY_MODEL_a1c15a2272f945e892d3a6309787676f",
       "value": 3
      }
     },
     "7beb7ddd0f8747d1ade6d657e0a3ff04": {
      "model_module": "@jupyter-widgets/base",
      "model_module_version": "1.2.0",
      "model_name": "LayoutModel",
      "state": {}
     },
     "7c0c9ef2a16e40218e9790b0b6af0b8a": {
      "model_module": "@jupyter-widgets/base",
      "model_module_version": "1.2.0",
      "model_name": "LayoutModel",
      "state": {}
     },
     "7c2bba6080d24601baa92ba26d50cfdc": {
      "model_module": "@jupyter-widgets/controls",
      "model_module_version": "1.5.0",
      "model_name": "HTMLModel",
      "state": {
       "layout": "IPY_MODEL_cfaec212989845788b9aa90e26e809de",
       "style": "IPY_MODEL_04139127b2e7436abb52282464371223",
       "value": "<h2>Utterance <b>7:</b></h2>"
      }
     },
     "7c875a6694c1403dbe2b8e55e1ff17e5": {
      "model_module": "@jupyter-widgets/controls",
      "model_module_version": "1.5.0",
      "model_name": "SliderStyleModel",
      "state": {
       "description_width": ""
      }
     },
     "7c8db6a8db6d4bde9bbbb0e4914cdd88": {
      "model_module": "@jupyter-widgets/controls",
      "model_module_version": "1.5.0",
      "model_name": "FloatSliderModel",
      "state": {
       "continuous_update": false,
       "description": "Test:",
       "layout": "IPY_MODEL_b5692095a57645e4866f017804ad7e0e",
       "max": 5,
       "min": 1,
       "readout_format": ".1f",
       "step": 0.1,
       "style": "IPY_MODEL_e9e4b4da67594046845af1a4e237196a",
       "value": 3
      }
     },
     "7ca199c281ca4641b193bd41dcc3a21a": {
      "model_module": "@jupyter-widgets/base",
      "model_module_version": "1.2.0",
      "model_name": "LayoutModel",
      "state": {}
     },
     "7ca22f4695924053910916ceb391318d": {
      "model_module": "@jupyter-widgets/base",
      "model_module_version": "1.2.0",
      "model_name": "LayoutModel",
      "state": {}
     },
     "7cb57559aff44b9b8e44fc6770f6daf1": {
      "model_module": "@jupyter-widgets/controls",
      "model_module_version": "1.5.0",
      "model_name": "DescriptionStyleModel",
      "state": {
       "description_width": ""
      }
     },
     "7cbfd285ceed4d1b9ac4bb3a4a9213c9": {
      "model_module": "@jupyter-widgets/base",
      "model_module_version": "1.2.0",
      "model_name": "LayoutModel",
      "state": {}
     },
     "7cc9c3aa6fd14bffb0d11f60c068d3d4": {
      "model_module": "@jupyter-widgets/controls",
      "model_module_version": "1.5.0",
      "model_name": "FloatSliderModel",
      "state": {
       "continuous_update": false,
       "description": "Test:",
       "layout": "IPY_MODEL_3d79a2de1a4746f5920dc831019dfd8a",
       "max": 5,
       "min": 1,
       "readout_format": ".1f",
       "step": 0.1,
       "style": "IPY_MODEL_749adefb676240ce9e2b33d225f0854f",
       "value": 3
      }
     },
     "7cd67bb160f94509b96f8f8561c39bc8": {
      "model_module": "@jupyter-widgets/controls",
      "model_module_version": "1.5.0",
      "model_name": "HTMLModel",
      "state": {
       "layout": "IPY_MODEL_80d9ba8472644cd299c404aeb2a77ef4",
       "style": "IPY_MODEL_a3377c7e711043dba9863548fe537f31",
       "value": "<h2>Utterance <b>9:</b></h2>"
      }
     },
     "7cdecf71f929474eb21bba10831703b5": {
      "model_module": "@jupyter-widgets/controls",
      "model_module_version": "1.5.0",
      "model_name": "DescriptionStyleModel",
      "state": {
       "description_width": ""
      }
     },
     "7ce139ef48a5406fbe3a9390444ef9b0": {
      "model_module": "@jupyter-widgets/controls",
      "model_module_version": "1.5.0",
      "model_name": "FloatSliderModel",
      "state": {
       "continuous_update": false,
       "description": "Test:",
       "layout": "IPY_MODEL_1fe18bccb26a4b0eb057604dbd6b60de",
       "max": 5,
       "min": 1,
       "readout_format": ".1f",
       "step": 0.1,
       "style": "IPY_MODEL_3b232f656a5049099c804a97f4c8437b",
       "value": 3
      }
     },
     "7ce6373f94284c95a6192ba6e182f074": {
      "model_module": "@jupyter-widgets/controls",
      "model_module_version": "1.5.0",
      "model_name": "FloatSliderModel",
      "state": {
       "continuous_update": false,
       "description": "Test:",
       "layout": "IPY_MODEL_237ea752890246119d037c49fc58537c",
       "max": 5,
       "min": 1,
       "readout_format": ".1f",
       "step": 0.1,
       "style": "IPY_MODEL_5e52b5c4657149f8b904e9d1995c8f0d",
       "value": 3
      }
     },
     "7d08214cb770436889c46642a8843105": {
      "model_module": "@jupyter-widgets/controls",
      "model_module_version": "1.5.0",
      "model_name": "DescriptionStyleModel",
      "state": {
       "description_width": ""
      }
     },
     "7d36d326068a4eaaacf1520d3f5843bf": {
      "model_module": "@jupyter-widgets/controls",
      "model_module_version": "1.5.0",
      "model_name": "SliderStyleModel",
      "state": {
       "description_width": ""
      }
     },
     "7d5711c58e1f4a329c560d092f97b135": {
      "model_module": "@jupyter-widgets/base",
      "model_module_version": "1.2.0",
      "model_name": "LayoutModel",
      "state": {}
     },
     "7d6f82cb632a4200b40255abe4df21df": {
      "model_module": "@jupyter-widgets/base",
      "model_module_version": "1.2.0",
      "model_name": "LayoutModel",
      "state": {}
     },
     "7d72445809c44c929b11fbcedaf2f962": {
      "model_module": "@jupyter-widgets/base",
      "model_module_version": "1.2.0",
      "model_name": "LayoutModel",
      "state": {}
     },
     "7d8d3bc2da654554b90a599e44237ec8": {
      "model_module": "@jupyter-widgets/base",
      "model_module_version": "1.2.0",
      "model_name": "LayoutModel",
      "state": {}
     },
     "7da413a5b2694e93809764fe6a795046": {
      "model_module": "@jupyter-widgets/controls",
      "model_module_version": "1.5.0",
      "model_name": "FloatSliderModel",
      "state": {
       "continuous_update": false,
       "description": "Test:",
       "layout": "IPY_MODEL_3efc6d6837c948efaf5a96b17f8a7afd",
       "max": 5,
       "min": 1,
       "readout_format": ".1f",
       "step": 0.1,
       "style": "IPY_MODEL_cfab74c711b54308a30449be056dce76",
       "value": 3
      }
     },
     "7dbdee15e0404026959016fe8788bcb8": {
      "model_module": "@jupyter-widgets/controls",
      "model_module_version": "1.5.0",
      "model_name": "DescriptionStyleModel",
      "state": {
       "description_width": ""
      }
     },
     "7dd5b3ed95ed45a9bc322b5a5abd9c41": {
      "model_module": "@jupyter-widgets/controls",
      "model_module_version": "1.5.0",
      "model_name": "DescriptionStyleModel",
      "state": {
       "description_width": ""
      }
     },
     "7dddfa0bac9941ec885c19af4bd2abb5": {
      "model_module": "@jupyter-widgets/base",
      "model_module_version": "1.2.0",
      "model_name": "LayoutModel",
      "state": {}
     },
     "7e0390aca915421181a54849887b9b10": {
      "model_module": "@jupyter-widgets/controls",
      "model_module_version": "1.5.0",
      "model_name": "HTMLModel",
      "state": {
       "layout": "IPY_MODEL_8a5b697fb63e41e2a115adabcd73f3d8",
       "style": "IPY_MODEL_08d0669da77f476bae8b2acebcd1e7a8",
       "value": "<h2>Utterance <b>24:</b></h2>"
      }
     },
     "7edb2da0d1ff4cbf9ad27d0c0c3d0786": {
      "model_module": "@jupyter-widgets/controls",
      "model_module_version": "1.5.0",
      "model_name": "DescriptionStyleModel",
      "state": {
       "description_width": ""
      }
     },
     "7eeb27ccd8014b6bb0bc4b389a609173": {
      "model_module": "@jupyter-widgets/base",
      "model_module_version": "1.2.0",
      "model_name": "LayoutModel",
      "state": {}
     },
     "7eefc6bd053b4c09bc3517b35b0e7af3": {
      "model_module": "@jupyter-widgets/base",
      "model_module_version": "1.2.0",
      "model_name": "LayoutModel",
      "state": {}
     },
     "7ef41aa080f14f859e0b4c76ad9b4c39": {
      "model_module": "@jupyter-widgets/controls",
      "model_module_version": "1.5.0",
      "model_name": "ButtonStyleModel",
      "state": {}
     },
     "7f3d390023ef449481b90e2fd36bf93e": {
      "model_module": "@jupyter-widgets/controls",
      "model_module_version": "1.5.0",
      "model_name": "DescriptionStyleModel",
      "state": {
       "description_width": ""
      }
     },
     "7f484f1c1fad4b6ea89e0e05c7484f0c": {
      "model_module": "@jupyter-widgets/controls",
      "model_module_version": "1.5.0",
      "model_name": "FloatSliderModel",
      "state": {
       "continuous_update": false,
       "description": "Test:",
       "layout": "IPY_MODEL_6c01a7592be7416299b2e8c1763fb9a3",
       "max": 5,
       "min": 1,
       "readout_format": ".1f",
       "step": 0.1,
       "style": "IPY_MODEL_f073b6771c6348c18ccc60dfc15d8d2c",
       "value": 3
      }
     },
     "7f4b1bba8ae6472cbda44b6d103be705": {
      "model_module": "@jupyter-widgets/controls",
      "model_module_version": "1.5.0",
      "model_name": "SliderStyleModel",
      "state": {
       "description_width": ""
      }
     },
     "7fa75ab590874f2e820e993bac8434e8": {
      "model_module": "@jupyter-widgets/base",
      "model_module_version": "1.2.0",
      "model_name": "LayoutModel",
      "state": {}
     },
     "7fe03ed27a484f20ba030b9495761b6a": {
      "model_module": "@jupyter-widgets/base",
      "model_module_version": "1.2.0",
      "model_name": "LayoutModel",
      "state": {}
     },
     "7fe3d4a748be42028038ac6cff83d834": {
      "model_module": "@jupyter-widgets/controls",
      "model_module_version": "1.5.0",
      "model_name": "TextModel",
      "state": {
       "description": "Name/Alias",
       "layout": "IPY_MODEL_d08fea2e67a0481daa93ac9c37be3104",
       "placeholder": "Type something like your name or id",
       "style": "IPY_MODEL_faf53f0b1fbb43998978d7b3a238dfc7"
      }
     },
     "8011de5da0fc49c786ce2042af13ce9b": {
      "model_module": "@jupyter-widgets/base",
      "model_module_version": "1.2.0",
      "model_name": "LayoutModel",
      "state": {}
     },
     "80347ee0cfa347738940050dbe900568": {
      "model_module": "@jupyter-widgets/controls",
      "model_module_version": "1.5.0",
      "model_name": "SliderStyleModel",
      "state": {
       "description_width": ""
      }
     },
     "8088e0b526ce4458b4d1719ebe809064": {
      "model_module": "@jupyter-widgets/controls",
      "model_module_version": "1.5.0",
      "model_name": "DescriptionStyleModel",
      "state": {
       "description_width": ""
      }
     },
     "80a9f1e15c684a1bb6338d4e8345024f": {
      "model_module": "@jupyter-widgets/controls",
      "model_module_version": "1.5.0",
      "model_name": "SliderStyleModel",
      "state": {
       "description_width": ""
      }
     },
     "80d9ba8472644cd299c404aeb2a77ef4": {
      "model_module": "@jupyter-widgets/base",
      "model_module_version": "1.2.0",
      "model_name": "LayoutModel",
      "state": {}
     },
     "80e4473ed83c46b39927be9676f8d1d1": {
      "model_module": "@jupyter-widgets/controls",
      "model_module_version": "1.5.0",
      "model_name": "SliderStyleModel",
      "state": {
       "description_width": ""
      }
     },
     "80e962db4f544d998d273efdbbbb7bd7": {
      "model_module": "@jupyter-widgets/controls",
      "model_module_version": "1.5.0",
      "model_name": "FloatSliderModel",
      "state": {
       "continuous_update": false,
       "description": "Test:",
       "layout": "IPY_MODEL_fb9d763a88b14b88b80c16df3143f306",
       "max": 5,
       "min": 1,
       "readout_format": ".1f",
       "step": 0.1,
       "style": "IPY_MODEL_e7b4082bba2c475083a1f8fd1b66b2d0",
       "value": 3
      }
     },
     "80f3ce8009b446bb9264ff8fdc9649a3": {
      "model_module": "@jupyter-widgets/base",
      "model_module_version": "1.2.0",
      "model_name": "LayoutModel",
      "state": {}
     },
     "8106175e7ec64740b77fcd5bc2e060d0": {
      "model_module": "@jupyter-widgets/controls",
      "model_module_version": "1.5.0",
      "model_name": "HTMLModel",
      "state": {
       "layout": "IPY_MODEL_49b78d720d0f4be4a0be10e7cbb231a7",
       "style": "IPY_MODEL_97a38ad524fc4e308b850eb45b54b960",
       "value": "<h2>Utterance <b>10:</b></h2>"
      }
     },
     "8131898527f245ad8e2ef23eb9fcdbc6": {
      "model_module": "@jupyter-widgets/controls",
      "model_module_version": "1.5.0",
      "model_name": "SliderStyleModel",
      "state": {
       "description_width": ""
      }
     },
     "81522df57c0948218fedcff8ec2767e0": {
      "model_module": "@jupyter-widgets/controls",
      "model_module_version": "1.5.0",
      "model_name": "FloatSliderModel",
      "state": {
       "continuous_update": false,
       "description": "Test:",
       "layout": "IPY_MODEL_f2f3e82f56c340ccb4831714b5b2820d",
       "max": 5,
       "min": 1,
       "readout_format": ".1f",
       "step": 0.1,
       "style": "IPY_MODEL_8815ab84f8144fbf96cb1366f3b25ccf",
       "value": 3
      }
     },
     "817c72c325b94fe387594dad2ebb4f19": {
      "model_module": "@jupyter-widgets/controls",
      "model_module_version": "1.5.0",
      "model_name": "HTMLModel",
      "state": {
       "layout": "IPY_MODEL_9bf38a9785c44a29b457d0b902aa258e",
       "style": "IPY_MODEL_819fece870f941328440534920538fe3",
       "value": "<h2>Utterance <b>12:</b></h2>"
      }
     },
     "817f9be526224726a75fe0bbf6c489e3": {
      "model_module": "@jupyter-widgets/controls",
      "model_module_version": "1.5.0",
      "model_name": "FloatSliderModel",
      "state": {
       "continuous_update": false,
       "description": "Test:",
       "layout": "IPY_MODEL_7883fa78bb9840f2afb2dad7a4ad5276",
       "max": 5,
       "min": 1,
       "readout_format": ".1f",
       "step": 0.1,
       "style": "IPY_MODEL_44a5483761c9489fa587d353fdf650c3",
       "value": 3
      }
     },
     "819fece870f941328440534920538fe3": {
      "model_module": "@jupyter-widgets/controls",
      "model_module_version": "1.5.0",
      "model_name": "DescriptionStyleModel",
      "state": {
       "description_width": ""
      }
     },
     "81be8c91e2a04077965e22b72652c109": {
      "model_module": "@jupyter-widgets/base",
      "model_module_version": "1.2.0",
      "model_name": "LayoutModel",
      "state": {}
     },
     "81c9d55501aa4eed943296f17674f3e0": {
      "model_module": "@jupyter-widgets/controls",
      "model_module_version": "1.5.0",
      "model_name": "FloatSliderModel",
      "state": {
       "continuous_update": false,
       "description": "Test:",
       "layout": "IPY_MODEL_e1e1bd149aca477c89a87f621a09e17e",
       "max": 5,
       "min": 1,
       "readout_format": ".1f",
       "step": 0.1,
       "style": "IPY_MODEL_90c6228b278a418e907e16331171ea30",
       "value": 3
      }
     },
     "81d00157f05440ccb0b20603288db2b1": {
      "model_module": "@jupyter-widgets/controls",
      "model_module_version": "1.5.0",
      "model_name": "DescriptionStyleModel",
      "state": {
       "description_width": ""
      }
     },
     "81da9dcdda614f15b38a32fd62afe427": {
      "model_module": "@jupyter-widgets/controls",
      "model_module_version": "1.5.0",
      "model_name": "HTMLModel",
      "state": {
       "layout": "IPY_MODEL_ecc616fe56cb40bda2ec8eaee8780f9e",
       "style": "IPY_MODEL_b2b4e35eb06542b2ad73bd270ef3940c",
       "value": "<h2>Saved data! Thank you</h2>"
      }
     },
     "823ab1a6723348e2ba37f9c9a2053b62": {
      "model_module": "@jupyter-widgets/base",
      "model_module_version": "1.2.0",
      "model_name": "LayoutModel",
      "state": {}
     },
     "8248be0129574bd185e86dc3a47a63e7": {
      "model_module": "@jupyter-widgets/base",
      "model_module_version": "1.2.0",
      "model_name": "LayoutModel",
      "state": {}
     },
     "824ef349dd454358a51893f912a82580": {
      "model_module": "@jupyter-widgets/controls",
      "model_module_version": "1.5.0",
      "model_name": "HTMLModel",
      "state": {
       "layout": "IPY_MODEL_e6b7e17975b94411bb3dd14e12134639",
       "style": "IPY_MODEL_7cdecf71f929474eb21bba10831703b5",
       "value": "<h1>Voice selection<br></h1><body>Thanks for participating. Please select for each utternace it percieved quality with the folowing scale:<br><ol><li>Bad</li><li>Poor</li><li>Fair</li><li>Good</li><li>Excellent</li></ol><b>Note this test is not checking how much 'Jenny like' is a voice, but rather only how it sounds </b><br>After completing the questionaire press the button and you are done. <br>Good luck and thank you.<br><br><br></body>"
      }
     },
     "827f3d5479f046a8a5529d1528e2edfd": {
      "model_module": "@jupyter-widgets/base",
      "model_module_version": "1.2.0",
      "model_name": "LayoutModel",
      "state": {}
     },
     "82bfc860195a42398acad79da3c8fadf": {
      "model_module": "@jupyter-widgets/controls",
      "model_module_version": "1.5.0",
      "model_name": "SliderStyleModel",
      "state": {
       "description_width": ""
      }
     },
     "82d3a46a53d14330b8443c019d98dc5c": {
      "model_module": "@jupyter-widgets/controls",
      "model_module_version": "1.5.0",
      "model_name": "FloatSliderModel",
      "state": {
       "continuous_update": false,
       "description": "Test:",
       "layout": "IPY_MODEL_d9c67656cdd043deb18117d74ef60bb3",
       "max": 5,
       "min": 1,
       "readout_format": ".1f",
       "step": 0.1,
       "style": "IPY_MODEL_4d8a75b39fe642108ac9a6850100644d",
       "value": 3
      }
     },
     "82ea5e462ca749ef908e701f2b1322c5": {
      "model_module": "@jupyter-widgets/base",
      "model_module_version": "1.2.0",
      "model_name": "LayoutModel",
      "state": {}
     },
     "82fac412db434d2e8356cbf9dd305d68": {
      "model_module": "@jupyter-widgets/controls",
      "model_module_version": "1.5.0",
      "model_name": "DescriptionStyleModel",
      "state": {
       "description_width": ""
      }
     },
     "8302fcc5c29d4c0791ec70be68db398e": {
      "model_module": "@jupyter-widgets/controls",
      "model_module_version": "1.5.0",
      "model_name": "HTMLModel",
      "state": {
       "layout": "IPY_MODEL_d125c6b0ddc64e0b91fb167eea40896d",
       "style": "IPY_MODEL_3fe21864675f4320ba215a9a88ca34ae",
       "value": "<h2>Utterance <b>18:</b></h2>"
      }
     },
     "8318612c54a54d5795d8d27a2bf8dbaf": {
      "model_module": "@jupyter-widgets/controls",
      "model_module_version": "1.5.0",
      "model_name": "TextModel",
      "state": {
       "description": "What is your name",
       "layout": "IPY_MODEL_e954e54ae71a4e318d4f44b6ae9149e1",
       "placeholder": "Type something",
       "style": "IPY_MODEL_079695f025074b7090d8ed281645bc99"
      }
     },
     "831f8ef864da4217817dc63a6cb08192": {
      "model_module": "@jupyter-widgets/controls",
      "model_module_version": "1.5.0",
      "model_name": "DescriptionStyleModel",
      "state": {
       "description_width": ""
      }
     },
     "833233fdb39a497fa4bc8e0b2138ee4b": {
      "model_module": "@jupyter-widgets/base",
      "model_module_version": "1.2.0",
      "model_name": "LayoutModel",
      "state": {}
     },
     "83697e4f098744158c0e6a01405def93": {
      "model_module": "@jupyter-widgets/controls",
      "model_module_version": "1.5.0",
      "model_name": "HTMLModel",
      "state": {
       "layout": "IPY_MODEL_38ed670dc4634bdf8dc046a85039bf97",
       "style": "IPY_MODEL_4f3d1addb8ca4eb1b5344ff9c9934adc",
       "value": "<h2>Utterance <b>1:</b></h2>"
      }
     },
     "838a88c0045c4ffa94a34d69bfed0aa2": {
      "model_module": "@jupyter-widgets/controls",
      "model_module_version": "1.5.0",
      "model_name": "HTMLModel",
      "state": {
       "layout": "IPY_MODEL_e567cefade164c1294095e59248b2dfd",
       "style": "IPY_MODEL_df7510012b4543dca7a2c5d9a14d0ef7",
       "value": "<h2>Utterance <b>9:</b></h2>"
      }
     },
     "84139075d73c453984824ae4af3059b1": {
      "model_module": "@jupyter-widgets/base",
      "model_module_version": "1.2.0",
      "model_name": "LayoutModel",
      "state": {}
     },
     "8416eb3f15094ac683c7eef9df58a000": {
      "model_module": "@jupyter-widgets/base",
      "model_module_version": "1.2.0",
      "model_name": "LayoutModel",
      "state": {}
     },
     "84284344c00e49b4a0f76d3ccb849e63": {
      "model_module": "@jupyter-widgets/base",
      "model_module_version": "1.2.0",
      "model_name": "LayoutModel",
      "state": {}
     },
     "8429d1cf806547488a408a7e93178060": {
      "model_module": "@jupyter-widgets/controls",
      "model_module_version": "1.5.0",
      "model_name": "SliderStyleModel",
      "state": {
       "description_width": ""
      }
     },
     "846d67c5c8b54b388bbfb9e4609370db": {
      "model_module": "@jupyter-widgets/base",
      "model_module_version": "1.2.0",
      "model_name": "LayoutModel",
      "state": {}
     },
     "8477aadadaaf4fc1ac4f4d6df8822cdb": {
      "model_module": "@jupyter-widgets/controls",
      "model_module_version": "1.5.0",
      "model_name": "DescriptionStyleModel",
      "state": {
       "description_width": ""
      }
     },
     "8479e8b4f8d246428c83bc9a5f361e0c": {
      "model_module": "@jupyter-widgets/controls",
      "model_module_version": "1.5.0",
      "model_name": "HTMLModel",
      "state": {
       "layout": "IPY_MODEL_33ae39382b6a4c8eb2095083fd70126e",
       "style": "IPY_MODEL_1dd490120d1243aab2cd227f93d3667f",
       "value": "<h1>Voice selection<br></h1><body>Thanks for participating. Please select for each utternace it percieved quality with the folowing scale:<br><ol><li>Bad</li><li>Poor</li><li>Fair</li><li>Good</li><li>Excellent</li></ol><b>Note this test is not checking how much 'Jenny like' is a voice, but rather only how it sounds </b><br>After completing the questionaire press the button and you are done. <br>Good luck and thank you.<br><br><br></body>"
      }
     },
     "847f08f683aa4d2283abfd3385366d22": {
      "model_module": "@jupyter-widgets/controls",
      "model_module_version": "1.5.0",
      "model_name": "SliderStyleModel",
      "state": {
       "description_width": ""
      }
     },
     "84811b5cac304cda989ca2d3bebeffb7": {
      "model_module": "@jupyter-widgets/base",
      "model_module_version": "1.2.0",
      "model_name": "LayoutModel",
      "state": {}
     },
     "84bfb458611d42199bcadc447e7d4c61": {
      "model_module": "@jupyter-widgets/base",
      "model_module_version": "1.2.0",
      "model_name": "LayoutModel",
      "state": {}
     },
     "84f366bf65b048aaa7e47066401e3556": {
      "model_module": "@jupyter-widgets/controls",
      "model_module_version": "1.5.0",
      "model_name": "DescriptionStyleModel",
      "state": {
       "description_width": ""
      }
     },
     "84fdbec77c55484987c40a92a3066062": {
      "model_module": "@jupyter-widgets/base",
      "model_module_version": "1.2.0",
      "model_name": "LayoutModel",
      "state": {}
     },
     "851c06a6661f468da01cfcab762284d3": {
      "model_module": "@jupyter-widgets/controls",
      "model_module_version": "1.5.0",
      "model_name": "DescriptionStyleModel",
      "state": {
       "description_width": ""
      }
     },
     "853546dc4a35444aa179c60d08cef2bf": {
      "model_module": "@jupyter-widgets/controls",
      "model_module_version": "1.5.0",
      "model_name": "SliderStyleModel",
      "state": {
       "description_width": ""
      }
     },
     "8539c778d5b44260ab9782ec12818717": {
      "model_module": "@jupyter-widgets/controls",
      "model_module_version": "1.5.0",
      "model_name": "SliderStyleModel",
      "state": {
       "description_width": ""
      }
     },
     "85494ccd14ed4c9388e5a2344c3e039c": {
      "model_module": "@jupyter-widgets/controls",
      "model_module_version": "1.5.0",
      "model_name": "SliderStyleModel",
      "state": {
       "description_width": ""
      }
     },
     "8577ea20ac3c4bf488ec950aeed6c9ed": {
      "model_module": "@jupyter-widgets/base",
      "model_module_version": "1.2.0",
      "model_name": "LayoutModel",
      "state": {}
     },
     "8589cec6a160476a875a7777cd0e77c8": {
      "model_module": "@jupyter-widgets/controls",
      "model_module_version": "1.5.0",
      "model_name": "HTMLModel",
      "state": {
       "layout": "IPY_MODEL_81be8c91e2a04077965e22b72652c109",
       "style": "IPY_MODEL_42f8e5321c8e4ea6844ec39a6110dee5",
       "value": "<h2>Utterance <b>18:</b></h2>"
      }
     },
     "858b608471434cf2ac5cd4d29e80f17b": {
      "model_module": "@jupyter-widgets/base",
      "model_module_version": "1.2.0",
      "model_name": "LayoutModel",
      "state": {}
     },
     "85a35d47ba21454a8eb0b6607e5c8c77": {
      "model_module": "@jupyter-widgets/controls",
      "model_module_version": "1.5.0",
      "model_name": "HTMLModel",
      "state": {
       "layout": "IPY_MODEL_e89e25c6f3744f32b7f2fc39e6909e06",
       "style": "IPY_MODEL_2aa11e49af8143fbbe6c88726bf905b7",
       "value": "<h2>Utterance <b>23:</b></h2>"
      }
     },
     "85eb856c8b17472bad8c398047eec2ed": {
      "model_module": "@jupyter-widgets/controls",
      "model_module_version": "1.5.0",
      "model_name": "DescriptionStyleModel",
      "state": {
       "description_width": ""
      }
     },
     "8600232068d3496a92bca92cf4e9d5cc": {
      "model_module": "@jupyter-widgets/controls",
      "model_module_version": "1.5.0",
      "model_name": "HTMLModel",
      "state": {
       "layout": "IPY_MODEL_d0b61db52ff14b99a0d48fb4d3b648c9",
       "style": "IPY_MODEL_39fd60b20eec4d5f91bfe20b1f0d2541",
       "value": "<h2>Utterance <b>17:</b></h2>"
      }
     },
     "862a7d2ce8d04459852a8e01b52766d9": {
      "model_module": "@jupyter-widgets/base",
      "model_module_version": "1.2.0",
      "model_name": "LayoutModel",
      "state": {}
     },
     "865bc9399e4140f7a4d79cbd9118f760": {
      "model_module": "@jupyter-widgets/controls",
      "model_module_version": "1.5.0",
      "model_name": "DescriptionStyleModel",
      "state": {
       "description_width": ""
      }
     },
     "86646ef637c44b5c9090404531aaff0d": {
      "model_module": "@jupyter-widgets/controls",
      "model_module_version": "1.5.0",
      "model_name": "FloatSliderModel",
      "state": {
       "continuous_update": false,
       "description": "Test:",
       "layout": "IPY_MODEL_a255f5333d524605b3be76054912d02f",
       "max": 5,
       "min": 1,
       "readout_format": ".1f",
       "step": 0.1,
       "style": "IPY_MODEL_ade299710d7f4e89801af8fec7ef7de8",
       "value": 3
      }
     },
     "866b213be183446eb774eebbed8e41e7": {
      "model_module": "@jupyter-widgets/controls",
      "model_module_version": "1.5.0",
      "model_name": "HTMLModel",
      "state": {
       "layout": "IPY_MODEL_dec552cce8aa47899fe044115a043635",
       "style": "IPY_MODEL_38dd66d7833b40a99a80941a9fe68b83",
       "value": "<h2>Utterance <b>20:</b></h2>"
      }
     },
     "8688ca990e924f5896ffd3f70b4d00b4": {
      "model_module": "@jupyter-widgets/controls",
      "model_module_version": "1.5.0",
      "model_name": "FloatSliderModel",
      "state": {
       "continuous_update": false,
       "description": "Test:",
       "layout": "IPY_MODEL_72bd21734a164c28baaac1b270161d29",
       "max": 5,
       "min": 1,
       "readout_format": ".1f",
       "step": 0.1,
       "style": "IPY_MODEL_d69db68f76514a70b74aeac40b9dda87",
       "value": 4.2
      }
     },
     "8692dd4a28b049d1b60a649810deb704": {
      "model_module": "@jupyter-widgets/base",
      "model_module_version": "1.2.0",
      "model_name": "LayoutModel",
      "state": {}
     },
     "8695535bacf64d4a9d64db62ed1fdf00": {
      "model_module": "@jupyter-widgets/controls",
      "model_module_version": "1.5.0",
      "model_name": "SliderStyleModel",
      "state": {
       "description_width": ""
      }
     },
     "86a180ddb84c4e7fa2c8fc196bab2744": {
      "model_module": "@jupyter-widgets/controls",
      "model_module_version": "1.5.0",
      "model_name": "DescriptionStyleModel",
      "state": {
       "description_width": ""
      }
     },
     "86e8c01f31bc48cf9861151a8f8b104d": {
      "model_module": "@jupyter-widgets/controls",
      "model_module_version": "1.5.0",
      "model_name": "FloatSliderModel",
      "state": {
       "continuous_update": false,
       "description": "Test:",
       "layout": "IPY_MODEL_257dc5a009ee4b8186ad350a82881472",
       "max": 5,
       "min": 1,
       "readout_format": ".1f",
       "step": 0.1,
       "style": "IPY_MODEL_e01218f953354f8ea9c812f437c29a6a",
       "value": 3
      }
     },
     "86f36c6c46a74f20bf6ce1f326746e7e": {
      "model_module": "@jupyter-widgets/controls",
      "model_module_version": "1.5.0",
      "model_name": "DescriptionStyleModel",
      "state": {
       "description_width": ""
      }
     },
     "87099a1b3b37465494467c0b2b63de0d": {
      "model_module": "@jupyter-widgets/base",
      "model_module_version": "1.2.0",
      "model_name": "LayoutModel",
      "state": {}
     },
     "871e681319ac49ae9c50f2bc76f60b6d": {
      "model_module": "@jupyter-widgets/base",
      "model_module_version": "1.2.0",
      "model_name": "LayoutModel",
      "state": {}
     },
     "875ae09f3df94c30b41b29310cd70e2e": {
      "model_module": "@jupyter-widgets/base",
      "model_module_version": "1.2.0",
      "model_name": "LayoutModel",
      "state": {}
     },
     "87686685ff78462e87c38bf6e3988e28": {
      "model_module": "@jupyter-widgets/controls",
      "model_module_version": "1.5.0",
      "model_name": "SliderStyleModel",
      "state": {
       "description_width": ""
      }
     },
     "878200546aba4c07a2e57354575a9486": {
      "model_module": "@jupyter-widgets/controls",
      "model_module_version": "1.5.0",
      "model_name": "DescriptionStyleModel",
      "state": {
       "description_width": ""
      }
     },
     "87baed6697734370a84060c1722638fe": {
      "model_module": "@jupyter-widgets/controls",
      "model_module_version": "1.5.0",
      "model_name": "SliderStyleModel",
      "state": {
       "description_width": ""
      }
     },
     "87c8d9fa0f48431a91189295d1b0e54e": {
      "model_module": "@jupyter-widgets/controls",
      "model_module_version": "1.5.0",
      "model_name": "DescriptionStyleModel",
      "state": {
       "description_width": ""
      }
     },
     "87e1f9d53d8147cfbbbfcae70161366e": {
      "model_module": "@jupyter-widgets/controls",
      "model_module_version": "1.5.0",
      "model_name": "FloatSliderModel",
      "state": {
       "continuous_update": false,
       "description": "Test:",
       "layout": "IPY_MODEL_ffb9564acae646e99116d19eacab363a",
       "max": 5,
       "min": 1,
       "readout_format": ".1f",
       "step": 0.1,
       "style": "IPY_MODEL_eed014e859c842929b1d24e30305c4ab",
       "value": 3
      }
     },
     "87f3f9eed50e4a65ae8fe6f5f38753cf": {
      "model_module": "@jupyter-widgets/controls",
      "model_module_version": "1.5.0",
      "model_name": "SliderStyleModel",
      "state": {
       "description_width": ""
      }
     },
     "87f601b899e14324904bb8ae1f6a2488": {
      "model_module": "@jupyter-widgets/controls",
      "model_module_version": "1.5.0",
      "model_name": "SliderStyleModel",
      "state": {
       "description_width": ""
      }
     },
     "87f8db8bfef44c1cb62eed26e7de8db5": {
      "model_module": "@jupyter-widgets/controls",
      "model_module_version": "1.5.0",
      "model_name": "SliderStyleModel",
      "state": {
       "description_width": ""
      }
     },
     "8815ab84f8144fbf96cb1366f3b25ccf": {
      "model_module": "@jupyter-widgets/controls",
      "model_module_version": "1.5.0",
      "model_name": "SliderStyleModel",
      "state": {
       "description_width": ""
      }
     },
     "884efcb535b04e2aacaf04377506fc67": {
      "model_module": "@jupyter-widgets/controls",
      "model_module_version": "1.5.0",
      "model_name": "SliderStyleModel",
      "state": {
       "description_width": ""
      }
     },
     "885e938fdcb24b9683fd89aa90df2b0f": {
      "model_module": "@jupyter-widgets/controls",
      "model_module_version": "1.5.0",
      "model_name": "DescriptionStyleModel",
      "state": {
       "description_width": ""
      }
     },
     "886f9ab0bb3b4207bdcbdac8630d6152": {
      "model_module": "@jupyter-widgets/controls",
      "model_module_version": "1.5.0",
      "model_name": "DescriptionStyleModel",
      "state": {
       "description_width": ""
      }
     },
     "888a2d6f2d4b4cb7a315d37c7d27e15d": {
      "model_module": "@jupyter-widgets/controls",
      "model_module_version": "1.5.0",
      "model_name": "HTMLModel",
      "state": {
       "layout": "IPY_MODEL_5e46801c5d1440d4add15653f2d56ebc",
       "style": "IPY_MODEL_3fdd4684ffd04711aa1882ebbc037985",
       "value": "<h2>Utterance <b>3:</b></h2>"
      }
     },
     "88958afd8222452aa7b194324b443045": {
      "model_module": "@jupyter-widgets/controls",
      "model_module_version": "1.5.0",
      "model_name": "DescriptionStyleModel",
      "state": {
       "description_width": ""
      }
     },
     "889dbc921a0f40a3aae67fbfd66a2530": {
      "model_module": "@jupyter-widgets/controls",
      "model_module_version": "1.5.0",
      "model_name": "FloatSliderModel",
      "state": {
       "continuous_update": false,
       "description": "Test:",
       "layout": "IPY_MODEL_1a57a2f78309480683159058298993b3",
       "max": 5,
       "min": 1,
       "readout_format": ".1f",
       "step": 0.1,
       "style": "IPY_MODEL_6b31a77118994c01bfe1f80004e2852f",
       "value": 3
      }
     },
     "88a08f4bfa654e7382cc660f64f17698": {
      "model_module": "@jupyter-widgets/controls",
      "model_module_version": "1.5.0",
      "model_name": "FloatSliderModel",
      "state": {
       "continuous_update": false,
       "description": "Test:",
       "layout": "IPY_MODEL_593c4d05f5a64daea4c4e965359e753b",
       "max": 5,
       "min": 1,
       "readout_format": ".1f",
       "step": 0.1,
       "style": "IPY_MODEL_555a78ec3f5e457c84d573062d855abf",
       "value": 3
      }
     },
     "88a09c356f1c46509c4d5e01232bb629": {
      "model_module": "@jupyter-widgets/base",
      "model_module_version": "1.2.0",
      "model_name": "LayoutModel",
      "state": {}
     },
     "88b48355937047ea95dddc91b5009f9c": {
      "model_module": "@jupyter-widgets/controls",
      "model_module_version": "1.5.0",
      "model_name": "FloatSliderModel",
      "state": {
       "continuous_update": false,
       "description": "Test:",
       "layout": "IPY_MODEL_dadeb636d2144e08a9d2f5067d26fc0c",
       "max": 5,
       "min": 1,
       "readout_format": ".1f",
       "step": 0.1,
       "style": "IPY_MODEL_8c19312204024bb992f09de762addc6a",
       "value": 3
      }
     },
     "88bb961d03804565a9ec9ce5717efbbf": {
      "model_module": "@jupyter-widgets/controls",
      "model_module_version": "1.5.0",
      "model_name": "ButtonModel",
      "state": {
       "description": "Done",
       "layout": "IPY_MODEL_619e02cf062f4bb79bae3c3cee1cfd89",
       "style": "IPY_MODEL_90f2812fda4f4218a00ba68955b189e0"
      }
     },
     "88f8ead56d21461583422010727c63a3": {
      "model_module": "@jupyter-widgets/base",
      "model_module_version": "1.2.0",
      "model_name": "LayoutModel",
      "state": {}
     },
     "89050332bcc141439beb36d52f4d9b46": {
      "model_module": "@jupyter-widgets/controls",
      "model_module_version": "1.5.0",
      "model_name": "SliderStyleModel",
      "state": {
       "description_width": ""
      }
     },
     "89173b1ed51d4a168dd269b5d7371e94": {
      "model_module": "@jupyter-widgets/base",
      "model_module_version": "1.2.0",
      "model_name": "LayoutModel",
      "state": {}
     },
     "89322432d4c54251a10026185d859352": {
      "model_module": "@jupyter-widgets/controls",
      "model_module_version": "1.5.0",
      "model_name": "DescriptionStyleModel",
      "state": {
       "description_width": ""
      }
     },
     "89339ff2ed3a4387b25f3019232f174a": {
      "model_module": "@jupyter-widgets/base",
      "model_module_version": "1.2.0",
      "model_name": "LayoutModel",
      "state": {}
     },
     "894a5fa8a61f4cd0b412208ea891c96b": {
      "model_module": "@jupyter-widgets/controls",
      "model_module_version": "1.5.0",
      "model_name": "FloatSliderModel",
      "state": {
       "continuous_update": false,
       "description": "Test:",
       "layout": "IPY_MODEL_3f1a1f8c4af942679736f15ff813c9d1",
       "max": 5,
       "min": 1,
       "readout_format": ".1f",
       "step": 0.1,
       "style": "IPY_MODEL_a9e8b2d573034032a8dd9907e9987d87",
       "value": 3
      }
     },
     "8963173b797241c0bd8e056d80eb2c36": {
      "model_module": "@jupyter-widgets/base",
      "model_module_version": "1.2.0",
      "model_name": "LayoutModel",
      "state": {}
     },
     "896b779e1f2e4029b04f433f7482b005": {
      "model_module": "@jupyter-widgets/controls",
      "model_module_version": "1.5.0",
      "model_name": "FloatSliderModel",
      "state": {
       "continuous_update": false,
       "description": "Test:",
       "layout": "IPY_MODEL_ab2f83ca578a465a98f412f83cc10899",
       "max": 5,
       "min": 1,
       "readout_format": ".1f",
       "step": 0.1,
       "style": "IPY_MODEL_14dec4d0474f45b187335bf6d73b3487",
       "value": 3
      }
     },
     "896d92af6bf94674971b0fb12e5efba5": {
      "model_module": "@jupyter-widgets/controls",
      "model_module_version": "1.5.0",
      "model_name": "DescriptionStyleModel",
      "state": {
       "description_width": ""
      }
     },
     "89742b96d23f4f0ab9507b2be4440b88": {
      "model_module": "@jupyter-widgets/controls",
      "model_module_version": "1.5.0",
      "model_name": "DescriptionStyleModel",
      "state": {
       "description_width": ""
      }
     },
     "89a015b05aea4f51b4d6f272beef55d8": {
      "model_module": "@jupyter-widgets/controls",
      "model_module_version": "1.5.0",
      "model_name": "HTMLModel",
      "state": {
       "layout": "IPY_MODEL_bdcfd94d197845ad8e77c6523756c4d8",
       "style": "IPY_MODEL_5de28d3f5605443b9b4f84feca22bcdf",
       "value": "<h2>Utterance <b>21:</b></h2>"
      }
     },
     "89f2b2a8e8e749b9a069958f07f26064": {
      "model_module": "@jupyter-widgets/base",
      "model_module_version": "1.2.0",
      "model_name": "LayoutModel",
      "state": {}
     },
     "8a0c1e1179e34a5e96348b95aa193280": {
      "model_module": "@jupyter-widgets/base",
      "model_module_version": "1.2.0",
      "model_name": "LayoutModel",
      "state": {}
     },
     "8a132915ae0f4f4fafa86980d063f714": {
      "model_module": "@jupyter-widgets/base",
      "model_module_version": "1.2.0",
      "model_name": "LayoutModel",
      "state": {}
     },
     "8a1c7c0eaae14e0581d1f67a7a68afda": {
      "model_module": "@jupyter-widgets/controls",
      "model_module_version": "1.5.0",
      "model_name": "DescriptionStyleModel",
      "state": {
       "description_width": ""
      }
     },
     "8a1ff1e7e24f4e038ab82c117c47e996": {
      "model_module": "@jupyter-widgets/base",
      "model_module_version": "1.2.0",
      "model_name": "LayoutModel",
      "state": {}
     },
     "8a2d63e810134156a7dd4dcaeee725cc": {
      "model_module": "@jupyter-widgets/controls",
      "model_module_version": "1.5.0",
      "model_name": "FloatSliderModel",
      "state": {
       "continuous_update": false,
       "description": "Test:",
       "layout": "IPY_MODEL_9283c9f4eead4e46bb3655fb6dbdf094",
       "max": 5,
       "min": 1,
       "readout_format": ".1f",
       "step": 0.1,
       "style": "IPY_MODEL_d16b53d563e2432988ef0f6d587cdbf2",
       "value": 3
      }
     },
     "8a42bed6bafd4fa4930ee8f64ee1370c": {
      "model_module": "@jupyter-widgets/base",
      "model_module_version": "1.2.0",
      "model_name": "LayoutModel",
      "state": {}
     },
     "8a5b697fb63e41e2a115adabcd73f3d8": {
      "model_module": "@jupyter-widgets/base",
      "model_module_version": "1.2.0",
      "model_name": "LayoutModel",
      "state": {}
     },
     "8a64fd2988ad40efaf09fce43a6e2337": {
      "model_module": "@jupyter-widgets/controls",
      "model_module_version": "1.5.0",
      "model_name": "SliderStyleModel",
      "state": {
       "description_width": ""
      }
     },
     "8a93d5cdc2e34eb0812fb29d0485ea53": {
      "model_module": "@jupyter-widgets/base",
      "model_module_version": "1.2.0",
      "model_name": "LayoutModel",
      "state": {}
     },
     "8a974b2973734ed0978e8519332f11d9": {
      "model_module": "@jupyter-widgets/controls",
      "model_module_version": "1.5.0",
      "model_name": "FloatSliderModel",
      "state": {
       "continuous_update": false,
       "description": "Test:",
       "layout": "IPY_MODEL_b72dd03ba6d343139ce0c95558b88350",
       "max": 5,
       "min": 1,
       "readout_format": ".1f",
       "step": 0.1,
       "style": "IPY_MODEL_169b1b1fbd404a6bade925f1eb84f7b4",
       "value": 3
      }
     },
     "8aae8e2bd392461792aca7ae8cb362cd": {
      "model_module": "@jupyter-widgets/controls",
      "model_module_version": "1.5.0",
      "model_name": "FloatSliderModel",
      "state": {
       "continuous_update": false,
       "description": "Test:",
       "layout": "IPY_MODEL_07115627f5b443b2ac7a01f0b434607a",
       "max": 5,
       "min": 1,
       "readout_format": ".1f",
       "step": 0.1,
       "style": "IPY_MODEL_08636a1d056c4316b25b3c751ee67ed7",
       "value": 3
      }
     },
     "8acb6d348ebd428e9574e469ef6575e8": {
      "model_module": "@jupyter-widgets/base",
      "model_module_version": "1.2.0",
      "model_name": "LayoutModel",
      "state": {}
     },
     "8b0312561d6e42eeb8fb6b92577db42a": {
      "model_module": "@jupyter-widgets/base",
      "model_module_version": "1.2.0",
      "model_name": "LayoutModel",
      "state": {}
     },
     "8b521792776546fb8bb698ca964ffdb8": {
      "model_module": "@jupyter-widgets/controls",
      "model_module_version": "1.5.0",
      "model_name": "SliderStyleModel",
      "state": {
       "description_width": ""
      }
     },
     "8b76f01fbaaf4f14965302c737a43021": {
      "model_module": "@jupyter-widgets/controls",
      "model_module_version": "1.5.0",
      "model_name": "DescriptionStyleModel",
      "state": {
       "description_width": ""
      }
     },
     "8b86f71857e045d7a82728c233561df5": {
      "model_module": "@jupyter-widgets/controls",
      "model_module_version": "1.5.0",
      "model_name": "DescriptionStyleModel",
      "state": {
       "description_width": ""
      }
     },
     "8b8a047f24874b4faa4b03031104bf19": {
      "model_module": "@jupyter-widgets/base",
      "model_module_version": "1.2.0",
      "model_name": "LayoutModel",
      "state": {}
     },
     "8b9321643e2546008123701b2e827041": {
      "model_module": "@jupyter-widgets/controls",
      "model_module_version": "1.5.0",
      "model_name": "FloatSliderModel",
      "state": {
       "continuous_update": false,
       "description": "Test:",
       "layout": "IPY_MODEL_9c0514e4bb7c4511be2c1557118ef17c",
       "max": 5,
       "min": 1,
       "readout_format": ".1f",
       "step": 0.1,
       "style": "IPY_MODEL_937b7940927e44548ca4380141b5dd20",
       "value": 3
      }
     },
     "8ba510a1e4aa45c5a364c46906480715": {
      "model_module": "@jupyter-widgets/base",
      "model_module_version": "1.2.0",
      "model_name": "LayoutModel",
      "state": {}
     },
     "8bc5aa55678f485f846a874aef1e7227": {
      "model_module": "@jupyter-widgets/controls",
      "model_module_version": "1.5.0",
      "model_name": "DescriptionStyleModel",
      "state": {
       "description_width": ""
      }
     },
     "8bc947f81d55448da14732146a07e9d3": {
      "model_module": "@jupyter-widgets/controls",
      "model_module_version": "1.5.0",
      "model_name": "FloatSliderModel",
      "state": {
       "continuous_update": false,
       "description": "Test:",
       "layout": "IPY_MODEL_dc20a24f99dd472ab00b0e7dbf8c705e",
       "max": 5,
       "min": 1,
       "readout_format": ".1f",
       "step": 0.1,
       "style": "IPY_MODEL_91842097fcc540b286e47db250dead0b",
       "value": 3
      }
     },
     "8bd3bbc87d2b42298b1c4ccce3621118": {
      "model_module": "@jupyter-widgets/controls",
      "model_module_version": "1.5.0",
      "model_name": "SliderStyleModel",
      "state": {
       "description_width": ""
      }
     },
     "8bfcce4e14354de1bbfe5c6238495727": {
      "model_module": "@jupyter-widgets/controls",
      "model_module_version": "1.5.0",
      "model_name": "DescriptionStyleModel",
      "state": {
       "description_width": ""
      }
     },
     "8c0da48fda3c4f83be0964ed3a6e4b11": {
      "model_module": "@jupyter-widgets/controls",
      "model_module_version": "1.5.0",
      "model_name": "HTMLModel",
      "state": {
       "layout": "IPY_MODEL_570941fb56024198bfe2a0d21e556d50",
       "style": "IPY_MODEL_17d129a52c374c8c970e4a36cd945332",
       "value": "<h2>Utterance <b>25:</b></h2>"
      }
     },
     "8c19312204024bb992f09de762addc6a": {
      "model_module": "@jupyter-widgets/controls",
      "model_module_version": "1.5.0",
      "model_name": "SliderStyleModel",
      "state": {
       "description_width": ""
      }
     },
     "8c4d33a852b74763abc9eed93d07c7af": {
      "model_module": "@jupyter-widgets/controls",
      "model_module_version": "1.5.0",
      "model_name": "HTMLModel",
      "state": {
       "layout": "IPY_MODEL_7d5711c58e1f4a329c560d092f97b135",
       "style": "IPY_MODEL_36837852f61d4455af710559bdbb84d8",
       "value": "<h2>Utterance <b>13:</b></h2>"
      }
     },
     "8cde71baf27b4c0cb0f1832c9f792d27": {
      "model_module": "@jupyter-widgets/controls",
      "model_module_version": "1.5.0",
      "model_name": "HTMLModel",
      "state": {
       "layout": "IPY_MODEL_7d72445809c44c929b11fbcedaf2f962",
       "style": "IPY_MODEL_d5c1cc29d3034e268a023e97dea55fde",
       "value": "<h2>Utterance <b>12:</b></h2>"
      }
     },
     "8ce6cc5cb0054457aec68a533a1edd64": {
      "model_module": "@jupyter-widgets/controls",
      "model_module_version": "1.5.0",
      "model_name": "SliderStyleModel",
      "state": {
       "description_width": ""
      }
     },
     "8ce9143cb6b1431db0f5f280c4ef07e5": {
      "model_module": "@jupyter-widgets/controls",
      "model_module_version": "1.5.0",
      "model_name": "SliderStyleModel",
      "state": {
       "description_width": ""
      }
     },
     "8d041faaa7c4492482d11cce6c70b3fe": {
      "model_module": "@jupyter-widgets/base",
      "model_module_version": "1.2.0",
      "model_name": "LayoutModel",
      "state": {}
     },
     "8d42406e68b140dda03e8ea85a640e25": {
      "model_module": "@jupyter-widgets/controls",
      "model_module_version": "1.5.0",
      "model_name": "SliderStyleModel",
      "state": {
       "description_width": ""
      }
     },
     "8d4bab6b60154654a100e006ecd91910": {
      "model_module": "@jupyter-widgets/base",
      "model_module_version": "1.2.0",
      "model_name": "LayoutModel",
      "state": {}
     },
     "8d606c9293c740bd834c3f419b92f460": {
      "model_module": "@jupyter-widgets/controls",
      "model_module_version": "1.5.0",
      "model_name": "HTMLModel",
      "state": {
       "layout": "IPY_MODEL_d1c619885e87442f830125ec94b1d220",
       "style": "IPY_MODEL_488395e68e504bd5aa1a906ee9c55697",
       "value": "<h2>Utterance <b>3:</b></h2>"
      }
     },
     "8d81972f8399470eaa021ce883ac4200": {
      "model_module": "@jupyter-widgets/base",
      "model_module_version": "1.2.0",
      "model_name": "LayoutModel",
      "state": {}
     },
     "8d86364c2a1a414e917ddbc80b90ec28": {
      "model_module": "@jupyter-widgets/controls",
      "model_module_version": "1.5.0",
      "model_name": "SliderStyleModel",
      "state": {
       "description_width": ""
      }
     },
     "8d9cf9ebb5954f1498e32fd6b9804e59": {
      "model_module": "@jupyter-widgets/controls",
      "model_module_version": "1.5.0",
      "model_name": "SliderStyleModel",
      "state": {
       "description_width": ""
      }
     },
     "8e29670dba2d4466b495bb2a9cfd9303": {
      "model_module": "@jupyter-widgets/base",
      "model_module_version": "1.2.0",
      "model_name": "LayoutModel",
      "state": {}
     },
     "8e7fbfb70a6e4d768f815f1ba1e17cee": {
      "model_module": "@jupyter-widgets/controls",
      "model_module_version": "1.5.0",
      "model_name": "HTMLModel",
      "state": {
       "layout": "IPY_MODEL_f64fd760a20a4984a49758bd90c4851a",
       "style": "IPY_MODEL_6400fb4f7e1147918636474990efbdc8",
       "value": "<h2>Utterance <b>21:</b></h2>"
      }
     },
     "8e901b2dccf0498b8b1d6a0e1bd70b95": {
      "model_module": "@jupyter-widgets/base",
      "model_module_version": "1.2.0",
      "model_name": "LayoutModel",
      "state": {}
     },
     "8ec1289722864404bd9490d1c02d73db": {
      "model_module": "@jupyter-widgets/controls",
      "model_module_version": "1.5.0",
      "model_name": "SliderStyleModel",
      "state": {
       "description_width": ""
      }
     },
     "8ec60cb7f8e040d5b7068257814aa049": {
      "model_module": "@jupyter-widgets/base",
      "model_module_version": "1.2.0",
      "model_name": "LayoutModel",
      "state": {}
     },
     "8eeae6fd40324959a938f217dc1e31ef": {
      "model_module": "@jupyter-widgets/base",
      "model_module_version": "1.2.0",
      "model_name": "LayoutModel",
      "state": {}
     },
     "8ef06c5d96d749b597d58eea677aee0f": {
      "model_module": "@jupyter-widgets/controls",
      "model_module_version": "1.5.0",
      "model_name": "FloatSliderModel",
      "state": {
       "continuous_update": false,
       "description": "Test:",
       "layout": "IPY_MODEL_731b1a8cb85742db89ec30df6e841017",
       "max": 5,
       "min": 1,
       "readout_format": ".1f",
       "step": 0.1,
       "style": "IPY_MODEL_b91b2182696e412e9be4203a23ce8e98",
       "value": 3
      }
     },
     "8f0eda4e4a0a4692b7e50e8caefe72d5": {
      "model_module": "@jupyter-widgets/controls",
      "model_module_version": "1.5.0",
      "model_name": "FloatSliderModel",
      "state": {
       "continuous_update": false,
       "description": "Test:",
       "layout": "IPY_MODEL_2372a34d98244c1ba750e52d5f6f57f2",
       "max": 5,
       "min": 1,
       "readout_format": ".1f",
       "step": 0.1,
       "style": "IPY_MODEL_cc42029cb20d43d6be348023ffc8393d",
       "value": 3
      }
     },
     "8f1c34d911c54c0bb640d1e71f933de9": {
      "model_module": "@jupyter-widgets/controls",
      "model_module_version": "1.5.0",
      "model_name": "TextModel",
      "state": {
       "description": "Name:",
       "layout": "IPY_MODEL_520ba0b59b2243f9b844ecb6e5425189",
       "placeholder": "Type something like your name or id",
       "style": "IPY_MODEL_cc520fd1f8214ea5810f8f69ec1d69bb"
      }
     },
     "8f83208d56eb41f0bf779a7a122feee1": {
      "model_module": "@jupyter-widgets/controls",
      "model_module_version": "1.5.0",
      "model_name": "SliderStyleModel",
      "state": {
       "description_width": ""
      }
     },
     "8f92f24193b2420bba2d815c6239518e": {
      "model_module": "@jupyter-widgets/controls",
      "model_module_version": "1.5.0",
      "model_name": "SliderStyleModel",
      "state": {
       "description_width": ""
      }
     },
     "8fc115aed02941bab90e496f391fadb4": {
      "model_module": "@jupyter-widgets/controls",
      "model_module_version": "1.5.0",
      "model_name": "FloatSliderModel",
      "state": {
       "continuous_update": false,
       "description": "Test:",
       "layout": "IPY_MODEL_b2e4fae3d5124c579c47d2fbf8567dae",
       "max": 5,
       "min": 1,
       "readout_format": ".1f",
       "step": 0.1,
       "style": "IPY_MODEL_baae74f089b047cea77d6497512f460a",
       "value": 3
      }
     },
     "8fcb7eee4e904481aa02b6424713c0b7": {
      "model_module": "@jupyter-widgets/controls",
      "model_module_version": "1.5.0",
      "model_name": "SliderStyleModel",
      "state": {
       "description_width": ""
      }
     },
     "8fd11f4723024fac9fb0192f9b4b5fb9": {
      "model_module": "@jupyter-widgets/controls",
      "model_module_version": "1.5.0",
      "model_name": "FloatSliderModel",
      "state": {
       "continuous_update": false,
       "description": "Test:",
       "layout": "IPY_MODEL_4f45a26647cc4d45ae07f0a482525f5f",
       "max": 5,
       "min": 1,
       "readout_format": ".1f",
       "step": 0.1,
       "style": "IPY_MODEL_0635b45665234c4292dc1adf08a22fb0",
       "value": 3
      }
     },
     "905456a2da084069ab245ba85b23c70b": {
      "model_module": "@jupyter-widgets/controls",
      "model_module_version": "1.5.0",
      "model_name": "FloatSliderModel",
      "state": {
       "continuous_update": false,
       "description": "Test:",
       "layout": "IPY_MODEL_de5f0bf636b84e7db0f5b51f635305d9",
       "max": 5,
       "min": 1,
       "readout_format": ".1f",
       "step": 0.1,
       "style": "IPY_MODEL_4395fd8724f94e38810ccfcfcafc316e",
       "value": 3
      }
     },
     "906dde52986c4a0e9c42f68021d8393b": {
      "model_module": "@jupyter-widgets/controls",
      "model_module_version": "1.5.0",
      "model_name": "HTMLModel",
      "state": {
       "layout": "IPY_MODEL_6a69998fa27544079abff052a79e94bf",
       "style": "IPY_MODEL_687f271c2f9343939a5a6d4ee66a01d5",
       "value": "<h2>Utterance <b>17:</b></h2>"
      }
     },
     "90c6228b278a418e907e16331171ea30": {
      "model_module": "@jupyter-widgets/controls",
      "model_module_version": "1.5.0",
      "model_name": "SliderStyleModel",
      "state": {
       "description_width": ""
      }
     },
     "90d50f4dec5e4c59960d48d0b0ee0b26": {
      "model_module": "@jupyter-widgets/controls",
      "model_module_version": "1.5.0",
      "model_name": "SliderStyleModel",
      "state": {
       "description_width": ""
      }
     },
     "90f2812fda4f4218a00ba68955b189e0": {
      "model_module": "@jupyter-widgets/controls",
      "model_module_version": "1.5.0",
      "model_name": "ButtonStyleModel",
      "state": {}
     },
     "910426d31ad64ed0af06f0fdb9c85ef4": {
      "model_module": "@jupyter-widgets/base",
      "model_module_version": "1.2.0",
      "model_name": "LayoutModel",
      "state": {}
     },
     "9108e937aa9443d290e0032a5b99b104": {
      "model_module": "@jupyter-widgets/base",
      "model_module_version": "1.2.0",
      "model_name": "LayoutModel",
      "state": {}
     },
     "9139e3e4eddc4bd38c0c273a05821dad": {
      "model_module": "@jupyter-widgets/base",
      "model_module_version": "1.2.0",
      "model_name": "LayoutModel",
      "state": {}
     },
     "915c44a6488d4ba9bf6dfda52742cd78": {
      "model_module": "@jupyter-widgets/base",
      "model_module_version": "1.2.0",
      "model_name": "LayoutModel",
      "state": {}
     },
     "916d3ab491a04ed3a00c3bf188bc2c4a": {
      "model_module": "@jupyter-widgets/controls",
      "model_module_version": "1.5.0",
      "model_name": "FloatSliderModel",
      "state": {
       "continuous_update": false,
       "description": "Test:",
       "layout": "IPY_MODEL_8a132915ae0f4f4fafa86980d063f714",
       "max": 5,
       "min": 1,
       "readout_format": ".1f",
       "step": 0.1,
       "style": "IPY_MODEL_8695535bacf64d4a9d64db62ed1fdf00",
       "value": 3
      }
     },
     "916d639ac8384c509a544b53b17fccef": {
      "model_module": "@jupyter-widgets/base",
      "model_module_version": "1.2.0",
      "model_name": "LayoutModel",
      "state": {}
     },
     "91842097fcc540b286e47db250dead0b": {
      "model_module": "@jupyter-widgets/controls",
      "model_module_version": "1.5.0",
      "model_name": "SliderStyleModel",
      "state": {
       "description_width": ""
      }
     },
     "9185e0eddaf84d4eaf65f75dadb1e2cc": {
      "model_module": "@jupyter-widgets/base",
      "model_module_version": "1.2.0",
      "model_name": "LayoutModel",
      "state": {}
     },
     "9197ac6481ab496792f43ffa6bb8173d": {
      "model_module": "@jupyter-widgets/base",
      "model_module_version": "1.2.0",
      "model_name": "LayoutModel",
      "state": {}
     },
     "91ccbca0a48e41d4adf649031661a2ce": {
      "model_module": "@jupyter-widgets/controls",
      "model_module_version": "1.5.0",
      "model_name": "SliderStyleModel",
      "state": {
       "description_width": ""
      }
     },
     "91d04fc47903469f968c6c3660b4de47": {
      "model_module": "@jupyter-widgets/controls",
      "model_module_version": "1.5.0",
      "model_name": "HTMLModel",
      "state": {
       "layout": "IPY_MODEL_c0ee92ea966f4146bc43b77bae33cec7",
       "style": "IPY_MODEL_add72119b88b47b69cf31383c86516ea",
       "value": "<h2>Utterance <b>17:</b></h2>"
      }
     },
     "91edbd9917154a5aabbcf7d4bcdb0982": {
      "model_module": "@jupyter-widgets/controls",
      "model_module_version": "1.5.0",
      "model_name": "HTMLModel",
      "state": {
       "layout": "IPY_MODEL_89f2b2a8e8e749b9a069958f07f26064",
       "style": "IPY_MODEL_b044fcac023748ad8b514b1d6776908d",
       "value": "<h2>Utterance <b>11:</b></h2>"
      }
     },
     "91f0bd194882485d8a9865bf4a8bf56c": {
      "model_module": "@jupyter-widgets/controls",
      "model_module_version": "1.5.0",
      "model_name": "DescriptionStyleModel",
      "state": {
       "description_width": ""
      }
     },
     "9221555696fb461795e80029e6458ca9": {
      "model_module": "@jupyter-widgets/base",
      "model_module_version": "1.2.0",
      "model_name": "LayoutModel",
      "state": {}
     },
     "9240370084314760acde46389e957c9b": {
      "model_module": "@jupyter-widgets/controls",
      "model_module_version": "1.5.0",
      "model_name": "SliderStyleModel",
      "state": {
       "description_width": ""
      }
     },
     "9250c50370344b46b39b7d24796e2eab": {
      "model_module": "@jupyter-widgets/controls",
      "model_module_version": "1.5.0",
      "model_name": "FloatSliderModel",
      "state": {
       "continuous_update": false,
       "description": "Test:",
       "layout": "IPY_MODEL_f94ffe9d8e7f4d24a3cb0e221089a737",
       "max": 5,
       "min": 1,
       "readout_format": ".1f",
       "step": 0.1,
       "style": "IPY_MODEL_48e27bc39592490a8942ba85dc90925a",
       "value": 3
      }
     },
     "92517659e9c2484eb0194b16f7bcdc4b": {
      "model_module": "@jupyter-widgets/controls",
      "model_module_version": "1.5.0",
      "model_name": "HTMLModel",
      "state": {
       "layout": "IPY_MODEL_b5e8c06d100e424f8a5ecc25e80af415",
       "style": "IPY_MODEL_b6278b8d0760484da19bb9cdf42f40f7",
       "value": "<h2>Utterance <b>4:</b></h2>"
      }
     },
     "9258175fd94545eeb4fc47f0fef7cd31": {
      "model_module": "@jupyter-widgets/controls",
      "model_module_version": "1.5.0",
      "model_name": "HTMLModel",
      "state": {
       "layout": "IPY_MODEL_6cc77f3e6ecf496e87aeaf3a4b18b296",
       "style": "IPY_MODEL_6c5ef262d05746df923a12c6e8a8fbbd",
       "value": "<h2>Utterance <b>16:</b></h2>"
      }
     },
     "926f06a20d8a4fd3adbe317cf3393f7a": {
      "model_module": "@jupyter-widgets/controls",
      "model_module_version": "1.5.0",
      "model_name": "DescriptionStyleModel",
      "state": {
       "description_width": ""
      }
     },
     "9283c9f4eead4e46bb3655fb6dbdf094": {
      "model_module": "@jupyter-widgets/base",
      "model_module_version": "1.2.0",
      "model_name": "LayoutModel",
      "state": {}
     },
     "92a7846886b8428e951f8efe91db9b78": {
      "model_module": "@jupyter-widgets/controls",
      "model_module_version": "1.5.0",
      "model_name": "HTMLModel",
      "state": {
       "layout": "IPY_MODEL_bb48701d765142d28cd054c670804701",
       "style": "IPY_MODEL_b28d57ff954949b2b40273bedc4be164",
       "value": "<h2>Utterance <b>22:</b></h2>"
      }
     },
     "9302486565434b6b9566f46abb69277a": {
      "model_module": "@jupyter-widgets/controls",
      "model_module_version": "1.5.0",
      "model_name": "HTMLModel",
      "state": {
       "layout": "IPY_MODEL_07dbdcda4d4e49579337f8f963787d39",
       "style": "IPY_MODEL_bdb79b9d4497422da2810d04e3bd0e13",
       "value": "<h2>Utterance <b>12:</b></h2>"
      }
     },
     "93050b1ff292451f94f3bf7f9beb2188": {
      "model_module": "@jupyter-widgets/base",
      "model_module_version": "1.2.0",
      "model_name": "LayoutModel",
      "state": {}
     },
     "93379ba26c0c48bf9635a8e428afd6cc": {
      "model_module": "@jupyter-widgets/controls",
      "model_module_version": "1.5.0",
      "model_name": "FloatSliderModel",
      "state": {
       "continuous_update": false,
       "description": "Test:",
       "layout": "IPY_MODEL_8e29670dba2d4466b495bb2a9cfd9303",
       "max": 5,
       "min": 1,
       "readout_format": ".1f",
       "step": 0.1,
       "style": "IPY_MODEL_a945904056724418a6a672a03884f99a",
       "value": 3
      }
     },
     "93735932f360436898a45b8dd570fded": {
      "model_module": "@jupyter-widgets/controls",
      "model_module_version": "1.5.0",
      "model_name": "FloatSliderModel",
      "state": {
       "continuous_update": false,
       "description": "Test:",
       "layout": "IPY_MODEL_ec39b272e8484b9baeb5bd083dfe6271",
       "max": 5,
       "min": 1,
       "readout_format": ".1f",
       "step": 0.1,
       "style": "IPY_MODEL_ad87a85ab2754a99955bd766b141c1ac",
       "value": 3
      }
     },
     "93770a7edb0f43fba440f42859d6189e": {
      "model_module": "@jupyter-widgets/controls",
      "model_module_version": "1.5.0",
      "model_name": "SliderStyleModel",
      "state": {
       "description_width": ""
      }
     },
     "937b7940927e44548ca4380141b5dd20": {
      "model_module": "@jupyter-widgets/controls",
      "model_module_version": "1.5.0",
      "model_name": "SliderStyleModel",
      "state": {
       "description_width": ""
      }
     },
     "939a2a51db7a4b4c874bc49e209dd232": {
      "model_module": "@jupyter-widgets/controls",
      "model_module_version": "1.5.0",
      "model_name": "FloatSliderModel",
      "state": {
       "continuous_update": false,
       "description": "Test:",
       "layout": "IPY_MODEL_4fc055a071b64e7c86a9a80c4aca9ba7",
       "max": 5,
       "min": 1,
       "readout_format": ".1f",
       "step": 0.1,
       "style": "IPY_MODEL_4251d7d434564e779585183afaccd02b",
       "value": 3
      }
     },
     "9439fe715828446e81838b7672a7d29e": {
      "model_module": "@jupyter-widgets/controls",
      "model_module_version": "1.5.0",
      "model_name": "SliderStyleModel",
      "state": {
       "description_width": ""
      }
     },
     "9461b733cadb4b22a924894269239e45": {
      "model_module": "@jupyter-widgets/controls",
      "model_module_version": "1.5.0",
      "model_name": "FloatSliderModel",
      "state": {
       "continuous_update": false,
       "description": "Test:",
       "layout": "IPY_MODEL_b420f3c885634132abe65ce6f3bb9fe5",
       "max": 5,
       "min": 1,
       "readout_format": ".1f",
       "step": 0.1,
       "style": "IPY_MODEL_55dd227e8fe94a7e89d7552a63bfc974",
       "value": 3
      }
     },
     "94e3a66178e6470aa610ee23203ef901": {
      "model_module": "@jupyter-widgets/controls",
      "model_module_version": "1.5.0",
      "model_name": "HTMLModel",
      "state": {
       "layout": "IPY_MODEL_40a7ea71cb8a4e9cad6cc594c70c7138",
       "style": "IPY_MODEL_ecdd963f8d174efb95dd56e9dc440f29",
       "value": "<h2>Utterance <b>15:</b></h2>"
      }
     },
     "95095f431fa24b80aa2b647abf69dcbe": {
      "model_module": "@jupyter-widgets/controls",
      "model_module_version": "1.5.0",
      "model_name": "FloatSliderModel",
      "state": {
       "continuous_update": false,
       "description": "Test:",
       "layout": "IPY_MODEL_f23b6078955e45cfad48f6027eae567b",
       "max": 5,
       "min": 1,
       "readout_format": ".1f",
       "step": 0.1,
       "style": "IPY_MODEL_8bd3bbc87d2b42298b1c4ccce3621118",
       "value": 3
      }
     },
     "9538f840b0ee444fa099c3cd247fdb32": {
      "model_module": "@jupyter-widgets/controls",
      "model_module_version": "1.5.0",
      "model_name": "SliderStyleModel",
      "state": {
       "description_width": ""
      }
     },
     "9573afb8d34540b09efa74c7335a1c84": {
      "model_module": "@jupyter-widgets/controls",
      "model_module_version": "1.5.0",
      "model_name": "DescriptionStyleModel",
      "state": {
       "description_width": ""
      }
     },
     "9586cbf43dc94f9cb43afcd51c75cc5f": {
      "model_module": "@jupyter-widgets/controls",
      "model_module_version": "1.5.0",
      "model_name": "FloatSliderModel",
      "state": {
       "continuous_update": false,
       "description": "Test:",
       "layout": "IPY_MODEL_c0e3996c10df48648704fbf5e3922342",
       "max": 5,
       "min": 1,
       "readout_format": ".1f",
       "step": 0.1,
       "style": "IPY_MODEL_7592092a477a4ee0b46619cae89d5149",
       "value": 3
      }
     },
     "958d520672fb44cb86bf30d98ad16f62": {
      "model_module": "@jupyter-widgets/controls",
      "model_module_version": "1.5.0",
      "model_name": "DescriptionStyleModel",
      "state": {
       "description_width": ""
      }
     },
     "958d9d801a3042ed8f5ff49db76c9a41": {
      "model_module": "@jupyter-widgets/controls",
      "model_module_version": "1.5.0",
      "model_name": "FloatSliderModel",
      "state": {
       "continuous_update": false,
       "description": "Test:",
       "layout": "IPY_MODEL_1b8a03aecf844f2e9383813dbea92c97",
       "max": 5,
       "min": 1,
       "readout_format": ".1f",
       "step": 0.1,
       "style": "IPY_MODEL_89050332bcc141439beb36d52f4d9b46",
       "value": 3
      }
     },
     "95b9615db4c7444d8f6c73b168e8d4fa": {
      "model_module": "@jupyter-widgets/controls",
      "model_module_version": "1.5.0",
      "model_name": "HTMLModel",
      "state": {
       "layout": "IPY_MODEL_b4e34ec7b7e94ee1be51141c75ddbd1c",
       "style": "IPY_MODEL_ec1ec480cb744c44a9edbbf33df15ecf",
       "value": "<h2>Utterance <b>16:</b></h2>"
      }
     },
     "95c964607ee24f57879bf0e2f92fc866": {
      "model_module": "@jupyter-widgets/base",
      "model_module_version": "1.2.0",
      "model_name": "LayoutModel",
      "state": {}
     },
     "95d747501e5b4385ac8cc874f6d2c340": {
      "model_module": "@jupyter-widgets/controls",
      "model_module_version": "1.5.0",
      "model_name": "FloatSliderModel",
      "state": {
       "continuous_update": false,
       "description": "Test:",
       "layout": "IPY_MODEL_8ec60cb7f8e040d5b7068257814aa049",
       "max": 5,
       "min": 1,
       "readout_format": ".1f",
       "step": 0.1,
       "style": "IPY_MODEL_4c22d5b04d92411aa1613d593551ed33",
       "value": 3
      }
     },
     "960427fd492e4912a49325c798457806": {
      "model_module": "@jupyter-widgets/controls",
      "model_module_version": "1.5.0",
      "model_name": "DescriptionStyleModel",
      "state": {
       "description_width": ""
      }
     },
     "96292c8b953143418c738105d7f4f165": {
      "model_module": "@jupyter-widgets/controls",
      "model_module_version": "1.5.0",
      "model_name": "DescriptionStyleModel",
      "state": {
       "description_width": ""
      }
     },
     "9658a83e45494a668d90b3566148df32": {
      "model_module": "@jupyter-widgets/controls",
      "model_module_version": "1.5.0",
      "model_name": "HTMLModel",
      "state": {
       "layout": "IPY_MODEL_b4cc7c89af344c16b943fe2f12192163",
       "style": "IPY_MODEL_0f6f2e80b5e74e169196167453995709",
       "value": "<h2>Utterance <b>12:</b></h2>"
      }
     },
     "965938ee33044a1bb6662eb52e5abda5": {
      "model_module": "@jupyter-widgets/base",
      "model_module_version": "1.2.0",
      "model_name": "LayoutModel",
      "state": {}
     },
     "9669dc3d254249339300ee0ac24a7445": {
      "model_module": "@jupyter-widgets/controls",
      "model_module_version": "1.5.0",
      "model_name": "FloatSliderModel",
      "state": {
       "continuous_update": false,
       "description": "Test:",
       "layout": "IPY_MODEL_e08c0dbe537940fa9f05b0e3436b95b3",
       "max": 5,
       "min": 1,
       "readout_format": ".1f",
       "step": 0.1,
       "style": "IPY_MODEL_85494ccd14ed4c9388e5a2344c3e039c",
       "value": 3
      }
     },
     "96aa6d4d9bda4456b1af23079f92c93c": {
      "model_module": "@jupyter-widgets/controls",
      "model_module_version": "1.5.0",
      "model_name": "DescriptionStyleModel",
      "state": {
       "description_width": ""
      }
     },
     "96c82c676a4d489e8bc4899ee4565297": {
      "model_module": "@jupyter-widgets/base",
      "model_module_version": "1.2.0",
      "model_name": "LayoutModel",
      "state": {}
     },
     "96d9a0303ab441d69714cd8e12de0c5e": {
      "model_module": "@jupyter-widgets/base",
      "model_module_version": "1.2.0",
      "model_name": "LayoutModel",
      "state": {}
     },
     "97115e81a045474c9df08b6bec12b01d": {
      "model_module": "@jupyter-widgets/controls",
      "model_module_version": "1.5.0",
      "model_name": "FloatSliderModel",
      "state": {
       "continuous_update": false,
       "description": "Test:",
       "layout": "IPY_MODEL_be52a44038884501ac7fd379d04b939d",
       "max": 5,
       "min": 1,
       "readout_format": ".1f",
       "step": 0.1,
       "style": "IPY_MODEL_bbfb90cde7f741899df0cbca911792cd",
       "value": 3
      }
     },
     "9735ca28dc2e47ea9adb5f5633f54802": {
      "model_module": "@jupyter-widgets/base",
      "model_module_version": "1.2.0",
      "model_name": "LayoutModel",
      "state": {}
     },
     "973f922bebfa411a8197ada7690b6943": {
      "model_module": "@jupyter-widgets/controls",
      "model_module_version": "1.5.0",
      "model_name": "FloatSliderModel",
      "state": {
       "continuous_update": false,
       "description": "Test:",
       "layout": "IPY_MODEL_9a6149fb7efe409ba6a1c7a11c6da1cb",
       "max": 5,
       "min": 1,
       "readout_format": ".1f",
       "step": 0.1,
       "style": "IPY_MODEL_9240370084314760acde46389e957c9b",
       "value": 3
      }
     },
     "9742af84e7494a93bcf197c5a33f758f": {
      "model_module": "@jupyter-widgets/controls",
      "model_module_version": "1.5.0",
      "model_name": "DescriptionStyleModel",
      "state": {
       "description_width": ""
      }
     },
     "979b3b8374ee40c2882c40e897b9d926": {
      "model_module": "@jupyter-widgets/controls",
      "model_module_version": "1.5.0",
      "model_name": "DescriptionStyleModel",
      "state": {
       "description_width": ""
      }
     },
     "97a38ad524fc4e308b850eb45b54b960": {
      "model_module": "@jupyter-widgets/controls",
      "model_module_version": "1.5.0",
      "model_name": "DescriptionStyleModel",
      "state": {
       "description_width": ""
      }
     },
     "97bd07b7e3a248fbb90c867176d8772a": {
      "model_module": "@jupyter-widgets/controls",
      "model_module_version": "1.5.0",
      "model_name": "SliderStyleModel",
      "state": {
       "description_width": ""
      }
     },
     "97f0efcf0623474aacd8ba5c099a4218": {
      "model_module": "@jupyter-widgets/controls",
      "model_module_version": "1.5.0",
      "model_name": "FloatSliderModel",
      "state": {
       "continuous_update": false,
       "description": "Test:",
       "layout": "IPY_MODEL_008e76e54a1442d9a7442d7ee2119b98",
       "max": 5,
       "min": 1,
       "readout_format": ".1f",
       "step": 0.1,
       "style": "IPY_MODEL_d3b0f7a6b7034372b7cb7c221c710f2f",
       "value": 3
      }
     },
     "97f6ae23155546d39dee3ccc2aaf7341": {
      "model_module": "@jupyter-widgets/controls",
      "model_module_version": "1.5.0",
      "model_name": "SliderStyleModel",
      "state": {
       "description_width": ""
      }
     },
     "984ecaa44e5647cea4695b52851ff22d": {
      "model_module": "@jupyter-widgets/base",
      "model_module_version": "1.2.0",
      "model_name": "LayoutModel",
      "state": {}
     },
     "9855bd911454486386db49a6e55e9578": {
      "model_module": "@jupyter-widgets/base",
      "model_module_version": "1.2.0",
      "model_name": "LayoutModel",
      "state": {}
     },
     "985fd99b5abb4f1f92e160ee300d6cfa": {
      "model_module": "@jupyter-widgets/controls",
      "model_module_version": "1.5.0",
      "model_name": "DescriptionStyleModel",
      "state": {
       "description_width": ""
      }
     },
     "9869492488e746d5a1088a80acf2fed1": {
      "model_module": "@jupyter-widgets/controls",
      "model_module_version": "1.5.0",
      "model_name": "DescriptionStyleModel",
      "state": {
       "description_width": ""
      }
     },
     "98a250b2f73c462ea8a43a3d26b80e38": {
      "model_module": "@jupyter-widgets/controls",
      "model_module_version": "1.5.0",
      "model_name": "FloatSliderModel",
      "state": {
       "continuous_update": false,
       "description": "Test:",
       "layout": "IPY_MODEL_e464b3375685463c963d63549701e3dc",
       "max": 5,
       "min": 1,
       "readout_format": ".1f",
       "step": 0.1,
       "style": "IPY_MODEL_3de72caa89744ce1818ae0211dbf5170",
       "value": 3
      }
     },
     "98d2b3dc2b1d459090546b4ac6eea6b7": {
      "model_module": "@jupyter-widgets/controls",
      "model_module_version": "1.5.0",
      "model_name": "HTMLModel",
      "state": {
       "layout": "IPY_MODEL_d3eaaf803a884078bdd4c266ee34e0ec",
       "style": "IPY_MODEL_8477aadadaaf4fc1ac4f4d6df8822cdb",
       "value": "<h2>Utterance <b>8:</b></h2>"
      }
     },
     "98e70b25335242e1b7a54234aa5b4ffc": {
      "model_module": "@jupyter-widgets/base",
      "model_module_version": "1.2.0",
      "model_name": "LayoutModel",
      "state": {}
     },
     "99004ecabfbe44ebbe986db71709583f": {
      "model_module": "@jupyter-widgets/base",
      "model_module_version": "1.2.0",
      "model_name": "LayoutModel",
      "state": {}
     },
     "993aa0072c5e4424b9f17ac9b39333da": {
      "model_module": "@jupyter-widgets/controls",
      "model_module_version": "1.5.0",
      "model_name": "FloatSliderModel",
      "state": {
       "continuous_update": false,
       "description": "Test:",
       "layout": "IPY_MODEL_f8b45516531f48069ce7dc03c73a93a6",
       "max": 5,
       "min": 1,
       "readout_format": ".1f",
       "step": 0.1,
       "style": "IPY_MODEL_c12bc14f60424f019c4d52fcc2b8ea41",
       "value": 3
      }
     },
     "99413de53b3e429e931c2b2bac2df268": {
      "model_module": "@jupyter-widgets/controls",
      "model_module_version": "1.5.0",
      "model_name": "DescriptionStyleModel",
      "state": {
       "description_width": ""
      }
     },
     "9942a5ba5b5d41d5bbe42eaefbe6ff4f": {
      "model_module": "@jupyter-widgets/base",
      "model_module_version": "1.2.0",
      "model_name": "LayoutModel",
      "state": {}
     },
     "997f80cc8b5e441085d8301a6b325e31": {
      "model_module": "@jupyter-widgets/controls",
      "model_module_version": "1.5.0",
      "model_name": "DescriptionStyleModel",
      "state": {
       "description_width": ""
      }
     },
     "999a8b576e5949939a32a5ea18db635f": {
      "model_module": "@jupyter-widgets/controls",
      "model_module_version": "1.5.0",
      "model_name": "HTMLModel",
      "state": {
       "layout": "IPY_MODEL_f4d4c3f2a67d4bcabddac9a5fd871cda",
       "style": "IPY_MODEL_26249cb1bc444905b6463b9d9c5889d5",
       "value": "<h2>Utterance <b>14:</b></h2>"
      }
     },
     "99b6c8b842794123bf44e0fec0581c39": {
      "model_module": "@jupyter-widgets/controls",
      "model_module_version": "1.5.0",
      "model_name": "HTMLModel",
      "state": {
       "layout": "IPY_MODEL_cb3760f5bc564aff8aa3c99f057eae09",
       "style": "IPY_MODEL_3a94f78171594f149f6adaf15247f39f",
       "value": "<h2>Utterance <b>8:</b></h2>"
      }
     },
     "99ef26d0c610466bb9bf19b614a4dcc7": {
      "model_module": "@jupyter-widgets/controls",
      "model_module_version": "1.5.0",
      "model_name": "DescriptionStyleModel",
      "state": {
       "description_width": ""
      }
     },
     "9a0acf9abc934086b03b4b117aa01b44": {
      "model_module": "@jupyter-widgets/controls",
      "model_module_version": "1.5.0",
      "model_name": "FloatSliderModel",
      "state": {
       "continuous_update": false,
       "description": "Test:",
       "layout": "IPY_MODEL_af1fc15f396748709da0a31a2140146b",
       "max": 5,
       "min": 1,
       "readout_format": ".1f",
       "step": 0.1,
       "style": "IPY_MODEL_c80f46d1fc6c46f6b81a28c47591fb37",
       "value": 3
      }
     },
     "9a2d1b16081b4ac0909dc385234f6b58": {
      "model_module": "@jupyter-widgets/base",
      "model_module_version": "1.2.0",
      "model_name": "LayoutModel",
      "state": {}
     },
     "9a41934152fd4fa3aab058c2f5f89137": {
      "model_module": "@jupyter-widgets/base",
      "model_module_version": "1.2.0",
      "model_name": "LayoutModel",
      "state": {}
     },
     "9a6149fb7efe409ba6a1c7a11c6da1cb": {
      "model_module": "@jupyter-widgets/base",
      "model_module_version": "1.2.0",
      "model_name": "LayoutModel",
      "state": {}
     },
     "9a9eadaa6dc64ee1b6ee45ff62645f9f": {
      "model_module": "@jupyter-widgets/controls",
      "model_module_version": "1.5.0",
      "model_name": "FloatSliderModel",
      "state": {
       "continuous_update": false,
       "description": "Test:",
       "layout": "IPY_MODEL_edddbed6625c4f1eb92c992a35ab3390",
       "max": 5,
       "min": 1,
       "readout_format": ".1f",
       "step": 0.1,
       "style": "IPY_MODEL_8f92f24193b2420bba2d815c6239518e",
       "value": 3
      }
     },
     "9aa085904d244ae8adaa5c3b420cb26b": {
      "model_module": "@jupyter-widgets/base",
      "model_module_version": "1.2.0",
      "model_name": "LayoutModel",
      "state": {}
     },
     "9aa8105aa6d54d30a76582d478a52fc9": {
      "model_module": "@jupyter-widgets/base",
      "model_module_version": "1.2.0",
      "model_name": "LayoutModel",
      "state": {}
     },
     "9ab6b2dd12e246709ec0e794b2c45020": {
      "model_module": "@jupyter-widgets/base",
      "model_module_version": "1.2.0",
      "model_name": "LayoutModel",
      "state": {}
     },
     "9ae9c2e6ae8147f086ecd2d0ff72cd36": {
      "model_module": "@jupyter-widgets/base",
      "model_module_version": "1.2.0",
      "model_name": "LayoutModel",
      "state": {}
     },
     "9afaed835162473290cf6604aaaffff6": {
      "model_module": "@jupyter-widgets/base",
      "model_module_version": "1.2.0",
      "model_name": "LayoutModel",
      "state": {}
     },
     "9b041ffbbbbc446c911f8e8ea4b53d2a": {
      "model_module": "@jupyter-widgets/controls",
      "model_module_version": "1.5.0",
      "model_name": "SliderStyleModel",
      "state": {
       "description_width": ""
      }
     },
     "9b1e6df7b43b4f74b3e83ddd373c0a20": {
      "model_module": "@jupyter-widgets/controls",
      "model_module_version": "1.5.0",
      "model_name": "SliderStyleModel",
      "state": {
       "description_width": ""
      }
     },
     "9b4366a0769046b19a30fc040c53b967": {
      "model_module": "@jupyter-widgets/controls",
      "model_module_version": "1.5.0",
      "model_name": "HTMLModel",
      "state": {
       "layout": "IPY_MODEL_d57b55489e904207beed4d16e6560ae2",
       "style": "IPY_MODEL_0951198a56dd40b2a802c2b07d896026",
       "value": "<h2>Utterance <b>20:</b></h2>"
      }
     },
     "9b51307b0db044a085c149c992a286f5": {
      "model_module": "@jupyter-widgets/controls",
      "model_module_version": "1.5.0",
      "model_name": "DescriptionStyleModel",
      "state": {
       "description_width": ""
      }
     },
     "9b862cc95cda47c0ac4fc21c40294cc6": {
      "model_module": "@jupyter-widgets/base",
      "model_module_version": "1.2.0",
      "model_name": "LayoutModel",
      "state": {}
     },
     "9b8b2e4c8d4a47c5b4a48cdc56544e60": {
      "model_module": "@jupyter-widgets/controls",
      "model_module_version": "1.5.0",
      "model_name": "DescriptionStyleModel",
      "state": {
       "description_width": ""
      }
     },
     "9b8e2f7b47144a00a006b83cc0dcb4de": {
      "model_module": "@jupyter-widgets/base",
      "model_module_version": "1.2.0",
      "model_name": "LayoutModel",
      "state": {}
     },
     "9b931e82b08042b1b26cf95be06542e8": {
      "model_module": "@jupyter-widgets/base",
      "model_module_version": "1.2.0",
      "model_name": "LayoutModel",
      "state": {}
     },
     "9bd9ecf6f3a843659a3f0e392f8a1e38": {
      "model_module": "@jupyter-widgets/base",
      "model_module_version": "1.2.0",
      "model_name": "LayoutModel",
      "state": {}
     },
     "9bf38a9785c44a29b457d0b902aa258e": {
      "model_module": "@jupyter-widgets/base",
      "model_module_version": "1.2.0",
      "model_name": "LayoutModel",
      "state": {}
     },
     "9c0514e4bb7c4511be2c1557118ef17c": {
      "model_module": "@jupyter-widgets/base",
      "model_module_version": "1.2.0",
      "model_name": "LayoutModel",
      "state": {}
     },
     "9c30ec97acae4edca0e3e9659a0d6ebe": {
      "model_module": "@jupyter-widgets/controls",
      "model_module_version": "1.5.0",
      "model_name": "SliderStyleModel",
      "state": {
       "description_width": ""
      }
     },
     "9ca0ded2ec294dc18e9ea7432f938e88": {
      "model_module": "@jupyter-widgets/base",
      "model_module_version": "1.2.0",
      "model_name": "LayoutModel",
      "state": {}
     },
     "9ca87b9d1d594c13ac6b776558a33a11": {
      "model_module": "@jupyter-widgets/controls",
      "model_module_version": "1.5.0",
      "model_name": "HTMLModel",
      "state": {
       "layout": "IPY_MODEL_8d4bab6b60154654a100e006ecd91910",
       "style": "IPY_MODEL_3e56552f79e0468e9c2747623de9eb08",
       "value": "<h2>Utterance <b>21:</b></h2>"
      }
     },
     "9ce7e6a503684bd2a62df6af3d405e9a": {
      "model_module": "@jupyter-widgets/base",
      "model_module_version": "1.2.0",
      "model_name": "LayoutModel",
      "state": {}
     },
     "9cf84febbf5e4982800b758c6e5d484c": {
      "model_module": "@jupyter-widgets/controls",
      "model_module_version": "1.5.0",
      "model_name": "DescriptionStyleModel",
      "state": {
       "description_width": ""
      }
     },
     "9cfe9a8e4d684f94819370a6256a4e56": {
      "model_module": "@jupyter-widgets/base",
      "model_module_version": "1.2.0",
      "model_name": "LayoutModel",
      "state": {}
     },
     "9d0dd0a1d5d94849b94669514751ce43": {
      "model_module": "@jupyter-widgets/base",
      "model_module_version": "1.2.0",
      "model_name": "LayoutModel",
      "state": {}
     },
     "9d128d9850fa4e6c88aee1c641b6112d": {
      "model_module": "@jupyter-widgets/base",
      "model_module_version": "1.2.0",
      "model_name": "LayoutModel",
      "state": {}
     },
     "9d345efb1c334914ab72fa4fe8915408": {
      "model_module": "@jupyter-widgets/controls",
      "model_module_version": "1.5.0",
      "model_name": "HTMLModel",
      "state": {
       "layout": "IPY_MODEL_cde099df54734ae995bf02e27b2f20c5",
       "style": "IPY_MODEL_589270e2da4e49999a1e87ee3faad91f",
       "value": "<h2>Utterance <b>7:</b></h2>"
      }
     },
     "9d649022fcf24ac38e5123405bc4ad5a": {
      "model_module": "@jupyter-widgets/controls",
      "model_module_version": "1.5.0",
      "model_name": "HTMLModel",
      "state": {
       "layout": "IPY_MODEL_5f574e3759db4bf3b8ca718ac8d6f70c",
       "style": "IPY_MODEL_da14021397de4b54bc2f30df16a7498b",
       "value": "<h2>Utterance <b>9:</b></h2>"
      }
     },
     "9d79f560270e44d5ae1ae0ab368139d5": {
      "model_module": "@jupyter-widgets/controls",
      "model_module_version": "1.5.0",
      "model_name": "FloatSliderModel",
      "state": {
       "continuous_update": false,
       "description": "Test:",
       "layout": "IPY_MODEL_e293c65cc75f45ab9ec05010f2caeb97",
       "max": 5,
       "min": 1,
       "readout_format": ".1f",
       "step": 0.1,
       "style": "IPY_MODEL_c7a6e637d80d46218f937d56a88561c4",
       "value": 3
      }
     },
     "9d830bdc793e4cdbbe4b1bc100db6112": {
      "model_module": "@jupyter-widgets/base",
      "model_module_version": "1.2.0",
      "model_name": "LayoutModel",
      "state": {}
     },
     "9dfed621df18405e8ee9b0bedc4c2fae": {
      "model_module": "@jupyter-widgets/controls",
      "model_module_version": "1.5.0",
      "model_name": "HTMLModel",
      "state": {
       "layout": "IPY_MODEL_4b81c596e96d4b638a3bfce20a966ee8",
       "style": "IPY_MODEL_ae07c706f1774a85b35900480db2351c",
       "value": "<h2>Utterance <b>5:</b></h2>"
      }
     },
     "9e690005787f4a52812e05903718e9f2": {
      "model_module": "@jupyter-widgets/base",
      "model_module_version": "1.2.0",
      "model_name": "LayoutModel",
      "state": {}
     },
     "9e6f08362b8e4c9e97f44196ce0119d9": {
      "model_module": "@jupyter-widgets/controls",
      "model_module_version": "1.5.0",
      "model_name": "SliderStyleModel",
      "state": {
       "description_width": ""
      }
     },
     "9e7c457129f0433188aff13fefbd651d": {
      "model_module": "@jupyter-widgets/controls",
      "model_module_version": "1.5.0",
      "model_name": "HTMLModel",
      "state": {
       "layout": "IPY_MODEL_2c5839e0d4aa468c8af4e87fb6e63ae9",
       "style": "IPY_MODEL_aaeeb707932742c8a1aae53e5e40d4c2",
       "value": "<h2>Utterance <b>4:</b></h2>"
      }
     },
     "9e7eaffcd2a546dc925e1440ff8f21ab": {
      "model_module": "@jupyter-widgets/controls",
      "model_module_version": "1.5.0",
      "model_name": "HTMLModel",
      "state": {
       "layout": "IPY_MODEL_e4f711c202a047a79121eb10f1b87b04",
       "style": "IPY_MODEL_a639db3529bf45b88c7eee1370dacb75",
       "value": "<h2>Utterance <b>4:</b></h2>"
      }
     },
     "9ebfbcb0113e4820aec2c4041517b0cd": {
      "model_module": "@jupyter-widgets/controls",
      "model_module_version": "1.5.0",
      "model_name": "SliderStyleModel",
      "state": {
       "description_width": ""
      }
     },
     "9ee82365d02e4b389c91159e4c69802e": {
      "model_module": "@jupyter-widgets/controls",
      "model_module_version": "1.5.0",
      "model_name": "DescriptionStyleModel",
      "state": {
       "description_width": ""
      }
     },
     "9ee9528d7bea4f9ca241a8abab05a97b": {
      "model_module": "@jupyter-widgets/controls",
      "model_module_version": "1.5.0",
      "model_name": "SliderStyleModel",
      "state": {
       "description_width": ""
      }
     },
     "9efa994de6844d8da365da9259baf2e1": {
      "model_module": "@jupyter-widgets/base",
      "model_module_version": "1.2.0",
      "model_name": "LayoutModel",
      "state": {}
     },
     "9eff53d7af8a4ac48d1606aa12049724": {
      "model_module": "@jupyter-widgets/base",
      "model_module_version": "1.2.0",
      "model_name": "LayoutModel",
      "state": {}
     },
     "9f02769545594a27afda4d05c2e79fb9": {
      "model_module": "@jupyter-widgets/controls",
      "model_module_version": "1.5.0",
      "model_name": "FloatSliderModel",
      "state": {
       "continuous_update": false,
       "description": "Test:",
       "layout": "IPY_MODEL_5789992293ea42a887e96c781ee19b3d",
       "max": 5,
       "min": 1,
       "readout_format": ".1f",
       "step": 0.1,
       "style": "IPY_MODEL_af01981ef23045488f1765f447bc4009",
       "value": 3
      }
     },
     "9f2fbb7ce5a34c8fa8fdf2d8c3f9b1f3": {
      "model_module": "@jupyter-widgets/base",
      "model_module_version": "1.2.0",
      "model_name": "LayoutModel",
      "state": {}
     },
     "9f3288836a274b63a4a7141d5ac75bf6": {
      "model_module": "@jupyter-widgets/base",
      "model_module_version": "1.2.0",
      "model_name": "LayoutModel",
      "state": {}
     },
     "9f4270806b1441aa9ac2e962c1a1cd47": {
      "model_module": "@jupyter-widgets/controls",
      "model_module_version": "1.5.0",
      "model_name": "HTMLModel",
      "state": {
       "layout": "IPY_MODEL_f554574a37a14c8fba429f0e167492b7",
       "style": "IPY_MODEL_50034d2a335c4fefb74b69031259455a",
       "value": "<h2>Utterance <b>22:</b></h2>"
      }
     },
     "9f94a2e987484656af229d79f5114fd0": {
      "model_module": "@jupyter-widgets/controls",
      "model_module_version": "1.5.0",
      "model_name": "SliderStyleModel",
      "state": {
       "description_width": ""
      }
     },
     "9fbb5746142341f683b3bb0cae8c5479": {
      "model_module": "@jupyter-widgets/controls",
      "model_module_version": "1.5.0",
      "model_name": "HTMLModel",
      "state": {
       "layout": "IPY_MODEL_846d67c5c8b54b388bbfb9e4609370db",
       "style": "IPY_MODEL_140ececb1d154d28a7558c7b10e412b6",
       "value": "<h2>Utterance <b>12:</b></h2>"
      }
     },
     "9fcbd19865464af9a62dac3bd06cda6c": {
      "model_module": "@jupyter-widgets/base",
      "model_module_version": "1.2.0",
      "model_name": "LayoutModel",
      "state": {}
     },
     "9ffc28a28b8e4b6e887f53ad11975087": {
      "model_module": "@jupyter-widgets/controls",
      "model_module_version": "1.5.0",
      "model_name": "TextModel",
      "state": {
       "description": "Name:",
       "layout": "IPY_MODEL_5f4a93334d8648bea829c08ac5cba8fc",
       "placeholder": "Type something like your name or id",
       "style": "IPY_MODEL_6d7cbb5213f64060b85c44705bc51c3b",
       "value": "111"
      }
     },
     "a00517cabe0d4deea6cfdff74b5366b6": {
      "model_module": "@jupyter-widgets/base",
      "model_module_version": "1.2.0",
      "model_name": "LayoutModel",
      "state": {}
     },
     "a06823c2633542cf9b0e564ac90078dd": {
      "model_module": "@jupyter-widgets/base",
      "model_module_version": "1.2.0",
      "model_name": "LayoutModel",
      "state": {}
     },
     "a071277293874cdfae9d9126599a8b61": {
      "model_module": "@jupyter-widgets/controls",
      "model_module_version": "1.5.0",
      "model_name": "SliderStyleModel",
      "state": {
       "description_width": ""
      }
     },
     "a07ebd8a8e114ff8b157ceef452a52d1": {
      "model_module": "@jupyter-widgets/controls",
      "model_module_version": "1.5.0",
      "model_name": "FloatSliderModel",
      "state": {
       "continuous_update": false,
       "description": "Test:",
       "layout": "IPY_MODEL_7fa75ab590874f2e820e993bac8434e8",
       "max": 5,
       "min": 1,
       "readout_format": ".1f",
       "step": 0.1,
       "style": "IPY_MODEL_419d4a90e7894889b962ee1f2efdedd1",
       "value": 3
      }
     },
     "a0aa9eb92e5148adaa31a0d4a41dc3e1": {
      "model_module": "@jupyter-widgets/controls",
      "model_module_version": "1.5.0",
      "model_name": "SliderStyleModel",
      "state": {
       "description_width": ""
      }
     },
     "a0be44d454204e24986d8e0007ebfe0b": {
      "model_module": "@jupyter-widgets/base",
      "model_module_version": "1.2.0",
      "model_name": "LayoutModel",
      "state": {}
     },
     "a0cb3022aacd4a53a814eb86a211bccb": {
      "model_module": "@jupyter-widgets/base",
      "model_module_version": "1.2.0",
      "model_name": "LayoutModel",
      "state": {}
     },
     "a10dc2c541f343d1970c2b404c6bc5f2": {
      "model_module": "@jupyter-widgets/controls",
      "model_module_version": "1.5.0",
      "model_name": "HTMLModel",
      "state": {
       "layout": "IPY_MODEL_0063109a7d64446ea882e2b5a2ad951e",
       "style": "IPY_MODEL_57d032ea230646258137d9c32cc7ec31",
       "value": "<h2>Utterance <b>11:</b></h2>"
      }
     },
     "a134c0b3f12042e8a545ad6bbadcbf80": {
      "model_module": "@jupyter-widgets/controls",
      "model_module_version": "1.5.0",
      "model_name": "FloatSliderModel",
      "state": {
       "continuous_update": false,
       "description": "Test:",
       "layout": "IPY_MODEL_e25de203192846f882943b37763f3f24",
       "max": 5,
       "min": 1,
       "readout_format": ".1f",
       "step": 0.1,
       "style": "IPY_MODEL_ac21ee33c54245039bcb2cb4084b9146",
       "value": 3
      }
     },
     "a146ddd737d246799cf417c75b106190": {
      "model_module": "@jupyter-widgets/controls",
      "model_module_version": "1.5.0",
      "model_name": "ButtonStyleModel",
      "state": {}
     },
     "a15d04a9040b413487e62c47b85c5f4e": {
      "model_module": "@jupyter-widgets/base",
      "model_module_version": "1.2.0",
      "model_name": "LayoutModel",
      "state": {}
     },
     "a15f21391a8a4f3e9c5bc0906bfbdc41": {
      "model_module": "@jupyter-widgets/base",
      "model_module_version": "1.2.0",
      "model_name": "LayoutModel",
      "state": {}
     },
     "a16ca9e5089d43829f41f6c2d094ed7e": {
      "model_module": "@jupyter-widgets/base",
      "model_module_version": "1.2.0",
      "model_name": "LayoutModel",
      "state": {}
     },
     "a192592a6156420d853c42b4e364fed9": {
      "model_module": "@jupyter-widgets/controls",
      "model_module_version": "1.5.0",
      "model_name": "SliderStyleModel",
      "state": {
       "description_width": ""
      }
     },
     "a1c15a2272f945e892d3a6309787676f": {
      "model_module": "@jupyter-widgets/controls",
      "model_module_version": "1.5.0",
      "model_name": "SliderStyleModel",
      "state": {
       "description_width": ""
      }
     },
     "a1c756e801cf44fc84e4cf6586dd4117": {
      "model_module": "@jupyter-widgets/controls",
      "model_module_version": "1.5.0",
      "model_name": "FloatSliderModel",
      "state": {
       "continuous_update": false,
       "description": "Test:",
       "layout": "IPY_MODEL_7ca199c281ca4641b193bd41dcc3a21a",
       "max": 5,
       "min": 1,
       "readout_format": ".1f",
       "step": 0.1,
       "style": "IPY_MODEL_a20801eeb602404db0cb6a7c811e9380",
       "value": 3
      }
     },
     "a1dc578272504eeebec520fefaa8e837": {
      "model_module": "@jupyter-widgets/base",
      "model_module_version": "1.2.0",
      "model_name": "LayoutModel",
      "state": {}
     },
     "a1e9dd30771e418a8e88490e610a5c94": {
      "model_module": "@jupyter-widgets/controls",
      "model_module_version": "1.5.0",
      "model_name": "SliderStyleModel",
      "state": {
       "description_width": ""
      }
     },
     "a1ea9baf409f4ffd883406913944396f": {
      "model_module": "@jupyter-widgets/controls",
      "model_module_version": "1.5.0",
      "model_name": "HTMLModel",
      "state": {
       "layout": "IPY_MODEL_3e4980b2494d4f96979899effcfc95f3",
       "style": "IPY_MODEL_ddabc8cb913741c5b0705a8ede21b411",
       "value": "<h2>Utterance <b>2:</b></h2>"
      }
     },
     "a20801eeb602404db0cb6a7c811e9380": {
      "model_module": "@jupyter-widgets/controls",
      "model_module_version": "1.5.0",
      "model_name": "SliderStyleModel",
      "state": {
       "description_width": ""
      }
     },
     "a215887990944612906773d0965fdbed": {
      "model_module": "@jupyter-widgets/controls",
      "model_module_version": "1.5.0",
      "model_name": "DescriptionStyleModel",
      "state": {
       "description_width": ""
      }
     },
     "a23dcedf432f4462ba7b2143273b815b": {
      "model_module": "@jupyter-widgets/base",
      "model_module_version": "1.2.0",
      "model_name": "LayoutModel",
      "state": {}
     },
     "a255f5333d524605b3be76054912d02f": {
      "model_module": "@jupyter-widgets/base",
      "model_module_version": "1.2.0",
      "model_name": "LayoutModel",
      "state": {}
     },
     "a28583d2417c4f309b5e0a55c4c6a5e4": {
      "model_module": "@jupyter-widgets/controls",
      "model_module_version": "1.5.0",
      "model_name": "DescriptionStyleModel",
      "state": {
       "description_width": ""
      }
     },
     "a2b940fdf8644d34adcf1cb88323ea23": {
      "model_module": "@jupyter-widgets/controls",
      "model_module_version": "1.5.0",
      "model_name": "SliderStyleModel",
      "state": {
       "description_width": ""
      }
     },
     "a2e6c18ff2cd4234a6b408727b2db855": {
      "model_module": "@jupyter-widgets/controls",
      "model_module_version": "1.5.0",
      "model_name": "FloatSliderModel",
      "state": {
       "continuous_update": false,
       "description": "Test:",
       "layout": "IPY_MODEL_7a39e2036a1a4e7391cd04796922f3e2",
       "max": 5,
       "min": 1,
       "readout_format": ".1f",
       "step": 0.1,
       "style": "IPY_MODEL_5a5fdad930ac473395e6abce6d2e2391",
       "value": 3
      }
     },
     "a2f3bafe42bd4beea57777f278f321a3": {
      "model_module": "@jupyter-widgets/controls",
      "model_module_version": "1.5.0",
      "model_name": "DescriptionStyleModel",
      "state": {
       "description_width": ""
      }
     },
     "a322c8869e454954a0e16872ab644767": {
      "model_module": "@jupyter-widgets/controls",
      "model_module_version": "1.5.0",
      "model_name": "FloatSliderModel",
      "state": {
       "continuous_update": false,
       "description": "Test:",
       "layout": "IPY_MODEL_b39d767621014af5aead78cef607feeb",
       "max": 5,
       "min": 1,
       "readout_format": ".1f",
       "step": 0.1,
       "style": "IPY_MODEL_f5536cca016542979de9d2b171d1b73e",
       "value": 3
      }
     },
     "a323261d7df54ea694ea1b32891a8c8c": {
      "model_module": "@jupyter-widgets/controls",
      "model_module_version": "1.5.0",
      "model_name": "FloatSliderModel",
      "state": {
       "continuous_update": false,
       "description": "Test:",
       "layout": "IPY_MODEL_b701dc6e63bb4472a9cb0d587659f3eb",
       "max": 5,
       "min": 1,
       "readout_format": ".1f",
       "step": 0.1,
       "style": "IPY_MODEL_624002703fd143bf8e4b15bc1e928d7f",
       "value": 3
      }
     },
     "a325449bb32a43cbb4cdda9683f53994": {
      "model_module": "@jupyter-widgets/controls",
      "model_module_version": "1.5.0",
      "model_name": "FloatSliderModel",
      "state": {
       "continuous_update": false,
       "description": "Test:",
       "layout": "IPY_MODEL_13f55bcee34f4ae2a68d1221d247969c",
       "max": 5,
       "min": 1,
       "readout_format": ".1f",
       "step": 0.1,
       "style": "IPY_MODEL_23666a7758b5436581c1d88b5d6aa3fe",
       "value": 3
      }
     },
     "a3377c7e711043dba9863548fe537f31": {
      "model_module": "@jupyter-widgets/controls",
      "model_module_version": "1.5.0",
      "model_name": "DescriptionStyleModel",
      "state": {
       "description_width": ""
      }
     },
     "a3487ba5134a43519f2e6fdb04c2ca4f": {
      "model_module": "@jupyter-widgets/controls",
      "model_module_version": "1.5.0",
      "model_name": "HTMLModel",
      "state": {
       "layout": "IPY_MODEL_404f066fb44b4ed2bf0f1de86f6f1df7",
       "style": "IPY_MODEL_4559bce258264fe3828c21c0d7345344",
       "value": "<h2>Utterance <b>19:</b></h2>"
      }
     },
     "a38203227a3b4ef68fb7ea9a513b6b81": {
      "model_module": "@jupyter-widgets/controls",
      "model_module_version": "1.5.0",
      "model_name": "FloatSliderModel",
      "state": {
       "continuous_update": false,
       "description": "Test:",
       "layout": "IPY_MODEL_916d639ac8384c509a544b53b17fccef",
       "max": 5,
       "min": 1,
       "readout_format": ".1f",
       "step": 0.1,
       "style": "IPY_MODEL_52adaa3659ae481a8d2da88140a954a0",
       "value": 3.9
      }
     },
     "a3c04de9f3f4446386327764f3205509": {
      "model_module": "@jupyter-widgets/controls",
      "model_module_version": "1.5.0",
      "model_name": "FloatSliderModel",
      "state": {
       "continuous_update": false,
       "description": "Test:",
       "layout": "IPY_MODEL_d3e08939be6b4cd78121715d42e40c6e",
       "max": 5,
       "min": 1,
       "readout_format": ".1f",
       "step": 0.1,
       "style": "IPY_MODEL_8a64fd2988ad40efaf09fce43a6e2337",
       "value": 3
      }
     },
     "a3c0788e75c7442f800e0947a56defcd": {
      "model_module": "@jupyter-widgets/controls",
      "model_module_version": "1.5.0",
      "model_name": "DescriptionStyleModel",
      "state": {
       "description_width": ""
      }
     },
     "a3d779a132d34f6aa43371e537825443": {
      "model_module": "@jupyter-widgets/controls",
      "model_module_version": "1.5.0",
      "model_name": "HTMLModel",
      "state": {
       "layout": "IPY_MODEL_8d041faaa7c4492482d11cce6c70b3fe",
       "style": "IPY_MODEL_4b11fa7444c346969cbf733a113186db",
       "value": "<h2>Utterance <b>2:</b></h2>"
      }
     },
     "a3fec8d93b2b4d85b5053df889821186": {
      "model_module": "@jupyter-widgets/controls",
      "model_module_version": "1.5.0",
      "model_name": "HTMLModel",
      "state": {
       "layout": "IPY_MODEL_f88011d9d39f48099ab0e9b27e0f48dc",
       "style": "IPY_MODEL_7edb2da0d1ff4cbf9ad27d0c0c3d0786",
       "value": "<h2>Utterance <b>18:</b></h2>"
      }
     },
     "a40b636d6eb24c72af2cd4db2d00aa34": {
      "model_module": "@jupyter-widgets/controls",
      "model_module_version": "1.5.0",
      "model_name": "HTMLModel",
      "state": {
       "layout": "IPY_MODEL_69464dba4f8247e5adf3559addb766f9",
       "style": "IPY_MODEL_28875a452b784c58b7f54035b8d365f8",
       "value": "<h1>Voice Quality<br></h1><body>Thanks for participating. Please select for each utternace it percieved quality with the folowing scale:<br><ol><li>Bad</li><li>Poor</li><li>Fair</li><li>Good</li><li>Excellent</li></ol><b>This test is not checking how much 'Jenny like' is a voice, but rather only how good it sounds </b><br>After completing the entries press the Done button. <br>Good luck and thank you.<br><br><br></body>"
      }
     },
     "a454a5edc1ed440cbef603317f71d3f8": {
      "model_module": "@jupyter-widgets/controls",
      "model_module_version": "1.5.0",
      "model_name": "FloatSliderModel",
      "state": {
       "continuous_update": false,
       "description": "Test:",
       "layout": "IPY_MODEL_ef667b4b91054f90b79e156ef7a7d7ab",
       "max": 5,
       "min": 1,
       "readout_format": ".1f",
       "step": 0.1,
       "style": "IPY_MODEL_cae9414feec94df0be2f57cb36574851",
       "value": 3
      }
     },
     "a45c0670bd4346f5b923f847c239afe8": {
      "model_module": "@jupyter-widgets/base",
      "model_module_version": "1.2.0",
      "model_name": "LayoutModel",
      "state": {}
     },
     "a46cb19f07d14cefa401220911005a57": {
      "model_module": "@jupyter-widgets/controls",
      "model_module_version": "1.5.0",
      "model_name": "FloatSliderModel",
      "state": {
       "continuous_update": false,
       "description": "Test:",
       "layout": "IPY_MODEL_cd8edbafea6149a592ecc63e81c30cd3",
       "max": 5,
       "min": 1,
       "readout_format": ".1f",
       "step": 0.1,
       "style": "IPY_MODEL_e04dcf85f52d4a7d91e2da3a7462a7ee",
       "value": 3
      }
     },
     "a4bf114895b84b2d98dd1c1b9f4e721a": {
      "model_module": "@jupyter-widgets/controls",
      "model_module_version": "1.5.0",
      "model_name": "HTMLModel",
      "state": {
       "layout": "IPY_MODEL_444b1f31ccd140da9bed75b535b9a5f6",
       "style": "IPY_MODEL_36da681809694bb4a8621d27d444f578",
       "value": "<h2>Utterance <b>25:</b></h2>"
      }
     },
     "a4e23bbc911e440eaa9250f4c72e6901": {
      "model_module": "@jupyter-widgets/controls",
      "model_module_version": "1.5.0",
      "model_name": "FloatSliderModel",
      "state": {
       "continuous_update": false,
       "description": "Test:",
       "layout": "IPY_MODEL_19b8817db5464e8b80b2470bf31c9336",
       "max": 5,
       "min": 1,
       "readout_format": ".1f",
       "step": 0.1,
       "style": "IPY_MODEL_18b18477ae3b453e9edcd182229a48ee",
       "value": 3
      }
     },
     "a4f301e268664b289760bc3ba809347e": {
      "model_module": "@jupyter-widgets/base",
      "model_module_version": "1.2.0",
      "model_name": "LayoutModel",
      "state": {}
     },
     "a52c52132ff347c988317b2762db7b32": {
      "model_module": "@jupyter-widgets/controls",
      "model_module_version": "1.5.0",
      "model_name": "FloatSliderModel",
      "state": {
       "continuous_update": false,
       "description": "Test:",
       "layout": "IPY_MODEL_3c8203ba96104df6a5239200398d2f85",
       "max": 5,
       "min": 1,
       "readout_format": ".1f",
       "step": 0.1,
       "style": "IPY_MODEL_7f4b1bba8ae6472cbda44b6d103be705",
       "value": 3
      }
     },
     "a56bd7acc007454ea50e7418134c6a8e": {
      "model_module": "@jupyter-widgets/controls",
      "model_module_version": "1.5.0",
      "model_name": "SliderStyleModel",
      "state": {
       "description_width": ""
      }
     },
     "a572151518014d68bf82e1b2f93d8feb": {
      "model_module": "@jupyter-widgets/base",
      "model_module_version": "1.2.0",
      "model_name": "LayoutModel",
      "state": {}
     },
     "a5e339aa89334b5ca1adde50d5e8416a": {
      "model_module": "@jupyter-widgets/base",
      "model_module_version": "1.2.0",
      "model_name": "LayoutModel",
      "state": {}
     },
     "a60731fc78a44b8c90f895c454219b77": {
      "model_module": "@jupyter-widgets/base",
      "model_module_version": "1.2.0",
      "model_name": "LayoutModel",
      "state": {}
     },
     "a60960fe343848b695254df4f37c9f03": {
      "model_module": "@jupyter-widgets/base",
      "model_module_version": "1.2.0",
      "model_name": "LayoutModel",
      "state": {}
     },
     "a639db3529bf45b88c7eee1370dacb75": {
      "model_module": "@jupyter-widgets/controls",
      "model_module_version": "1.5.0",
      "model_name": "DescriptionStyleModel",
      "state": {
       "description_width": ""
      }
     },
     "a670233dbf2843fc8669579962e58890": {
      "model_module": "@jupyter-widgets/controls",
      "model_module_version": "1.5.0",
      "model_name": "SliderStyleModel",
      "state": {
       "description_width": ""
      }
     },
     "a67194d934154ca28b5ea7631098ec23": {
      "model_module": "@jupyter-widgets/base",
      "model_module_version": "1.2.0",
      "model_name": "LayoutModel",
      "state": {}
     },
     "a697d139977c4f3f9600cb4589bd91e3": {
      "model_module": "@jupyter-widgets/controls",
      "model_module_version": "1.5.0",
      "model_name": "HTMLModel",
      "state": {
       "layout": "IPY_MODEL_ae90d04c31e542cfaa864c64f407a477",
       "style": "IPY_MODEL_6ebc443e57804c6d916ec503153776b2",
       "value": "<h2>Utterance <b>16:</b></h2>"
      }
     },
     "a6b1ef1f293b4391ab87f81d97e9190b": {
      "model_module": "@jupyter-widgets/controls",
      "model_module_version": "1.5.0",
      "model_name": "HTMLModel",
      "state": {
       "layout": "IPY_MODEL_b5bce8d4c8954b67a1e35fd44b2e65fd",
       "style": "IPY_MODEL_47d82abb447f4ca0910c958a5eeb9cc4",
       "value": "<h2>Utterance <b>20:</b></h2>"
      }
     },
     "a6f22057c6da4eab8381bd1421eb768c": {
      "model_module": "@jupyter-widgets/base",
      "model_module_version": "1.2.0",
      "model_name": "LayoutModel",
      "state": {}
     },
     "a7028ed39eeb40b188658d04f09f0e5f": {
      "model_module": "@jupyter-widgets/controls",
      "model_module_version": "1.5.0",
      "model_name": "SliderStyleModel",
      "state": {
       "description_width": ""
      }
     },
     "a71cd3c7998141698abaa59badbc80bf": {
      "model_module": "@jupyter-widgets/controls",
      "model_module_version": "1.5.0",
      "model_name": "ButtonModel",
      "state": {
       "description": "Done",
       "layout": "IPY_MODEL_8e901b2dccf0498b8b1d6a0e1bd70b95",
       "style": "IPY_MODEL_a146ddd737d246799cf417c75b106190"
      }
     },
     "a7591aca4ed3494ab00ae7bf036f348e": {
      "model_module": "@jupyter-widgets/controls",
      "model_module_version": "1.5.0",
      "model_name": "FloatSliderModel",
      "state": {
       "continuous_update": false,
       "description": "Test:",
       "layout": "IPY_MODEL_19e7b539dbf04e638abf3dcb249a414c",
       "max": 5,
       "min": 1,
       "readout_format": ".1f",
       "step": 0.1,
       "style": "IPY_MODEL_70d1bb7573a545d58636aa2492ca91af",
       "value": 3
      }
     },
     "a7596f0f853646878231b9e32e11c300": {
      "model_module": "@jupyter-widgets/controls",
      "model_module_version": "1.5.0",
      "model_name": "FloatSliderModel",
      "state": {
       "continuous_update": false,
       "description": "Test:",
       "layout": "IPY_MODEL_b5457e51d94c4daa9ca4bcdd39d7a8c6",
       "max": 5,
       "min": 1,
       "readout_format": ".1f",
       "step": 0.1,
       "style": "IPY_MODEL_c439180a641e4fb9adde11d9197023fb",
       "value": 3
      }
     },
     "a75b763041b84c75901c75231ce930c9": {
      "model_module": "@jupyter-widgets/controls",
      "model_module_version": "1.5.0",
      "model_name": "DescriptionStyleModel",
      "state": {
       "description_width": ""
      }
     },
     "a78009662df34880b91c252c6502b820": {
      "model_module": "@jupyter-widgets/base",
      "model_module_version": "1.2.0",
      "model_name": "LayoutModel",
      "state": {}
     },
     "a7a7a825cf9a42abb239de3b746bdeb1": {
      "model_module": "@jupyter-widgets/base",
      "model_module_version": "1.2.0",
      "model_name": "LayoutModel",
      "state": {}
     },
     "a82399d1875d41049d82efca206df6ab": {
      "model_module": "@jupyter-widgets/base",
      "model_module_version": "1.2.0",
      "model_name": "LayoutModel",
      "state": {}
     },
     "a848949d28df441fa9bc12f584147b76": {
      "model_module": "@jupyter-widgets/controls",
      "model_module_version": "1.5.0",
      "model_name": "HTMLModel",
      "state": {
       "layout": "IPY_MODEL_ceba2be505224d3d8fa8a35b969fea54",
       "style": "IPY_MODEL_f3897694207f44eeaa3b8a003f709630",
       "value": "<h2>Utterance <b>4:</b></h2>"
      }
     },
     "a85a6bf5185d4fa8873c273053429282": {
      "model_module": "@jupyter-widgets/controls",
      "model_module_version": "1.5.0",
      "model_name": "HTMLModel",
      "state": {
       "layout": "IPY_MODEL_b4071337f93046b9a29fb3300752cfb9",
       "style": "IPY_MODEL_63cb9c3e3316486e96eedfa9523855cc",
       "value": "<h1>Voice selection<br></h1><body>Thanks for participating. Please select for each utternace it percieved quality with the folowing scale:<br><ol><li>Bad</li><li>Poor</li><li>Fair</li><li>Good</li><li>Excellent</li></ol><br><b>Note this test is not checking how much 'Jenny like' is a voice, but rather only how it sounds </b><br>After completing the questionaire press the button and you are done. Good luck and thank you.</body>"
      }
     },
     "a85d416b36424a4c9dc601f848f90507": {
      "model_module": "@jupyter-widgets/controls",
      "model_module_version": "1.5.0",
      "model_name": "FloatSliderModel",
      "state": {
       "continuous_update": false,
       "description": "Test:",
       "layout": "IPY_MODEL_fea84fe3b80c4a71be36fd6a7df9a7da",
       "max": 5,
       "min": 1,
       "readout_format": ".1f",
       "step": 0.1,
       "style": "IPY_MODEL_6b6c3b2cd7644f2aaa2b5b182c14748e",
       "value": 3
      }
     },
     "a87f69c671de4daea77e7dc12d1267f9": {
      "model_module": "@jupyter-widgets/base",
      "model_module_version": "1.2.0",
      "model_name": "LayoutModel",
      "state": {}
     },
     "a89a2befcac044668ac612efc480e683": {
      "model_module": "@jupyter-widgets/base",
      "model_module_version": "1.2.0",
      "model_name": "LayoutModel",
      "state": {}
     },
     "a8b667757df64d2c9ec8fd1f5b2819ef": {
      "model_module": "@jupyter-widgets/controls",
      "model_module_version": "1.5.0",
      "model_name": "HTMLModel",
      "state": {
       "layout": "IPY_MODEL_965938ee33044a1bb6662eb52e5abda5",
       "style": "IPY_MODEL_687fd754973f4c15a3c614817e8a3f9b",
       "value": "<h2>Utterance <b>1:</b></h2>"
      }
     },
     "a90f0313003e4395836b8ff4340649eb": {
      "model_module": "@jupyter-widgets/controls",
      "model_module_version": "1.5.0",
      "model_name": "DescriptionStyleModel",
      "state": {
       "description_width": ""
      }
     },
     "a9102b41a3cf4ec990281f55b9c054fe": {
      "model_module": "@jupyter-widgets/controls",
      "model_module_version": "1.5.0",
      "model_name": "FloatSliderModel",
      "state": {
       "continuous_update": false,
       "description": "Test:",
       "layout": "IPY_MODEL_84811b5cac304cda989ca2d3bebeffb7",
       "max": 5,
       "min": 1,
       "readout_format": ".1f",
       "step": 0.1,
       "style": "IPY_MODEL_467c012cb8984424b25dd44d07367817",
       "value": 3
      }
     },
     "a945904056724418a6a672a03884f99a": {
      "model_module": "@jupyter-widgets/controls",
      "model_module_version": "1.5.0",
      "model_name": "SliderStyleModel",
      "state": {
       "description_width": ""
      }
     },
     "a95f340382c5468cb275bbcd3aebedee": {
      "model_module": "@jupyter-widgets/controls",
      "model_module_version": "1.5.0",
      "model_name": "DescriptionStyleModel",
      "state": {
       "description_width": ""
      }
     },
     "a97e061226bc430bbf4a46a4d53f1618": {
      "model_module": "@jupyter-widgets/controls",
      "model_module_version": "1.5.0",
      "model_name": "DescriptionStyleModel",
      "state": {
       "description_width": ""
      }
     },
     "a984c86facf143b2a5481b207dd08581": {
      "model_module": "@jupyter-widgets/controls",
      "model_module_version": "1.5.0",
      "model_name": "HTMLModel",
      "state": {
       "layout": "IPY_MODEL_3d9cc67a153f4647adeb797b90563d75",
       "style": "IPY_MODEL_34fa1105348c4339add15976bc62a9d7",
       "value": "<h2>Utterance <b>25:</b></h2>"
      }
     },
     "a98a23b607024cc7a0d327602027a645": {
      "model_module": "@jupyter-widgets/controls",
      "model_module_version": "1.5.0",
      "model_name": "FloatSliderModel",
      "state": {
       "continuous_update": false,
       "description": "Test:",
       "layout": "IPY_MODEL_a45c0670bd4346f5b923f847c239afe8",
       "max": 5,
       "min": 1,
       "readout_format": ".1f",
       "step": 0.1,
       "style": "IPY_MODEL_68782270b3c546c1bf92202a99b9875b",
       "value": 3
      }
     },
     "a9af8663b1a544f6a88e9d75dac8300b": {
      "model_module": "@jupyter-widgets/base",
      "model_module_version": "1.2.0",
      "model_name": "LayoutModel",
      "state": {}
     },
     "a9c04ac9f31245ad959776e4c97f71d9": {
      "model_module": "@jupyter-widgets/base",
      "model_module_version": "1.2.0",
      "model_name": "LayoutModel",
      "state": {}
     },
     "a9e8b2d573034032a8dd9907e9987d87": {
      "model_module": "@jupyter-widgets/controls",
      "model_module_version": "1.5.0",
      "model_name": "SliderStyleModel",
      "state": {
       "description_width": ""
      }
     },
     "a9ed2189f26f49f68154ad005947aaec": {
      "model_module": "@jupyter-widgets/controls",
      "model_module_version": "1.5.0",
      "model_name": "DescriptionStyleModel",
      "state": {
       "description_width": ""
      }
     },
     "a9f91f9d882644cabc6d545d6180092c": {
      "model_module": "@jupyter-widgets/controls",
      "model_module_version": "1.5.0",
      "model_name": "SliderStyleModel",
      "state": {
       "description_width": ""
      }
     },
     "aa05a14593b949a49bfa5d3412b5e6d9": {
      "model_module": "@jupyter-widgets/controls",
      "model_module_version": "1.5.0",
      "model_name": "SliderStyleModel",
      "state": {
       "description_width": ""
      }
     },
     "aa2d6042c24d4225a99b60aa54e7889a": {
      "model_module": "@jupyter-widgets/controls",
      "model_module_version": "1.5.0",
      "model_name": "SliderStyleModel",
      "state": {
       "description_width": ""
      }
     },
     "aa386b0843964088b12f575b3f1d529d": {
      "model_module": "@jupyter-widgets/controls",
      "model_module_version": "1.5.0",
      "model_name": "SliderStyleModel",
      "state": {
       "description_width": ""
      }
     },
     "aa726480707746a7ac2fe066c0fd881f": {
      "model_module": "@jupyter-widgets/base",
      "model_module_version": "1.2.0",
      "model_name": "LayoutModel",
      "state": {}
     },
     "aa838e60c7a8480ba2d9c0ff72df70f3": {
      "model_module": "@jupyter-widgets/base",
      "model_module_version": "1.2.0",
      "model_name": "LayoutModel",
      "state": {}
     },
     "aa93a5cc893342fdb51e6cbdcf8f41a2": {
      "model_module": "@jupyter-widgets/controls",
      "model_module_version": "1.5.0",
      "model_name": "SliderStyleModel",
      "state": {
       "description_width": ""
      }
     },
     "aae668f5ceeb462b930ec1f6115915d6": {
      "model_module": "@jupyter-widgets/base",
      "model_module_version": "1.2.0",
      "model_name": "LayoutModel",
      "state": {}
     },
     "aaea56cab4c542da82815a1ba931f5b5": {
      "model_module": "@jupyter-widgets/controls",
      "model_module_version": "1.5.0",
      "model_name": "HTMLModel",
      "state": {
       "layout": "IPY_MODEL_cfdfc3d5df544c45988a6b4485d6cfac",
       "style": "IPY_MODEL_9742af84e7494a93bcf197c5a33f758f",
       "value": "<h2>Utterance <b>17:</b></h2>"
      }
     },
     "aaeeb707932742c8a1aae53e5e40d4c2": {
      "model_module": "@jupyter-widgets/controls",
      "model_module_version": "1.5.0",
      "model_name": "DescriptionStyleModel",
      "state": {
       "description_width": ""
      }
     },
     "ab1379b2c4834d069faab4de1cb8fc5d": {
      "model_module": "@jupyter-widgets/base",
      "model_module_version": "1.2.0",
      "model_name": "LayoutModel",
      "state": {}
     },
     "ab2f83ca578a465a98f412f83cc10899": {
      "model_module": "@jupyter-widgets/base",
      "model_module_version": "1.2.0",
      "model_name": "LayoutModel",
      "state": {}
     },
     "ab3aa4074d874761b0c0a9396b027d19": {
      "model_module": "@jupyter-widgets/controls",
      "model_module_version": "1.5.0",
      "model_name": "FloatSliderModel",
      "state": {
       "continuous_update": false,
       "description": "Test:",
       "layout": "IPY_MODEL_858b608471434cf2ac5cd4d29e80f17b",
       "max": 5,
       "min": 1,
       "readout_format": ".1f",
       "step": 0.1,
       "style": "IPY_MODEL_0c2c305a7b224823bce0809a71d19cf1",
       "value": 3
      }
     },
     "ac15c2a37ca54ab3b41cbf8f2c5cf5db": {
      "model_module": "@jupyter-widgets/controls",
      "model_module_version": "1.5.0",
      "model_name": "FloatSliderModel",
      "state": {
       "continuous_update": false,
       "description": "Test:",
       "layout": "IPY_MODEL_fe09a5a5b189433ab2eb5f10d79ebb2b",
       "max": 5,
       "min": 1,
       "readout_format": ".1f",
       "step": 0.1,
       "style": "IPY_MODEL_06408561bb3640f5b590655f6f83bfc5",
       "value": 3
      }
     },
     "ac21ee33c54245039bcb2cb4084b9146": {
      "model_module": "@jupyter-widgets/controls",
      "model_module_version": "1.5.0",
      "model_name": "SliderStyleModel",
      "state": {
       "description_width": ""
      }
     },
     "ac67e852c737402283c07d5bdf2a0bb9": {
      "model_module": "@jupyter-widgets/controls",
      "model_module_version": "1.5.0",
      "model_name": "FloatSliderModel",
      "state": {
       "continuous_update": false,
       "description": "Test:",
       "layout": "IPY_MODEL_bc9d6c7cb3a84bcc943ff0998d0f39f3",
       "max": 5,
       "min": 1,
       "readout_format": ".1f",
       "step": 0.1,
       "style": "IPY_MODEL_9b1e6df7b43b4f74b3e83ddd373c0a20",
       "value": 3
      }
     },
     "ac79328e1074422b9be9502582425fd8": {
      "model_module": "@jupyter-widgets/base",
      "model_module_version": "1.2.0",
      "model_name": "LayoutModel",
      "state": {}
     },
     "ac91cdf5b2024aa28a7cf5dc74525ebe": {
      "model_module": "@jupyter-widgets/controls",
      "model_module_version": "1.5.0",
      "model_name": "HTMLModel",
      "state": {
       "layout": "IPY_MODEL_d99736d2e2ca47d89eb08791f1621958",
       "style": "IPY_MODEL_10fd2eb53f184d92ba5252f195c1299f",
       "value": "<h2>Utterance <b>23:</b></h2>"
      }
     },
     "ac92c2dffa504731a9db0126ffc63171": {
      "model_module": "@jupyter-widgets/base",
      "model_module_version": "1.2.0",
      "model_name": "LayoutModel",
      "state": {}
     },
     "acb4ddb7582a421a9fff4c207c2465f3": {
      "model_module": "@jupyter-widgets/controls",
      "model_module_version": "1.5.0",
      "model_name": "DescriptionStyleModel",
      "state": {
       "description_width": ""
      }
     },
     "acebe5e9f60e4be88224c5d4fcc8d9f7": {
      "model_module": "@jupyter-widgets/controls",
      "model_module_version": "1.5.0",
      "model_name": "DescriptionStyleModel",
      "state": {
       "description_width": ""
      }
     },
     "acf0a306950e45c797a83810888175b9": {
      "model_module": "@jupyter-widgets/base",
      "model_module_version": "1.2.0",
      "model_name": "LayoutModel",
      "state": {}
     },
     "acf609359b0f47218839538489a31b8d": {
      "model_module": "@jupyter-widgets/base",
      "model_module_version": "1.2.0",
      "model_name": "LayoutModel",
      "state": {}
     },
     "ad1ae1cd832e475fb34287c397459238": {
      "model_module": "@jupyter-widgets/base",
      "model_module_version": "1.2.0",
      "model_name": "LayoutModel",
      "state": {}
     },
     "ad23b72cd87e4011aa166f18875927bc": {
      "model_module": "@jupyter-widgets/controls",
      "model_module_version": "1.5.0",
      "model_name": "FloatSliderModel",
      "state": {
       "continuous_update": false,
       "description": "Test:",
       "layout": "IPY_MODEL_130f07b1f7d54c179c1a96327eb4d657",
       "max": 5,
       "min": 1,
       "readout_format": ".1f",
       "step": 0.1,
       "style": "IPY_MODEL_9439fe715828446e81838b7672a7d29e",
       "value": 3
      }
     },
     "ad3b1900818f492ca4b9fa3ccc448fb6": {
      "model_module": "@jupyter-widgets/controls",
      "model_module_version": "1.5.0",
      "model_name": "DescriptionStyleModel",
      "state": {
       "description_width": ""
      }
     },
     "ad46547562584b7e8dc2afb3b4d66215": {
      "model_module": "@jupyter-widgets/controls",
      "model_module_version": "1.5.0",
      "model_name": "SliderStyleModel",
      "state": {
       "description_width": ""
      }
     },
     "ad63a231b2e040ce9c12e0f27bf83c22": {
      "model_module": "@jupyter-widgets/base",
      "model_module_version": "1.2.0",
      "model_name": "LayoutModel",
      "state": {}
     },
     "ad7448c2f16d4176b372d5dffe0faf6b": {
      "model_module": "@jupyter-widgets/base",
      "model_module_version": "1.2.0",
      "model_name": "LayoutModel",
      "state": {}
     },
     "ad847a75357a45b4bd456045a7c05729": {
      "model_module": "@jupyter-widgets/base",
      "model_module_version": "1.2.0",
      "model_name": "LayoutModel",
      "state": {}
     },
     "ad87a85ab2754a99955bd766b141c1ac": {
      "model_module": "@jupyter-widgets/controls",
      "model_module_version": "1.5.0",
      "model_name": "SliderStyleModel",
      "state": {
       "description_width": ""
      }
     },
     "ad8e204e92934f9e9ed1ed96e5ea6a99": {
      "model_module": "@jupyter-widgets/controls",
      "model_module_version": "1.5.0",
      "model_name": "SliderStyleModel",
      "state": {
       "description_width": ""
      }
     },
     "ad943aeccb9a452589bf343994966f17": {
      "model_module": "@jupyter-widgets/controls",
      "model_module_version": "1.5.0",
      "model_name": "FloatSliderModel",
      "state": {
       "continuous_update": false,
       "description": "Test:",
       "layout": "IPY_MODEL_c12a59200d7d45b6ba040bc86324c416",
       "max": 5,
       "min": 1,
       "readout_format": ".1f",
       "step": 0.1,
       "style": "IPY_MODEL_548efe5659cd4a8cab87e464082939c7",
       "value": 3
      }
     },
     "ada5c98e420149b5825865f7eada84f8": {
      "model_module": "@jupyter-widgets/base",
      "model_module_version": "1.2.0",
      "model_name": "LayoutModel",
      "state": {}
     },
     "adacfed3406640d985ae8411957b00d1": {
      "model_module": "@jupyter-widgets/controls",
      "model_module_version": "1.5.0",
      "model_name": "SliderStyleModel",
      "state": {
       "description_width": ""
      }
     },
     "adc1c2dc4d7042ebb01a83cfa3f15963": {
      "model_module": "@jupyter-widgets/controls",
      "model_module_version": "1.5.0",
      "model_name": "FloatSliderModel",
      "state": {
       "continuous_update": false,
       "description": "Test:",
       "layout": "IPY_MODEL_64be0d87fce543c1a3638a471c024ed8",
       "max": 5,
       "min": 1,
       "readout_format": ".1f",
       "step": 0.1,
       "style": "IPY_MODEL_d148dd0a83a443afaa74b4bc96f54fb0",
       "value": 3
      }
     },
     "adca0ee373334ec6a77d4b6d36c9d8c1": {
      "model_module": "@jupyter-widgets/controls",
      "model_module_version": "1.5.0",
      "model_name": "FloatSliderModel",
      "state": {
       "continuous_update": false,
       "description": "Test:",
       "layout": "IPY_MODEL_785dd60eb72342688c38e3adf9ef0258",
       "max": 5,
       "min": 1,
       "readout_format": ".1f",
       "step": 0.1,
       "style": "IPY_MODEL_e025ecc4ee574a05bc6fe87cca386bd7",
       "value": 3
      }
     },
     "add72119b88b47b69cf31383c86516ea": {
      "model_module": "@jupyter-widgets/controls",
      "model_module_version": "1.5.0",
      "model_name": "DescriptionStyleModel",
      "state": {
       "description_width": ""
      }
     },
     "ade299710d7f4e89801af8fec7ef7de8": {
      "model_module": "@jupyter-widgets/controls",
      "model_module_version": "1.5.0",
      "model_name": "SliderStyleModel",
      "state": {
       "description_width": ""
      }
     },
     "adedba3565a34487abac752494fdfb78": {
      "model_module": "@jupyter-widgets/controls",
      "model_module_version": "1.5.0",
      "model_name": "HTMLModel",
      "state": {
       "layout": "IPY_MODEL_16e295f31eb845bd908dcf934457dfc8",
       "style": "IPY_MODEL_e058f6b056764618acfba903c87ab499",
       "value": "<h2>Utterance <b>14:</b></h2>"
      }
     },
     "ae07c706f1774a85b35900480db2351c": {
      "model_module": "@jupyter-widgets/controls",
      "model_module_version": "1.5.0",
      "model_name": "DescriptionStyleModel",
      "state": {
       "description_width": ""
      }
     },
     "ae0975d8f4ef4b46a6537b7c919b2067": {
      "model_module": "@jupyter-widgets/controls",
      "model_module_version": "1.5.0",
      "model_name": "ButtonModel",
      "state": {
       "description": "Done",
       "layout": "IPY_MODEL_ab1379b2c4834d069faab4de1cb8fc5d",
       "style": "IPY_MODEL_638b63bf86e94860b5cc0e7614b2e659"
      }
     },
     "ae314aab36404edd92d59b8ab586b34c": {
      "model_module": "@jupyter-widgets/controls",
      "model_module_version": "1.5.0",
      "model_name": "SliderStyleModel",
      "state": {
       "description_width": ""
      }
     },
     "ae3d98dce65b4052bb8b94fcaa2373a3": {
      "model_module": "@jupyter-widgets/base",
      "model_module_version": "1.2.0",
      "model_name": "LayoutModel",
      "state": {}
     },
     "ae6a5e731b0e4875a360c308addc93d7": {
      "model_module": "@jupyter-widgets/controls",
      "model_module_version": "1.5.0",
      "model_name": "HTMLModel",
      "state": {
       "layout": "IPY_MODEL_117bc26643f048cc83dd22e8b99362c0",
       "style": "IPY_MODEL_c6747c4aaf674500bb640dadc75a15e2",
       "value": "<h2>Utterance <b>14:</b></h2>"
      }
     },
     "ae7fd4d78d1c4ea4bb72bc2a31b1f657": {
      "model_module": "@jupyter-widgets/base",
      "model_module_version": "1.2.0",
      "model_name": "LayoutModel",
      "state": {}
     },
     "ae90d04c31e542cfaa864c64f407a477": {
      "model_module": "@jupyter-widgets/base",
      "model_module_version": "1.2.0",
      "model_name": "LayoutModel",
      "state": {}
     },
     "aea81a95743f4ca3903411dfdb0f4d2f": {
      "model_module": "@jupyter-widgets/base",
      "model_module_version": "1.2.0",
      "model_name": "LayoutModel",
      "state": {}
     },
     "aed44e16bd1244ac95651d02a12140f6": {
      "model_module": "@jupyter-widgets/controls",
      "model_module_version": "1.5.0",
      "model_name": "DescriptionStyleModel",
      "state": {
       "description_width": ""
      }
     },
     "aefd107b8ba74b28b5acb43d0b7db8d5": {
      "model_module": "@jupyter-widgets/controls",
      "model_module_version": "1.5.0",
      "model_name": "SliderStyleModel",
      "state": {
       "description_width": ""
      }
     },
     "af01981ef23045488f1765f447bc4009": {
      "model_module": "@jupyter-widgets/controls",
      "model_module_version": "1.5.0",
      "model_name": "SliderStyleModel",
      "state": {
       "description_width": ""
      }
     },
     "af0bc783ae7d475ab2e6b906cc102299": {
      "model_module": "@jupyter-widgets/controls",
      "model_module_version": "1.5.0",
      "model_name": "DescriptionStyleModel",
      "state": {
       "description_width": ""
      }
     },
     "af1fc15f396748709da0a31a2140146b": {
      "model_module": "@jupyter-widgets/base",
      "model_module_version": "1.2.0",
      "model_name": "LayoutModel",
      "state": {}
     },
     "af6340ccbf37465884c2299aba1ff490": {
      "model_module": "@jupyter-widgets/controls",
      "model_module_version": "1.5.0",
      "model_name": "DescriptionStyleModel",
      "state": {
       "description_width": ""
      }
     },
     "af6a4ee7cff448c0a7b98d567456325e": {
      "model_module": "@jupyter-widgets/controls",
      "model_module_version": "1.5.0",
      "model_name": "HTMLModel",
      "state": {
       "layout": "IPY_MODEL_f94b1e72e6a8431280c5b63eb26118b7",
       "style": "IPY_MODEL_a97e061226bc430bbf4a46a4d53f1618",
       "value": "<h2>Utterance <b>1:</b></h2>"
      }
     },
     "af767dce3630441bbbeee2fd1fd5beab": {
      "model_module": "@jupyter-widgets/controls",
      "model_module_version": "1.5.0",
      "model_name": "ButtonStyleModel",
      "state": {}
     },
     "af7c66aea8da4f9cb0bfb435222b9f39": {
      "model_module": "@jupyter-widgets/base",
      "model_module_version": "1.2.0",
      "model_name": "LayoutModel",
      "state": {}
     },
     "afbfa496d0d24c9bb83e8b1e83d9e9df": {
      "model_module": "@jupyter-widgets/controls",
      "model_module_version": "1.5.0",
      "model_name": "HTMLModel",
      "state": {
       "layout": "IPY_MODEL_c43c2627f9ea4fda92f6665b2f8022fb",
       "style": "IPY_MODEL_1ce67db3aec74abc99b027cc64bb65a8",
       "value": "<h2>Utterance <b>6:</b></h2>"
      }
     },
     "afc6f8131540416ba86d9eca5a3ce129": {
      "model_module": "@jupyter-widgets/base",
      "model_module_version": "1.2.0",
      "model_name": "LayoutModel",
      "state": {}
     },
     "b033fc8815f44261a2a3380c975abae9": {
      "model_module": "@jupyter-widgets/controls",
      "model_module_version": "1.5.0",
      "model_name": "HTMLModel",
      "state": {
       "layout": "IPY_MODEL_8011de5da0fc49c786ce2042af13ce9b",
       "style": "IPY_MODEL_7d08214cb770436889c46642a8843105",
       "value": "<h2>Utterance <b>8:</b></h2>"
      }
     },
     "b044fcac023748ad8b514b1d6776908d": {
      "model_module": "@jupyter-widgets/controls",
      "model_module_version": "1.5.0",
      "model_name": "DescriptionStyleModel",
      "state": {
       "description_width": ""
      }
     },
     "b056f31361a6489296a176411a35920a": {
      "model_module": "@jupyter-widgets/controls",
      "model_module_version": "1.5.0",
      "model_name": "SliderStyleModel",
      "state": {
       "description_width": ""
      }
     },
     "b061b3eb1da9466fb755d6c4485bdeab": {
      "model_module": "@jupyter-widgets/controls",
      "model_module_version": "1.5.0",
      "model_name": "SliderStyleModel",
      "state": {
       "description_width": ""
      }
     },
     "b072b2a2ab314cbc8abb5307547a713f": {
      "model_module": "@jupyter-widgets/controls",
      "model_module_version": "1.5.0",
      "model_name": "SliderStyleModel",
      "state": {
       "description_width": ""
      }
     },
     "b0771a108b96484f99fa200c45b9c69d": {
      "model_module": "@jupyter-widgets/base",
      "model_module_version": "1.2.0",
      "model_name": "LayoutModel",
      "state": {}
     },
     "b08e37627d674d2faed3b44205d915d3": {
      "model_module": "@jupyter-widgets/controls",
      "model_module_version": "1.5.0",
      "model_name": "DescriptionStyleModel",
      "state": {
       "description_width": ""
      }
     },
     "b09c895141c1402d84b067bf87d3750f": {
      "model_module": "@jupyter-widgets/controls",
      "model_module_version": "1.5.0",
      "model_name": "SliderStyleModel",
      "state": {
       "description_width": ""
      }
     },
     "b136f5c097254fa3b87d6676cfd7bd74": {
      "model_module": "@jupyter-widgets/controls",
      "model_module_version": "1.5.0",
      "model_name": "HTMLModel",
      "state": {
       "layout": "IPY_MODEL_589b4edc68834700805c82d494389daa",
       "style": "IPY_MODEL_9573afb8d34540b09efa74c7335a1c84",
       "value": "<h2>Utterance <b>11:</b></h2>"
      }
     },
     "b1411b669dc648f6b51b253b3506fd34": {
      "model_module": "@jupyter-widgets/controls",
      "model_module_version": "1.5.0",
      "model_name": "DescriptionStyleModel",
      "state": {
       "description_width": ""
      }
     },
     "b162e9343cf045c89b11d79626171dfc": {
      "model_module": "@jupyter-widgets/base",
      "model_module_version": "1.2.0",
      "model_name": "LayoutModel",
      "state": {}
     },
     "b189dbf3cf8442fca961022b428636d5": {
      "model_module": "@jupyter-widgets/controls",
      "model_module_version": "1.5.0",
      "model_name": "FloatSliderModel",
      "state": {
       "continuous_update": false,
       "description": "Test:",
       "layout": "IPY_MODEL_ada5c98e420149b5825865f7eada84f8",
       "max": 5,
       "min": 1,
       "readout_format": ".1f",
       "step": 0.1,
       "style": "IPY_MODEL_80347ee0cfa347738940050dbe900568",
       "value": 3
      }
     },
     "b1a9fdb328c24a15bf7cbdb613457cf2": {
      "model_module": "@jupyter-widgets/controls",
      "model_module_version": "1.5.0",
      "model_name": "HTMLModel",
      "state": {
       "layout": "IPY_MODEL_bd88037898c1400b92a068faba7ec3a5",
       "style": "IPY_MODEL_958d520672fb44cb86bf30d98ad16f62",
       "value": "<h2>Utterance <b>21:</b></h2>"
      }
     },
     "b1aa52b67cef4048992a8d79d8ea7580": {
      "model_module": "@jupyter-widgets/base",
      "model_module_version": "1.2.0",
      "model_name": "LayoutModel",
      "state": {}
     },
     "b1b16ab055864b939e43e66bc5b2e343": {
      "model_module": "@jupyter-widgets/base",
      "model_module_version": "1.2.0",
      "model_name": "LayoutModel",
      "state": {}
     },
     "b1f1b6764c0d416eabcdca75baf1aa64": {
      "model_module": "@jupyter-widgets/controls",
      "model_module_version": "1.5.0",
      "model_name": "DescriptionStyleModel",
      "state": {
       "description_width": ""
      }
     },
     "b201ccbe012f40ef93f97ac5001002df": {
      "model_module": "@jupyter-widgets/controls",
      "model_module_version": "1.5.0",
      "model_name": "DescriptionStyleModel",
      "state": {
       "description_width": ""
      }
     },
     "b218ff3bd21a4086aa97e61653f55839": {
      "model_module": "@jupyter-widgets/base",
      "model_module_version": "1.2.0",
      "model_name": "LayoutModel",
      "state": {}
     },
     "b21e1d2c1ced4b279e05f3cd90767d54": {
      "model_module": "@jupyter-widgets/base",
      "model_module_version": "1.2.0",
      "model_name": "LayoutModel",
      "state": {}
     },
     "b22065ff14df4206bd14d6b13d64cee8": {
      "model_module": "@jupyter-widgets/controls",
      "model_module_version": "1.5.0",
      "model_name": "SliderStyleModel",
      "state": {
       "description_width": ""
      }
     },
     "b252af380f5f456ab77945b49feb167a": {
      "model_module": "@jupyter-widgets/base",
      "model_module_version": "1.2.0",
      "model_name": "LayoutModel",
      "state": {}
     },
     "b26b450061424e32a28bcf409fe9312b": {
      "model_module": "@jupyter-widgets/controls",
      "model_module_version": "1.5.0",
      "model_name": "FloatSliderModel",
      "state": {
       "continuous_update": false,
       "description": "Test:",
       "layout": "IPY_MODEL_f89fb55026274d15842eaea10084df6b",
       "max": 5,
       "min": 1,
       "readout_format": ".1f",
       "step": 0.1,
       "style": "IPY_MODEL_29c6155893d643c9b485c7bc42a4f697",
       "value": 3
      }
     },
     "b2724cd2f5b34b53b9ec33ab706d3899": {
      "model_module": "@jupyter-widgets/base",
      "model_module_version": "1.2.0",
      "model_name": "LayoutModel",
      "state": {}
     },
     "b273e156a9ef430196d62c88f4ec6fa5": {
      "model_module": "@jupyter-widgets/controls",
      "model_module_version": "1.5.0",
      "model_name": "FloatSliderModel",
      "state": {
       "continuous_update": false,
       "description": "Test:",
       "layout": "IPY_MODEL_14f6cf0b2de64bff80f9fb12aa25c379",
       "max": 5,
       "min": 1,
       "readout_format": ".1f",
       "step": 0.1,
       "style": "IPY_MODEL_6fcc0a7e2988410c93d059d05aeb7eb9",
       "value": 3
      }
     },
     "b28d57ff954949b2b40273bedc4be164": {
      "model_module": "@jupyter-widgets/controls",
      "model_module_version": "1.5.0",
      "model_name": "DescriptionStyleModel",
      "state": {
       "description_width": ""
      }
     },
     "b2a24008e5fb4b94b14e3bf7428560ba": {
      "model_module": "@jupyter-widgets/controls",
      "model_module_version": "1.5.0",
      "model_name": "HTMLModel",
      "state": {
       "layout": "IPY_MODEL_18c79a6d5f9d4374bb94024a34657953",
       "style": "IPY_MODEL_b3fd401b6dae4e76a18d8e9c58d1efdc",
       "value": "<h2>Utterance <b>24:</b></h2>"
      }
     },
     "b2a8f2b009ad48cb9d0e1ed4d60be487": {
      "model_module": "@jupyter-widgets/controls",
      "model_module_version": "1.5.0",
      "model_name": "HTMLModel",
      "state": {
       "layout": "IPY_MODEL_1192b2ef57614ce18f458693ea42006a",
       "style": "IPY_MODEL_4cad88aa8d1b4b31906629e87ac084e4",
       "value": "<h2>Utterance <b>25:</b></h2>"
      }
     },
     "b2b4e35eb06542b2ad73bd270ef3940c": {
      "model_module": "@jupyter-widgets/controls",
      "model_module_version": "1.5.0",
      "model_name": "DescriptionStyleModel",
      "state": {
       "description_width": ""
      }
     },
     "b2bc855617604c6bb9e3d9836053ddb4": {
      "model_module": "@jupyter-widgets/controls",
      "model_module_version": "1.5.0",
      "model_name": "HTMLModel",
      "state": {
       "layout": "IPY_MODEL_87099a1b3b37465494467c0b2b63de0d",
       "style": "IPY_MODEL_88958afd8222452aa7b194324b443045",
       "value": "<h2>Utterance <b>6:</b></h2>"
      }
     },
     "b2e4fae3d5124c579c47d2fbf8567dae": {
      "model_module": "@jupyter-widgets/base",
      "model_module_version": "1.2.0",
      "model_name": "LayoutModel",
      "state": {}
     },
     "b31cbb78cce345c5aa42115db5fce806": {
      "model_module": "@jupyter-widgets/controls",
      "model_module_version": "1.5.0",
      "model_name": "HTMLModel",
      "state": {
       "layout": "IPY_MODEL_e61f8e658e024c06b937c6246b7df838",
       "style": "IPY_MODEL_58ce6be8e0a3443cb77cced0c7255199",
       "value": "<h2>Utterance <b>9:</b></h2>"
      }
     },
     "b33ff1e30cb948a9abc3b8577df4493c": {
      "model_module": "@jupyter-widgets/controls",
      "model_module_version": "1.5.0",
      "model_name": "DescriptionStyleModel",
      "state": {
       "description_width": ""
      }
     },
     "b38fea67384a4054ba4d1b4b1fc67b78": {
      "model_module": "@jupyter-widgets/controls",
      "model_module_version": "1.5.0",
      "model_name": "SliderStyleModel",
      "state": {
       "description_width": ""
      }
     },
     "b39d767621014af5aead78cef607feeb": {
      "model_module": "@jupyter-widgets/base",
      "model_module_version": "1.2.0",
      "model_name": "LayoutModel",
      "state": {}
     },
     "b3cd8d3ca422414a8bffa5ff3cb0f6ae": {
      "model_module": "@jupyter-widgets/base",
      "model_module_version": "1.2.0",
      "model_name": "LayoutModel",
      "state": {}
     },
     "b3d6e39d45244e27a24dbce67cd8b2c1": {
      "model_module": "@jupyter-widgets/base",
      "model_module_version": "1.2.0",
      "model_name": "LayoutModel",
      "state": {}
     },
     "b3d76c39405c48b780cfc7b6d60b9330": {
      "model_module": "@jupyter-widgets/controls",
      "model_module_version": "1.5.0",
      "model_name": "FloatSliderModel",
      "state": {
       "continuous_update": false,
       "description": "Test:",
       "layout": "IPY_MODEL_cf5767cefa7048b48c51417e0eca6140",
       "max": 5,
       "min": 1,
       "readout_format": ".1f",
       "step": 0.1,
       "style": "IPY_MODEL_80a9f1e15c684a1bb6338d4e8345024f",
       "value": 3
      }
     },
     "b3fd401b6dae4e76a18d8e9c58d1efdc": {
      "model_module": "@jupyter-widgets/controls",
      "model_module_version": "1.5.0",
      "model_name": "DescriptionStyleModel",
      "state": {
       "description_width": ""
      }
     },
     "b4071337f93046b9a29fb3300752cfb9": {
      "model_module": "@jupyter-widgets/base",
      "model_module_version": "1.2.0",
      "model_name": "LayoutModel",
      "state": {}
     },
     "b420f3c885634132abe65ce6f3bb9fe5": {
      "model_module": "@jupyter-widgets/base",
      "model_module_version": "1.2.0",
      "model_name": "LayoutModel",
      "state": {}
     },
     "b4cc7c89af344c16b943fe2f12192163": {
      "model_module": "@jupyter-widgets/base",
      "model_module_version": "1.2.0",
      "model_name": "LayoutModel",
      "state": {}
     },
     "b4e34ec7b7e94ee1be51141c75ddbd1c": {
      "model_module": "@jupyter-widgets/base",
      "model_module_version": "1.2.0",
      "model_name": "LayoutModel",
      "state": {}
     },
     "b4e4984bc805463d82c61e6b95025eb7": {
      "model_module": "@jupyter-widgets/controls",
      "model_module_version": "1.5.0",
      "model_name": "SliderStyleModel",
      "state": {
       "description_width": ""
      }
     },
     "b4f9ad2aacdd46cd8211e870dd6aab23": {
      "model_module": "@jupyter-widgets/base",
      "model_module_version": "1.2.0",
      "model_name": "LayoutModel",
      "state": {}
     },
     "b50c721c798d41acbeaafef52fd27585": {
      "model_module": "@jupyter-widgets/controls",
      "model_module_version": "1.5.0",
      "model_name": "FloatSliderModel",
      "state": {
       "continuous_update": false,
       "description": "Test:",
       "layout": "IPY_MODEL_575c270037534d378b465bd201f44936",
       "max": 5,
       "min": 1,
       "readout_format": ".1f",
       "step": 0.1,
       "style": "IPY_MODEL_fdc102392e56405a8e2c79eb14c7e5a6",
       "value": 3
      }
     },
     "b51e25e40e134fd480bae8c6f412b4be": {
      "model_module": "@jupyter-widgets/base",
      "model_module_version": "1.2.0",
      "model_name": "LayoutModel",
      "state": {}
     },
     "b5457e51d94c4daa9ca4bcdd39d7a8c6": {
      "model_module": "@jupyter-widgets/base",
      "model_module_version": "1.2.0",
      "model_name": "LayoutModel",
      "state": {}
     },
     "b554aff92539406880bcd7d97796e755": {
      "model_module": "@jupyter-widgets/controls",
      "model_module_version": "1.5.0",
      "model_name": "SliderStyleModel",
      "state": {
       "description_width": ""
      }
     },
     "b5692095a57645e4866f017804ad7e0e": {
      "model_module": "@jupyter-widgets/base",
      "model_module_version": "1.2.0",
      "model_name": "LayoutModel",
      "state": {}
     },
     "b56e1be330a84383b90048fae6b51a66": {
      "model_module": "@jupyter-widgets/controls",
      "model_module_version": "1.5.0",
      "model_name": "DescriptionStyleModel",
      "state": {
       "description_width": ""
      }
     },
     "b582964b58dd42f399f3c0b8d083224d": {
      "model_module": "@jupyter-widgets/controls",
      "model_module_version": "1.5.0",
      "model_name": "DescriptionStyleModel",
      "state": {
       "description_width": ""
      }
     },
     "b5bb63e6c1e44803a768e3d367123dcd": {
      "model_module": "@jupyter-widgets/base",
      "model_module_version": "1.2.0",
      "model_name": "LayoutModel",
      "state": {}
     },
     "b5bce8d4c8954b67a1e35fd44b2e65fd": {
      "model_module": "@jupyter-widgets/base",
      "model_module_version": "1.2.0",
      "model_name": "LayoutModel",
      "state": {}
     },
     "b5e8c06d100e424f8a5ecc25e80af415": {
      "model_module": "@jupyter-widgets/base",
      "model_module_version": "1.2.0",
      "model_name": "LayoutModel",
      "state": {}
     },
     "b60817ae80204112a73d1cc9b613f35a": {
      "model_module": "@jupyter-widgets/controls",
      "model_module_version": "1.5.0",
      "model_name": "HTMLModel",
      "state": {
       "layout": "IPY_MODEL_040c875b62904f088a79901e83168d1d",
       "style": "IPY_MODEL_82fac412db434d2e8356cbf9dd305d68",
       "value": "<h2>Utterance <b>24:</b></h2>"
      }
     },
     "b609eb36ae0340cb8815f3324ec566c8": {
      "model_module": "@jupyter-widgets/base",
      "model_module_version": "1.2.0",
      "model_name": "LayoutModel",
      "state": {}
     },
     "b6278b8d0760484da19bb9cdf42f40f7": {
      "model_module": "@jupyter-widgets/controls",
      "model_module_version": "1.5.0",
      "model_name": "DescriptionStyleModel",
      "state": {
       "description_width": ""
      }
     },
     "b643a08dcf864372a04ac27caf7d1f06": {
      "model_module": "@jupyter-widgets/controls",
      "model_module_version": "1.5.0",
      "model_name": "FloatSliderModel",
      "state": {
       "continuous_update": false,
       "description": "Test:",
       "layout": "IPY_MODEL_bdfde7d865064ce3b8115a9e2d6f0111",
       "max": 5,
       "min": 1,
       "readout_format": ".1f",
       "step": 0.1,
       "style": "IPY_MODEL_1972a67803594c71809c6353f8f47276",
       "value": 3
      }
     },
     "b65b8876b9e3485ca06b72f6a07eeda6": {
      "model_module": "@jupyter-widgets/controls",
      "model_module_version": "1.5.0",
      "model_name": "FloatSliderModel",
      "state": {
       "continuous_update": false,
       "description": "Test:",
       "layout": "IPY_MODEL_06659eb2a3e44277b12ca2b86f9bb14e",
       "max": 5,
       "min": 1,
       "readout_format": ".1f",
       "step": 0.1,
       "style": "IPY_MODEL_b4e4984bc805463d82c61e6b95025eb7",
       "value": 3
      }
     },
     "b65dfa551dcf4195bb3d9ff6ce806260": {
      "model_module": "@jupyter-widgets/base",
      "model_module_version": "1.2.0",
      "model_name": "LayoutModel",
      "state": {}
     },
     "b6bd55cd942b46eda879f4d30b11de71": {
      "model_module": "@jupyter-widgets/controls",
      "model_module_version": "1.5.0",
      "model_name": "FloatSliderModel",
      "state": {
       "continuous_update": false,
       "description": "Test:",
       "layout": "IPY_MODEL_f6b23d086ac545458ae07f3aeee9b9bd",
       "max": 5,
       "min": 1,
       "readout_format": ".1f",
       "step": 0.1,
       "style": "IPY_MODEL_4e38add41c2148c2a9938ff62a899ba6",
       "value": 3
      }
     },
     "b6c32e494d774d1889cc71ee05a826f8": {
      "model_module": "@jupyter-widgets/controls",
      "model_module_version": "1.5.0",
      "model_name": "FloatSliderModel",
      "state": {
       "continuous_update": false,
       "description": "Test:",
       "layout": "IPY_MODEL_47b4176dfd064f01a91743d7adec0aeb",
       "max": 5,
       "min": 1,
       "readout_format": ".1f",
       "step": 0.1,
       "style": "IPY_MODEL_a071277293874cdfae9d9126599a8b61",
       "value": 3
      }
     },
     "b6fb6ad97ca742bda62958ee046b5082": {
      "model_module": "@jupyter-widgets/controls",
      "model_module_version": "1.5.0",
      "model_name": "FloatSliderModel",
      "state": {
       "continuous_update": false,
       "description": "Test:",
       "layout": "IPY_MODEL_9bd9ecf6f3a843659a3f0e392f8a1e38",
       "max": 5,
       "min": 1,
       "readout_format": ".1f",
       "step": 0.1,
       "style": "IPY_MODEL_380b84a431124ba9aac0e45e5522efb2",
       "value": 3
      }
     },
     "b6fe35400ba44d41b6b10bc74ea5303f": {
      "model_module": "@jupyter-widgets/controls",
      "model_module_version": "1.5.0",
      "model_name": "DescriptionStyleModel",
      "state": {
       "description_width": ""
      }
     },
     "b701dc6e63bb4472a9cb0d587659f3eb": {
      "model_module": "@jupyter-widgets/base",
      "model_module_version": "1.2.0",
      "model_name": "LayoutModel",
      "state": {}
     },
     "b7240fdf10c84359b1702ab5622fd5b2": {
      "model_module": "@jupyter-widgets/base",
      "model_module_version": "1.2.0",
      "model_name": "LayoutModel",
      "state": {}
     },
     "b72dd03ba6d343139ce0c95558b88350": {
      "model_module": "@jupyter-widgets/base",
      "model_module_version": "1.2.0",
      "model_name": "LayoutModel",
      "state": {}
     },
     "b75c7e055e8e45f49da9e04c1c7baece": {
      "model_module": "@jupyter-widgets/controls",
      "model_module_version": "1.5.0",
      "model_name": "DescriptionStyleModel",
      "state": {
       "description_width": ""
      }
     },
     "b7dd3af8685749d49687cfb277ae14a8": {
      "model_module": "@jupyter-widgets/controls",
      "model_module_version": "1.5.0",
      "model_name": "DescriptionStyleModel",
      "state": {
       "description_width": ""
      }
     },
     "b80aa26dd9744979bdce45f5dd226849": {
      "model_module": "@jupyter-widgets/controls",
      "model_module_version": "1.5.0",
      "model_name": "DescriptionStyleModel",
      "state": {
       "description_width": ""
      }
     },
     "b85334a31d874e4b94637934f39a6b01": {
      "model_module": "@jupyter-widgets/base",
      "model_module_version": "1.2.0",
      "model_name": "LayoutModel",
      "state": {}
     },
     "b8542cae3dee45eb80a0d52d750df3aa": {
      "model_module": "@jupyter-widgets/controls",
      "model_module_version": "1.5.0",
      "model_name": "SliderStyleModel",
      "state": {
       "description_width": ""
      }
     },
     "b8625ed9fd1241edaede80201ac6a6f3": {
      "model_module": "@jupyter-widgets/base",
      "model_module_version": "1.2.0",
      "model_name": "LayoutModel",
      "state": {}
     },
     "b87839b45eab45ee91615856bba2f74b": {
      "model_module": "@jupyter-widgets/controls",
      "model_module_version": "1.5.0",
      "model_name": "DescriptionStyleModel",
      "state": {
       "description_width": ""
      }
     },
     "b88fb13969424e8d8fea114d8e90f18b": {
      "model_module": "@jupyter-widgets/controls",
      "model_module_version": "1.5.0",
      "model_name": "SliderStyleModel",
      "state": {
       "description_width": ""
      }
     },
     "b8b555d972e6421cbc5a7553e4c162b5": {
      "model_module": "@jupyter-widgets/controls",
      "model_module_version": "1.5.0",
      "model_name": "HTMLModel",
      "state": {
       "layout": "IPY_MODEL_a7a7a825cf9a42abb239de3b746bdeb1",
       "style": "IPY_MODEL_d30864044b544a63a290e1949c88aa9a",
       "value": "<h2>Utterance <b>10:</b></h2>"
      }
     },
     "b8effcd303c44bd88ba626306c5625b6": {
      "model_module": "@jupyter-widgets/base",
      "model_module_version": "1.2.0",
      "model_name": "LayoutModel",
      "state": {}
     },
     "b8fd159a37454b59847202195d6b5f59": {
      "model_module": "@jupyter-widgets/controls",
      "model_module_version": "1.5.0",
      "model_name": "HTMLModel",
      "state": {
       "layout": "IPY_MODEL_2bad492af9d543c9896f25ecca6b9f31",
       "style": "IPY_MODEL_aed44e16bd1244ac95651d02a12140f6",
       "value": "<h2>Utterance <b>21:</b></h2>"
      }
     },
     "b90e041e890a47a5977a75935d2d4faa": {
      "model_module": "@jupyter-widgets/controls",
      "model_module_version": "1.5.0",
      "model_name": "FloatSliderModel",
      "state": {
       "continuous_update": false,
       "description": "Test:",
       "layout": "IPY_MODEL_2806c5cfe5f04854afc68da58d98f7b3",
       "max": 5,
       "min": 1,
       "readout_format": ".1f",
       "step": 0.1,
       "style": "IPY_MODEL_ec1cadb1527e4e54881f655bbf02ce54",
       "value": 3
      }
     },
     "b9118a4856d1458fac6e8b44488065a1": {
      "model_module": "@jupyter-widgets/base",
      "model_module_version": "1.2.0",
      "model_name": "LayoutModel",
      "state": {}
     },
     "b91b2182696e412e9be4203a23ce8e98": {
      "model_module": "@jupyter-widgets/controls",
      "model_module_version": "1.5.0",
      "model_name": "SliderStyleModel",
      "state": {
       "description_width": ""
      }
     },
     "b91f839ea27c4ab48382a29c16b8e8db": {
      "model_module": "@jupyter-widgets/base",
      "model_module_version": "1.2.0",
      "model_name": "LayoutModel",
      "state": {}
     },
     "b938136f97dc4d79b1f96efb29363aa5": {
      "model_module": "@jupyter-widgets/base",
      "model_module_version": "1.2.0",
      "model_name": "LayoutModel",
      "state": {}
     },
     "b944d040b6ee404c80eebaf7e2c2ac7d": {
      "model_module": "@jupyter-widgets/controls",
      "model_module_version": "1.5.0",
      "model_name": "FloatSliderModel",
      "state": {
       "continuous_update": false,
       "description": "Test:",
       "layout": "IPY_MODEL_3b30c83d79dc444885d95362ba2fee22",
       "max": 5,
       "min": 1,
       "readout_format": ".1f",
       "step": 0.1,
       "style": "IPY_MODEL_be6e29df23814733830d908f210223d3",
       "value": 3
      }
     },
     "b97f439417cd41d499b288aaed0610f9": {
      "model_module": "@jupyter-widgets/controls",
      "model_module_version": "1.5.0",
      "model_name": "SliderStyleModel",
      "state": {
       "description_width": ""
      }
     },
     "b99c1efb495f40ea8cec8154bee3356c": {
      "model_module": "@jupyter-widgets/base",
      "model_module_version": "1.2.0",
      "model_name": "LayoutModel",
      "state": {}
     },
     "b9b9c65fab3640e9926989a5793823b6": {
      "model_module": "@jupyter-widgets/base",
      "model_module_version": "1.2.0",
      "model_name": "LayoutModel",
      "state": {}
     },
     "b9eabe58933949a0b9d12a34405ad476": {
      "model_module": "@jupyter-widgets/controls",
      "model_module_version": "1.5.0",
      "model_name": "DescriptionStyleModel",
      "state": {
       "description_width": ""
      }
     },
     "b9fd70f49f9c4c13ae6bb9f0abff86b4": {
      "model_module": "@jupyter-widgets/controls",
      "model_module_version": "1.5.0",
      "model_name": "ButtonStyleModel",
      "state": {}
     },
     "ba0a0236b07d4001a97c0eac51c623d3": {
      "model_module": "@jupyter-widgets/controls",
      "model_module_version": "1.5.0",
      "model_name": "DescriptionStyleModel",
      "state": {
       "description_width": ""
      }
     },
     "ba1de21980ce4361a0d806fe2fb94ef7": {
      "model_module": "@jupyter-widgets/base",
      "model_module_version": "1.2.0",
      "model_name": "LayoutModel",
      "state": {}
     },
     "ba2a1c0a28b746aebb982e6011855f13": {
      "model_module": "@jupyter-widgets/base",
      "model_module_version": "1.2.0",
      "model_name": "LayoutModel",
      "state": {}
     },
     "ba8911d3348d4695b8132405f3b375a9": {
      "model_module": "@jupyter-widgets/base",
      "model_module_version": "1.2.0",
      "model_name": "LayoutModel",
      "state": {}
     },
     "baae74f089b047cea77d6497512f460a": {
      "model_module": "@jupyter-widgets/controls",
      "model_module_version": "1.5.0",
      "model_name": "SliderStyleModel",
      "state": {
       "description_width": ""
      }
     },
     "bab202b57c2643e7b63d38b0596585ad": {
      "model_module": "@jupyter-widgets/controls",
      "model_module_version": "1.5.0",
      "model_name": "SliderStyleModel",
      "state": {
       "description_width": ""
      }
     },
     "bab8781048f24c878e75b80bfcead654": {
      "model_module": "@jupyter-widgets/base",
      "model_module_version": "1.2.0",
      "model_name": "LayoutModel",
      "state": {}
     },
     "bac180ba34b7460ab7664c61e14045e9": {
      "model_module": "@jupyter-widgets/controls",
      "model_module_version": "1.5.0",
      "model_name": "HTMLModel",
      "state": {
       "layout": "IPY_MODEL_cd1965bd7de7447a8c8ebb97be1e2d3b",
       "style": "IPY_MODEL_7203bc0fdde9400790575c92014714d3",
       "value": "<h2>Utterance <b>8:</b></h2>"
      }
     },
     "bb48701d765142d28cd054c670804701": {
      "model_module": "@jupyter-widgets/base",
      "model_module_version": "1.2.0",
      "model_name": "LayoutModel",
      "state": {}
     },
     "bb5acf8d6e6342c29cd76fdf9f11b74d": {
      "model_module": "@jupyter-widgets/base",
      "model_module_version": "1.2.0",
      "model_name": "LayoutModel",
      "state": {}
     },
     "bb6095aea68b488f92865ee5e69e4af8": {
      "model_module": "@jupyter-widgets/base",
      "model_module_version": "1.2.0",
      "model_name": "LayoutModel",
      "state": {}
     },
     "bb6940c3f9594b98ab9ee8aa5c0b45d2": {
      "model_module": "@jupyter-widgets/base",
      "model_module_version": "1.2.0",
      "model_name": "LayoutModel",
      "state": {}
     },
     "bb6e771a3d394ab2a7037ead7fad5033": {
      "model_module": "@jupyter-widgets/controls",
      "model_module_version": "1.5.0",
      "model_name": "HTMLModel",
      "state": {
       "layout": "IPY_MODEL_d701a5dfbe3e42fdb3d75eabae467bc9",
       "style": "IPY_MODEL_60c6f930fc154c00b1d8535d3a242454",
       "value": "<h2>Utterance <b>2:</b></h2>"
      }
     },
     "bb8771809fcf432db23de8b221a4bc5a": {
      "model_module": "@jupyter-widgets/controls",
      "model_module_version": "1.5.0",
      "model_name": "ButtonStyleModel",
      "state": {}
     },
     "bb9cafd7618e4a409c3c8fc1f5faf4a8": {
      "model_module": "@jupyter-widgets/controls",
      "model_module_version": "1.5.0",
      "model_name": "FloatSliderModel",
      "state": {
       "continuous_update": false,
       "description": "Test:",
       "layout": "IPY_MODEL_0cf586c39f2b46b8ad290d5ee03f4e22",
       "max": 5,
       "min": 1,
       "readout_format": ".1f",
       "step": 0.1,
       "style": "IPY_MODEL_e2ed0f1ef1d8441a935e702ef90ce5b5",
       "value": 3
      }
     },
     "bbfb90cde7f741899df0cbca911792cd": {
      "model_module": "@jupyter-widgets/controls",
      "model_module_version": "1.5.0",
      "model_name": "SliderStyleModel",
      "state": {
       "description_width": ""
      }
     },
     "bc0c8ede39a548c9a2a760a42f50d50f": {
      "model_module": "@jupyter-widgets/controls",
      "model_module_version": "1.5.0",
      "model_name": "SliderStyleModel",
      "state": {
       "description_width": ""
      }
     },
     "bc26488732de42da9745d297271a918a": {
      "model_module": "@jupyter-widgets/controls",
      "model_module_version": "1.5.0",
      "model_name": "HTMLModel",
      "state": {
       "layout": "IPY_MODEL_57199db0ae1045fdb3beca5c212ff481",
       "style": "IPY_MODEL_e7b742e99f7b49d3813fcd2dfc244b58",
       "value": "<h2>Utterance <b>16:</b></h2>"
      }
     },
     "bc69d673f8f54320846c9ff738e60585": {
      "model_module": "@jupyter-widgets/controls",
      "model_module_version": "1.5.0",
      "model_name": "FloatSliderModel",
      "state": {
       "continuous_update": false,
       "description": "Test:",
       "layout": "IPY_MODEL_9afaed835162473290cf6604aaaffff6",
       "max": 5,
       "min": 1,
       "readout_format": ".1f",
       "step": 0.1,
       "style": "IPY_MODEL_8d9cf9ebb5954f1498e32fd6b9804e59",
       "value": 3
      }
     },
     "bc9d6c7cb3a84bcc943ff0998d0f39f3": {
      "model_module": "@jupyter-widgets/base",
      "model_module_version": "1.2.0",
      "model_name": "LayoutModel",
      "state": {}
     },
     "bccc25b83c7b42f8a89efd0f8c90b1f2": {
      "model_module": "@jupyter-widgets/controls",
      "model_module_version": "1.5.0",
      "model_name": "DescriptionStyleModel",
      "state": {
       "description_width": ""
      }
     },
     "bd16c7c8101f4c0da5e91964c1505dec": {
      "model_module": "@jupyter-widgets/controls",
      "model_module_version": "1.5.0",
      "model_name": "DescriptionStyleModel",
      "state": {
       "description_width": ""
      }
     },
     "bd38be70388047519e080cd618dc52f8": {
      "model_module": "@jupyter-widgets/base",
      "model_module_version": "1.2.0",
      "model_name": "LayoutModel",
      "state": {}
     },
     "bd4ab5212fde40468f801b97e4f5cf0f": {
      "model_module": "@jupyter-widgets/base",
      "model_module_version": "1.2.0",
      "model_name": "LayoutModel",
      "state": {}
     },
     "bd4c3834ddf741b1abffa5d16372cc5a": {
      "model_module": "@jupyter-widgets/base",
      "model_module_version": "1.2.0",
      "model_name": "LayoutModel",
      "state": {}
     },
     "bd88037898c1400b92a068faba7ec3a5": {
      "model_module": "@jupyter-widgets/base",
      "model_module_version": "1.2.0",
      "model_name": "LayoutModel",
      "state": {}
     },
     "bdb79b9d4497422da2810d04e3bd0e13": {
      "model_module": "@jupyter-widgets/controls",
      "model_module_version": "1.5.0",
      "model_name": "DescriptionStyleModel",
      "state": {
       "description_width": ""
      }
     },
     "bdb87f01e5364558af018532da3ad6df": {
      "model_module": "@jupyter-widgets/controls",
      "model_module_version": "1.5.0",
      "model_name": "HTMLModel",
      "state": {
       "layout": "IPY_MODEL_c49a8bfe997543848d068b86cc77277d",
       "style": "IPY_MODEL_7b3744fa923349348e5fa7f77fc1f364",
       "value": "<h2>Utterance <b>25:</b></h2>"
      }
     },
     "bdbd9f2c52694cfda3b4c656071cff0b": {
      "model_module": "@jupyter-widgets/controls",
      "model_module_version": "1.5.0",
      "model_name": "HTMLModel",
      "state": {
       "layout": "IPY_MODEL_8416eb3f15094ac683c7eef9df58a000",
       "style": "IPY_MODEL_4b4b194dda234f40ae9ed2e58eeed32d",
       "value": "<h2>Utterance <b>25:</b></h2>"
      }
     },
     "bdcfd94d197845ad8e77c6523756c4d8": {
      "model_module": "@jupyter-widgets/base",
      "model_module_version": "1.2.0",
      "model_name": "LayoutModel",
      "state": {}
     },
     "bdda5cdc718c4f90abf8269bbdc935b6": {
      "model_module": "@jupyter-widgets/base",
      "model_module_version": "1.2.0",
      "model_name": "LayoutModel",
      "state": {}
     },
     "bde199470dbc431e910b8c2e510b1818": {
      "model_module": "@jupyter-widgets/controls",
      "model_module_version": "1.5.0",
      "model_name": "SliderStyleModel",
      "state": {
       "description_width": ""
      }
     },
     "bde9f1c393244e8bb1a1455a98ab727e": {
      "model_module": "@jupyter-widgets/controls",
      "model_module_version": "1.5.0",
      "model_name": "DescriptionStyleModel",
      "state": {
       "description_width": ""
      }
     },
     "bdfde7d865064ce3b8115a9e2d6f0111": {
      "model_module": "@jupyter-widgets/base",
      "model_module_version": "1.2.0",
      "model_name": "LayoutModel",
      "state": {}
     },
     "be1f99d6d24e4aebbccce7f3181c9e0e": {
      "model_module": "@jupyter-widgets/controls",
      "model_module_version": "1.5.0",
      "model_name": "HTMLModel",
      "state": {
       "layout": "IPY_MODEL_0b9812a4735f415786546b44cdcfa65d",
       "style": "IPY_MODEL_741a3bb824ab4d89b6a63688eaee5917",
       "value": "<h2>Utterance <b>3:</b></h2>"
      }
     },
     "be2f88d7fe8a4190872ec294b65b833a": {
      "model_module": "@jupyter-widgets/controls",
      "model_module_version": "1.5.0",
      "model_name": "SliderStyleModel",
      "state": {
       "description_width": ""
      }
     },
     "be3c489e08c94655ba778d2521bd0ab5": {
      "model_module": "@jupyter-widgets/base",
      "model_module_version": "1.2.0",
      "model_name": "LayoutModel",
      "state": {}
     },
     "be3cd631e38f4b63a2e06e5bb9183e75": {
      "model_module": "@jupyter-widgets/controls",
      "model_module_version": "1.5.0",
      "model_name": "FloatSliderModel",
      "state": {
       "continuous_update": false,
       "description": "Test:",
       "layout": "IPY_MODEL_106b7283b2e844afaf6bb191d1152f7a",
       "max": 5,
       "min": 1,
       "readout_format": ".1f",
       "step": 0.1,
       "style": "IPY_MODEL_91ccbca0a48e41d4adf649031661a2ce",
       "value": 3
      }
     },
     "be41fd50f7244ad2bb63a7079aa7a1c1": {
      "model_module": "@jupyter-widgets/controls",
      "model_module_version": "1.5.0",
      "model_name": "HTMLModel",
      "state": {
       "layout": "IPY_MODEL_da786f4ffe4e43588fe4724fc3dfd11d",
       "style": "IPY_MODEL_1d00c73a5dc345bf9f1ff789192c4be1",
       "value": "<h2>Utterance <b>3:</b></h2>"
      }
     },
     "be52a44038884501ac7fd379d04b939d": {
      "model_module": "@jupyter-widgets/base",
      "model_module_version": "1.2.0",
      "model_name": "LayoutModel",
      "state": {}
     },
     "be6e29df23814733830d908f210223d3": {
      "model_module": "@jupyter-widgets/controls",
      "model_module_version": "1.5.0",
      "model_name": "SliderStyleModel",
      "state": {
       "description_width": ""
      }
     },
     "be711c3cb6014f4aa54fcfa0276262f5": {
      "model_module": "@jupyter-widgets/controls",
      "model_module_version": "1.5.0",
      "model_name": "DescriptionStyleModel",
      "state": {
       "description_width": ""
      }
     },
     "be8b6644e2704615b67f27926fa161bf": {
      "model_module": "@jupyter-widgets/controls",
      "model_module_version": "1.5.0",
      "model_name": "FloatSliderModel",
      "state": {
       "continuous_update": false,
       "description": "Test:",
       "layout": "IPY_MODEL_deee6a065a1f45f5a9c95c4a7f80659d",
       "max": 5,
       "min": 1,
       "readout_format": ".1f",
       "step": 0.1,
       "style": "IPY_MODEL_aa93a5cc893342fdb51e6cbdcf8f41a2",
       "value": 3
      }
     },
     "bea011aa83eb47258196bc54e2697e33": {
      "model_module": "@jupyter-widgets/controls",
      "model_module_version": "1.5.0",
      "model_name": "HTMLModel",
      "state": {
       "layout": "IPY_MODEL_bb6940c3f9594b98ab9ee8aa5c0b45d2",
       "style": "IPY_MODEL_bde9f1c393244e8bb1a1455a98ab727e",
       "value": "<h2>Utterance <b>5:</b></h2>"
      }
     },
     "bea621a7019641ca975a3a279b1ebea3": {
      "model_module": "@jupyter-widgets/controls",
      "model_module_version": "1.5.0",
      "model_name": "FloatSliderModel",
      "state": {
       "continuous_update": false,
       "description": "Test:",
       "layout": "IPY_MODEL_6132fec3f2bf4dd6bd44f83a370fad53",
       "max": 5,
       "min": 1,
       "readout_format": ".1f",
       "step": 0.1,
       "style": "IPY_MODEL_d67f1476ac754ade92431677a9b6973a",
       "value": 3
      }
     },
     "bec06637bc7f480b9fd6b0d75f9518db": {
      "model_module": "@jupyter-widgets/base",
      "model_module_version": "1.2.0",
      "model_name": "LayoutModel",
      "state": {}
     },
     "beeec41bf5c5472395b42f8a181c0b7a": {
      "model_module": "@jupyter-widgets/controls",
      "model_module_version": "1.5.0",
      "model_name": "SliderStyleModel",
      "state": {
       "description_width": ""
      }
     },
     "bef13a8267874ac9b756b891107a8078": {
      "model_module": "@jupyter-widgets/controls",
      "model_module_version": "1.5.0",
      "model_name": "SliderStyleModel",
      "state": {
       "description_width": ""
      }
     },
     "bef40101a2a54d70b84d7fed58a1ef67": {
      "model_module": "@jupyter-widgets/controls",
      "model_module_version": "1.5.0",
      "model_name": "DescriptionStyleModel",
      "state": {
       "description_width": ""
      }
     },
     "bf2efaa77baf47138ffb3c0a7316b07f": {
      "model_module": "@jupyter-widgets/controls",
      "model_module_version": "1.5.0",
      "model_name": "HTMLModel",
      "state": {
       "layout": "IPY_MODEL_fa4bacd2048542c7909728eb1cd73984",
       "style": "IPY_MODEL_008b0e9595ad4a10880c085bfa64e9b2",
       "value": "<h2>Utterance <b>20:</b></h2>"
      }
     },
     "bf5f90f6babd4293a31cc202ba6279a6": {
      "model_module": "@jupyter-widgets/controls",
      "model_module_version": "1.5.0",
      "model_name": "DescriptionStyleModel",
      "state": {
       "description_width": ""
      }
     },
     "bf65420550f44cdab74ca86ffd6fce94": {
      "model_module": "@jupyter-widgets/controls",
      "model_module_version": "1.5.0",
      "model_name": "SliderStyleModel",
      "state": {
       "description_width": ""
      }
     },
     "bfb24fcc424b499883b87e6773c56656": {
      "model_module": "@jupyter-widgets/controls",
      "model_module_version": "1.5.0",
      "model_name": "FloatSliderModel",
      "state": {
       "continuous_update": false,
       "description": "Test:",
       "layout": "IPY_MODEL_aa838e60c7a8480ba2d9c0ff72df70f3",
       "max": 5,
       "min": 1,
       "readout_format": ".1f",
       "step": 0.1,
       "style": "IPY_MODEL_6a2fba921164460b9f6a264afbb3b46e",
       "value": 3
      }
     },
     "bfba18ea527f4b13aef121b13fe0cb31": {
      "model_module": "@jupyter-widgets/controls",
      "model_module_version": "1.5.0",
      "model_name": "SliderStyleModel",
      "state": {
       "description_width": ""
      }
     },
     "bfbb06c5662440049e47f6c4a5168398": {
      "model_module": "@jupyter-widgets/controls",
      "model_module_version": "1.5.0",
      "model_name": "HTMLModel",
      "state": {
       "layout": "IPY_MODEL_23575f0244304e4088ec73ecdf8b0f84",
       "style": "IPY_MODEL_2a610ff77af54b1c8548e77d1c1a8815",
       "value": "<h2>Utterance <b>1:</b></h2>"
      }
     },
     "bfe86e70b0d54e3d8eb030bdffda98e2": {
      "model_module": "@jupyter-widgets/controls",
      "model_module_version": "1.5.0",
      "model_name": "HTMLModel",
      "state": {
       "layout": "IPY_MODEL_ce911f6e8fcb4a65b354b2b6f93ed760",
       "style": "IPY_MODEL_7b820f08dc4348f4b1b33d187f056b2d",
       "value": "<h2>Utterance <b>21:</b></h2>"
      }
     },
     "c016421d9c82430e9986ee76a5170105": {
      "model_module": "@jupyter-widgets/controls",
      "model_module_version": "1.5.0",
      "model_name": "HTMLModel",
      "state": {
       "layout": "IPY_MODEL_05f134fe5e9b4e70901da1cad094c34f",
       "style": "IPY_MODEL_b87839b45eab45ee91615856bba2f74b",
       "value": "<h2>Utterance <b>4:</b></h2>"
      }
     },
     "c02a861ad3b4432aa5e503a2a7ecb1fd": {
      "model_module": "@jupyter-widgets/controls",
      "model_module_version": "1.5.0",
      "model_name": "SliderStyleModel",
      "state": {
       "description_width": ""
      }
     },
     "c0311fbc98fb4362b257971c985eebfe": {
      "model_module": "@jupyter-widgets/controls",
      "model_module_version": "1.5.0",
      "model_name": "SliderStyleModel",
      "state": {
       "description_width": ""
      }
     },
     "c0347b55a0d747028da9046cda4a9029": {
      "model_module": "@jupyter-widgets/controls",
      "model_module_version": "1.5.0",
      "model_name": "DescriptionStyleModel",
      "state": {
       "description_width": ""
      }
     },
     "c054633eb2a64f3cbbfe026e38508647": {
      "model_module": "@jupyter-widgets/controls",
      "model_module_version": "1.5.0",
      "model_name": "HTMLModel",
      "state": {
       "layout": "IPY_MODEL_c40d45ca615a49ccb7f81de285b8cec5",
       "style": "IPY_MODEL_a90f0313003e4395836b8ff4340649eb",
       "value": "<h2>Utterance <b>15:</b></h2>"
      }
     },
     "c09eee070dcc49639f1f04826dbd7a01": {
      "model_module": "@jupyter-widgets/base",
      "model_module_version": "1.2.0",
      "model_name": "LayoutModel",
      "state": {}
     },
     "c0e3996c10df48648704fbf5e3922342": {
      "model_module": "@jupyter-widgets/base",
      "model_module_version": "1.2.0",
      "model_name": "LayoutModel",
      "state": {}
     },
     "c0ee92ea966f4146bc43b77bae33cec7": {
      "model_module": "@jupyter-widgets/base",
      "model_module_version": "1.2.0",
      "model_name": "LayoutModel",
      "state": {}
     },
     "c0f63f1b62c847c2aba2cd202634b36a": {
      "model_module": "@jupyter-widgets/base",
      "model_module_version": "1.2.0",
      "model_name": "LayoutModel",
      "state": {}
     },
     "c12a59200d7d45b6ba040bc86324c416": {
      "model_module": "@jupyter-widgets/base",
      "model_module_version": "1.2.0",
      "model_name": "LayoutModel",
      "state": {}
     },
     "c12bc14f60424f019c4d52fcc2b8ea41": {
      "model_module": "@jupyter-widgets/controls",
      "model_module_version": "1.5.0",
      "model_name": "SliderStyleModel",
      "state": {
       "description_width": ""
      }
     },
     "c14dc6ad7b66472383c0a59955563d84": {
      "model_module": "@jupyter-widgets/base",
      "model_module_version": "1.2.0",
      "model_name": "LayoutModel",
      "state": {}
     },
     "c1699af144c34d2f83037eb0ec5d581a": {
      "model_module": "@jupyter-widgets/controls",
      "model_module_version": "1.5.0",
      "model_name": "DescriptionStyleModel",
      "state": {
       "description_width": ""
      }
     },
     "c1cc5991d83941709a900e130f351a71": {
      "model_module": "@jupyter-widgets/base",
      "model_module_version": "1.2.0",
      "model_name": "LayoutModel",
      "state": {}
     },
     "c1faa28142fd402f96f134c3d0ab9414": {
      "model_module": "@jupyter-widgets/base",
      "model_module_version": "1.2.0",
      "model_name": "LayoutModel",
      "state": {}
     },
     "c20395210b5a46bda07ba9d8391cc9c0": {
      "model_module": "@jupyter-widgets/base",
      "model_module_version": "1.2.0",
      "model_name": "LayoutModel",
      "state": {}
     },
     "c26e5f338a3e47f3935a6ca62f288585": {
      "model_module": "@jupyter-widgets/controls",
      "model_module_version": "1.5.0",
      "model_name": "FloatSliderModel",
      "state": {
       "continuous_update": false,
       "description": "Test:",
       "layout": "IPY_MODEL_7878cdb6e3dc47d8b674c50e5ab6db64",
       "max": 5,
       "min": 1,
       "readout_format": ".1f",
       "step": 0.1,
       "style": "IPY_MODEL_8429d1cf806547488a408a7e93178060",
       "value": 3
      }
     },
     "c27ab16bd5da4af287fd4b7c52106762": {
      "model_module": "@jupyter-widgets/controls",
      "model_module_version": "1.5.0",
      "model_name": "HTMLModel",
      "state": {
       "layout": "IPY_MODEL_6960a9db1d5d406b88e362edc6882750",
       "style": "IPY_MODEL_15030143025d4af195ecd0e12c32b0fb",
       "value": "<h2>Utterance <b>19:</b></h2>"
      }
     },
     "c28ebf73abc54bcd89d7c07782c8e413": {
      "model_module": "@jupyter-widgets/controls",
      "model_module_version": "1.5.0",
      "model_name": "HTMLModel",
      "state": {
       "layout": "IPY_MODEL_5f5d5476cb5c4ab994183a4b09371d5f",
       "style": "IPY_MODEL_c2a78cacab7444d991a19f1dcde5b328",
       "value": "<h2>Utterance <b>20:</b></h2>"
      }
     },
     "c2a78cacab7444d991a19f1dcde5b328": {
      "model_module": "@jupyter-widgets/controls",
      "model_module_version": "1.5.0",
      "model_name": "DescriptionStyleModel",
      "state": {
       "description_width": ""
      }
     },
     "c3252ae7737847d0a4f9089d1008e88b": {
      "model_module": "@jupyter-widgets/controls",
      "model_module_version": "1.5.0",
      "model_name": "SliderStyleModel",
      "state": {
       "description_width": ""
      }
     },
     "c33bd037a895476a81b36b1a5b0db568": {
      "model_module": "@jupyter-widgets/controls",
      "model_module_version": "1.5.0",
      "model_name": "FloatSliderModel",
      "state": {
       "continuous_update": false,
       "description": "Test:",
       "layout": "IPY_MODEL_0e353de6f310438396356e3a538d22c7",
       "max": 5,
       "min": 1,
       "readout_format": ".1f",
       "step": 0.1,
       "style": "IPY_MODEL_236ebc14d58445a580d4d5ee5e2f2dec",
       "value": 3
      }
     },
     "c342a88844fe4724a661d36e5405311e": {
      "model_module": "@jupyter-widgets/controls",
      "model_module_version": "1.5.0",
      "model_name": "HTMLModel",
      "state": {
       "layout": "IPY_MODEL_9ce7e6a503684bd2a62df6af3d405e9a",
       "style": "IPY_MODEL_f550d10536a2411f9fb64e72ceed5a3c",
       "value": "<h2>Utterance <b>12:</b></h2>"
      }
     },
     "c357e39c0dd9464599a3bb5f05f2fb96": {
      "model_module": "@jupyter-widgets/controls",
      "model_module_version": "1.5.0",
      "model_name": "DescriptionStyleModel",
      "state": {
       "description_width": ""
      }
     },
     "c36b7d4132fe4cfaae748795d2b50557": {
      "model_module": "@jupyter-widgets/base",
      "model_module_version": "1.2.0",
      "model_name": "LayoutModel",
      "state": {}
     },
     "c36da850e4f2427fb01d7f919c0dd422": {
      "model_module": "@jupyter-widgets/controls",
      "model_module_version": "1.5.0",
      "model_name": "DescriptionStyleModel",
      "state": {
       "description_width": ""
      }
     },
     "c3fad48ec8454ff58f3e7738c73b5b9a": {
      "model_module": "@jupyter-widgets/controls",
      "model_module_version": "1.5.0",
      "model_name": "HTMLModel",
      "state": {
       "layout": "IPY_MODEL_36bec1b895a0484c9b3997d1ba5ab137",
       "style": "IPY_MODEL_f0c8e14bb2b24202bfadc54c4e499478",
       "value": "<h2>Utterance <b>17:</b></h2>"
      }
     },
     "c40d45ca615a49ccb7f81de285b8cec5": {
      "model_module": "@jupyter-widgets/base",
      "model_module_version": "1.2.0",
      "model_name": "LayoutModel",
      "state": {}
     },
     "c41d0cd7c06e4fd6b729070627400c66": {
      "model_module": "@jupyter-widgets/controls",
      "model_module_version": "1.5.0",
      "model_name": "SliderStyleModel",
      "state": {
       "description_width": ""
      }
     },
     "c42379472b364cd5aec58745501dc70c": {
      "model_module": "@jupyter-widgets/controls",
      "model_module_version": "1.5.0",
      "model_name": "HTMLModel",
      "state": {
       "layout": "IPY_MODEL_ba2a1c0a28b746aebb982e6011855f13",
       "style": "IPY_MODEL_621b1e57a8074359a652846d3aa9aa2a",
       "value": "<h2>Utterance <b>7:</b></h2>"
      }
     },
     "c439180a641e4fb9adde11d9197023fb": {
      "model_module": "@jupyter-widgets/controls",
      "model_module_version": "1.5.0",
      "model_name": "SliderStyleModel",
      "state": {
       "description_width": ""
      }
     },
     "c43c2627f9ea4fda92f6665b2f8022fb": {
      "model_module": "@jupyter-widgets/base",
      "model_module_version": "1.2.0",
      "model_name": "LayoutModel",
      "state": {}
     },
     "c4620e12481f4f6aaace074d906e301d": {
      "model_module": "@jupyter-widgets/base",
      "model_module_version": "1.2.0",
      "model_name": "LayoutModel",
      "state": {}
     },
     "c46b1262e29b437fa5376fd41a61a30c": {
      "model_module": "@jupyter-widgets/base",
      "model_module_version": "1.2.0",
      "model_name": "LayoutModel",
      "state": {}
     },
     "c49a8bfe997543848d068b86cc77277d": {
      "model_module": "@jupyter-widgets/base",
      "model_module_version": "1.2.0",
      "model_name": "LayoutModel",
      "state": {}
     },
     "c4b4824eb45341dc88c6b53adf177c86": {
      "model_module": "@jupyter-widgets/controls",
      "model_module_version": "1.5.0",
      "model_name": "HTMLModel",
      "state": {
       "layout": "IPY_MODEL_b9118a4856d1458fac6e8b44488065a1",
       "style": "IPY_MODEL_f9d1925a24b34cc9b9c2d626079c16e7",
       "value": "<h2>Utterance <b>6:</b></h2>"
      }
     },
     "c4ba8c3536c64c07bcc288d34c64096e": {
      "model_module": "@jupyter-widgets/controls",
      "model_module_version": "1.5.0",
      "model_name": "HTMLModel",
      "state": {
       "layout": "IPY_MODEL_9197ac6481ab496792f43ffa6bb8173d",
       "style": "IPY_MODEL_3abce8c58e6745dfa77c2b5af1ca71b1",
       "value": "<h2>Utterance <b>22:</b></h2>"
      }
     },
     "c4d64a0002ee4a67b55a201ff64bee10": {
      "model_module": "@jupyter-widgets/controls",
      "model_module_version": "1.5.0",
      "model_name": "DescriptionStyleModel",
      "state": {
       "description_width": ""
      }
     },
     "c532547ffc144764afc2f5c3e0f5b234": {
      "model_module": "@jupyter-widgets/base",
      "model_module_version": "1.2.0",
      "model_name": "LayoutModel",
      "state": {}
     },
     "c54cf68108df4507bbc9c2d7c96c6ab6": {
      "model_module": "@jupyter-widgets/controls",
      "model_module_version": "1.5.0",
      "model_name": "FloatSliderModel",
      "state": {
       "continuous_update": false,
       "description": "Test:",
       "layout": "IPY_MODEL_99004ecabfbe44ebbe986db71709583f",
       "max": 5,
       "min": 1,
       "readout_format": ".1f",
       "step": 0.1,
       "style": "IPY_MODEL_eddc1357e825490b9d557c9631d0e699",
       "value": 3
      }
     },
     "c575ea443d1b4cdd9160c2ebfc346e75": {
      "model_module": "@jupyter-widgets/base",
      "model_module_version": "1.2.0",
      "model_name": "LayoutModel",
      "state": {}
     },
     "c58cbb38df9e4e78a354cd9ec68eaedf": {
      "model_module": "@jupyter-widgets/base",
      "model_module_version": "1.2.0",
      "model_name": "LayoutModel",
      "state": {}
     },
     "c5ae239098af42898672ee41eeafad09": {
      "model_module": "@jupyter-widgets/controls",
      "model_module_version": "1.5.0",
      "model_name": "HTMLModel",
      "state": {
       "layout": "IPY_MODEL_1e99b0c3135b4a519f55369d1abaaf02",
       "style": "IPY_MODEL_b33ff1e30cb948a9abc3b8577df4493c",
       "value": "<h2>Utterance <b>22:</b></h2>"
      }
     },
     "c60c75a57e564a48bf2158c3831a89e8": {
      "model_module": "@jupyter-widgets/controls",
      "model_module_version": "1.5.0",
      "model_name": "FloatSliderModel",
      "state": {
       "continuous_update": false,
       "description": "Test:",
       "layout": "IPY_MODEL_9e690005787f4a52812e05903718e9f2",
       "max": 5,
       "min": 1,
       "readout_format": ".1f",
       "step": 0.1,
       "style": "IPY_MODEL_665a09c62df74aecbddbb3832127ebfb",
       "value": 3
      }
     },
     "c60cc19b8f844b26ab85c904dd9f3c7d": {
      "model_module": "@jupyter-widgets/controls",
      "model_module_version": "1.5.0",
      "model_name": "DescriptionStyleModel",
      "state": {
       "description_width": ""
      }
     },
     "c643b09cc81242248d6b769849b4508c": {
      "model_module": "@jupyter-widgets/controls",
      "model_module_version": "1.5.0",
      "model_name": "FloatSliderModel",
      "state": {
       "continuous_update": false,
       "description": "Test:",
       "layout": "IPY_MODEL_84284344c00e49b4a0f76d3ccb849e63",
       "max": 5,
       "min": 1,
       "readout_format": ".1f",
       "step": 0.1,
       "style": "IPY_MODEL_62d967e91b2841cda68920700d508b46",
       "value": 3
      }
     },
     "c64ed039d9ad4aafb4e818d2a03a9847": {
      "model_module": "@jupyter-widgets/base",
      "model_module_version": "1.2.0",
      "model_name": "LayoutModel",
      "state": {}
     },
     "c6747c4aaf674500bb640dadc75a15e2": {
      "model_module": "@jupyter-widgets/controls",
      "model_module_version": "1.5.0",
      "model_name": "DescriptionStyleModel",
      "state": {
       "description_width": ""
      }
     },
     "c69fc1f587254a2ea5f6e7cac7fbe2c6": {
      "model_module": "@jupyter-widgets/controls",
      "model_module_version": "1.5.0",
      "model_name": "FloatSliderModel",
      "state": {
       "continuous_update": false,
       "description": "Test:",
       "layout": "IPY_MODEL_4f45a42b5bf54017a674f7d42aee15f5",
       "max": 5,
       "min": 1,
       "readout_format": ".1f",
       "step": 0.1,
       "style": "IPY_MODEL_3c5fd2ee3b634621a035dc8c5eb5a594",
       "value": 3
      }
     },
     "c6b105e837dd4cb0832c955cb8a965a9": {
      "model_module": "@jupyter-widgets/controls",
      "model_module_version": "1.5.0",
      "model_name": "SliderStyleModel",
      "state": {
       "description_width": ""
      }
     },
     "c6f609d2ddd04d91954e0f328422cd3b": {
      "model_module": "@jupyter-widgets/controls",
      "model_module_version": "1.5.0",
      "model_name": "FloatSliderModel",
      "state": {
       "continuous_update": false,
       "description": "Test:",
       "layout": "IPY_MODEL_426eccc3a59e4119ae0cae53fc5db9a1",
       "max": 5,
       "min": 1,
       "readout_format": ".1f",
       "step": 0.1,
       "style": "IPY_MODEL_1e89c8801b184798a3cecc95192d5a84",
       "value": 3
      }
     },
     "c717bc2bdc1245c6a9d2fd770c20bc86": {
      "model_module": "@jupyter-widgets/controls",
      "model_module_version": "1.5.0",
      "model_name": "SliderStyleModel",
      "state": {
       "description_width": ""
      }
     },
     "c7212db04be543c1885e2319d996b09a": {
      "model_module": "@jupyter-widgets/base",
      "model_module_version": "1.2.0",
      "model_name": "LayoutModel",
      "state": {}
     },
     "c7501feb789947fea38d8c98cf0601e7": {
      "model_module": "@jupyter-widgets/base",
      "model_module_version": "1.2.0",
      "model_name": "LayoutModel",
      "state": {}
     },
     "c756b93ade8d44c58b25b80b835fffdb": {
      "model_module": "@jupyter-widgets/base",
      "model_module_version": "1.2.0",
      "model_name": "LayoutModel",
      "state": {}
     },
     "c75f66c8b10a47c5a339ec8627620729": {
      "model_module": "@jupyter-widgets/base",
      "model_module_version": "1.2.0",
      "model_name": "LayoutModel",
      "state": {}
     },
     "c783030df4084f76a0a8a1a32bbabd09": {
      "model_module": "@jupyter-widgets/base",
      "model_module_version": "1.2.0",
      "model_name": "LayoutModel",
      "state": {}
     },
     "c78b9ab9cebd49998b14c7ced31d43ac": {
      "model_module": "@jupyter-widgets/controls",
      "model_module_version": "1.5.0",
      "model_name": "SliderStyleModel",
      "state": {
       "description_width": ""
      }
     },
     "c7a19f28d993419b84d22ad687cd2350": {
      "model_module": "@jupyter-widgets/controls",
      "model_module_version": "1.5.0",
      "model_name": "SliderStyleModel",
      "state": {
       "description_width": ""
      }
     },
     "c7a6e637d80d46218f937d56a88561c4": {
      "model_module": "@jupyter-widgets/controls",
      "model_module_version": "1.5.0",
      "model_name": "SliderStyleModel",
      "state": {
       "description_width": ""
      }
     },
     "c7e568b1a294409e9e7cd4a3a69bf81c": {
      "model_module": "@jupyter-widgets/base",
      "model_module_version": "1.2.0",
      "model_name": "LayoutModel",
      "state": {}
     },
     "c7f612a1c54244b3b629752beeb39636": {
      "model_module": "@jupyter-widgets/controls",
      "model_module_version": "1.5.0",
      "model_name": "HTMLModel",
      "state": {
       "layout": "IPY_MODEL_7cbfd285ceed4d1b9ac4bb3a4a9213c9",
       "style": "IPY_MODEL_d2c09892a4694c3f8f8a34c16b1b955a",
       "value": "<h1>Voice Quality<br></h1><body>Thanks for participating. Please select for each utternace it percieved quality with the folowing scale:<br><ol><li>Bad</li><li>Poor</li><li>Fair</li><li>Good</li><li>Excellent</li></ol><b>This test is not checking how much 'Jenny like' is a voice, but rather only how good it sounds </b><br>After completing the entries press the Done button. <br>Good luck and thank you.<br><br><br></body>"
      }
     },
     "c80f46d1fc6c46f6b81a28c47591fb37": {
      "model_module": "@jupyter-widgets/controls",
      "model_module_version": "1.5.0",
      "model_name": "SliderStyleModel",
      "state": {
       "description_width": ""
      }
     },
     "c84102aa507143adbf8dffd48e07d9c3": {
      "model_module": "@jupyter-widgets/controls",
      "model_module_version": "1.5.0",
      "model_name": "SliderStyleModel",
      "state": {
       "description_width": ""
      }
     },
     "c8c2772391ad4285a0e52d6928cdd04e": {
      "model_module": "@jupyter-widgets/controls",
      "model_module_version": "1.5.0",
      "model_name": "FloatSliderModel",
      "state": {
       "continuous_update": false,
       "description": "Test:",
       "layout": "IPY_MODEL_d109503630324b80a7d4cabc89cd6ef3",
       "max": 5,
       "min": 1,
       "readout_format": ".1f",
       "step": 0.1,
       "style": "IPY_MODEL_dbeb942ff67b45d28b56866144b21d92",
       "value": 3
      }
     },
     "c90adab573cf41c29b44bf464d0dbbbb": {
      "model_module": "@jupyter-widgets/base",
      "model_module_version": "1.2.0",
      "model_name": "LayoutModel",
      "state": {}
     },
     "c91ef785c2a44344aa81db26470e97d6": {
      "model_module": "@jupyter-widgets/controls",
      "model_module_version": "1.5.0",
      "model_name": "TextModel",
      "state": {
       "description": "Name:",
       "layout": "IPY_MODEL_69b80ec2339d4000bbf624b5fbe3ea43",
       "placeholder": "Type something like your name or id",
       "style": "IPY_MODEL_be711c3cb6014f4aa54fcfa0276262f5",
       "value": "jj"
      }
     },
     "c9784654d5d448ddbddca920af140866": {
      "model_module": "@jupyter-widgets/controls",
      "model_module_version": "1.5.0",
      "model_name": "FloatSliderModel",
      "state": {
       "continuous_update": false,
       "description": "Test:",
       "layout": "IPY_MODEL_3d790fc54dd84271996bb7f23deb7f77",
       "max": 5,
       "min": 1,
       "readout_format": ".1f",
       "step": 0.1,
       "style": "IPY_MODEL_c84102aa507143adbf8dffd48e07d9c3",
       "value": 3
      }
     },
     "c97f54a4cac7479c8570aeba9efd18b1": {
      "model_module": "@jupyter-widgets/controls",
      "model_module_version": "1.5.0",
      "model_name": "DescriptionStyleModel",
      "state": {
       "description_width": ""
      }
     },
     "c9adbc36ae0c4687bbbede4793154d8c": {
      "model_module": "@jupyter-widgets/controls",
      "model_module_version": "1.5.0",
      "model_name": "DescriptionStyleModel",
      "state": {
       "description_width": ""
      }
     },
     "ca00b0cbaabd4d7ebfdae76c16bae376": {
      "model_module": "@jupyter-widgets/base",
      "model_module_version": "1.2.0",
      "model_name": "LayoutModel",
      "state": {}
     },
     "ca14cf6e4fa6434a94c6e585fb7519c6": {
      "model_module": "@jupyter-widgets/controls",
      "model_module_version": "1.5.0",
      "model_name": "DescriptionStyleModel",
      "state": {
       "description_width": ""
      }
     },
     "ca3878f29bb249ab8fa85f0f7fb9309f": {
      "model_module": "@jupyter-widgets/controls",
      "model_module_version": "1.5.0",
      "model_name": "HTMLModel",
      "state": {
       "layout": "IPY_MODEL_9ae9c2e6ae8147f086ecd2d0ff72cd36",
       "style": "IPY_MODEL_73ee7877eee74c41bf0e5d498bb4d2fc",
       "value": "<h2>Utterance <b>5:</b></h2>"
      }
     },
     "ca4a4a8b18e346599d6d319cdb918191": {
      "model_module": "@jupyter-widgets/controls",
      "model_module_version": "1.5.0",
      "model_name": "HTMLModel",
      "state": {
       "layout": "IPY_MODEL_d44eb22780a041ed98c60d31aab42607",
       "style": "IPY_MODEL_bd16c7c8101f4c0da5e91964c1505dec",
       "value": "<h2>Utterance <b>4:</b></h2>"
      }
     },
     "ca5cf7508a1a46409c7423e8b542a563": {
      "model_module": "@jupyter-widgets/base",
      "model_module_version": "1.2.0",
      "model_name": "LayoutModel",
      "state": {}
     },
     "ca856698ba9c47e6915fb2c062d5f24d": {
      "model_module": "@jupyter-widgets/controls",
      "model_module_version": "1.5.0",
      "model_name": "HTMLModel",
      "state": {
       "layout": "IPY_MODEL_268bfa9ce5e645d2a47c6c6b9a249ef6",
       "style": "IPY_MODEL_e78ebbeb83934455b8dc47c1dbe4d442",
       "value": "<h2>Utterance <b>8:</b></h2>"
      }
     },
     "ca8d36dccf0b44eda32f460e9cdceb65": {
      "model_module": "@jupyter-widgets/controls",
      "model_module_version": "1.5.0",
      "model_name": "FloatSliderModel",
      "state": {
       "continuous_update": false,
       "description": "Test:",
       "layout": "IPY_MODEL_4c8a319d6d8144af91a76f418d4d3308",
       "max": 5,
       "min": 1,
       "readout_format": ".1f",
       "step": 0.1,
       "style": "IPY_MODEL_fa40481114404e43ae3673593e6a2552",
       "value": 3
      }
     },
     "cac25c33cf4043719fa27e109644d175": {
      "model_module": "@jupyter-widgets/controls",
      "model_module_version": "1.5.0",
      "model_name": "DescriptionStyleModel",
      "state": {
       "description_width": ""
      }
     },
     "cae9414feec94df0be2f57cb36574851": {
      "model_module": "@jupyter-widgets/controls",
      "model_module_version": "1.5.0",
      "model_name": "SliderStyleModel",
      "state": {
       "description_width": ""
      }
     },
     "cb16b0169c3b4bc6bc07f4c872da4079": {
      "model_module": "@jupyter-widgets/controls",
      "model_module_version": "1.5.0",
      "model_name": "SliderStyleModel",
      "state": {
       "description_width": ""
      }
     },
     "cb3760f5bc564aff8aa3c99f057eae09": {
      "model_module": "@jupyter-widgets/base",
      "model_module_version": "1.2.0",
      "model_name": "LayoutModel",
      "state": {}
     },
     "cb3d1cbefdca4900a34997f973ca0750": {
      "model_module": "@jupyter-widgets/controls",
      "model_module_version": "1.5.0",
      "model_name": "DescriptionStyleModel",
      "state": {
       "description_width": ""
      }
     },
     "cb631a63f49743b092bcac9b10b6914a": {
      "model_module": "@jupyter-widgets/controls",
      "model_module_version": "1.5.0",
      "model_name": "FloatSliderModel",
      "state": {
       "continuous_update": false,
       "description": "Test:",
       "layout": "IPY_MODEL_dc8778485dc0431388da8f88c33bff5c",
       "max": 5,
       "min": 1,
       "readout_format": ".1f",
       "step": 0.1,
       "style": "IPY_MODEL_dbcde94fb9b3447c99fc3d9958e9fe8b",
       "value": 3
      }
     },
     "cb64fc774fff4e00ba072ab0d78efc01": {
      "model_module": "@jupyter-widgets/controls",
      "model_module_version": "1.5.0",
      "model_name": "FloatSliderModel",
      "state": {
       "continuous_update": false,
       "description": "Test:",
       "layout": "IPY_MODEL_6da23ab8c47648c18e0f9461fc85dd12",
       "max": 5,
       "min": 1,
       "readout_format": ".1f",
       "step": 0.1,
       "style": "IPY_MODEL_467a873f5c094f84b103424a94550548",
       "value": 3
      }
     },
     "cb8329107bcc4159af20d08e1f17afb8": {
      "model_module": "@jupyter-widgets/controls",
      "model_module_version": "1.5.0",
      "model_name": "FloatSliderModel",
      "state": {
       "continuous_update": false,
       "description": "Test:",
       "layout": "IPY_MODEL_e7a1b3eacdcf4d6d8cdcf771ba7e2724",
       "max": 5,
       "min": 1,
       "readout_format": ".1f",
       "step": 0.1,
       "style": "IPY_MODEL_60176d174eb340f182d536fceb191cac",
       "value": 3
      }
     },
     "cbae6661179645f493449af8ed9a6279": {
      "model_module": "@jupyter-widgets/controls",
      "model_module_version": "1.5.0",
      "model_name": "HTMLModel",
      "state": {
       "layout": "IPY_MODEL_ad847a75357a45b4bd456045a7c05729",
       "style": "IPY_MODEL_eb20d7dc806d42d584e3a3549a5acaff",
       "value": "<h2>Utterance <b>5:</b></h2>"
      }
     },
     "cbfa2fd271ab4ba9aa677e1db9431194": {
      "model_module": "@jupyter-widgets/controls",
      "model_module_version": "1.5.0",
      "model_name": "FloatSliderModel",
      "state": {
       "continuous_update": false,
       "description": "Test:",
       "layout": "IPY_MODEL_3c27d7c635864e8bbe13e6cd93af9b3e",
       "max": 5,
       "min": 1,
       "readout_format": ".1f",
       "step": 0.1,
       "style": "IPY_MODEL_bf65420550f44cdab74ca86ffd6fce94",
       "value": 3
      }
     },
     "cc08699d8b8f4ea7bfdb18bd874c5b78": {
      "model_module": "@jupyter-widgets/controls",
      "model_module_version": "1.5.0",
      "model_name": "TextModel",
      "state": {
       "description": "Name:",
       "layout": "IPY_MODEL_b51e25e40e134fd480bae8c6f412b4be",
       "placeholder": "Type something like your name or id",
       "style": "IPY_MODEL_54e6ab555c1942888c4dbedd41b536d4"
      }
     },
     "cc13233496954be9b7f9f6709827b983": {
      "model_module": "@jupyter-widgets/base",
      "model_module_version": "1.2.0",
      "model_name": "LayoutModel",
      "state": {}
     },
     "cc42029cb20d43d6be348023ffc8393d": {
      "model_module": "@jupyter-widgets/controls",
      "model_module_version": "1.5.0",
      "model_name": "SliderStyleModel",
      "state": {
       "description_width": ""
      }
     },
     "cc4498ccf09741418b245c46adc48c43": {
      "model_module": "@jupyter-widgets/controls",
      "model_module_version": "1.5.0",
      "model_name": "FloatSliderModel",
      "state": {
       "continuous_update": false,
       "description": "Test:",
       "layout": "IPY_MODEL_cd79726f7c744f5aa57d7c2147d545ed",
       "max": 5,
       "min": 1,
       "readout_format": ".1f",
       "step": 0.1,
       "style": "IPY_MODEL_164f7587f4ae43e7a602e36dfea842d9",
       "value": 3
      }
     },
     "cc4702c06cd64f95bc425d89ba311826": {
      "model_module": "@jupyter-widgets/base",
      "model_module_version": "1.2.0",
      "model_name": "LayoutModel",
      "state": {}
     },
     "cc520fd1f8214ea5810f8f69ec1d69bb": {
      "model_module": "@jupyter-widgets/controls",
      "model_module_version": "1.5.0",
      "model_name": "DescriptionStyleModel",
      "state": {
       "description_width": ""
      }
     },
     "cc7c14bb949445e6bd04f2a2f69030e1": {
      "model_module": "@jupyter-widgets/controls",
      "model_module_version": "1.5.0",
      "model_name": "DescriptionStyleModel",
      "state": {
       "description_width": ""
      }
     },
     "cc7d8240792946b4bbbfcf3ea66a2db3": {
      "model_module": "@jupyter-widgets/controls",
      "model_module_version": "1.5.0",
      "model_name": "FloatSliderModel",
      "state": {
       "continuous_update": false,
       "description": "Test:",
       "layout": "IPY_MODEL_789bc877674f4b1bbf563729fc926be6",
       "max": 5,
       "min": 1,
       "readout_format": ".1f",
       "step": 0.1,
       "style": "IPY_MODEL_d911256b64214fdfb7560b75db5ffd83",
       "value": 3
      }
     },
     "cca4c38248fc47f78307ba8aa539777b": {
      "model_module": "@jupyter-widgets/controls",
      "model_module_version": "1.5.0",
      "model_name": "HTMLModel",
      "state": {
       "layout": "IPY_MODEL_14b5d58bf3d848d097784f9f44f029ab",
       "style": "IPY_MODEL_5ac781458bdf45559d966343703a436a",
       "value": "<h2>Utterance <b>3:</b></h2>"
      }
     },
     "cca8de26f9dd4637b3502d2d803e6ef7": {
      "model_module": "@jupyter-widgets/controls",
      "model_module_version": "1.5.0",
      "model_name": "HTMLModel",
      "state": {
       "layout": "IPY_MODEL_6aa89f54fcf74ed796cd4e5884ccf85f",
       "style": "IPY_MODEL_dab570ebb89844c69e532c7946266c45",
       "value": "<h2>Utterance <b>10:</b></h2>"
      }
     },
     "ccace06a0ab143aabc7dcc1d902b059e": {
      "model_module": "@jupyter-widgets/controls",
      "model_module_version": "1.5.0",
      "model_name": "FloatSliderModel",
      "state": {
       "continuous_update": false,
       "description": "Test:",
       "layout": "IPY_MODEL_66dc1ae3ba4346baaacacd6472bfe095",
       "max": 5,
       "min": 1,
       "readout_format": ".1f",
       "step": 0.1,
       "style": "IPY_MODEL_d293ec06081c473988b8b4a393c02566",
       "value": 3
      }
     },
     "ccef04428e5f4403bf2b110b704cc2af": {
      "model_module": "@jupyter-widgets/base",
      "model_module_version": "1.2.0",
      "model_name": "LayoutModel",
      "state": {}
     },
     "cd087d2a65d642c5b40e1766a4ede74f": {
      "model_module": "@jupyter-widgets/base",
      "model_module_version": "1.2.0",
      "model_name": "LayoutModel",
      "state": {}
     },
     "cd1965bd7de7447a8c8ebb97be1e2d3b": {
      "model_module": "@jupyter-widgets/base",
      "model_module_version": "1.2.0",
      "model_name": "LayoutModel",
      "state": {}
     },
     "cd23691a4b4848089a92f47de1058606": {
      "model_module": "@jupyter-widgets/controls",
      "model_module_version": "1.5.0",
      "model_name": "FloatSliderModel",
      "state": {
       "continuous_update": false,
       "description": "Test:",
       "layout": "IPY_MODEL_d6e4174ee98f415289146e103967ce04",
       "max": 5,
       "min": 1,
       "readout_format": ".1f",
       "step": 0.1,
       "style": "IPY_MODEL_2b15de6309a04fe08e3646742fe377d9",
       "value": 3
      }
     },
     "cd2bd81e28d349bdad838a951bcf3282": {
      "model_module": "@jupyter-widgets/controls",
      "model_module_version": "1.5.0",
      "model_name": "SliderStyleModel",
      "state": {
       "description_width": ""
      }
     },
     "cd2fe8d0655840328b04f338367bd4fb": {
      "model_module": "@jupyter-widgets/base",
      "model_module_version": "1.2.0",
      "model_name": "LayoutModel",
      "state": {}
     },
     "cd79726f7c744f5aa57d7c2147d545ed": {
      "model_module": "@jupyter-widgets/base",
      "model_module_version": "1.2.0",
      "model_name": "LayoutModel",
      "state": {}
     },
     "cd8edbafea6149a592ecc63e81c30cd3": {
      "model_module": "@jupyter-widgets/base",
      "model_module_version": "1.2.0",
      "model_name": "LayoutModel",
      "state": {}
     },
     "cda9bbdb1d854513847d25e2931bcff3": {
      "model_module": "@jupyter-widgets/controls",
      "model_module_version": "1.5.0",
      "model_name": "FloatSliderModel",
      "state": {
       "continuous_update": false,
       "description": "Test:",
       "layout": "IPY_MODEL_af7c66aea8da4f9cb0bfb435222b9f39",
       "max": 5,
       "min": 1,
       "readout_format": ".1f",
       "step": 0.1,
       "style": "IPY_MODEL_200ab7fa96534522ba37c2dcbb1464ed",
       "value": 3
      }
     },
     "cdbb644256d54febaf9e8c07bf94230e": {
      "model_module": "@jupyter-widgets/controls",
      "model_module_version": "1.5.0",
      "model_name": "DescriptionStyleModel",
      "state": {
       "description_width": ""
      }
     },
     "cdd882cad5db451d815ce2889cb47955": {
      "model_module": "@jupyter-widgets/controls",
      "model_module_version": "1.5.0",
      "model_name": "FloatSliderModel",
      "state": {
       "continuous_update": false,
       "description": "Test:",
       "layout": "IPY_MODEL_7605fdc418254af2a5d8ebbf935498ae",
       "max": 5,
       "min": 1,
       "readout_format": ".1f",
       "step": 0.1,
       "style": "IPY_MODEL_78b77ebf88e142f6ae4f3e4d8d308775",
       "value": 3
      }
     },
     "cde099df54734ae995bf02e27b2f20c5": {
      "model_module": "@jupyter-widgets/base",
      "model_module_version": "1.2.0",
      "model_name": "LayoutModel",
      "state": {}
     },
     "ce0988b5f61549aba5c759a9c372f980": {
      "model_module": "@jupyter-widgets/controls",
      "model_module_version": "1.5.0",
      "model_name": "HTMLModel",
      "state": {
       "layout": "IPY_MODEL_c756b93ade8d44c58b25b80b835fffdb",
       "style": "IPY_MODEL_32e85f81e48e46388021d551c27638a7",
       "value": "<h2>Utterance <b>17:</b></h2>"
      }
     },
     "ce1182d2d8c445469a3fdfd177b01aba": {
      "model_module": "@jupyter-widgets/controls",
      "model_module_version": "1.5.0",
      "model_name": "DescriptionStyleModel",
      "state": {
       "description_width": ""
      }
     },
     "ce35dd35d304472a8b7f131d5f382f90": {
      "model_module": "@jupyter-widgets/controls",
      "model_module_version": "1.5.0",
      "model_name": "DescriptionStyleModel",
      "state": {
       "description_width": ""
      }
     },
     "ce3fc2e1ec124375a6a3e1f7c8be40c6": {
      "model_module": "@jupyter-widgets/controls",
      "model_module_version": "1.5.0",
      "model_name": "FloatSliderModel",
      "state": {
       "continuous_update": false,
       "description": "Test:",
       "layout": "IPY_MODEL_e1342e5f1aaa4b2290aded0462f669c4",
       "max": 5,
       "min": 1,
       "readout_format": ".1f",
       "step": 0.1,
       "style": "IPY_MODEL_6619f0a644e54951bbb13810e0f36788",
       "value": 3
      }
     },
     "ce5037de36a44d10900917f0027ed573": {
      "model_module": "@jupyter-widgets/base",
      "model_module_version": "1.2.0",
      "model_name": "LayoutModel",
      "state": {}
     },
     "ce5e530826a842edb5e2601a26054c92": {
      "model_module": "@jupyter-widgets/controls",
      "model_module_version": "1.5.0",
      "model_name": "FloatSliderModel",
      "state": {
       "continuous_update": false,
       "description": "Test:",
       "layout": "IPY_MODEL_1f37cfaef7044f5485a29b98cb162378",
       "max": 5,
       "min": 1,
       "readout_format": ".1f",
       "step": 0.1,
       "style": "IPY_MODEL_3ff460240d374ad1a35bb42603bfaa73",
       "value": 3
      }
     },
     "ce8daf9d1fc64b4bbac8986ca30928b2": {
      "model_module": "@jupyter-widgets/base",
      "model_module_version": "1.2.0",
      "model_name": "LayoutModel",
      "state": {}
     },
     "ce911f6e8fcb4a65b354b2b6f93ed760": {
      "model_module": "@jupyter-widgets/base",
      "model_module_version": "1.2.0",
      "model_name": "LayoutModel",
      "state": {}
     },
     "cea3b3eef7fe4c5898a4b94afe9f5598": {
      "model_module": "@jupyter-widgets/controls",
      "model_module_version": "1.5.0",
      "model_name": "FloatSliderModel",
      "state": {
       "continuous_update": false,
       "description": "Test:",
       "layout": "IPY_MODEL_d50918336ad94e7faf1c8fe15075d8cc",
       "max": 5,
       "min": 1,
       "readout_format": ".1f",
       "step": 0.1,
       "style": "IPY_MODEL_c41d0cd7c06e4fd6b729070627400c66",
       "value": 3
      }
     },
     "cead206368304fd8a4ea44e49daecd26": {
      "model_module": "@jupyter-widgets/controls",
      "model_module_version": "1.5.0",
      "model_name": "HTMLModel",
      "state": {
       "layout": "IPY_MODEL_278f304077ba4efaa3afee8ee0151245",
       "style": "IPY_MODEL_a28583d2417c4f309b5e0a55c4c6a5e4",
       "value": "<h2>Utterance <b>12:</b></h2>"
      }
     },
     "ceba2be505224d3d8fa8a35b969fea54": {
      "model_module": "@jupyter-widgets/base",
      "model_module_version": "1.2.0",
      "model_name": "LayoutModel",
      "state": {}
     },
     "cef4ed134cb9457da8f0007efe03dce3": {
      "model_module": "@jupyter-widgets/controls",
      "model_module_version": "1.5.0",
      "model_name": "DescriptionStyleModel",
      "state": {
       "description_width": ""
      }
     },
     "cf5767cefa7048b48c51417e0eca6140": {
      "model_module": "@jupyter-widgets/base",
      "model_module_version": "1.2.0",
      "model_name": "LayoutModel",
      "state": {}
     },
     "cf642e50009d4926850e330a14ba3123": {
      "model_module": "@jupyter-widgets/controls",
      "model_module_version": "1.5.0",
      "model_name": "FloatSliderModel",
      "state": {
       "continuous_update": false,
       "description": "Test:",
       "layout": "IPY_MODEL_daa393d1ba134b4aac40610c5f179a38",
       "max": 5,
       "min": 1,
       "readout_format": ".1f",
       "step": 0.1,
       "style": "IPY_MODEL_5d8814943fa84939999663ec7191d680",
       "value": 3
      }
     },
     "cf6ff1efaa76460fb126e6300344f778": {
      "model_module": "@jupyter-widgets/controls",
      "model_module_version": "1.5.0",
      "model_name": "HTMLModel",
      "state": {
       "layout": "IPY_MODEL_16d983d0faef4475baf050c0bd6d7026",
       "style": "IPY_MODEL_eef77beca8174994ac824189b25e15ea",
       "value": "<h2>Utterance <b>10:</b></h2>"
      }
     },
     "cfa03f17fa954e6d8350c1948c7b0cd0": {
      "model_module": "@jupyter-widgets/controls",
      "model_module_version": "1.5.0",
      "model_name": "HTMLModel",
      "state": {
       "layout": "IPY_MODEL_fde76fff037942c384ce6a10a9083638",
       "style": "IPY_MODEL_84f366bf65b048aaa7e47066401e3556",
       "value": "<h2>Utterance <b>18:</b></h2>"
      }
     },
     "cfab74c711b54308a30449be056dce76": {
      "model_module": "@jupyter-widgets/controls",
      "model_module_version": "1.5.0",
      "model_name": "SliderStyleModel",
      "state": {
       "description_width": ""
      }
     },
     "cfaec212989845788b9aa90e26e809de": {
      "model_module": "@jupyter-widgets/base",
      "model_module_version": "1.2.0",
      "model_name": "LayoutModel",
      "state": {}
     },
     "cfdfc3d5df544c45988a6b4485d6cfac": {
      "model_module": "@jupyter-widgets/base",
      "model_module_version": "1.2.0",
      "model_name": "LayoutModel",
      "state": {}
     },
     "d00c32dd028b4f44ab42d62f85c01f5d": {
      "model_module": "@jupyter-widgets/controls",
      "model_module_version": "1.5.0",
      "model_name": "SliderStyleModel",
      "state": {
       "description_width": ""
      }
     },
     "d02d57b347414efdbfe509619de98253": {
      "model_module": "@jupyter-widgets/controls",
      "model_module_version": "1.5.0",
      "model_name": "HTMLModel",
      "state": {
       "layout": "IPY_MODEL_ee50c35b6a9d4be6afa6d0585cefd477",
       "style": "IPY_MODEL_5b4034d471ba4da5a051b9379a629df7",
       "value": "<h2>Utterance <b>4:</b></h2>"
      }
     },
     "d034cd45a9a24f85b15c10f58ed8da4e": {
      "model_module": "@jupyter-widgets/base",
      "model_module_version": "1.2.0",
      "model_name": "LayoutModel",
      "state": {}
     },
     "d03b2788015f401f8401dae06da8a209": {
      "model_module": "@jupyter-widgets/controls",
      "model_module_version": "1.5.0",
      "model_name": "FloatSliderModel",
      "state": {
       "continuous_update": false,
       "description": "Test:",
       "layout": "IPY_MODEL_e21f6233254f40ad9c2bffb8b7d48050",
       "max": 5,
       "min": 1,
       "readout_format": ".1f",
       "step": 0.1,
       "style": "IPY_MODEL_138a9e6012dd4f50a98793850e07f3f3",
       "value": 3
      }
     },
     "d07bb07e8b02452fb10171cfbfcfc08d": {
      "model_module": "@jupyter-widgets/controls",
      "model_module_version": "1.5.0",
      "model_name": "FloatSliderModel",
      "state": {
       "continuous_update": false,
       "description": "Test:",
       "layout": "IPY_MODEL_2d17495753354a3fb6a0735f147eadb2",
       "max": 5,
       "min": 1,
       "readout_format": ".1f",
       "step": 0.1,
       "style": "IPY_MODEL_1c8d860485264692830a91b0a33161c3",
       "value": 3
      }
     },
     "d08fea2e67a0481daa93ac9c37be3104": {
      "model_module": "@jupyter-widgets/base",
      "model_module_version": "1.2.0",
      "model_name": "LayoutModel",
      "state": {}
     },
     "d0b35cca26b94720ac64d310a69d71b0": {
      "model_module": "@jupyter-widgets/controls",
      "model_module_version": "1.5.0",
      "model_name": "FloatSliderModel",
      "state": {
       "continuous_update": false,
       "description": "Test:",
       "layout": "IPY_MODEL_e0d4741654244156a62fdeb6e4813173",
       "max": 5,
       "min": 1,
       "readout_format": ".1f",
       "step": 0.1,
       "style": "IPY_MODEL_8ce9143cb6b1431db0f5f280c4ef07e5",
       "value": 3
      }
     },
     "d0b61db52ff14b99a0d48fb4d3b648c9": {
      "model_module": "@jupyter-widgets/base",
      "model_module_version": "1.2.0",
      "model_name": "LayoutModel",
      "state": {}
     },
     "d0db084abf5c421283d07028c40ccee9": {
      "model_module": "@jupyter-widgets/controls",
      "model_module_version": "1.5.0",
      "model_name": "HTMLModel",
      "state": {
       "layout": "IPY_MODEL_ac92c2dffa504731a9db0126ffc63171",
       "style": "IPY_MODEL_6071515246b34cdca1dfe7dfee9e8a33",
       "value": "<h2>Utterance <b>5:</b></h2>"
      }
     },
     "d109503630324b80a7d4cabc89cd6ef3": {
      "model_module": "@jupyter-widgets/base",
      "model_module_version": "1.2.0",
      "model_name": "LayoutModel",
      "state": {}
     },
     "d125c6b0ddc64e0b91fb167eea40896d": {
      "model_module": "@jupyter-widgets/base",
      "model_module_version": "1.2.0",
      "model_name": "LayoutModel",
      "state": {}
     },
     "d148dd0a83a443afaa74b4bc96f54fb0": {
      "model_module": "@jupyter-widgets/controls",
      "model_module_version": "1.5.0",
      "model_name": "SliderStyleModel",
      "state": {
       "description_width": ""
      }
     },
     "d15374d98c754efdb36c7ac90d91d7f0": {
      "model_module": "@jupyter-widgets/controls",
      "model_module_version": "1.5.0",
      "model_name": "HTMLModel",
      "state": {
       "layout": "IPY_MODEL_472fb83ad5744cc0afef649d397c162b",
       "style": "IPY_MODEL_878200546aba4c07a2e57354575a9486",
       "value": "<h2>Utterance <b>16:</b></h2>"
      }
     },
     "d164b54277754c73b712141e0b3672dc": {
      "model_module": "@jupyter-widgets/controls",
      "model_module_version": "1.5.0",
      "model_name": "FloatSliderModel",
      "state": {
       "continuous_update": false,
       "description": "Test:",
       "layout": "IPY_MODEL_e47b8745073142f1b291bc8577461d0c",
       "max": 5,
       "min": 1,
       "readout_format": ".1f",
       "step": 0.1,
       "style": "IPY_MODEL_ae314aab36404edd92d59b8ab586b34c",
       "value": 3
      }
     },
     "d16b53d563e2432988ef0f6d587cdbf2": {
      "model_module": "@jupyter-widgets/controls",
      "model_module_version": "1.5.0",
      "model_name": "SliderStyleModel",
      "state": {
       "description_width": ""
      }
     },
     "d1bc7594618547778196abc79433a226": {
      "model_module": "@jupyter-widgets/controls",
      "model_module_version": "1.5.0",
      "model_name": "DescriptionStyleModel",
      "state": {
       "description_width": ""
      }
     },
     "d1c619885e87442f830125ec94b1d220": {
      "model_module": "@jupyter-widgets/base",
      "model_module_version": "1.2.0",
      "model_name": "LayoutModel",
      "state": {}
     },
     "d1c9eefcaa6e477e9d93743cdb7ab821": {
      "model_module": "@jupyter-widgets/controls",
      "model_module_version": "1.5.0",
      "model_name": "DescriptionStyleModel",
      "state": {
       "description_width": ""
      }
     },
     "d1e437ef0e1041aebdb237f53f215c47": {
      "model_module": "@jupyter-widgets/controls",
      "model_module_version": "1.5.0",
      "model_name": "DescriptionStyleModel",
      "state": {
       "description_width": ""
      }
     },
     "d226a8e59dc64fc99e72179c64efc769": {
      "model_module": "@jupyter-widgets/base",
      "model_module_version": "1.2.0",
      "model_name": "LayoutModel",
      "state": {}
     },
     "d22a081e1d3d4417970976fb8bb99b5a": {
      "model_module": "@jupyter-widgets/controls",
      "model_module_version": "1.5.0",
      "model_name": "FloatSliderModel",
      "state": {
       "continuous_update": false,
       "description": "Test:",
       "layout": "IPY_MODEL_ebf2a965c2864081ad977d2cfbe98060",
       "max": 5,
       "min": 1,
       "readout_format": ".1f",
       "step": 0.1,
       "style": "IPY_MODEL_edd4cef6e34749caaf7242b7fe28a76d",
       "value": 3
      }
     },
     "d240bec3ab9c4e17b0cd80c212ebd0c8": {
      "model_module": "@jupyter-widgets/controls",
      "model_module_version": "1.5.0",
      "model_name": "DescriptionStyleModel",
      "state": {
       "description_width": ""
      }
     },
     "d251ad71d00246e19977b452c4e5eb09": {
      "model_module": "@jupyter-widgets/controls",
      "model_module_version": "1.5.0",
      "model_name": "SliderStyleModel",
      "state": {
       "description_width": ""
      }
     },
     "d25545658d454998b3c8ef073800b438": {
      "model_module": "@jupyter-widgets/base",
      "model_module_version": "1.2.0",
      "model_name": "LayoutModel",
      "state": {}
     },
     "d25597c2a4a84282822fe4c1d26ea66b": {
      "model_module": "@jupyter-widgets/controls",
      "model_module_version": "1.5.0",
      "model_name": "DescriptionStyleModel",
      "state": {
       "description_width": ""
      }
     },
     "d257aa08cc5f4fb2b45ecf5a27e61692": {
      "model_module": "@jupyter-widgets/controls",
      "model_module_version": "1.5.0",
      "model_name": "FloatSliderModel",
      "state": {
       "continuous_update": false,
       "description": "Test:",
       "layout": "IPY_MODEL_b1aa52b67cef4048992a8d79d8ea7580",
       "max": 5,
       "min": 1,
       "readout_format": ".1f",
       "step": 0.1,
       "style": "IPY_MODEL_2f56e68f980643af9336e1105ed685af",
       "value": 3
      }
     },
     "d293ec06081c473988b8b4a393c02566": {
      "model_module": "@jupyter-widgets/controls",
      "model_module_version": "1.5.0",
      "model_name": "SliderStyleModel",
      "state": {
       "description_width": ""
      }
     },
     "d2c09892a4694c3f8f8a34c16b1b955a": {
      "model_module": "@jupyter-widgets/controls",
      "model_module_version": "1.5.0",
      "model_name": "DescriptionStyleModel",
      "state": {
       "description_width": ""
      }
     },
     "d2cc9950e30443b493e7b76c31f4a694": {
      "model_module": "@jupyter-widgets/controls",
      "model_module_version": "1.5.0",
      "model_name": "DescriptionStyleModel",
      "state": {
       "description_width": ""
      }
     },
     "d2f1b986929c4f5eb757b422152fdff6": {
      "model_module": "@jupyter-widgets/controls",
      "model_module_version": "1.5.0",
      "model_name": "FloatSliderModel",
      "state": {
       "continuous_update": false,
       "description": "Test:",
       "layout": "IPY_MODEL_d55a370ac94446fcb1ae4afa5a6e6d34",
       "max": 5,
       "min": 1,
       "readout_format": ".1f",
       "step": 0.1,
       "style": "IPY_MODEL_5bbb9f69f5ec43fcb1aa728f54ba4360",
       "value": 3
      }
     },
     "d30864044b544a63a290e1949c88aa9a": {
      "model_module": "@jupyter-widgets/controls",
      "model_module_version": "1.5.0",
      "model_name": "DescriptionStyleModel",
      "state": {
       "description_width": ""
      }
     },
     "d3696fc097a54957ac97cd5d8a12c937": {
      "model_module": "@jupyter-widgets/controls",
      "model_module_version": "1.5.0",
      "model_name": "DescriptionStyleModel",
      "state": {
       "description_width": ""
      }
     },
     "d36ffa7ec0d04310bf24af3e6edeb3d4": {
      "model_module": "@jupyter-widgets/controls",
      "model_module_version": "1.5.0",
      "model_name": "FloatSliderModel",
      "state": {
       "continuous_update": false,
       "description": "Test:",
       "layout": "IPY_MODEL_755241cc176e4dbfb0953c48528acd30",
       "max": 5,
       "min": 1,
       "readout_format": ".1f",
       "step": 0.1,
       "style": "IPY_MODEL_847f08f683aa4d2283abfd3385366d22",
       "value": 3
      }
     },
     "d37b4d89031247d2941ed2dfcd434c46": {
      "model_module": "@jupyter-widgets/controls",
      "model_module_version": "1.5.0",
      "model_name": "HTMLModel",
      "state": {
       "layout": "IPY_MODEL_1be543f297be481cbeff404ea5c2aad4",
       "style": "IPY_MODEL_5f843725a1ce4186a2cb82fd3bbfc4a6",
       "value": "<h2>Utterance <b>8:</b></h2>"
      }
     },
     "d394cb47ec0347068aca5283926f2875": {
      "model_module": "@jupyter-widgets/controls",
      "model_module_version": "1.5.0",
      "model_name": "FloatSliderModel",
      "state": {
       "continuous_update": false,
       "description": "Test:",
       "layout": "IPY_MODEL_f9a182a6b77b4b388a610ed420094bee",
       "max": 5,
       "min": 1,
       "readout_format": ".1f",
       "step": 0.1,
       "style": "IPY_MODEL_44d14939fcc7411c89770babf09ec5e2",
       "value": 3
      }
     },
     "d3990b02be8b42d4bfd63067b73f761c": {
      "model_module": "@jupyter-widgets/controls",
      "model_module_version": "1.5.0",
      "model_name": "HTMLModel",
      "state": {
       "layout": "IPY_MODEL_7921734b0ab84ffd8be1eda4cdf93333",
       "style": "IPY_MODEL_5a6fe49f9c23467784f1afc98532ccce",
       "value": "<h2>Utterance <b>3:</b></h2>"
      }
     },
     "d3b0f7a6b7034372b7cb7c221c710f2f": {
      "model_module": "@jupyter-widgets/controls",
      "model_module_version": "1.5.0",
      "model_name": "SliderStyleModel",
      "state": {
       "description_width": ""
      }
     },
     "d3b64d52aac64c15bbf01c24c07bb281": {
      "model_module": "@jupyter-widgets/controls",
      "model_module_version": "1.5.0",
      "model_name": "HTMLModel",
      "state": {
       "layout": "IPY_MODEL_c1faa28142fd402f96f134c3d0ab9414",
       "style": "IPY_MODEL_3f68db678c9a40c7bf4681deed10b8ed",
       "value": "<h2>Utterance <b>13:</b></h2>"
      }
     },
     "d3b77e39db994cd795a1d2f1b3bd3c0a": {
      "model_module": "@jupyter-widgets/controls",
      "model_module_version": "1.5.0",
      "model_name": "DescriptionStyleModel",
      "state": {
       "description_width": ""
      }
     },
     "d3b94d1104df4c8da5e21e345152cbed": {
      "model_module": "@jupyter-widgets/controls",
      "model_module_version": "1.5.0",
      "model_name": "SliderStyleModel",
      "state": {
       "description_width": ""
      }
     },
     "d3e08939be6b4cd78121715d42e40c6e": {
      "model_module": "@jupyter-widgets/base",
      "model_module_version": "1.2.0",
      "model_name": "LayoutModel",
      "state": {}
     },
     "d3eaaf803a884078bdd4c266ee34e0ec": {
      "model_module": "@jupyter-widgets/base",
      "model_module_version": "1.2.0",
      "model_name": "LayoutModel",
      "state": {}
     },
     "d3f63e8254034306b4cbf22990fe91ca": {
      "model_module": "@jupyter-widgets/controls",
      "model_module_version": "1.5.0",
      "model_name": "FloatSliderModel",
      "state": {
       "continuous_update": false,
       "description": "Test:",
       "layout": "IPY_MODEL_1c11cff0ff004cd9aeb5f89f7723e06a",
       "max": 5,
       "min": 1,
       "readout_format": ".1f",
       "step": 0.1,
       "style": "IPY_MODEL_fa39a154fb7d4d9186ae27980dc08ed0",
       "value": 4.1
      }
     },
     "d40c56645a594108a180da671e184495": {
      "model_module": "@jupyter-widgets/base",
      "model_module_version": "1.2.0",
      "model_name": "LayoutModel",
      "state": {}
     },
     "d42cdb9844f7491080b3763a02c1de9c": {
      "model_module": "@jupyter-widgets/controls",
      "model_module_version": "1.5.0",
      "model_name": "FloatSliderModel",
      "state": {
       "continuous_update": false,
       "description": "Test:",
       "layout": "IPY_MODEL_326e66882bf845e287f139ec09fa42f8",
       "max": 5,
       "min": 1,
       "readout_format": ".1f",
       "step": 0.1,
       "style": "IPY_MODEL_6d5fcc2d8e864983a492804bae9e8886",
       "value": 3
      }
     },
     "d43c4d18da4342b7924c7fb539aceda8": {
      "model_module": "@jupyter-widgets/base",
      "model_module_version": "1.2.0",
      "model_name": "LayoutModel",
      "state": {}
     },
     "d44eb22780a041ed98c60d31aab42607": {
      "model_module": "@jupyter-widgets/base",
      "model_module_version": "1.2.0",
      "model_name": "LayoutModel",
      "state": {}
     },
     "d4576ebdedf74d5ba85939fbfd86b656": {
      "model_module": "@jupyter-widgets/base",
      "model_module_version": "1.2.0",
      "model_name": "LayoutModel",
      "state": {}
     },
     "d4644806d16241a7a634d5ff6eb81ac8": {
      "model_module": "@jupyter-widgets/controls",
      "model_module_version": "1.5.0",
      "model_name": "DescriptionStyleModel",
      "state": {
       "description_width": ""
      }
     },
     "d4646ddb9ba441269986321b1191152f": {
      "model_module": "@jupyter-widgets/base",
      "model_module_version": "1.2.0",
      "model_name": "LayoutModel",
      "state": {}
     },
     "d4aa8b18531445c8b628d93912c9baa2": {
      "model_module": "@jupyter-widgets/base",
      "model_module_version": "1.2.0",
      "model_name": "LayoutModel",
      "state": {}
     },
     "d4c0f1743bc34b858d83061d19e50f5b": {
      "model_module": "@jupyter-widgets/base",
      "model_module_version": "1.2.0",
      "model_name": "LayoutModel",
      "state": {}
     },
     "d50918336ad94e7faf1c8fe15075d8cc": {
      "model_module": "@jupyter-widgets/base",
      "model_module_version": "1.2.0",
      "model_name": "LayoutModel",
      "state": {}
     },
     "d50a5db039054611ba6e8853e2098939": {
      "model_module": "@jupyter-widgets/controls",
      "model_module_version": "1.5.0",
      "model_name": "HTMLModel",
      "state": {
       "layout": "IPY_MODEL_3dbe33fa1c234edea727312fcc240581",
       "style": "IPY_MODEL_467ef21b5b324e79bece0d5253f0c6fb",
       "value": "<h2>Utterance <b>15:</b></h2>"
      }
     },
     "d522e1d603e642d9bf7fe02ba24365c1": {
      "model_module": "@jupyter-widgets/controls",
      "model_module_version": "1.5.0",
      "model_name": "HTMLModel",
      "state": {
       "layout": "IPY_MODEL_ae7fd4d78d1c4ea4bb72bc2a31b1f657",
       "style": "IPY_MODEL_6ded8f7d9f784feaac44d4ebffa25f77",
       "value": "<h2>Utterance <b>19:</b></h2>"
      }
     },
     "d5578421f8cb4d6295cfce8ee9cb82aa": {
      "model_module": "@jupyter-widgets/controls",
      "model_module_version": "1.5.0",
      "model_name": "HTMLModel",
      "state": {
       "layout": "IPY_MODEL_79cf096e16b54de3a890fa90bc810433",
       "style": "IPY_MODEL_eeb643cd1cf943d7a49d67ea275e91bb",
       "value": "<h2>Utterance <b>14:</b></h2>"
      }
     },
     "d55a370ac94446fcb1ae4afa5a6e6d34": {
      "model_module": "@jupyter-widgets/base",
      "model_module_version": "1.2.0",
      "model_name": "LayoutModel",
      "state": {}
     },
     "d57b55489e904207beed4d16e6560ae2": {
      "model_module": "@jupyter-widgets/base",
      "model_module_version": "1.2.0",
      "model_name": "LayoutModel",
      "state": {}
     },
     "d58e17f58bfd4debb5b01f818a686e26": {
      "model_module": "@jupyter-widgets/controls",
      "model_module_version": "1.5.0",
      "model_name": "HTMLModel",
      "state": {
       "layout": "IPY_MODEL_2cde7394fbc74f2293db62ab4d495ffe",
       "style": "IPY_MODEL_1f5478aa4664499da952237fc489517e",
       "value": "<h2>Utterance <b>25:</b></h2>"
      }
     },
     "d5a560eaf863446c946e819ff45e5fbd": {
      "model_module": "@jupyter-widgets/base",
      "model_module_version": "1.2.0",
      "model_name": "LayoutModel",
      "state": {}
     },
     "d5b4a515c72d415493e120590486b4ee": {
      "model_module": "@jupyter-widgets/base",
      "model_module_version": "1.2.0",
      "model_name": "LayoutModel",
      "state": {}
     },
     "d5c1cc29d3034e268a023e97dea55fde": {
      "model_module": "@jupyter-widgets/controls",
      "model_module_version": "1.5.0",
      "model_name": "DescriptionStyleModel",
      "state": {
       "description_width": ""
      }
     },
     "d5e942bffac0464ca1a3a1adaa04b8a8": {
      "model_module": "@jupyter-widgets/controls",
      "model_module_version": "1.5.0",
      "model_name": "HTMLModel",
      "state": {
       "layout": "IPY_MODEL_6f44082183b041349824ca0fed32150f",
       "style": "IPY_MODEL_d7154883e9dc45f2a20ff2125ad3ce07",
       "value": "<h1>Voice selection<br></h1><body>Thanks for participating. Please select for each utternace it percieved quality with the folowing scale:<br><ol><li>Bad</li><li>Poor</li><li>Fair</li><li>Good</li><li>Excellent</li></ol><br><b>Note this test is not checking how much 'Jenny like' is a voice, but rather only how it sounds </b><br>After completing the questionaire press the button and you are done. Good luck and thank you.</body>"
      }
     },
     "d5eeb423d2c04874b1db7ea600eb887d": {
      "model_module": "@jupyter-widgets/controls",
      "model_module_version": "1.5.0",
      "model_name": "SliderStyleModel",
      "state": {
       "description_width": ""
      }
     },
     "d60d0e89b4b141e4a66e753c250b1a6b": {
      "model_module": "@jupyter-widgets/controls",
      "model_module_version": "1.5.0",
      "model_name": "FloatSliderModel",
      "state": {
       "continuous_update": false,
       "description": "Test:",
       "layout": "IPY_MODEL_25aaa67231114406a0de161f0800e755",
       "max": 5,
       "min": 1,
       "readout_format": ".1f",
       "step": 0.1,
       "style": "IPY_MODEL_faa943c91f604f18813cd7587a151ea1",
       "value": 3
      }
     },
     "d6167131d1b849ee8eb9e306fe9de8ca": {
      "model_module": "@jupyter-widgets/controls",
      "model_module_version": "1.5.0",
      "model_name": "HTMLModel",
      "state": {
       "layout": "IPY_MODEL_77a9fbc43525423780989c0c04506e1c",
       "style": "IPY_MODEL_e3ddd74c99244ddc87cf9d3bb3f85c3b",
       "value": "<h2>Utterance <b>19:</b></h2>"
      }
     },
     "d6646fa0198c4b20a7d07d60f435b0b4": {
      "model_module": "@jupyter-widgets/controls",
      "model_module_version": "1.5.0",
      "model_name": "DescriptionStyleModel",
      "state": {
       "description_width": ""
      }
     },
     "d67f1476ac754ade92431677a9b6973a": {
      "model_module": "@jupyter-widgets/controls",
      "model_module_version": "1.5.0",
      "model_name": "SliderStyleModel",
      "state": {
       "description_width": ""
      }
     },
     "d69db68f76514a70b74aeac40b9dda87": {
      "model_module": "@jupyter-widgets/controls",
      "model_module_version": "1.5.0",
      "model_name": "SliderStyleModel",
      "state": {
       "description_width": ""
      }
     },
     "d6a9cd059a954879bbd50bbd3e40f719": {
      "model_module": "@jupyter-widgets/controls",
      "model_module_version": "1.5.0",
      "model_name": "TextModel",
      "state": {
       "description": "Name:",
       "layout": "IPY_MODEL_89173b1ed51d4a168dd269b5d7371e94",
       "placeholder": "Type something like your name or id",
       "style": "IPY_MODEL_96292c8b953143418c738105d7f4f165"
      }
     },
     "d6ae0ad4e41445dfa4f7c0d312247051": {
      "model_module": "@jupyter-widgets/base",
      "model_module_version": "1.2.0",
      "model_name": "LayoutModel",
      "state": {}
     },
     "d6d32d0e81124d8185ababc4e460871b": {
      "model_module": "@jupyter-widgets/controls",
      "model_module_version": "1.5.0",
      "model_name": "HTMLModel",
      "state": {
       "layout": "IPY_MODEL_ac79328e1074422b9be9502582425fd8",
       "style": "IPY_MODEL_b75c7e055e8e45f49da9e04c1c7baece",
       "value": "<h2>Utterance <b>15:</b></h2>"
      }
     },
     "d6e4174ee98f415289146e103967ce04": {
      "model_module": "@jupyter-widgets/base",
      "model_module_version": "1.2.0",
      "model_name": "LayoutModel",
      "state": {}
     },
     "d6ed21283bdc467a89be57fac3e01c4c": {
      "model_module": "@jupyter-widgets/controls",
      "model_module_version": "1.5.0",
      "model_name": "HTMLModel",
      "state": {
       "layout": "IPY_MODEL_0b924c8d44ec41a8a75ef73dae9aee3f",
       "style": "IPY_MODEL_e131cc64be57477c9bdd856034b3963e",
       "value": "<h2>Utterance <b>11:</b></h2>"
      }
     },
     "d701a5dfbe3e42fdb3d75eabae467bc9": {
      "model_module": "@jupyter-widgets/base",
      "model_module_version": "1.2.0",
      "model_name": "LayoutModel",
      "state": {}
     },
     "d7088319e16d45fc84345e15d2462549": {
      "model_module": "@jupyter-widgets/controls",
      "model_module_version": "1.5.0",
      "model_name": "HTMLModel",
      "state": {
       "layout": "IPY_MODEL_9cfe9a8e4d684f94819370a6256a4e56",
       "style": "IPY_MODEL_1ae9618f765746faa7382b3e62410bd3",
       "value": "<h2>Utterance <b>17:</b></h2>"
      }
     },
     "d7154883e9dc45f2a20ff2125ad3ce07": {
      "model_module": "@jupyter-widgets/controls",
      "model_module_version": "1.5.0",
      "model_name": "DescriptionStyleModel",
      "state": {
       "description_width": ""
      }
     },
     "d7695b28320c41c1874f5ee3fd0382ef": {
      "model_module": "@jupyter-widgets/controls",
      "model_module_version": "1.5.0",
      "model_name": "SliderStyleModel",
      "state": {
       "description_width": ""
      }
     },
     "d790305b4d2f47529cd5a3388cc93588": {
      "model_module": "@jupyter-widgets/controls",
      "model_module_version": "1.5.0",
      "model_name": "FloatSliderModel",
      "state": {
       "continuous_update": false,
       "description": "Test:",
       "layout": "IPY_MODEL_d4576ebdedf74d5ba85939fbfd86b656",
       "max": 5,
       "min": 1,
       "readout_format": ".1f",
       "step": 0.1,
       "style": "IPY_MODEL_bef13a8267874ac9b756b891107a8078",
       "value": 3
      }
     },
     "d7913f87ffd44ecdabbd2b57f1d3646a": {
      "model_module": "@jupyter-widgets/controls",
      "model_module_version": "1.5.0",
      "model_name": "HTMLModel",
      "state": {
       "layout": "IPY_MODEL_77a62b8e7cae49268756f18dcc2991dd",
       "style": "IPY_MODEL_896d92af6bf94674971b0fb12e5efba5",
       "value": "<h2>Utterance <b>22:</b></h2>"
      }
     },
     "d79a4a36c48d4796a364faf2bcf284dc": {
      "model_module": "@jupyter-widgets/base",
      "model_module_version": "1.2.0",
      "model_name": "LayoutModel",
      "state": {}
     },
     "d7a90e6399fa49dca4a63c1dc56e94f9": {
      "model_module": "@jupyter-widgets/controls",
      "model_module_version": "1.5.0",
      "model_name": "DescriptionStyleModel",
      "state": {
       "description_width": ""
      }
     },
     "d7aee7b02b1844cca39a8e813fd22ca0": {
      "model_module": "@jupyter-widgets/controls",
      "model_module_version": "1.5.0",
      "model_name": "SliderStyleModel",
      "state": {
       "description_width": ""
      }
     },
     "d7eab7fcf83649c2be8d02ad6bf9da09": {
      "model_module": "@jupyter-widgets/controls",
      "model_module_version": "1.5.0",
      "model_name": "SliderStyleModel",
      "state": {
       "description_width": ""
      }
     },
     "d830315402d24908ba4ce8038e6f7f8a": {
      "model_module": "@jupyter-widgets/controls",
      "model_module_version": "1.5.0",
      "model_name": "HTMLModel",
      "state": {
       "layout": "IPY_MODEL_0db658942474411893800db17b9eea20",
       "style": "IPY_MODEL_7cb57559aff44b9b8e44fc6770f6daf1",
       "value": "<h2>Utterance <b>1:</b></h2>"
      }
     },
     "d882d6d82f2d4f108ad6f50741e9dd9c": {
      "model_module": "@jupyter-widgets/controls",
      "model_module_version": "1.5.0",
      "model_name": "SliderStyleModel",
      "state": {
       "description_width": ""
      }
     },
     "d88373eaf01047f18745b85d39e77380": {
      "model_module": "@jupyter-widgets/controls",
      "model_module_version": "1.5.0",
      "model_name": "HTMLModel",
      "state": {
       "layout": "IPY_MODEL_b3d6e39d45244e27a24dbce67cd8b2c1",
       "style": "IPY_MODEL_131593db3f00498f96e6d0a40a3d3714",
       "value": "<h2>Utterance <b>23:</b></h2>"
      }
     },
     "d8bd14a54e854e23b65e00ce446cba60": {
      "model_module": "@jupyter-widgets/controls",
      "model_module_version": "1.5.0",
      "model_name": "DescriptionStyleModel",
      "state": {
       "description_width": ""
      }
     },
     "d8c7d6f1aac3458a801b289aa62cc1f6": {
      "model_module": "@jupyter-widgets/controls",
      "model_module_version": "1.5.0",
      "model_name": "FloatSliderModel",
      "state": {
       "continuous_update": false,
       "description": "Test:",
       "layout": "IPY_MODEL_dd6f4c6a74ff41dead5c5306fcb7da6b",
       "max": 5,
       "min": 1,
       "readout_format": ".1f",
       "step": 0.1,
       "style": "IPY_MODEL_37c5b75c9928494c9daa819fefab3436",
       "value": 3
      }
     },
     "d911256b64214fdfb7560b75db5ffd83": {
      "model_module": "@jupyter-widgets/controls",
      "model_module_version": "1.5.0",
      "model_name": "SliderStyleModel",
      "state": {
       "description_width": ""
      }
     },
     "d91de31e32fd4290822bff8663cc7eb2": {
      "model_module": "@jupyter-widgets/controls",
      "model_module_version": "1.5.0",
      "model_name": "FloatSliderModel",
      "state": {
       "continuous_update": false,
       "description": "Test:",
       "layout": "IPY_MODEL_bdda5cdc718c4f90abf8269bbdc935b6",
       "max": 5,
       "min": 1,
       "readout_format": ".1f",
       "step": 0.1,
       "style": "IPY_MODEL_725399fe8aa7468aa91d4978133a82c0",
       "value": 3
      }
     },
     "d920e61c5e134bb2a38f8dfbb0bbb984": {
      "model_module": "@jupyter-widgets/controls",
      "model_module_version": "1.5.0",
      "model_name": "SliderStyleModel",
      "state": {
       "description_width": ""
      }
     },
     "d9217c1acef44f3eb0b0c6b42d5cb7c6": {
      "model_module": "@jupyter-widgets/controls",
      "model_module_version": "1.5.0",
      "model_name": "FloatSliderModel",
      "state": {
       "continuous_update": false,
       "description": "Test:",
       "layout": "IPY_MODEL_357d83223db34963bc8a91b8bbbb1862",
       "max": 5,
       "min": 1,
       "readout_format": ".1f",
       "step": 0.1,
       "style": "IPY_MODEL_0d57511e0f6c48728f42ace5d1611693",
       "value": 3
      }
     },
     "d926c807b2de4ae6b377ed169412e2d3": {
      "model_module": "@jupyter-widgets/controls",
      "model_module_version": "1.5.0",
      "model_name": "DescriptionStyleModel",
      "state": {
       "description_width": ""
      }
     },
     "d93e7bda1a7740da8cb38b42053696de": {
      "model_module": "@jupyter-widgets/controls",
      "model_module_version": "1.5.0",
      "model_name": "DescriptionStyleModel",
      "state": {
       "description_width": ""
      }
     },
     "d945aff1751e4ead85d8be4970801530": {
      "model_module": "@jupyter-widgets/base",
      "model_module_version": "1.2.0",
      "model_name": "LayoutModel",
      "state": {}
     },
     "d96dc251c3794091854924c7a713992d": {
      "model_module": "@jupyter-widgets/base",
      "model_module_version": "1.2.0",
      "model_name": "LayoutModel",
      "state": {}
     },
     "d987b76b8a2246eb8b195c4557527804": {
      "model_module": "@jupyter-widgets/controls",
      "model_module_version": "1.5.0",
      "model_name": "HTMLModel",
      "state": {
       "layout": "IPY_MODEL_515526665446405aa8da00ac37fca3fa",
       "style": "IPY_MODEL_89742b96d23f4f0ab9507b2be4440b88",
       "value": "<h2>Utterance <b>5:</b></h2>"
      }
     },
     "d9970cceb74e4ac3946d9ea4da2aa1c6": {
      "model_module": "@jupyter-widgets/base",
      "model_module_version": "1.2.0",
      "model_name": "LayoutModel",
      "state": {}
     },
     "d99736d2e2ca47d89eb08791f1621958": {
      "model_module": "@jupyter-widgets/base",
      "model_module_version": "1.2.0",
      "model_name": "LayoutModel",
      "state": {}
     },
     "d9b54506d95e4e949a4bc0d083b6259f": {
      "model_module": "@jupyter-widgets/controls",
      "model_module_version": "1.5.0",
      "model_name": "SliderStyleModel",
      "state": {
       "description_width": ""
      }
     },
     "d9c67656cdd043deb18117d74ef60bb3": {
      "model_module": "@jupyter-widgets/base",
      "model_module_version": "1.2.0",
      "model_name": "LayoutModel",
      "state": {}
     },
     "d9e37a8b1a7447fa9fae683a321c72f3": {
      "model_module": "@jupyter-widgets/base",
      "model_module_version": "1.2.0",
      "model_name": "LayoutModel",
      "state": {}
     },
     "da14021397de4b54bc2f30df16a7498b": {
      "model_module": "@jupyter-widgets/controls",
      "model_module_version": "1.5.0",
      "model_name": "DescriptionStyleModel",
      "state": {
       "description_width": ""
      }
     },
     "da2093b350794653a42020d1645e6bde": {
      "model_module": "@jupyter-widgets/controls",
      "model_module_version": "1.5.0",
      "model_name": "HTMLModel",
      "state": {
       "layout": "IPY_MODEL_b218ff3bd21a4086aa97e61653f55839",
       "style": "IPY_MODEL_7433158743e24f1d9e6af057c18805ad",
       "value": "<h2>Utterance <b>20:</b></h2>"
      }
     },
     "da4158b5e36f4f67bf2718755a8d6e0a": {
      "model_module": "@jupyter-widgets/base",
      "model_module_version": "1.2.0",
      "model_name": "LayoutModel",
      "state": {}
     },
     "da786f4ffe4e43588fe4724fc3dfd11d": {
      "model_module": "@jupyter-widgets/base",
      "model_module_version": "1.2.0",
      "model_name": "LayoutModel",
      "state": {}
     },
     "daa393d1ba134b4aac40610c5f179a38": {
      "model_module": "@jupyter-widgets/base",
      "model_module_version": "1.2.0",
      "model_name": "LayoutModel",
      "state": {}
     },
     "dab570ebb89844c69e532c7946266c45": {
      "model_module": "@jupyter-widgets/controls",
      "model_module_version": "1.5.0",
      "model_name": "DescriptionStyleModel",
      "state": {
       "description_width": ""
      }
     },
     "dac111ca73ad4fb09f7c2344362b5274": {
      "model_module": "@jupyter-widgets/controls",
      "model_module_version": "1.5.0",
      "model_name": "FloatSliderModel",
      "state": {
       "continuous_update": false,
       "description": "Test:",
       "layout": "IPY_MODEL_c14dc6ad7b66472383c0a59955563d84",
       "max": 5,
       "min": 1,
       "readout_format": ".1f",
       "step": 0.1,
       "style": "IPY_MODEL_cb16b0169c3b4bc6bc07f4c872da4079",
       "value": 3
      }
     },
     "daca267cb77f40baac25b87a50775a41": {
      "model_module": "@jupyter-widgets/controls",
      "model_module_version": "1.5.0",
      "model_name": "HTMLModel",
      "state": {
       "layout": "IPY_MODEL_275af78d9f124ff180243721aa251c48",
       "style": "IPY_MODEL_a3c0788e75c7442f800e0947a56defcd",
       "value": "<h2>Utterance <b>3:</b></h2>"
      }
     },
     "dadeb636d2144e08a9d2f5067d26fc0c": {
      "model_module": "@jupyter-widgets/base",
      "model_module_version": "1.2.0",
      "model_name": "LayoutModel",
      "state": {}
     },
     "db0b48ae6f084d12b132a56be49f9949": {
      "model_module": "@jupyter-widgets/controls",
      "model_module_version": "1.5.0",
      "model_name": "HTMLModel",
      "state": {
       "layout": "IPY_MODEL_303bf923285341d3a05e707acbd2b6ba",
       "style": "IPY_MODEL_f336df0116ee4956a2d4d7184823cd77",
       "value": "<h1>Voice Quality<br></h1><body>Thanks for participating. Please select for each utternace it percieved quality with the folowing scale:<br><ol><li>Bad</li><li>Poor</li><li>Fair</li><li>Good</li><li>Excellent</li></ol><b>This test is not checking how much 'Jenny like' is a voice, but rather only how good it sounds </b><br>After completing the entries press the Done button. <br>Good luck and thank you.<br><br><br></body>"
      }
     },
     "db1532319713416e945a708f482ddfa8": {
      "model_module": "@jupyter-widgets/controls",
      "model_module_version": "1.5.0",
      "model_name": "SliderStyleModel",
      "state": {
       "description_width": ""
      }
     },
     "db18a31de6ad46f6a725329654ea2afe": {
      "model_module": "@jupyter-widgets/base",
      "model_module_version": "1.2.0",
      "model_name": "LayoutModel",
      "state": {}
     },
     "db42fc062d5e40acaad2d950a75fc269": {
      "model_module": "@jupyter-widgets/base",
      "model_module_version": "1.2.0",
      "model_name": "LayoutModel",
      "state": {}
     },
     "db5c8a04a2ad433e8b761fd132121466": {
      "model_module": "@jupyter-widgets/controls",
      "model_module_version": "1.5.0",
      "model_name": "DescriptionStyleModel",
      "state": {
       "description_width": ""
      }
     },
     "dba5ab3c62f44a61bbaffada9aebce74": {
      "model_module": "@jupyter-widgets/base",
      "model_module_version": "1.2.0",
      "model_name": "LayoutModel",
      "state": {}
     },
     "dbcde94fb9b3447c99fc3d9958e9fe8b": {
      "model_module": "@jupyter-widgets/controls",
      "model_module_version": "1.5.0",
      "model_name": "SliderStyleModel",
      "state": {
       "description_width": ""
      }
     },
     "dbd85f619b9e4973acf51d033ac07f8a": {
      "model_module": "@jupyter-widgets/controls",
      "model_module_version": "1.5.0",
      "model_name": "HTMLModel",
      "state": {
       "layout": "IPY_MODEL_7444d6e5e3b942c68b9c51d4af1a9bdd",
       "style": "IPY_MODEL_1a9013a4358e486386d20812b8407dae",
       "value": "<h2>Utterance <b>2:</b></h2>"
      }
     },
     "dbeb942ff67b45d28b56866144b21d92": {
      "model_module": "@jupyter-widgets/controls",
      "model_module_version": "1.5.0",
      "model_name": "SliderStyleModel",
      "state": {
       "description_width": ""
      }
     },
     "dbf40001f3af41d280f85e92f47ec00c": {
      "model_module": "@jupyter-widgets/controls",
      "model_module_version": "1.5.0",
      "model_name": "SliderStyleModel",
      "state": {
       "description_width": ""
      }
     },
     "dc1c5b1158ff42ccbf5804611b9be6fb": {
      "model_module": "@jupyter-widgets/controls",
      "model_module_version": "1.5.0",
      "model_name": "HTMLModel",
      "state": {
       "layout": "IPY_MODEL_9a2d1b16081b4ac0909dc385234f6b58",
       "style": "IPY_MODEL_68b8634dd26642f5bae93ab7aa1aa290",
       "value": "<h2>Utterance <b>20:</b></h2>"
      }
     },
     "dc20a24f99dd472ab00b0e7dbf8c705e": {
      "model_module": "@jupyter-widgets/base",
      "model_module_version": "1.2.0",
      "model_name": "LayoutModel",
      "state": {}
     },
     "dc3f28dcecb5473ab356862beaf35e51": {
      "model_module": "@jupyter-widgets/controls",
      "model_module_version": "1.5.0",
      "model_name": "HTMLModel",
      "state": {
       "layout": "IPY_MODEL_a0be44d454204e24986d8e0007ebfe0b",
       "style": "IPY_MODEL_985fd99b5abb4f1f92e160ee300d6cfa",
       "value": "<h2>Utterance <b>20:</b></h2>"
      }
     },
     "dc687bf585e243a9ba0066298b366129": {
      "model_module": "@jupyter-widgets/controls",
      "model_module_version": "1.5.0",
      "model_name": "HTMLModel",
      "state": {
       "layout": "IPY_MODEL_95c964607ee24f57879bf0e2f92fc866",
       "style": "IPY_MODEL_7dd5b3ed95ed45a9bc322b5a5abd9c41",
       "value": "<h2>Utterance <b>18:</b></h2>"
      }
     },
     "dc6d47f7e51446fdb0dc4acf7bd70e4e": {
      "model_module": "@jupyter-widgets/controls",
      "model_module_version": "1.5.0",
      "model_name": "DescriptionStyleModel",
      "state": {
       "description_width": ""
      }
     },
     "dc8778485dc0431388da8f88c33bff5c": {
      "model_module": "@jupyter-widgets/base",
      "model_module_version": "1.2.0",
      "model_name": "LayoutModel",
      "state": {}
     },
     "dcb5218e68654e539b835d8846c7d74a": {
      "model_module": "@jupyter-widgets/base",
      "model_module_version": "1.2.0",
      "model_name": "LayoutModel",
      "state": {}
     },
     "dcf1e13ee3c44a49a82208a918bd9457": {
      "model_module": "@jupyter-widgets/controls",
      "model_module_version": "1.5.0",
      "model_name": "SliderStyleModel",
      "state": {
       "description_width": ""
      }
     },
     "dd239f0144694adcbea1ed78a9d10c75": {
      "model_module": "@jupyter-widgets/controls",
      "model_module_version": "1.5.0",
      "model_name": "FloatSliderModel",
      "state": {
       "continuous_update": false,
       "description": "Test:",
       "layout": "IPY_MODEL_50f664b59d054d0fac2cde9ea7eed082",
       "max": 5,
       "min": 1,
       "readout_format": ".1f",
       "step": 0.1,
       "style": "IPY_MODEL_a0aa9eb92e5148adaa31a0d4a41dc3e1",
       "value": 3
      }
     },
     "dd2be269e06a406c87e94bd36690a347": {
      "model_module": "@jupyter-widgets/controls",
      "model_module_version": "1.5.0",
      "model_name": "DescriptionStyleModel",
      "state": {
       "description_width": ""
      }
     },
     "dd65273d55624c258f671e8f343e00c7": {
      "model_module": "@jupyter-widgets/base",
      "model_module_version": "1.2.0",
      "model_name": "LayoutModel",
      "state": {}
     },
     "dd6f4c6a74ff41dead5c5306fcb7da6b": {
      "model_module": "@jupyter-widgets/base",
      "model_module_version": "1.2.0",
      "model_name": "LayoutModel",
      "state": {}
     },
     "ddabc8cb913741c5b0705a8ede21b411": {
      "model_module": "@jupyter-widgets/controls",
      "model_module_version": "1.5.0",
      "model_name": "DescriptionStyleModel",
      "state": {
       "description_width": ""
      }
     },
     "dde7aef6256343beac2f4534c6af6cd8": {
      "model_module": "@jupyter-widgets/base",
      "model_module_version": "1.2.0",
      "model_name": "LayoutModel",
      "state": {}
     },
     "de18f777d53e40f89fe86dfe3644df9b": {
      "model_module": "@jupyter-widgets/controls",
      "model_module_version": "1.5.0",
      "model_name": "HTMLModel",
      "state": {
       "layout": "IPY_MODEL_21ec52be4fd74219b783a332e9b4c6f1",
       "style": "IPY_MODEL_32bb1d293da04226b398eb12918b726d",
       "value": "<h2>Utterance <b>6:</b></h2>"
      }
     },
     "de33f1e8f16d45f1957663a1e9bea598": {
      "model_module": "@jupyter-widgets/controls",
      "model_module_version": "1.5.0",
      "model_name": "HTMLModel",
      "state": {
       "layout": "IPY_MODEL_8248be0129574bd185e86dc3a47a63e7",
       "style": "IPY_MODEL_3dbb4727f6334ed590eeb023e994312c",
       "value": "<h2>Utterance <b>10:</b></h2>"
      }
     },
     "de5f0bf636b84e7db0f5b51f635305d9": {
      "model_module": "@jupyter-widgets/base",
      "model_module_version": "1.2.0",
      "model_name": "LayoutModel",
      "state": {}
     },
     "debfe5f789e7459a81a3f6b1006829db": {
      "model_module": "@jupyter-widgets/controls",
      "model_module_version": "1.5.0",
      "model_name": "HTMLModel",
      "state": {
       "layout": "IPY_MODEL_35b12b6593d04dca93754857c449fe76",
       "style": "IPY_MODEL_dc6d47f7e51446fdb0dc4acf7bd70e4e",
       "value": "<h2>Utterance <b>7:</b></h2>"
      }
     },
     "dec552cce8aa47899fe044115a043635": {
      "model_module": "@jupyter-widgets/base",
      "model_module_version": "1.2.0",
      "model_name": "LayoutModel",
      "state": {}
     },
     "decf8604e8944e848bcc9dda96689ad7": {
      "model_module": "@jupyter-widgets/controls",
      "model_module_version": "1.5.0",
      "model_name": "ButtonModel",
      "state": {
       "description": "Done",
       "layout": "IPY_MODEL_ff0ccec61be5439d9106d4a02f11d4d6",
       "style": "IPY_MODEL_feb5cb131e4c46e2852b0b922ee9b1bc"
      }
     },
     "dedc030448184be2981de7cd3130ed43": {
      "model_module": "@jupyter-widgets/base",
      "model_module_version": "1.2.0",
      "model_name": "LayoutModel",
      "state": {}
     },
     "deeb700b12d44460964659df07e25237": {
      "model_module": "@jupyter-widgets/controls",
      "model_module_version": "1.5.0",
      "model_name": "HTMLModel",
      "state": {
       "layout": "IPY_MODEL_eef03b78215a408db8822ce3c0f381b9",
       "style": "IPY_MODEL_cb3d1cbefdca4900a34997f973ca0750",
       "value": "<h2>Utterance <b>9:</b></h2>"
      }
     },
     "deee6a065a1f45f5a9c95c4a7f80659d": {
      "model_module": "@jupyter-widgets/base",
      "model_module_version": "1.2.0",
      "model_name": "LayoutModel",
      "state": {}
     },
     "df58468808e3463fb82647b08e73b95c": {
      "model_module": "@jupyter-widgets/base",
      "model_module_version": "1.2.0",
      "model_name": "LayoutModel",
      "state": {}
     },
     "df593d208f404fe1abfbe9a9cde99018": {
      "model_module": "@jupyter-widgets/base",
      "model_module_version": "1.2.0",
      "model_name": "LayoutModel",
      "state": {}
     },
     "df7510012b4543dca7a2c5d9a14d0ef7": {
      "model_module": "@jupyter-widgets/controls",
      "model_module_version": "1.5.0",
      "model_name": "DescriptionStyleModel",
      "state": {
       "description_width": ""
      }
     },
     "df76c14d61744dd5a7320de49850925f": {
      "model_module": "@jupyter-widgets/base",
      "model_module_version": "1.2.0",
      "model_name": "LayoutModel",
      "state": {}
     },
     "df7e251c99734702be33a59ae63c923d": {
      "model_module": "@jupyter-widgets/controls",
      "model_module_version": "1.5.0",
      "model_name": "HTMLModel",
      "state": {
       "layout": "IPY_MODEL_35aeecc5dfc74f60987aa11773780dcb",
       "style": "IPY_MODEL_25f7dee558974f58b316079a6647ef9c",
       "value": "<h2>Utterance <b>25:</b></h2>"
      }
     },
     "df81fcda90934da1bd3a52b5fc3a567d": {
      "model_module": "@jupyter-widgets/base",
      "model_module_version": "1.2.0",
      "model_name": "LayoutModel",
      "state": {}
     },
     "df894aba688341af884a9e7d6d77cb56": {
      "model_module": "@jupyter-widgets/controls",
      "model_module_version": "1.5.0",
      "model_name": "DescriptionStyleModel",
      "state": {
       "description_width": ""
      }
     },
     "dfc73726120f4f09af4001dbc73a861e": {
      "model_module": "@jupyter-widgets/controls",
      "model_module_version": "1.5.0",
      "model_name": "FloatSliderModel",
      "state": {
       "continuous_update": false,
       "description": "Test:",
       "layout": "IPY_MODEL_e85db01aa8224b09bbb55ce913f3234e",
       "max": 5,
       "min": 1,
       "readout_format": ".1f",
       "step": 0.1,
       "style": "IPY_MODEL_b061b3eb1da9466fb755d6c4485bdeab",
       "value": 3
      }
     },
     "dfe0acc4c121478780ad483e4e57ae4c": {
      "model_module": "@jupyter-widgets/controls",
      "model_module_version": "1.5.0",
      "model_name": "SliderStyleModel",
      "state": {
       "description_width": ""
      }
     },
     "dff8b407c24841f88a1ef6d67cd0e944": {
      "model_module": "@jupyter-widgets/controls",
      "model_module_version": "1.5.0",
      "model_name": "DescriptionStyleModel",
      "state": {
       "description_width": ""
      }
     },
     "e01218f953354f8ea9c812f437c29a6a": {
      "model_module": "@jupyter-widgets/controls",
      "model_module_version": "1.5.0",
      "model_name": "SliderStyleModel",
      "state": {
       "description_width": ""
      }
     },
     "e016ff3fcde5469ca632723cdf4d98c9": {
      "model_module": "@jupyter-widgets/controls",
      "model_module_version": "1.5.0",
      "model_name": "HTMLModel",
      "state": {
       "layout": "IPY_MODEL_b65dfa551dcf4195bb3d9ff6ce806260",
       "style": "IPY_MODEL_c4d64a0002ee4a67b55a201ff64bee10",
       "value": "<h2>Utterance <b>16:</b></h2>"
      }
     },
     "e025ecc4ee574a05bc6fe87cca386bd7": {
      "model_module": "@jupyter-widgets/controls",
      "model_module_version": "1.5.0",
      "model_name": "SliderStyleModel",
      "state": {
       "description_width": ""
      }
     },
     "e0459e88bc4940e8917e1e0ba0c49aa2": {
      "model_module": "@jupyter-widgets/controls",
      "model_module_version": "1.5.0",
      "model_name": "HTMLModel",
      "state": {
       "layout": "IPY_MODEL_8a0c1e1179e34a5e96348b95aa193280",
       "style": "IPY_MODEL_384abb3cdf0e4309babbcbd40878e05f",
       "value": "<h2>Utterance <b>10:</b></h2>"
      }
     },
     "e04a336350e849dfbcec8aa6b4a462c8": {
      "model_module": "@jupyter-widgets/controls",
      "model_module_version": "1.5.0",
      "model_name": "HTMLModel",
      "state": {
       "layout": "IPY_MODEL_acf0a306950e45c797a83810888175b9",
       "style": "IPY_MODEL_d8bd14a54e854e23b65e00ce446cba60",
       "value": "<h2>Utterance <b>8:</b></h2>"
      }
     },
     "e04dcf85f52d4a7d91e2da3a7462a7ee": {
      "model_module": "@jupyter-widgets/controls",
      "model_module_version": "1.5.0",
      "model_name": "SliderStyleModel",
      "state": {
       "description_width": ""
      }
     },
     "e058f6b056764618acfba903c87ab499": {
      "model_module": "@jupyter-widgets/controls",
      "model_module_version": "1.5.0",
      "model_name": "DescriptionStyleModel",
      "state": {
       "description_width": ""
      }
     },
     "e067da1c839d49f4a85e6d3dc2080538": {
      "model_module": "@jupyter-widgets/controls",
      "model_module_version": "1.5.0",
      "model_name": "ButtonModel",
      "state": {
       "description": "Done",
       "layout": "IPY_MODEL_7fe03ed27a484f20ba030b9495761b6a",
       "style": "IPY_MODEL_16568a66ec58449991f7407cb98cf627"
      }
     },
     "e08a4739a06f4f77aa7648200e82fa47": {
      "model_module": "@jupyter-widgets/controls",
      "model_module_version": "1.5.0",
      "model_name": "FloatSliderModel",
      "state": {
       "continuous_update": false,
       "description": "Test:",
       "layout": "IPY_MODEL_8963173b797241c0bd8e056d80eb2c36",
       "max": 5,
       "min": 1,
       "readout_format": ".1f",
       "step": 0.1,
       "style": "IPY_MODEL_2bdbe998cb93467e83cd8b25cb34d3b9",
       "value": 3
      }
     },
     "e08c0dbe537940fa9f05b0e3436b95b3": {
      "model_module": "@jupyter-widgets/base",
      "model_module_version": "1.2.0",
      "model_name": "LayoutModel",
      "state": {}
     },
     "e0baccd38cb64d11ad5c7efde025bb7d": {
      "model_module": "@jupyter-widgets/controls",
      "model_module_version": "1.5.0",
      "model_name": "FloatSliderModel",
      "state": {
       "continuous_update": false,
       "description": "Test:",
       "layout": "IPY_MODEL_67c9e154fac5438aa1a3a7265f094ed9",
       "max": 5,
       "min": 1,
       "readout_format": ".1f",
       "step": 0.1,
       "style": "IPY_MODEL_4742564855fc4dc5a0553d8503a94960",
       "value": 2.1
      }
     },
     "e0d4741654244156a62fdeb6e4813173": {
      "model_module": "@jupyter-widgets/base",
      "model_module_version": "1.2.0",
      "model_name": "LayoutModel",
      "state": {}
     },
     "e0f2ae8fb9374f26b870172e55156de4": {
      "model_module": "@jupyter-widgets/base",
      "model_module_version": "1.2.0",
      "model_name": "LayoutModel",
      "state": {}
     },
     "e10e0f03ed264f04b921ed026bea0d54": {
      "model_module": "@jupyter-widgets/controls",
      "model_module_version": "1.5.0",
      "model_name": "DescriptionStyleModel",
      "state": {
       "description_width": ""
      }
     },
     "e131cc64be57477c9bdd856034b3963e": {
      "model_module": "@jupyter-widgets/controls",
      "model_module_version": "1.5.0",
      "model_name": "DescriptionStyleModel",
      "state": {
       "description_width": ""
      }
     },
     "e1342e5f1aaa4b2290aded0462f669c4": {
      "model_module": "@jupyter-widgets/base",
      "model_module_version": "1.2.0",
      "model_name": "LayoutModel",
      "state": {}
     },
     "e1542f2e14d147e6bf98251a387fdaf8": {
      "model_module": "@jupyter-widgets/controls",
      "model_module_version": "1.5.0",
      "model_name": "SliderStyleModel",
      "state": {
       "description_width": ""
      }
     },
     "e17e3ec098b34023848ad1fb983d35f8": {
      "model_module": "@jupyter-widgets/controls",
      "model_module_version": "1.5.0",
      "model_name": "SliderStyleModel",
      "state": {
       "description_width": ""
      }
     },
     "e18f79b0d4be4e60b6484108d0501e3c": {
      "model_module": "@jupyter-widgets/base",
      "model_module_version": "1.2.0",
      "model_name": "LayoutModel",
      "state": {}
     },
     "e19073529c454034888f0d36fe74b35f": {
      "model_module": "@jupyter-widgets/base",
      "model_module_version": "1.2.0",
      "model_name": "LayoutModel",
      "state": {}
     },
     "e1c28349eb5f442bb6f83626204df2bf": {
      "model_module": "@jupyter-widgets/controls",
      "model_module_version": "1.5.0",
      "model_name": "FloatSliderModel",
      "state": {
       "continuous_update": false,
       "description": "Test:",
       "layout": "IPY_MODEL_4e00bca63c904550b9de65fdcc7d1d90",
       "max": 5,
       "min": 1,
       "readout_format": ".1f",
       "step": 0.1,
       "style": "IPY_MODEL_87f601b899e14324904bb8ae1f6a2488",
       "value": 3
      }
     },
     "e1d34845aa5f4ba3b1c1cda18b0dba90": {
      "model_module": "@jupyter-widgets/base",
      "model_module_version": "1.2.0",
      "model_name": "LayoutModel",
      "state": {}
     },
     "e1e14a48060647bebe0b7e2e68d7d22a": {
      "model_module": "@jupyter-widgets/controls",
      "model_module_version": "1.5.0",
      "model_name": "DescriptionStyleModel",
      "state": {
       "description_width": ""
      }
     },
     "e1e1bd149aca477c89a87f621a09e17e": {
      "model_module": "@jupyter-widgets/base",
      "model_module_version": "1.2.0",
      "model_name": "LayoutModel",
      "state": {}
     },
     "e1f3d99a2faa4554856845f547fafbc1": {
      "model_module": "@jupyter-widgets/base",
      "model_module_version": "1.2.0",
      "model_name": "LayoutModel",
      "state": {}
     },
     "e21f6233254f40ad9c2bffb8b7d48050": {
      "model_module": "@jupyter-widgets/base",
      "model_module_version": "1.2.0",
      "model_name": "LayoutModel",
      "state": {}
     },
     "e22ce8925977424691055d1f9e8dbb27": {
      "model_module": "@jupyter-widgets/controls",
      "model_module_version": "1.5.0",
      "model_name": "SliderStyleModel",
      "state": {
       "description_width": ""
      }
     },
     "e250226dedbb4f12938a60e9a88d0c56": {
      "model_module": "@jupyter-widgets/controls",
      "model_module_version": "1.5.0",
      "model_name": "HTMLModel",
      "state": {
       "layout": "IPY_MODEL_7ca22f4695924053910916ceb391318d",
       "style": "IPY_MODEL_b582964b58dd42f399f3c0b8d083224d",
       "value": "<h2>Utterance <b>6:</b></h2>"
      }
     },
     "e25de203192846f882943b37763f3f24": {
      "model_module": "@jupyter-widgets/base",
      "model_module_version": "1.2.0",
      "model_name": "LayoutModel",
      "state": {}
     },
     "e27b91c6493c4fbb8b18413cce34e1ce": {
      "model_module": "@jupyter-widgets/controls",
      "model_module_version": "1.5.0",
      "model_name": "HTMLModel",
      "state": {
       "layout": "IPY_MODEL_15aca86837a84317b498b5b783090e8e",
       "style": "IPY_MODEL_d25597c2a4a84282822fe4c1d26ea66b",
       "value": "<h2>Utterance <b>12:</b></h2>"
      }
     },
     "e28096aa717a4cdd8600e48fddfd8ac2": {
      "model_module": "@jupyter-widgets/controls",
      "model_module_version": "1.5.0",
      "model_name": "DescriptionStyleModel",
      "state": {
       "description_width": ""
      }
     },
     "e293c65cc75f45ab9ec05010f2caeb97": {
      "model_module": "@jupyter-widgets/base",
      "model_module_version": "1.2.0",
      "model_name": "LayoutModel",
      "state": {}
     },
     "e2c3dd2c2c3d42409eae2ad3239d96e2": {
      "model_module": "@jupyter-widgets/controls",
      "model_module_version": "1.5.0",
      "model_name": "HTMLModel",
      "state": {
       "layout": "IPY_MODEL_0bbb39135a2f45d99ab383262ad4b61d",
       "style": "IPY_MODEL_9869492488e746d5a1088a80acf2fed1",
       "value": "<h2>Utterance <b>13:</b></h2>"
      }
     },
     "e2d7c2adc44a453a968a80ebd7203543": {
      "model_module": "@jupyter-widgets/base",
      "model_module_version": "1.2.0",
      "model_name": "LayoutModel",
      "state": {}
     },
     "e2ed0f1ef1d8441a935e702ef90ce5b5": {
      "model_module": "@jupyter-widgets/controls",
      "model_module_version": "1.5.0",
      "model_name": "SliderStyleModel",
      "state": {
       "description_width": ""
      }
     },
     "e3c31825552345c6844281c77f881aa9": {
      "model_module": "@jupyter-widgets/base",
      "model_module_version": "1.2.0",
      "model_name": "LayoutModel",
      "state": {}
     },
     "e3caf99a8255438590727cfc86348d22": {
      "model_module": "@jupyter-widgets/base",
      "model_module_version": "1.2.0",
      "model_name": "LayoutModel",
      "state": {}
     },
     "e3d5eb20cc154f2690ac5f03e6ca4cfa": {
      "model_module": "@jupyter-widgets/controls",
      "model_module_version": "1.5.0",
      "model_name": "HTMLModel",
      "state": {
       "layout": "IPY_MODEL_7dddfa0bac9941ec885c19af4bd2abb5",
       "style": "IPY_MODEL_36a150e36d1f49edae51f0d16e74eeb3",
       "value": "<h2>Utterance <b>6:</b></h2>"
      }
     },
     "e3ddd74c99244ddc87cf9d3bb3f85c3b": {
      "model_module": "@jupyter-widgets/controls",
      "model_module_version": "1.5.0",
      "model_name": "DescriptionStyleModel",
      "state": {
       "description_width": ""
      }
     },
     "e4142828c5b4478a951dc5bbbf037e6e": {
      "model_module": "@jupyter-widgets/base",
      "model_module_version": "1.2.0",
      "model_name": "LayoutModel",
      "state": {}
     },
     "e464b3375685463c963d63549701e3dc": {
      "model_module": "@jupyter-widgets/base",
      "model_module_version": "1.2.0",
      "model_name": "LayoutModel",
      "state": {}
     },
     "e472e9c8d660426587167ef176a9be7d": {
      "model_module": "@jupyter-widgets/controls",
      "model_module_version": "1.5.0",
      "model_name": "FloatSliderModel",
      "state": {
       "continuous_update": false,
       "description": "Test:",
       "layout": "IPY_MODEL_5506778616064a6c825fbfac0acdaec5",
       "max": 5,
       "min": 1,
       "readout_format": ".1f",
       "step": 0.1,
       "style": "IPY_MODEL_438359a3ee6549d1ad9d7fa20dfcabd6",
       "value": 3
      }
     },
     "e47690c1c0654fe5b7d81d6b8802fb70": {
      "model_module": "@jupyter-widgets/controls",
      "model_module_version": "1.5.0",
      "model_name": "FloatSliderModel",
      "state": {
       "continuous_update": false,
       "description": "Test:",
       "layout": "IPY_MODEL_b3cd8d3ca422414a8bffa5ff3cb0f6ae",
       "max": 5,
       "min": 1,
       "readout_format": ".1f",
       "step": 0.1,
       "style": "IPY_MODEL_d7aee7b02b1844cca39a8e813fd22ca0",
       "value": 3
      }
     },
     "e47aa08347004edf92bef678db93cfaa": {
      "model_module": "@jupyter-widgets/controls",
      "model_module_version": "1.5.0",
      "model_name": "SliderStyleModel",
      "state": {
       "description_width": ""
      }
     },
     "e47b8745073142f1b291bc8577461d0c": {
      "model_module": "@jupyter-widgets/base",
      "model_module_version": "1.2.0",
      "model_name": "LayoutModel",
      "state": {}
     },
     "e47c64e6e49b43f3b185b40ecc1ec5c7": {
      "model_module": "@jupyter-widgets/controls",
      "model_module_version": "1.5.0",
      "model_name": "SliderStyleModel",
      "state": {
       "description_width": ""
      }
     },
     "e4a2a5653e334c9386a3df71aeff80a6": {
      "model_module": "@jupyter-widgets/base",
      "model_module_version": "1.2.0",
      "model_name": "LayoutModel",
      "state": {}
     },
     "e4b329f582fe41d9ad8716cd0f6b3c29": {
      "model_module": "@jupyter-widgets/controls",
      "model_module_version": "1.5.0",
      "model_name": "FloatSliderModel",
      "state": {
       "continuous_update": false,
       "description": "Test:",
       "layout": "IPY_MODEL_d25545658d454998b3c8ef073800b438",
       "max": 5,
       "min": 1,
       "readout_format": ".1f",
       "step": 0.1,
       "style": "IPY_MODEL_97f6ae23155546d39dee3ccc2aaf7341",
       "value": 3
      }
     },
     "e4c8be3af7784457871141a726c3540f": {
      "model_module": "@jupyter-widgets/base",
      "model_module_version": "1.2.0",
      "model_name": "LayoutModel",
      "state": {}
     },
     "e4cb014af882462d874b7a218cdc481b": {
      "model_module": "@jupyter-widgets/controls",
      "model_module_version": "1.5.0",
      "model_name": "FloatSliderModel",
      "state": {
       "continuous_update": false,
       "description": "Test:",
       "layout": "IPY_MODEL_1487feff6a5e42fb924b117faf50a99e",
       "max": 5,
       "min": 1,
       "readout_format": ".1f",
       "step": 0.1,
       "style": "IPY_MODEL_d5eeb423d2c04874b1db7ea600eb887d",
       "value": 3
      }
     },
     "e4da4a9005f84608956f196b8c8032a1": {
      "model_module": "@jupyter-widgets/base",
      "model_module_version": "1.2.0",
      "model_name": "LayoutModel",
      "state": {}
     },
     "e4defa12a2b446a1b8c05415fa58626a": {
      "model_module": "@jupyter-widgets/controls",
      "model_module_version": "1.5.0",
      "model_name": "HTMLModel",
      "state": {
       "layout": "IPY_MODEL_1604c2e52fcf4905ae1af8fca1926c23",
       "style": "IPY_MODEL_acb4ddb7582a421a9fff4c207c2465f3",
       "value": "<h2>Utterance <b>14:</b></h2>"
      }
     },
     "e4f711c202a047a79121eb10f1b87b04": {
      "model_module": "@jupyter-widgets/base",
      "model_module_version": "1.2.0",
      "model_name": "LayoutModel",
      "state": {}
     },
     "e51b116d50344e62aff56050698a883a": {
      "model_module": "@jupyter-widgets/controls",
      "model_module_version": "1.5.0",
      "model_name": "SliderStyleModel",
      "state": {
       "description_width": ""
      }
     },
     "e52b5722ed2c41f887f06b92896dd43f": {
      "model_module": "@jupyter-widgets/controls",
      "model_module_version": "1.5.0",
      "model_name": "DescriptionStyleModel",
      "state": {
       "description_width": ""
      }
     },
     "e54d52d4ae7b4279bef750986a0185fd": {
      "model_module": "@jupyter-widgets/controls",
      "model_module_version": "1.5.0",
      "model_name": "SliderStyleModel",
      "state": {
       "description_width": ""
      }
     },
     "e552d8d538894e7491f04e24cbf69159": {
      "model_module": "@jupyter-widgets/base",
      "model_module_version": "1.2.0",
      "model_name": "LayoutModel",
      "state": {}
     },
     "e567cefade164c1294095e59248b2dfd": {
      "model_module": "@jupyter-widgets/base",
      "model_module_version": "1.2.0",
      "model_name": "LayoutModel",
      "state": {}
     },
     "e576e970fe9846dd9abda670c7995096": {
      "model_module": "@jupyter-widgets/base",
      "model_module_version": "1.2.0",
      "model_name": "LayoutModel",
      "state": {}
     },
     "e61f8e658e024c06b937c6246b7df838": {
      "model_module": "@jupyter-widgets/base",
      "model_module_version": "1.2.0",
      "model_name": "LayoutModel",
      "state": {}
     },
     "e66b37012eda44e0a1f90bc15915357c": {
      "model_module": "@jupyter-widgets/base",
      "model_module_version": "1.2.0",
      "model_name": "LayoutModel",
      "state": {}
     },
     "e6b7e17975b94411bb3dd14e12134639": {
      "model_module": "@jupyter-widgets/base",
      "model_module_version": "1.2.0",
      "model_name": "LayoutModel",
      "state": {}
     },
     "e6d93361660d40599ada551523db2cb3": {
      "model_module": "@jupyter-widgets/controls",
      "model_module_version": "1.5.0",
      "model_name": "FloatSliderModel",
      "state": {
       "continuous_update": false,
       "description": "Test:",
       "layout": "IPY_MODEL_2bb8c0acd40e4591a5cd665fdea124c0",
       "max": 5,
       "min": 1,
       "readout_format": ".1f",
       "step": 0.1,
       "style": "IPY_MODEL_2e4b764a7d6b475a9aacf2933000be67",
       "value": 3
      }
     },
     "e70a032c35c7497dbd5b911deaf0a694": {
      "model_module": "@jupyter-widgets/base",
      "model_module_version": "1.2.0",
      "model_name": "LayoutModel",
      "state": {}
     },
     "e742f48f53ee4245a93a8d5596f89332": {
      "model_module": "@jupyter-widgets/controls",
      "model_module_version": "1.5.0",
      "model_name": "ButtonStyleModel",
      "state": {}
     },
     "e769945c87064f4b817702653d61b421": {
      "model_module": "@jupyter-widgets/base",
      "model_module_version": "1.2.0",
      "model_name": "LayoutModel",
      "state": {}
     },
     "e78ebbeb83934455b8dc47c1dbe4d442": {
      "model_module": "@jupyter-widgets/controls",
      "model_module_version": "1.5.0",
      "model_name": "DescriptionStyleModel",
      "state": {
       "description_width": ""
      }
     },
     "e7a1b3eacdcf4d6d8cdcf771ba7e2724": {
      "model_module": "@jupyter-widgets/base",
      "model_module_version": "1.2.0",
      "model_name": "LayoutModel",
      "state": {}
     },
     "e7a42237b63b4d54b36afb5945a32c4d": {
      "model_module": "@jupyter-widgets/controls",
      "model_module_version": "1.5.0",
      "model_name": "HTMLModel",
      "state": {
       "layout": "IPY_MODEL_5541cb995a5e4919905e89ba7060c6a9",
       "style": "IPY_MODEL_16d5893fa1474bc3a68255304ddc0597",
       "value": "<h2>Utterance <b>18:</b></h2>"
      }
     },
     "e7b4082bba2c475083a1f8fd1b66b2d0": {
      "model_module": "@jupyter-widgets/controls",
      "model_module_version": "1.5.0",
      "model_name": "SliderStyleModel",
      "state": {
       "description_width": ""
      }
     },
     "e7b742e99f7b49d3813fcd2dfc244b58": {
      "model_module": "@jupyter-widgets/controls",
      "model_module_version": "1.5.0",
      "model_name": "DescriptionStyleModel",
      "state": {
       "description_width": ""
      }
     },
     "e7b8c984ae6e425995b11ba2fed649f6": {
      "model_module": "@jupyter-widgets/controls",
      "model_module_version": "1.5.0",
      "model_name": "SliderStyleModel",
      "state": {
       "description_width": ""
      }
     },
     "e7d2d8eebcc6485c857187fec186f6a9": {
      "model_module": "@jupyter-widgets/controls",
      "model_module_version": "1.5.0",
      "model_name": "DescriptionStyleModel",
      "state": {
       "description_width": ""
      }
     },
     "e7f0acc1eb4b4e5ebd8faaefbe8646b0": {
      "model_module": "@jupyter-widgets/controls",
      "model_module_version": "1.5.0",
      "model_name": "DescriptionStyleModel",
      "state": {
       "description_width": ""
      }
     },
     "e8111f42b4964575bc26b6dc7a26c3e0": {
      "model_module": "@jupyter-widgets/controls",
      "model_module_version": "1.5.0",
      "model_name": "FloatSliderModel",
      "state": {
       "continuous_update": false,
       "description": "Test:",
       "layout": "IPY_MODEL_dedc030448184be2981de7cd3130ed43",
       "max": 5,
       "min": 1,
       "readout_format": ".1f",
       "step": 0.1,
       "style": "IPY_MODEL_f5dc7e983f7e4362b4c97e6d1e109cd1",
       "value": 3
      }
     },
     "e84118b472984a2ba9a95e7ab713a00b": {
      "model_module": "@jupyter-widgets/controls",
      "model_module_version": "1.5.0",
      "model_name": "FloatSliderModel",
      "state": {
       "continuous_update": false,
       "description": "Test:",
       "layout": "IPY_MODEL_984ecaa44e5647cea4695b52851ff22d",
       "max": 5,
       "min": 1,
       "readout_format": ".1f",
       "step": 0.1,
       "style": "IPY_MODEL_a56bd7acc007454ea50e7418134c6a8e",
       "value": 3
      }
     },
     "e853989833194ce8ace1653aedb061ad": {
      "model_module": "@jupyter-widgets/controls",
      "model_module_version": "1.5.0",
      "model_name": "DescriptionStyleModel",
      "state": {
       "description_width": ""
      }
     },
     "e85db01aa8224b09bbb55ce913f3234e": {
      "model_module": "@jupyter-widgets/base",
      "model_module_version": "1.2.0",
      "model_name": "LayoutModel",
      "state": {}
     },
     "e863d11e8d7f4b41925f501993eab3b0": {
      "model_module": "@jupyter-widgets/controls",
      "model_module_version": "1.5.0",
      "model_name": "SliderStyleModel",
      "state": {
       "description_width": ""
      }
     },
     "e89e25c6f3744f32b7f2fc39e6909e06": {
      "model_module": "@jupyter-widgets/base",
      "model_module_version": "1.2.0",
      "model_name": "LayoutModel",
      "state": {}
     },
     "e8b2380b84444b64a8afaec78a190108": {
      "model_module": "@jupyter-widgets/controls",
      "model_module_version": "1.5.0",
      "model_name": "HTMLModel",
      "state": {
       "layout": "IPY_MODEL_0788346b64de4a1781c8b13261ca0366",
       "style": "IPY_MODEL_4258aa2590a1405a9b6af6c79ccebcdc",
       "value": "<h2>Utterance <b>18:</b></h2>"
      }
     },
     "e8c7943886b74e98bf6ce63a1ef75925": {
      "model_module": "@jupyter-widgets/controls",
      "model_module_version": "1.5.0",
      "model_name": "HTMLModel",
      "state": {
       "layout": "IPY_MODEL_edbd7d636dbe4d0dac016fa2f86b44f9",
       "style": "IPY_MODEL_d926c807b2de4ae6b377ed169412e2d3",
       "value": "<h2>Utterance <b>16:</b></h2>"
      }
     },
     "e8da10c9e9354bd3a7944d90ba123af5": {
      "model_module": "@jupyter-widgets/controls",
      "model_module_version": "1.5.0",
      "model_name": "ButtonModel",
      "state": {
       "description": "Done",
       "layout": "IPY_MODEL_69d4069266094a69947b060767d70091",
       "style": "IPY_MODEL_27061df8a56c4c7f90955286048d4a35"
      }
     },
     "e8de2b69290341fd88596f555c4ecb4a": {
      "model_module": "@jupyter-widgets/controls",
      "model_module_version": "1.5.0",
      "model_name": "FloatSliderModel",
      "state": {
       "continuous_update": false,
       "description": "Test:",
       "layout": "IPY_MODEL_ecbde0c6032d437b8e474e091833a7f9",
       "max": 5,
       "min": 1,
       "readout_format": ".1f",
       "step": 0.1,
       "style": "IPY_MODEL_47f3dc8db42a4e11baf22dc92ff19610",
       "value": 3
      }
     },
     "e90397201efd4c97a94db34c1fab5b60": {
      "model_module": "@jupyter-widgets/base",
      "model_module_version": "1.2.0",
      "model_name": "LayoutModel",
      "state": {}
     },
     "e917498adcc3439b9053e6d03acc473b": {
      "model_module": "@jupyter-widgets/controls",
      "model_module_version": "1.5.0",
      "model_name": "HTMLModel",
      "state": {
       "layout": "IPY_MODEL_f072338bddf34318afd964ea154c43d6",
       "style": "IPY_MODEL_f81e83e2a6d740938c5dff2b698da9ff",
       "value": "<h2>Utterance <b>22:</b></h2>"
      }
     },
     "e9302e23205946bb8433388f1fd04abf": {
      "model_module": "@jupyter-widgets/base",
      "model_module_version": "1.2.0",
      "model_name": "LayoutModel",
      "state": {}
     },
     "e93b288dccbd4bf98b848c8c608c9f60": {
      "model_module": "@jupyter-widgets/controls",
      "model_module_version": "1.5.0",
      "model_name": "FloatSliderModel",
      "state": {
       "continuous_update": false,
       "description": "Test:",
       "layout": "IPY_MODEL_871e681319ac49ae9c50f2bc76f60b6d",
       "max": 5,
       "min": 1,
       "readout_format": ".1f",
       "step": 0.1,
       "style": "IPY_MODEL_b554aff92539406880bcd7d97796e755",
       "value": 3
      }
     },
     "e954e54ae71a4e318d4f44b6ae9149e1": {
      "model_module": "@jupyter-widgets/base",
      "model_module_version": "1.2.0",
      "model_name": "LayoutModel",
      "state": {}
     },
     "e9741d0fe9a445de8b62f7d4447fbe6d": {
      "model_module": "@jupyter-widgets/controls",
      "model_module_version": "1.5.0",
      "model_name": "FloatSliderModel",
      "state": {
       "continuous_update": false,
       "description": "Test:",
       "layout": "IPY_MODEL_0edfbe32f0a44b23b141d3893fbb4d87",
       "max": 5,
       "min": 1,
       "readout_format": ".1f",
       "step": 0.1,
       "style": "IPY_MODEL_4933106c6b75481dbf10d9574d96d62a",
       "value": 3
      }
     },
     "e97e27640361428eb9df6cb97d9eb76f": {
      "model_module": "@jupyter-widgets/controls",
      "model_module_version": "1.5.0",
      "model_name": "HTMLModel",
      "state": {
       "layout": "IPY_MODEL_2eba40858d494df8bb3ade150684b660",
       "style": "IPY_MODEL_e28096aa717a4cdd8600e48fddfd8ac2",
       "value": "<h2>Utterance <b>23:</b></h2>"
      }
     },
     "e98b1d942bbf4891aa6737e2e5b26bc3": {
      "model_module": "@jupyter-widgets/controls",
      "model_module_version": "1.5.0",
      "model_name": "DescriptionStyleModel",
      "state": {
       "description_width": ""
      }
     },
     "e997cfa40a434c59b3e72fa552741225": {
      "model_module": "@jupyter-widgets/base",
      "model_module_version": "1.2.0",
      "model_name": "LayoutModel",
      "state": {}
     },
     "e99c5b938adb4d37b2c1e929cce77752": {
      "model_module": "@jupyter-widgets/base",
      "model_module_version": "1.2.0",
      "model_name": "LayoutModel",
      "state": {}
     },
     "e99f28d4527d441499565963e47c5b3c": {
      "model_module": "@jupyter-widgets/controls",
      "model_module_version": "1.5.0",
      "model_name": "ButtonStyleModel",
      "state": {}
     },
     "e9bd5b429d134ff186a10f87531e99a9": {
      "model_module": "@jupyter-widgets/controls",
      "model_module_version": "1.5.0",
      "model_name": "HTMLModel",
      "state": {
       "layout": "IPY_MODEL_24bbd473f51e446db3b62ff754cc8291",
       "style": "IPY_MODEL_fdd9a71af6234b6fab4ac1f72ce65bfa",
       "value": "<h2>Utterance <b>1:</b></h2>"
      }
     },
     "e9e4b4da67594046845af1a4e237196a": {
      "model_module": "@jupyter-widgets/controls",
      "model_module_version": "1.5.0",
      "model_name": "SliderStyleModel",
      "state": {
       "description_width": ""
      }
     },
     "ea2a94777dce42d7a8a90f8610d1d694": {
      "model_module": "@jupyter-widgets/controls",
      "model_module_version": "1.5.0",
      "model_name": "FloatSliderModel",
      "state": {
       "continuous_update": false,
       "description": "Test:",
       "layout": "IPY_MODEL_7beb7ddd0f8747d1ade6d657e0a3ff04",
       "max": 5,
       "min": 1,
       "readout_format": ".1f",
       "step": 0.1,
       "style": "IPY_MODEL_305eb6f5751840bda4101b69f6ac5857",
       "value": 3
      }
     },
     "ea60a86bdce2410a9d362c0943f49c18": {
      "model_module": "@jupyter-widgets/base",
      "model_module_version": "1.2.0",
      "model_name": "LayoutModel",
      "state": {}
     },
     "ea97b1ee4f234269b2f94dd3e3236548": {
      "model_module": "@jupyter-widgets/controls",
      "model_module_version": "1.5.0",
      "model_name": "SliderStyleModel",
      "state": {
       "description_width": ""
      }
     },
     "eac548a6420c40908b9b9eb6a017b842": {
      "model_module": "@jupyter-widgets/base",
      "model_module_version": "1.2.0",
      "model_name": "LayoutModel",
      "state": {}
     },
     "eb20d7dc806d42d584e3a3549a5acaff": {
      "model_module": "@jupyter-widgets/controls",
      "model_module_version": "1.5.0",
      "model_name": "DescriptionStyleModel",
      "state": {
       "description_width": ""
      }
     },
     "eb3361dc7ca04b6eaa392fa260a178b9": {
      "model_module": "@jupyter-widgets/base",
      "model_module_version": "1.2.0",
      "model_name": "LayoutModel",
      "state": {}
     },
     "eb488ba2b05f45b4880cbc012c5e5491": {
      "model_module": "@jupyter-widgets/controls",
      "model_module_version": "1.5.0",
      "model_name": "FloatSliderModel",
      "state": {
       "continuous_update": false,
       "description": "Test:",
       "layout": "IPY_MODEL_8a93d5cdc2e34eb0812fb29d0485ea53",
       "max": 5,
       "min": 1,
       "readout_format": ".1f",
       "step": 0.1,
       "style": "IPY_MODEL_bfba18ea527f4b13aef121b13fe0cb31",
       "value": 3.8
      }
     },
     "eb4de56feda946c2a916775a83e74d46": {
      "model_module": "@jupyter-widgets/controls",
      "model_module_version": "1.5.0",
      "model_name": "FloatSliderModel",
      "state": {
       "continuous_update": false,
       "description": "Test:",
       "layout": "IPY_MODEL_a15d04a9040b413487e62c47b85c5f4e",
       "max": 5,
       "min": 1,
       "readout_format": ".1f",
       "step": 0.1,
       "style": "IPY_MODEL_f8e2c9b959dc47fdab60c05f9e762f16",
       "value": 3
      }
     },
     "eb6d30d77bce49d29d206152aac5c0e6": {
      "model_module": "@jupyter-widgets/controls",
      "model_module_version": "1.5.0",
      "model_name": "SliderStyleModel",
      "state": {
       "description_width": ""
      }
     },
     "ebaf2de0ccf74e1dafaa35c5ec088564": {
      "model_module": "@jupyter-widgets/controls",
      "model_module_version": "1.5.0",
      "model_name": "HTMLModel",
      "state": {
       "layout": "IPY_MODEL_a0cb3022aacd4a53a814eb86a211bccb",
       "style": "IPY_MODEL_d1c9eefcaa6e477e9d93743cdb7ab821",
       "value": "<h2>Utterance <b>24:</b></h2>"
      }
     },
     "ebe9d51b88254dc4914b348992319bac": {
      "model_module": "@jupyter-widgets/base",
      "model_module_version": "1.2.0",
      "model_name": "LayoutModel",
      "state": {}
     },
     "ebf2a965c2864081ad977d2cfbe98060": {
      "model_module": "@jupyter-widgets/base",
      "model_module_version": "1.2.0",
      "model_name": "LayoutModel",
      "state": {}
     },
     "ec1cadb1527e4e54881f655bbf02ce54": {
      "model_module": "@jupyter-widgets/controls",
      "model_module_version": "1.5.0",
      "model_name": "SliderStyleModel",
      "state": {
       "description_width": ""
      }
     },
     "ec1ec480cb744c44a9edbbf33df15ecf": {
      "model_module": "@jupyter-widgets/controls",
      "model_module_version": "1.5.0",
      "model_name": "DescriptionStyleModel",
      "state": {
       "description_width": ""
      }
     },
     "ec2f984d23fa4176bb5e194582d6408a": {
      "model_module": "@jupyter-widgets/controls",
      "model_module_version": "1.5.0",
      "model_name": "DescriptionStyleModel",
      "state": {
       "description_width": ""
      }
     },
     "ec398d7a0e06496daddaaecd3280268c": {
      "model_module": "@jupyter-widgets/controls",
      "model_module_version": "1.5.0",
      "model_name": "DescriptionStyleModel",
      "state": {
       "description_width": ""
      }
     },
     "ec39b272e8484b9baeb5bd083dfe6271": {
      "model_module": "@jupyter-widgets/base",
      "model_module_version": "1.2.0",
      "model_name": "LayoutModel",
      "state": {}
     },
     "ec3ed8ee1ce54b4bab00f9d3e488b665": {
      "model_module": "@jupyter-widgets/controls",
      "model_module_version": "1.5.0",
      "model_name": "SliderStyleModel",
      "state": {
       "description_width": ""
      }
     },
     "ec63b31d9f824f78baf953c20788630a": {
      "model_module": "@jupyter-widgets/controls",
      "model_module_version": "1.5.0",
      "model_name": "DescriptionStyleModel",
      "state": {
       "description_width": ""
      }
     },
     "ec667635c61b434a9f07efe01f414c4e": {
      "model_module": "@jupyter-widgets/controls",
      "model_module_version": "1.5.0",
      "model_name": "FloatSliderModel",
      "state": {
       "continuous_update": false,
       "description": "Test:",
       "layout": "IPY_MODEL_c75f66c8b10a47c5a339ec8627620729",
       "max": 5,
       "min": 1,
       "readout_format": ".1f",
       "step": 0.1,
       "style": "IPY_MODEL_eb6d30d77bce49d29d206152aac5c0e6",
       "value": 3
      }
     },
     "ec6b7597da644dd4a0c2aa08666d809f": {
      "model_module": "@jupyter-widgets/controls",
      "model_module_version": "1.5.0",
      "model_name": "DescriptionStyleModel",
      "state": {
       "description_width": ""
      }
     },
     "ec83a79c441c4ce2a0810429bd87ab41": {
      "model_module": "@jupyter-widgets/controls",
      "model_module_version": "1.5.0",
      "model_name": "FloatSliderModel",
      "state": {
       "continuous_update": false,
       "description": "Test:",
       "layout": "IPY_MODEL_e4142828c5b4478a951dc5bbbf037e6e",
       "max": 5,
       "min": 1,
       "readout_format": ".1f",
       "step": 0.1,
       "style": "IPY_MODEL_528a1f5edec4463c9207adde29fb99be",
       "value": 3
      }
     },
     "eca1d3e01c354330ad055c454e6952db": {
      "model_module": "@jupyter-widgets/controls",
      "model_module_version": "1.5.0",
      "model_name": "DescriptionStyleModel",
      "state": {
       "description_width": ""
      }
     },
     "ecbde0c6032d437b8e474e091833a7f9": {
      "model_module": "@jupyter-widgets/base",
      "model_module_version": "1.2.0",
      "model_name": "LayoutModel",
      "state": {}
     },
     "ecc616fe56cb40bda2ec8eaee8780f9e": {
      "model_module": "@jupyter-widgets/base",
      "model_module_version": "1.2.0",
      "model_name": "LayoutModel",
      "state": {}
     },
     "eccaf3d6cc1a4e2d9e3cddd396e4e6b6": {
      "model_module": "@jupyter-widgets/controls",
      "model_module_version": "1.5.0",
      "model_name": "HTMLModel",
      "state": {
       "layout": "IPY_MODEL_e3caf99a8255438590727cfc86348d22",
       "style": "IPY_MODEL_67fea9b42dc14980b41090bbce8a54f2",
       "value": "<h2>Utterance <b>2:</b></h2>"
      }
     },
     "eccd62b26f894f9884a2b851935dcea8": {
      "model_module": "@jupyter-widgets/controls",
      "model_module_version": "1.5.0",
      "model_name": "DescriptionStyleModel",
      "state": {
       "description_width": ""
      }
     },
     "ecd6d958fbba45c29e6f39209d2da7cb": {
      "model_module": "@jupyter-widgets/controls",
      "model_module_version": "1.5.0",
      "model_name": "FloatSliderModel",
      "state": {
       "continuous_update": false,
       "description": "Test:",
       "layout": "IPY_MODEL_2fe9181ca0374605ba5530b475c9cc1c",
       "max": 5,
       "min": 1,
       "readout_format": ".1f",
       "step": 0.1,
       "style": "IPY_MODEL_ad46547562584b7e8dc2afb3b4d66215",
       "value": 3
      }
     },
     "ecdd963f8d174efb95dd56e9dc440f29": {
      "model_module": "@jupyter-widgets/controls",
      "model_module_version": "1.5.0",
      "model_name": "DescriptionStyleModel",
      "state": {
       "description_width": ""
      }
     },
     "ecde9a31fa9842e1886a7a39f035e1a1": {
      "model_module": "@jupyter-widgets/controls",
      "model_module_version": "1.5.0",
      "model_name": "HTMLModel",
      "state": {
       "layout": "IPY_MODEL_ebe9d51b88254dc4914b348992319bac",
       "style": "IPY_MODEL_00aa25cc0c734362b639cba985729bd7",
       "value": "<h2>Utterance <b>2:</b></h2>"
      }
     },
     "eceada5f95a542da80d9e6e43256dc7c": {
      "model_module": "@jupyter-widgets/controls",
      "model_module_version": "1.5.0",
      "model_name": "FloatSliderModel",
      "state": {
       "continuous_update": false,
       "description": "Test:",
       "layout": "IPY_MODEL_8a42bed6bafd4fa4930ee8f64ee1370c",
       "max": 5,
       "min": 1,
       "readout_format": ".1f",
       "step": 0.1,
       "style": "IPY_MODEL_8ce6cc5cb0054457aec68a533a1edd64",
       "value": 3
      }
     },
     "ecebfd4ae59548e98373270a25a4ef2c": {
      "model_module": "@jupyter-widgets/controls",
      "model_module_version": "1.5.0",
      "model_name": "HTMLModel",
      "state": {
       "layout": "IPY_MODEL_3743b87265404b23a30631bd8463b588",
       "style": "IPY_MODEL_4cbea87371954e4e9f6aae9113af01e8",
       "value": "<h2>Utterance <b>2:</b></h2>"
      }
     },
     "ecef0d32d9a84f13925fae883bcef1ea": {
      "model_module": "@jupyter-widgets/controls",
      "model_module_version": "1.5.0",
      "model_name": "FloatSliderModel",
      "state": {
       "continuous_update": false,
       "description": "Test:",
       "layout": "IPY_MODEL_09a82d85fd7b4f15b4048df6576fa242",
       "max": 5,
       "min": 1,
       "readout_format": ".1f",
       "step": 0.1,
       "style": "IPY_MODEL_2d2a27475c4b4271b1a91bcdcf596863",
       "value": 3
      }
     },
     "ecf3109487204431bdb1240500a7d8eb": {
      "model_module": "@jupyter-widgets/base",
      "model_module_version": "1.2.0",
      "model_name": "LayoutModel",
      "state": {}
     },
     "ed5bf78f04454b689c4e234139040e8e": {
      "model_module": "@jupyter-widgets/controls",
      "model_module_version": "1.5.0",
      "model_name": "HTMLModel",
      "state": {
       "layout": "IPY_MODEL_ea60a86bdce2410a9d362c0943f49c18",
       "style": "IPY_MODEL_8088e0b526ce4458b4d1719ebe809064",
       "value": "<h2>Utterance <b>8:</b></h2>"
      }
     },
     "ed64c94bfe5d4b75bb8cfe4ba2137d7f": {
      "model_module": "@jupyter-widgets/controls",
      "model_module_version": "1.5.0",
      "model_name": "HTMLModel",
      "state": {
       "layout": "IPY_MODEL_9ca0ded2ec294dc18e9ea7432f938e88",
       "style": "IPY_MODEL_acebe5e9f60e4be88224c5d4fcc8d9f7",
       "value": "<h2>Utterance <b>8:</b></h2>"
      }
     },
     "ed77052c300d43c0a270d4adf4821bd8": {
      "model_module": "@jupyter-widgets/controls",
      "model_module_version": "1.5.0",
      "model_name": "FloatSliderModel",
      "state": {
       "continuous_update": false,
       "description": "Test:",
       "layout": "IPY_MODEL_b9b9c65fab3640e9926989a5793823b6",
       "max": 5,
       "min": 1,
       "readout_format": ".1f",
       "step": 0.1,
       "style": "IPY_MODEL_3f9db765bda0444d876b916e4230a9bd",
       "value": 3
      }
     },
     "ed7e8385238647f6b11c9749434eebe2": {
      "model_module": "@jupyter-widgets/controls",
      "model_module_version": "1.5.0",
      "model_name": "FloatSliderModel",
      "state": {
       "continuous_update": false,
       "description": "Test:",
       "layout": "IPY_MODEL_5fb5445a40cf41b789d7095d17af96c3",
       "max": 5,
       "min": 1,
       "readout_format": ".1f",
       "step": 0.1,
       "style": "IPY_MODEL_64d61abec9b9420bbf3464171b765d05",
       "value": 4.1
      }
     },
     "ed940f436ab94e26b4ac554ce080b95e": {
      "model_module": "@jupyter-widgets/base",
      "model_module_version": "1.2.0",
      "model_name": "LayoutModel",
      "state": {}
     },
     "ed9ac94005f649b1abe27a96756bb2c8": {
      "model_module": "@jupyter-widgets/controls",
      "model_module_version": "1.5.0",
      "model_name": "DescriptionStyleModel",
      "state": {
       "description_width": ""
      }
     },
     "ed9cf5fb862e44adae932415af44d368": {
      "model_module": "@jupyter-widgets/base",
      "model_module_version": "1.2.0",
      "model_name": "LayoutModel",
      "state": {}
     },
     "edbd7d636dbe4d0dac016fa2f86b44f9": {
      "model_module": "@jupyter-widgets/base",
      "model_module_version": "1.2.0",
      "model_name": "LayoutModel",
      "state": {}
     },
     "edbdb62cb9514992afed3c7ce1dba1ac": {
      "model_module": "@jupyter-widgets/controls",
      "model_module_version": "1.5.0",
      "model_name": "HTMLModel",
      "state": {
       "layout": "IPY_MODEL_9139e3e4eddc4bd38c0c273a05821dad",
       "style": "IPY_MODEL_831f8ef864da4217817dc63a6cb08192",
       "value": "<h2>Utterance <b>20:</b></h2>"
      }
     },
     "edd4cef6e34749caaf7242b7fe28a76d": {
      "model_module": "@jupyter-widgets/controls",
      "model_module_version": "1.5.0",
      "model_name": "SliderStyleModel",
      "state": {
       "description_width": ""
      }
     },
     "eddc1357e825490b9d557c9631d0e699": {
      "model_module": "@jupyter-widgets/controls",
      "model_module_version": "1.5.0",
      "model_name": "SliderStyleModel",
      "state": {
       "description_width": ""
      }
     },
     "edddbed6625c4f1eb92c992a35ab3390": {
      "model_module": "@jupyter-widgets/base",
      "model_module_version": "1.2.0",
      "model_name": "LayoutModel",
      "state": {}
     },
     "edddc4e984934f89b516beda45c2ed32": {
      "model_module": "@jupyter-widgets/controls",
      "model_module_version": "1.5.0",
      "model_name": "FloatSliderModel",
      "state": {
       "continuous_update": false,
       "description": "Test:",
       "layout": "IPY_MODEL_dd65273d55624c258f671e8f343e00c7",
       "max": 5,
       "min": 1,
       "readout_format": ".1f",
       "step": 0.1,
       "style": "IPY_MODEL_53b345a2adb749dfac0be1b08f23863a",
       "value": 3
      }
     },
     "ede9f2ad29d645dab9d59b768f312fd4": {
      "model_module": "@jupyter-widgets/controls",
      "model_module_version": "1.5.0",
      "model_name": "SliderStyleModel",
      "state": {
       "description_width": ""
      }
     },
     "edf4712193a04eff87aace7014957c0e": {
      "model_module": "@jupyter-widgets/controls",
      "model_module_version": "1.5.0",
      "model_name": "HTMLModel",
      "state": {
       "layout": "IPY_MODEL_fb319462db54481582a6730f5dd1e7ee",
       "style": "IPY_MODEL_3cfed5cb1a4f464a8833475179df59b8",
       "value": "<h2>Utterance <b>16:</b></h2>"
      }
     },
     "edff830f14a042ef80fb2494fc77c650": {
      "model_module": "@jupyter-widgets/controls",
      "model_module_version": "1.5.0",
      "model_name": "ButtonStyleModel",
      "state": {}
     },
     "ee0d48c0d70e44a0b6235dce654d7366": {
      "model_module": "@jupyter-widgets/controls",
      "model_module_version": "1.5.0",
      "model_name": "HTMLModel",
      "state": {
       "layout": "IPY_MODEL_525ebb4e251346a6b649f60cc3bbf6e9",
       "style": "IPY_MODEL_6b52abd1b3c546ba9a8a1b8bb6a27fd3",
       "value": "<h2>Utterance <b>25:</b></h2>"
      }
     },
     "ee2ef495d5424afdb4a2146597d44209": {
      "model_module": "@jupyter-widgets/controls",
      "model_module_version": "1.5.0",
      "model_name": "FloatSliderModel",
      "state": {
       "continuous_update": false,
       "description": "Test:",
       "layout": "IPY_MODEL_7a21d311c36747488fb361665076b2f8",
       "max": 5,
       "min": 1,
       "readout_format": ".1f",
       "step": 0.1,
       "style": "IPY_MODEL_884efcb535b04e2aacaf04377506fc67",
       "value": 3
      }
     },
     "ee50c35b6a9d4be6afa6d0585cefd477": {
      "model_module": "@jupyter-widgets/base",
      "model_module_version": "1.2.0",
      "model_name": "LayoutModel",
      "state": {}
     },
     "ee6c53e01f464909b22a6acf00421714": {
      "model_module": "@jupyter-widgets/base",
      "model_module_version": "1.2.0",
      "model_name": "LayoutModel",
      "state": {}
     },
     "ee95032cbc0f4a60ba096b144a1f3859": {
      "model_module": "@jupyter-widgets/base",
      "model_module_version": "1.2.0",
      "model_name": "LayoutModel",
      "state": {}
     },
     "eeb643cd1cf943d7a49d67ea275e91bb": {
      "model_module": "@jupyter-widgets/controls",
      "model_module_version": "1.5.0",
      "model_name": "DescriptionStyleModel",
      "state": {
       "description_width": ""
      }
     },
     "eec4582b0108418dbaf9f8c8cac1aac7": {
      "model_module": "@jupyter-widgets/controls",
      "model_module_version": "1.5.0",
      "model_name": "SliderStyleModel",
      "state": {
       "description_width": ""
      }
     },
     "eed014e859c842929b1d24e30305c4ab": {
      "model_module": "@jupyter-widgets/controls",
      "model_module_version": "1.5.0",
      "model_name": "SliderStyleModel",
      "state": {
       "description_width": ""
      }
     },
     "eed5ce0fbe744ca5bfa2f4ec21b1bce8": {
      "model_module": "@jupyter-widgets/controls",
      "model_module_version": "1.5.0",
      "model_name": "SliderStyleModel",
      "state": {
       "description_width": ""
      }
     },
     "eef03b78215a408db8822ce3c0f381b9": {
      "model_module": "@jupyter-widgets/base",
      "model_module_version": "1.2.0",
      "model_name": "LayoutModel",
      "state": {}
     },
     "eef77beca8174994ac824189b25e15ea": {
      "model_module": "@jupyter-widgets/controls",
      "model_module_version": "1.5.0",
      "model_name": "DescriptionStyleModel",
      "state": {
       "description_width": ""
      }
     },
     "ef2781d8048f4298a2169e1060157e0d": {
      "model_module": "@jupyter-widgets/controls",
      "model_module_version": "1.5.0",
      "model_name": "DescriptionStyleModel",
      "state": {
       "description_width": ""
      }
     },
     "ef4af946bb10454a9e8532f0aa41dab7": {
      "model_module": "@jupyter-widgets/controls",
      "model_module_version": "1.5.0",
      "model_name": "HTMLModel",
      "state": {
       "layout": "IPY_MODEL_38c2b77fc38940a88fa60a9dce9ab443",
       "style": "IPY_MODEL_2a352a74b72747c78b9d110378c50ab1",
       "value": "<h2>Utterance <b>22:</b></h2>"
      }
     },
     "ef667b4b91054f90b79e156ef7a7d7ab": {
      "model_module": "@jupyter-widgets/base",
      "model_module_version": "1.2.0",
      "model_name": "LayoutModel",
      "state": {}
     },
     "efac4698b08244e69684a16ada30dcb0": {
      "model_module": "@jupyter-widgets/base",
      "model_module_version": "1.2.0",
      "model_name": "LayoutModel",
      "state": {}
     },
     "efb9e334e4dc4ea7bb10061d383a2a4c": {
      "model_module": "@jupyter-widgets/controls",
      "model_module_version": "1.5.0",
      "model_name": "HTMLModel",
      "state": {
       "layout": "IPY_MODEL_514072acdf9148dbae1186f1ef3da5d7",
       "style": "IPY_MODEL_851c06a6661f468da01cfcab762284d3",
       "value": "<h2>Utterance <b>11:</b></h2>"
      }
     },
     "f00b6f5bc91243d5acb6a4fd06b09ca7": {
      "model_module": "@jupyter-widgets/controls",
      "model_module_version": "1.5.0",
      "model_name": "SliderStyleModel",
      "state": {
       "description_width": ""
      }
     },
     "f02df9c527814061b87972b3559eeae0": {
      "model_module": "@jupyter-widgets/controls",
      "model_module_version": "1.5.0",
      "model_name": "FloatSliderModel",
      "state": {
       "continuous_update": false,
       "description": "Test:",
       "layout": "IPY_MODEL_e576e970fe9846dd9abda670c7995096",
       "max": 5,
       "min": 1,
       "readout_format": ".1f",
       "step": 0.1,
       "style": "IPY_MODEL_aa386b0843964088b12f575b3f1d529d",
       "value": 3
      }
     },
     "f05a9dbfdeef4e9e9507da02ad22d7dc": {
      "model_module": "@jupyter-widgets/controls",
      "model_module_version": "1.5.0",
      "model_name": "HTMLModel",
      "state": {
       "layout": "IPY_MODEL_acf609359b0f47218839538489a31b8d",
       "style": "IPY_MODEL_30835822a2114daebf920e0d84c4d4b7",
       "value": "<h2>Utterance <b>13:</b></h2>"
      }
     },
     "f072338bddf34318afd964ea154c43d6": {
      "model_module": "@jupyter-widgets/base",
      "model_module_version": "1.2.0",
      "model_name": "LayoutModel",
      "state": {}
     },
     "f073b6771c6348c18ccc60dfc15d8d2c": {
      "model_module": "@jupyter-widgets/controls",
      "model_module_version": "1.5.0",
      "model_name": "SliderStyleModel",
      "state": {
       "description_width": ""
      }
     },
     "f073c6a4a40a4722b6a032327db33f52": {
      "model_module": "@jupyter-widgets/controls",
      "model_module_version": "1.5.0",
      "model_name": "SliderStyleModel",
      "state": {
       "description_width": ""
      }
     },
     "f0a46b603fea4dd4987a1488923c675b": {
      "model_module": "@jupyter-widgets/controls",
      "model_module_version": "1.5.0",
      "model_name": "HTMLModel",
      "state": {
       "layout": "IPY_MODEL_f7aabaf5d6f9486b9ec99168be8a075f",
       "style": "IPY_MODEL_1c78b91756df4e0589ff6fc4bd05513b",
       "value": "<h2>Utterance <b>23:</b></h2>"
      }
     },
     "f0ae3865eff0430b8ab618e0c598eff5": {
      "model_module": "@jupyter-widgets/controls",
      "model_module_version": "1.5.0",
      "model_name": "FloatSliderModel",
      "state": {
       "continuous_update": false,
       "description": "Test:",
       "layout": "IPY_MODEL_f934e26caa924cf386cecd9f259635e5",
       "max": 5,
       "min": 1,
       "readout_format": ".1f",
       "step": 0.1,
       "style": "IPY_MODEL_49161ceefd86445281713729c403eaec",
       "value": 3
      }
     },
     "f0c8e14bb2b24202bfadc54c4e499478": {
      "model_module": "@jupyter-widgets/controls",
      "model_module_version": "1.5.0",
      "model_name": "DescriptionStyleModel",
      "state": {
       "description_width": ""
      }
     },
     "f0e7a43af69548ebbd2beda7a9dde414": {
      "model_module": "@jupyter-widgets/controls",
      "model_module_version": "1.5.0",
      "model_name": "FloatSliderModel",
      "state": {
       "continuous_update": false,
       "description": "Test:",
       "layout": "IPY_MODEL_4f7d0ed68b754ffca658fe096f2ce030",
       "max": 5,
       "min": 1,
       "readout_format": ".1f",
       "step": 0.1,
       "style": "IPY_MODEL_c78b9ab9cebd49998b14c7ced31d43ac",
       "value": 3
      }
     },
     "f0ee1f7da28a458ea818888a74d37a25": {
      "model_module": "@jupyter-widgets/controls",
      "model_module_version": "1.5.0",
      "model_name": "FloatSliderModel",
      "state": {
       "continuous_update": false,
       "description": "Test:",
       "layout": "IPY_MODEL_41f81cd822324f9cb45e7aba36402c5a",
       "max": 5,
       "min": 1,
       "readout_format": ".1f",
       "step": 0.1,
       "style": "IPY_MODEL_cd2bd81e28d349bdad838a951bcf3282",
       "value": 3
      }
     },
     "f0fc270e797c4f7e9ca85f6accc526a0": {
      "model_module": "@jupyter-widgets/base",
      "model_module_version": "1.2.0",
      "model_name": "LayoutModel",
      "state": {}
     },
     "f10d3d72d17145c1af2673571e974aab": {
      "model_module": "@jupyter-widgets/controls",
      "model_module_version": "1.5.0",
      "model_name": "SliderStyleModel",
      "state": {
       "description_width": ""
      }
     },
     "f114a885de98473cb82b146990dac709": {
      "model_module": "@jupyter-widgets/controls",
      "model_module_version": "1.5.0",
      "model_name": "HTMLModel",
      "state": {
       "layout": "IPY_MODEL_e18f79b0d4be4e60b6484108d0501e3c",
       "style": "IPY_MODEL_3307416365724c309f93d76286f836c4",
       "value": "<h1>Voice selection<br></h1><body>Thanks for participating. Please select for each utternace it percieved quality with the folowing scale:<br><ol><li>Bad</li><li>Poor</li><li>Fair</li><li>Good</li><li>Excellent</li></ol><br><b>Note this test is not checking how much 'Jenny like' is a voice, but rather only how it sounds </b><br>After completing the questionaire press the button and you are done. <br>Good luck and thank you.<br><br><br></body>"
      }
     },
     "f120487337a846c3926ff2cdc9f684da": {
      "model_module": "@jupyter-widgets/controls",
      "model_module_version": "1.5.0",
      "model_name": "HTMLModel",
      "state": {
       "layout": "IPY_MODEL_08857614e0c24c368be6a6226d3808ad",
       "style": "IPY_MODEL_f8a6b545484c4139bdaea7dd3b12b6d1",
       "value": "<h2>Utterance <b>24:</b></h2>"
      }
     },
     "f1265720fdd640d7ab62940323d60754": {
      "model_module": "@jupyter-widgets/controls",
      "model_module_version": "1.5.0",
      "model_name": "HTMLModel",
      "state": {
       "layout": "IPY_MODEL_7d6f82cb632a4200b40255abe4df21df",
       "style": "IPY_MODEL_20223a9b24dd4048be6c49f0b0e34062",
       "value": "<h2>Utterance <b>17:</b></h2>"
      }
     },
     "f150f3b499484a05adc4ac40508b6974": {
      "model_module": "@jupyter-widgets/controls",
      "model_module_version": "1.5.0",
      "model_name": "SliderStyleModel",
      "state": {
       "description_width": ""
      }
     },
     "f16c50a1205c4f08bf8e4fa9e6be5b0e": {
      "model_module": "@jupyter-widgets/controls",
      "model_module_version": "1.5.0",
      "model_name": "HTMLModel",
      "state": {
       "layout": "IPY_MODEL_0c340674710440e3956e91d07c1cd566",
       "style": "IPY_MODEL_427e012618124d7e88d5e4179891c6dd",
       "value": "<h2>Utterance <b>10:</b></h2>"
      }
     },
     "f16d37a98be74aa3827bece164571ab7": {
      "model_module": "@jupyter-widgets/controls",
      "model_module_version": "1.5.0",
      "model_name": "FloatSliderModel",
      "state": {
       "continuous_update": false,
       "description": "Test:",
       "layout": "IPY_MODEL_2d9ede42c1744208b6283d353009788d",
       "max": 5,
       "min": 1,
       "readout_format": ".1f",
       "step": 0.1,
       "style": "IPY_MODEL_90d50f4dec5e4c59960d48d0b0ee0b26",
       "value": 3
      }
     },
     "f1707eecd7f845a2ab923e57e71ffc13": {
      "model_module": "@jupyter-widgets/base",
      "model_module_version": "1.2.0",
      "model_name": "LayoutModel",
      "state": {}
     },
     "f1f25a4c75f54a149555b0cfd1096959": {
      "model_module": "@jupyter-widgets/controls",
      "model_module_version": "1.5.0",
      "model_name": "HTMLModel",
      "state": {
       "layout": "IPY_MODEL_c09eee070dcc49639f1f04826dbd7a01",
       "style": "IPY_MODEL_c357e39c0dd9464599a3bb5f05f2fb96",
       "value": "<h2>Utterance <b>4:</b></h2>"
      }
     },
     "f1f318833626481d8a8f138d593b7049": {
      "model_module": "@jupyter-widgets/controls",
      "model_module_version": "1.5.0",
      "model_name": "DescriptionStyleModel",
      "state": {
       "description_width": ""
      }
     },
     "f200aad113f04a2caba1361344a55fcb": {
      "model_module": "@jupyter-widgets/controls",
      "model_module_version": "1.5.0",
      "model_name": "HTMLModel",
      "state": {
       "layout": "IPY_MODEL_8acb6d348ebd428e9574e469ef6575e8",
       "style": "IPY_MODEL_f5e9f7fd105d49b5be4e85bcbb4ad4bc",
       "value": "<h2>Utterance <b>12:</b></h2>"
      }
     },
     "f23b6078955e45cfad48f6027eae567b": {
      "model_module": "@jupyter-widgets/base",
      "model_module_version": "1.2.0",
      "model_name": "LayoutModel",
      "state": {}
     },
     "f23f67c954cd445788e31d363286c7ab": {
      "model_module": "@jupyter-widgets/controls",
      "model_module_version": "1.5.0",
      "model_name": "DescriptionStyleModel",
      "state": {
       "description_width": ""
      }
     },
     "f2427a0c756a4668be9dd400c7c421f6": {
      "model_module": "@jupyter-widgets/controls",
      "model_module_version": "1.5.0",
      "model_name": "DescriptionStyleModel",
      "state": {
       "description_width": ""
      }
     },
     "f2c8ee4c8d634088a95ef118eab205cb": {
      "model_module": "@jupyter-widgets/controls",
      "model_module_version": "1.5.0",
      "model_name": "FloatSliderModel",
      "state": {
       "continuous_update": false,
       "description": "Test:",
       "layout": "IPY_MODEL_27de04e0fdc844579bf2e383abcee5b3",
       "max": 5,
       "min": 1,
       "readout_format": ".1f",
       "step": 0.1,
       "style": "IPY_MODEL_75d0d5ddedfa401e93f884ba4540ea78",
       "value": 3
      }
     },
     "f2d36c2697f1435388352e077164d1c2": {
      "model_module": "@jupyter-widgets/base",
      "model_module_version": "1.2.0",
      "model_name": "LayoutModel",
      "state": {}
     },
     "f2f3e82f56c340ccb4831714b5b2820d": {
      "model_module": "@jupyter-widgets/base",
      "model_module_version": "1.2.0",
      "model_name": "LayoutModel",
      "state": {}
     },
     "f2ffa94cbac649c4ab76f7f4dd31180a": {
      "model_module": "@jupyter-widgets/base",
      "model_module_version": "1.2.0",
      "model_name": "LayoutModel",
      "state": {}
     },
     "f31c50b263a94efaa81d6dfb9793a209": {
      "model_module": "@jupyter-widgets/controls",
      "model_module_version": "1.5.0",
      "model_name": "HTMLModel",
      "state": {
       "layout": "IPY_MODEL_9942a5ba5b5d41d5bbe42eaefbe6ff4f",
       "style": "IPY_MODEL_b9eabe58933949a0b9d12a34405ad476",
       "value": "<h2>Utterance <b>24:</b></h2>"
      }
     },
     "f3252692834d474f84547a55fbc5e468": {
      "model_module": "@jupyter-widgets/base",
      "model_module_version": "1.2.0",
      "model_name": "LayoutModel",
      "state": {}
     },
     "f32dc97a4c28404ea79f52d1fdd26f4e": {
      "model_module": "@jupyter-widgets/controls",
      "model_module_version": "1.5.0",
      "model_name": "FloatSliderModel",
      "state": {
       "continuous_update": false,
       "description": "Test:",
       "layout": "IPY_MODEL_910426d31ad64ed0af06f0fdb9c85ef4",
       "max": 5,
       "min": 1,
       "readout_format": ".1f",
       "step": 0.1,
       "style": "IPY_MODEL_31bc81cbeba049b4aaf0c3d8ea63a02e",
       "value": 3
      }
     },
     "f336df0116ee4956a2d4d7184823cd77": {
      "model_module": "@jupyter-widgets/controls",
      "model_module_version": "1.5.0",
      "model_name": "DescriptionStyleModel",
      "state": {
       "description_width": ""
      }
     },
     "f384045e002445b8bd141db48b4164ea": {
      "model_module": "@jupyter-widgets/controls",
      "model_module_version": "1.5.0",
      "model_name": "ButtonModel",
      "state": {
       "description": "Done",
       "layout": "IPY_MODEL_9fcbd19865464af9a62dac3bd06cda6c",
       "style": "IPY_MODEL_7ef41aa080f14f859e0b4c76ad9b4c39"
      }
     },
     "f38937377b3a485798d0cec5d1b59998": {
      "model_module": "@jupyter-widgets/controls",
      "model_module_version": "1.5.0",
      "model_name": "HTMLModel",
      "state": {
       "layout": "IPY_MODEL_fdef2cba988d4e4090066a7608759338",
       "style": "IPY_MODEL_9b8b2e4c8d4a47c5b4a48cdc56544e60",
       "value": "<h2>Utterance <b>24:</b></h2>"
      }
     },
     "f3897694207f44eeaa3b8a003f709630": {
      "model_module": "@jupyter-widgets/controls",
      "model_module_version": "1.5.0",
      "model_name": "DescriptionStyleModel",
      "state": {
       "description_width": ""
      }
     },
     "f38e355f417840efb1dc5aafc4dd69b2": {
      "model_module": "@jupyter-widgets/base",
      "model_module_version": "1.2.0",
      "model_name": "LayoutModel",
      "state": {}
     },
     "f3ad6ed727244e139704e405de08c76c": {
      "model_module": "@jupyter-widgets/controls",
      "model_module_version": "1.5.0",
      "model_name": "FloatSliderModel",
      "state": {
       "continuous_update": false,
       "description": "Test:",
       "layout": "IPY_MODEL_b85334a31d874e4b94637934f39a6b01",
       "max": 5,
       "min": 1,
       "readout_format": ".1f",
       "step": 0.1,
       "style": "IPY_MODEL_7b4241f9fd2b4b1b88d04ae29cf0f691",
       "value": 3
      }
     },
     "f3c2069cbc6c4218a4f124a5b5da0692": {
      "model_module": "@jupyter-widgets/controls",
      "model_module_version": "1.5.0",
      "model_name": "DescriptionStyleModel",
      "state": {
       "description_width": ""
      }
     },
     "f3cc75a655524f579a77e665ec38658a": {
      "model_module": "@jupyter-widgets/controls",
      "model_module_version": "1.5.0",
      "model_name": "SliderStyleModel",
      "state": {
       "description_width": ""
      }
     },
     "f3e9e705adf544c196785a85ba627d84": {
      "model_module": "@jupyter-widgets/controls",
      "model_module_version": "1.5.0",
      "model_name": "FloatSliderModel",
      "state": {
       "continuous_update": false,
       "description": "Test:",
       "layout": "IPY_MODEL_7eefc6bd053b4c09bc3517b35b0e7af3",
       "max": 5,
       "min": 1,
       "readout_format": ".1f",
       "step": 0.1,
       "style": "IPY_MODEL_1f74af96265c4be39e019873548d682c",
       "value": 3
      }
     },
     "f3f7d99b2ef048d98ba5c3b64e76aa0b": {
      "model_module": "@jupyter-widgets/controls",
      "model_module_version": "1.5.0",
      "model_name": "HTMLModel",
      "state": {
       "layout": "IPY_MODEL_f95b7263a03e422bb10cc7421eb5be15",
       "style": "IPY_MODEL_5291ad3b96c5482984a4429313f0a1fb",
       "value": "<h2>Utterance <b>22:</b></h2>"
      }
     },
     "f4029752d9804c779cd73805d723241e": {
      "model_module": "@jupyter-widgets/controls",
      "model_module_version": "1.5.0",
      "model_name": "FloatSliderModel",
      "state": {
       "continuous_update": false,
       "description": "Test:",
       "layout": "IPY_MODEL_075ce766eefb4a9a8845a34b81c48ec6",
       "max": 5,
       "min": 1,
       "readout_format": ".1f",
       "step": 0.1,
       "style": "IPY_MODEL_2d467e7ba15b430ebd231fc1113a2647",
       "value": 3
      }
     },
     "f45db2ddac504f7caa20fb52961db9b4": {
      "model_module": "@jupyter-widgets/base",
      "model_module_version": "1.2.0",
      "model_name": "LayoutModel",
      "state": {}
     },
     "f4645cdb039e464ab6b99eacbfd9f9f4": {
      "model_module": "@jupyter-widgets/base",
      "model_module_version": "1.2.0",
      "model_name": "LayoutModel",
      "state": {}
     },
     "f4d4c3f2a67d4bcabddac9a5fd871cda": {
      "model_module": "@jupyter-widgets/base",
      "model_module_version": "1.2.0",
      "model_name": "LayoutModel",
      "state": {}
     },
     "f503ba39760f4ea3b620708ac95e6c2d": {
      "model_module": "@jupyter-widgets/controls",
      "model_module_version": "1.5.0",
      "model_name": "FloatSliderModel",
      "state": {
       "continuous_update": false,
       "description": "Test:",
       "layout": "IPY_MODEL_34597dc3fc3541cc998e7f38a38f3d13",
       "max": 5,
       "min": 1,
       "readout_format": ".1f",
       "step": 0.1,
       "style": "IPY_MODEL_5fba43bd008d4f758c843038cab545e9",
       "value": 3
      }
     },
     "f5213e03cc3f4623870a63d9c3342dda": {
      "model_module": "@jupyter-widgets/base",
      "model_module_version": "1.2.0",
      "model_name": "LayoutModel",
      "state": {}
     },
     "f5407e3465dc4de38c4dee81fe6e44e0": {
      "model_module": "@jupyter-widgets/controls",
      "model_module_version": "1.5.0",
      "model_name": "DescriptionStyleModel",
      "state": {
       "description_width": ""
      }
     },
     "f550d10536a2411f9fb64e72ceed5a3c": {
      "model_module": "@jupyter-widgets/controls",
      "model_module_version": "1.5.0",
      "model_name": "DescriptionStyleModel",
      "state": {
       "description_width": ""
      }
     },
     "f5536cca016542979de9d2b171d1b73e": {
      "model_module": "@jupyter-widgets/controls",
      "model_module_version": "1.5.0",
      "model_name": "SliderStyleModel",
      "state": {
       "description_width": ""
      }
     },
     "f554574a37a14c8fba429f0e167492b7": {
      "model_module": "@jupyter-widgets/base",
      "model_module_version": "1.2.0",
      "model_name": "LayoutModel",
      "state": {}
     },
     "f581d924eb764f0eb61fc958768f0318": {
      "model_module": "@jupyter-widgets/controls",
      "model_module_version": "1.5.0",
      "model_name": "DescriptionStyleModel",
      "state": {
       "description_width": ""
      }
     },
     "f5c805c4b20849f99c23c11b1cc7d41f": {
      "model_module": "@jupyter-widgets/controls",
      "model_module_version": "1.5.0",
      "model_name": "FloatSliderModel",
      "state": {
       "continuous_update": false,
       "description": "Test:",
       "layout": "IPY_MODEL_626e704dc8074460a32b17813facbecf",
       "max": 5,
       "min": 1,
       "readout_format": ".1f",
       "step": 0.1,
       "style": "IPY_MODEL_433e65df10834bc9bcc12aba3c21328d",
       "value": 3
      }
     },
     "f5dc7e983f7e4362b4c97e6d1e109cd1": {
      "model_module": "@jupyter-widgets/controls",
      "model_module_version": "1.5.0",
      "model_name": "SliderStyleModel",
      "state": {
       "description_width": ""
      }
     },
     "f5e3d79de3054ee6ba67c779b328cf16": {
      "model_module": "@jupyter-widgets/base",
      "model_module_version": "1.2.0",
      "model_name": "LayoutModel",
      "state": {}
     },
     "f5e9f7fd105d49b5be4e85bcbb4ad4bc": {
      "model_module": "@jupyter-widgets/controls",
      "model_module_version": "1.5.0",
      "model_name": "DescriptionStyleModel",
      "state": {
       "description_width": ""
      }
     },
     "f6041a856b784a65a43d135041424fc0": {
      "model_module": "@jupyter-widgets/controls",
      "model_module_version": "1.5.0",
      "model_name": "SliderStyleModel",
      "state": {
       "description_width": ""
      }
     },
     "f60fa11bca1c413193a5dea588be15b2": {
      "model_module": "@jupyter-widgets/controls",
      "model_module_version": "1.5.0",
      "model_name": "DescriptionStyleModel",
      "state": {
       "description_width": ""
      }
     },
     "f64ed0b2abb8471f82183908068e4beb": {
      "model_module": "@jupyter-widgets/base",
      "model_module_version": "1.2.0",
      "model_name": "LayoutModel",
      "state": {}
     },
     "f64fd760a20a4984a49758bd90c4851a": {
      "model_module": "@jupyter-widgets/base",
      "model_module_version": "1.2.0",
      "model_name": "LayoutModel",
      "state": {}
     },
     "f67883616b0a44fd9ae0e0b3beae9d0b": {
      "model_module": "@jupyter-widgets/controls",
      "model_module_version": "1.5.0",
      "model_name": "FloatSliderModel",
      "state": {
       "continuous_update": false,
       "description": "Test:",
       "layout": "IPY_MODEL_e0f2ae8fb9374f26b870172e55156de4",
       "max": 5,
       "min": 1,
       "readout_format": ".1f",
       "step": 0.1,
       "style": "IPY_MODEL_17ed459caa9a483da1053ca5a62a6044",
       "value": 3
      }
     },
     "f6813a47cc354150af6c006506839b95": {
      "model_module": "@jupyter-widgets/base",
      "model_module_version": "1.2.0",
      "model_name": "LayoutModel",
      "state": {}
     },
     "f690e4d3660a4fc3a318ed5573b2e7d7": {
      "model_module": "@jupyter-widgets/base",
      "model_module_version": "1.2.0",
      "model_name": "LayoutModel",
      "state": {}
     },
     "f69166029f364fb4b4fae3492827a969": {
      "model_module": "@jupyter-widgets/controls",
      "model_module_version": "1.5.0",
      "model_name": "SliderStyleModel",
      "state": {
       "description_width": ""
      }
     },
     "f69fdb1cd1c340f6a6d972351dbaa470": {
      "model_module": "@jupyter-widgets/controls",
      "model_module_version": "1.5.0",
      "model_name": "HTMLModel",
      "state": {
       "layout": "IPY_MODEL_c7212db04be543c1885e2319d996b09a",
       "style": "IPY_MODEL_885e938fdcb24b9683fd89aa90df2b0f",
       "value": "<h2>Utterance <b>21:</b></h2>"
      }
     },
     "f6a5b0761979449fb75b14524fcdc74f": {
      "model_module": "@jupyter-widgets/controls",
      "model_module_version": "1.5.0",
      "model_name": "HTMLModel",
      "state": {
       "layout": "IPY_MODEL_862a7d2ce8d04459852a8e01b52766d9",
       "style": "IPY_MODEL_4669003f17fb4e49be441071a7a4d5ff",
       "value": "<h2>Utterance <b>25:</b></h2>"
      }
     },
     "f6b23d086ac545458ae07f3aeee9b9bd": {
      "model_module": "@jupyter-widgets/base",
      "model_module_version": "1.2.0",
      "model_name": "LayoutModel",
      "state": {}
     },
     "f6b9e6a17710409dbe9a0c8de1609d5d": {
      "model_module": "@jupyter-widgets/controls",
      "model_module_version": "1.5.0",
      "model_name": "HTMLModel",
      "state": {
       "layout": "IPY_MODEL_fb81a58920754858a1e7abe05bf84a4d",
       "style": "IPY_MODEL_656c2e42131f463098cc5c8bd02fe616",
       "value": "<h2>Utterance <b>15:</b></h2>"
      }
     },
     "f6d323f305b345f79b774297d3b6b695": {
      "model_module": "@jupyter-widgets/controls",
      "model_module_version": "1.5.0",
      "model_name": "DescriptionStyleModel",
      "state": {
       "description_width": ""
      }
     },
     "f6e276a3bd7f4bdf9de0736c90d9f0d1": {
      "model_module": "@jupyter-widgets/base",
      "model_module_version": "1.2.0",
      "model_name": "LayoutModel",
      "state": {}
     },
     "f71e1a66d6ee4737b24c88112f566cc7": {
      "model_module": "@jupyter-widgets/controls",
      "model_module_version": "1.5.0",
      "model_name": "HTMLModel",
      "state": {
       "layout": "IPY_MODEL_eac548a6420c40908b9b9eb6a017b842",
       "style": "IPY_MODEL_d1bc7594618547778196abc79433a226",
       "value": "<h2>Utterance <b>9:</b></h2>"
      }
     },
     "f73d03b71ae94811bd65dff604ac74b8": {
      "model_module": "@jupyter-widgets/base",
      "model_module_version": "1.2.0",
      "model_name": "LayoutModel",
      "state": {}
     },
     "f7aabaf5d6f9486b9ec99168be8a075f": {
      "model_module": "@jupyter-widgets/base",
      "model_module_version": "1.2.0",
      "model_name": "LayoutModel",
      "state": {}
     },
     "f7ce2cedf9d04199b4b6f056e0070633": {
      "model_module": "@jupyter-widgets/base",
      "model_module_version": "1.2.0",
      "model_name": "LayoutModel",
      "state": {}
     },
     "f7d3bc5b3d9844d59dbc9e78778127b2": {
      "model_module": "@jupyter-widgets/base",
      "model_module_version": "1.2.0",
      "model_name": "LayoutModel",
      "state": {}
     },
     "f81e83e2a6d740938c5dff2b698da9ff": {
      "model_module": "@jupyter-widgets/controls",
      "model_module_version": "1.5.0",
      "model_name": "DescriptionStyleModel",
      "state": {
       "description_width": ""
      }
     },
     "f86b40c3e4e44ddfb758a542f9e466a8": {
      "model_module": "@jupyter-widgets/base",
      "model_module_version": "1.2.0",
      "model_name": "LayoutModel",
      "state": {}
     },
     "f87a6859ad394f2badc302911cef9f42": {
      "model_module": "@jupyter-widgets/controls",
      "model_module_version": "1.5.0",
      "model_name": "DescriptionStyleModel",
      "state": {
       "description_width": ""
      }
     },
     "f88011d9d39f48099ab0e9b27e0f48dc": {
      "model_module": "@jupyter-widgets/base",
      "model_module_version": "1.2.0",
      "model_name": "LayoutModel",
      "state": {}
     },
     "f89fb55026274d15842eaea10084df6b": {
      "model_module": "@jupyter-widgets/base",
      "model_module_version": "1.2.0",
      "model_name": "LayoutModel",
      "state": {}
     },
     "f8a6b545484c4139bdaea7dd3b12b6d1": {
      "model_module": "@jupyter-widgets/controls",
      "model_module_version": "1.5.0",
      "model_name": "DescriptionStyleModel",
      "state": {
       "description_width": ""
      }
     },
     "f8b45516531f48069ce7dc03c73a93a6": {
      "model_module": "@jupyter-widgets/base",
      "model_module_version": "1.2.0",
      "model_name": "LayoutModel",
      "state": {}
     },
     "f8cded357dea46eba27d274fa461f814": {
      "model_module": "@jupyter-widgets/controls",
      "model_module_version": "1.5.0",
      "model_name": "SliderStyleModel",
      "state": {
       "description_width": ""
      }
     },
     "f8e2c9b959dc47fdab60c05f9e762f16": {
      "model_module": "@jupyter-widgets/controls",
      "model_module_version": "1.5.0",
      "model_name": "SliderStyleModel",
      "state": {
       "description_width": ""
      }
     },
     "f8f7cc7ab8c141919fcbf0c39e7989c7": {
      "model_module": "@jupyter-widgets/controls",
      "model_module_version": "1.5.0",
      "model_name": "SliderStyleModel",
      "state": {
       "description_width": ""
      }
     },
     "f934e26caa924cf386cecd9f259635e5": {
      "model_module": "@jupyter-widgets/base",
      "model_module_version": "1.2.0",
      "model_name": "LayoutModel",
      "state": {}
     },
     "f94b1e72e6a8431280c5b63eb26118b7": {
      "model_module": "@jupyter-widgets/base",
      "model_module_version": "1.2.0",
      "model_name": "LayoutModel",
      "state": {}
     },
     "f94ffe9d8e7f4d24a3cb0e221089a737": {
      "model_module": "@jupyter-widgets/base",
      "model_module_version": "1.2.0",
      "model_name": "LayoutModel",
      "state": {}
     },
     "f95b7263a03e422bb10cc7421eb5be15": {
      "model_module": "@jupyter-widgets/base",
      "model_module_version": "1.2.0",
      "model_name": "LayoutModel",
      "state": {}
     },
     "f9a182a6b77b4b388a610ed420094bee": {
      "model_module": "@jupyter-widgets/base",
      "model_module_version": "1.2.0",
      "model_name": "LayoutModel",
      "state": {}
     },
     "f9bda74b67d2437895fe4595dbcbae84": {
      "model_module": "@jupyter-widgets/controls",
      "model_module_version": "1.5.0",
      "model_name": "FloatSliderModel",
      "state": {
       "continuous_update": false,
       "description": "Test:",
       "layout": "IPY_MODEL_8692dd4a28b049d1b60a649810deb704",
       "max": 5,
       "min": 1,
       "readout_format": ".1f",
       "step": 0.1,
       "style": "IPY_MODEL_c6b105e837dd4cb0832c955cb8a965a9",
       "value": 3
      }
     },
     "f9c2816329ac4fe0bd3c9d900dfba77d": {
      "model_module": "@jupyter-widgets/controls",
      "model_module_version": "1.5.0",
      "model_name": "FloatSliderModel",
      "state": {
       "continuous_update": false,
       "description": "Test:",
       "layout": "IPY_MODEL_d9e37a8b1a7447fa9fae683a321c72f3",
       "max": 5,
       "min": 1,
       "readout_format": ".1f",
       "step": 0.1,
       "style": "IPY_MODEL_22681d47478548c394b85d711f1d87ac",
       "value": 3
      }
     },
     "f9d1925a24b34cc9b9c2d626079c16e7": {
      "model_module": "@jupyter-widgets/controls",
      "model_module_version": "1.5.0",
      "model_name": "DescriptionStyleModel",
      "state": {
       "description_width": ""
      }
     },
     "fa0131657d044afebe8553d5a496e529": {
      "model_module": "@jupyter-widgets/controls",
      "model_module_version": "1.5.0",
      "model_name": "HTMLModel",
      "state": {
       "layout": "IPY_MODEL_0549b62f19f14d6eb2017fa6565a0ef6",
       "style": "IPY_MODEL_db5c8a04a2ad433e8b761fd132121466",
       "value": "<h2>Utterance <b>4:</b></h2>"
      }
     },
     "fa15a7fb05ea4a00b5356630b58d2fef": {
      "model_module": "@jupyter-widgets/controls",
      "model_module_version": "1.5.0",
      "model_name": "HTMLModel",
      "state": {
       "layout": "IPY_MODEL_db42fc062d5e40acaad2d950a75fc269",
       "style": "IPY_MODEL_448478ee5e5941cc874fc481d85fcce5",
       "value": "<h2>Utterance <b>15:</b></h2>"
      }
     },
     "fa39a154fb7d4d9186ae27980dc08ed0": {
      "model_module": "@jupyter-widgets/controls",
      "model_module_version": "1.5.0",
      "model_name": "SliderStyleModel",
      "state": {
       "description_width": ""
      }
     },
     "fa40481114404e43ae3673593e6a2552": {
      "model_module": "@jupyter-widgets/controls",
      "model_module_version": "1.5.0",
      "model_name": "SliderStyleModel",
      "state": {
       "description_width": ""
      }
     },
     "fa4bacd2048542c7909728eb1cd73984": {
      "model_module": "@jupyter-widgets/base",
      "model_module_version": "1.2.0",
      "model_name": "LayoutModel",
      "state": {}
     },
     "fa9540e88ccf45d69ba23e51c692c0c7": {
      "model_module": "@jupyter-widgets/controls",
      "model_module_version": "1.5.0",
      "model_name": "SliderStyleModel",
      "state": {
       "description_width": ""
      }
     },
     "faa943c91f604f18813cd7587a151ea1": {
      "model_module": "@jupyter-widgets/controls",
      "model_module_version": "1.5.0",
      "model_name": "SliderStyleModel",
      "state": {
       "description_width": ""
      }
     },
     "face29515e574881993d23a159d9157e": {
      "model_module": "@jupyter-widgets/controls",
      "model_module_version": "1.5.0",
      "model_name": "FloatSliderModel",
      "state": {
       "continuous_update": false,
       "description": "Test:",
       "layout": "IPY_MODEL_a82399d1875d41049d82efca206df6ab",
       "max": 5,
       "min": 1,
       "readout_format": ".1f",
       "step": 0.1,
       "style": "IPY_MODEL_0f5b765c28bf40e99d4f44d853ed29c7",
       "value": 3
      }
     },
     "faf53f0b1fbb43998978d7b3a238dfc7": {
      "model_module": "@jupyter-widgets/controls",
      "model_module_version": "1.5.0",
      "model_name": "DescriptionStyleModel",
      "state": {
       "description_width": ""
      }
     },
     "fb1330a3e438436bbae3384f792eb48e": {
      "model_module": "@jupyter-widgets/controls",
      "model_module_version": "1.5.0",
      "model_name": "FloatSliderModel",
      "state": {
       "continuous_update": false,
       "description": "Test:",
       "layout": "IPY_MODEL_b8625ed9fd1241edaede80201ac6a6f3",
       "max": 5,
       "min": 1,
       "readout_format": ".1f",
       "step": 0.1,
       "style": "IPY_MODEL_711619a41d2e451084458785d9f3bdea",
       "value": 3
      }
     },
     "fb155a90a22846c59170fc479bf226ac": {
      "model_module": "@jupyter-widgets/controls",
      "model_module_version": "1.5.0",
      "model_name": "FloatSliderModel",
      "state": {
       "continuous_update": false,
       "description": "Test:",
       "layout": "IPY_MODEL_c575ea443d1b4cdd9160c2ebfc346e75",
       "max": 5,
       "min": 1,
       "readout_format": ".1f",
       "step": 0.1,
       "style": "IPY_MODEL_305b2210f1ad4d39866ed3a36c977ad5",
       "value": 3
      }
     },
     "fb2ad70d8cd646518275c171e886d1b6": {
      "model_module": "@jupyter-widgets/controls",
      "model_module_version": "1.5.0",
      "model_name": "DescriptionStyleModel",
      "state": {
       "description_width": ""
      }
     },
     "fb319462db54481582a6730f5dd1e7ee": {
      "model_module": "@jupyter-widgets/base",
      "model_module_version": "1.2.0",
      "model_name": "LayoutModel",
      "state": {}
     },
     "fb5722132b5f4ce99b7c7dfb44ded28e": {
      "model_module": "@jupyter-widgets/controls",
      "model_module_version": "1.5.0",
      "model_name": "SliderStyleModel",
      "state": {
       "description_width": ""
      }
     },
     "fb81a58920754858a1e7abe05bf84a4d": {
      "model_module": "@jupyter-widgets/base",
      "model_module_version": "1.2.0",
      "model_name": "LayoutModel",
      "state": {}
     },
     "fb892cc70d3242d9a9ab1a24e0659be8": {
      "model_module": "@jupyter-widgets/base",
      "model_module_version": "1.2.0",
      "model_name": "LayoutModel",
      "state": {}
     },
     "fb9d763a88b14b88b80c16df3143f306": {
      "model_module": "@jupyter-widgets/base",
      "model_module_version": "1.2.0",
      "model_name": "LayoutModel",
      "state": {}
     },
     "fc1c3fc7be1e4ecab31996427072ddf1": {
      "model_module": "@jupyter-widgets/base",
      "model_module_version": "1.2.0",
      "model_name": "LayoutModel",
      "state": {}
     },
     "fc2e5a328e82490ea98a4fe19fd087a0": {
      "model_module": "@jupyter-widgets/controls",
      "model_module_version": "1.5.0",
      "model_name": "DescriptionStyleModel",
      "state": {
       "description_width": ""
      }
     },
     "fc480446d9ed4918bfe0e9daa687197d": {
      "model_module": "@jupyter-widgets/base",
      "model_module_version": "1.2.0",
      "model_name": "LayoutModel",
      "state": {}
     },
     "fc54cf6ae1d24983817e6f11019e4b3d": {
      "model_module": "@jupyter-widgets/controls",
      "model_module_version": "1.5.0",
      "model_name": "FloatSliderModel",
      "state": {
       "continuous_update": false,
       "description": "Test:",
       "layout": "IPY_MODEL_bb6095aea68b488f92865ee5e69e4af8",
       "max": 5,
       "min": 1,
       "readout_format": ".1f",
       "step": 0.1,
       "style": "IPY_MODEL_441974d5a86548bb8f508f35155c807f",
       "value": 3
      }
     },
     "fce67b484a6844c49c0457ff68b3ba9a": {
      "model_module": "@jupyter-widgets/controls",
      "model_module_version": "1.5.0",
      "model_name": "HTMLModel",
      "state": {
       "layout": "IPY_MODEL_3ed4498cbf9747ce9430802d89a5732f",
       "style": "IPY_MODEL_040f13bdd2f943cc8e21690a6bf8314d",
       "value": "<h2>Utterance <b>11:</b></h2>"
      }
     },
     "fd027a2ad273431f8463cb3d9c5522b7": {
      "model_module": "@jupyter-widgets/controls",
      "model_module_version": "1.5.0",
      "model_name": "HTMLModel",
      "state": {
       "layout": "IPY_MODEL_a1dc578272504eeebec520fefaa8e837",
       "style": "IPY_MODEL_0c1f0a34de6b45aa89c82b198184cc87",
       "value": "<h2>Utterance <b>4:</b></h2>"
      }
     },
     "fd21a474bac04bfbb65403de5539d23f": {
      "model_module": "@jupyter-widgets/base",
      "model_module_version": "1.2.0",
      "model_name": "LayoutModel",
      "state": {}
     },
     "fd7fab4a66ee4c188f64a40b0b31de82": {
      "model_module": "@jupyter-widgets/controls",
      "model_module_version": "1.5.0",
      "model_name": "HTMLModel",
      "state": {
       "layout": "IPY_MODEL_9eff53d7af8a4ac48d1606aa12049724",
       "style": "IPY_MODEL_dff8b407c24841f88a1ef6d67cd0e944",
       "value": "<h2>Utterance <b>19:</b></h2>"
      }
     },
     "fdc102392e56405a8e2c79eb14c7e5a6": {
      "model_module": "@jupyter-widgets/controls",
      "model_module_version": "1.5.0",
      "model_name": "SliderStyleModel",
      "state": {
       "description_width": ""
      }
     },
     "fdd9a71af6234b6fab4ac1f72ce65bfa": {
      "model_module": "@jupyter-widgets/controls",
      "model_module_version": "1.5.0",
      "model_name": "DescriptionStyleModel",
      "state": {
       "description_width": ""
      }
     },
     "fde76fff037942c384ce6a10a9083638": {
      "model_module": "@jupyter-widgets/base",
      "model_module_version": "1.2.0",
      "model_name": "LayoutModel",
      "state": {}
     },
     "fdef2cba988d4e4090066a7608759338": {
      "model_module": "@jupyter-widgets/base",
      "model_module_version": "1.2.0",
      "model_name": "LayoutModel",
      "state": {}
     },
     "fdf0cdcc6cbf4474b46845be1a086aa7": {
      "model_module": "@jupyter-widgets/controls",
      "model_module_version": "1.5.0",
      "model_name": "HTMLModel",
      "state": {
       "layout": "IPY_MODEL_fe2dd419d2314cd7b31b474f2e6db8bb",
       "style": "IPY_MODEL_d240bec3ab9c4e17b0cd80c212ebd0c8",
       "value": "<h2>Utterance <b>15:</b></h2>"
      }
     },
     "fe09a5a5b189433ab2eb5f10d79ebb2b": {
      "model_module": "@jupyter-widgets/base",
      "model_module_version": "1.2.0",
      "model_name": "LayoutModel",
      "state": {}
     },
     "fe251ccd39fe4e53aa05436e1374b4d1": {
      "model_module": "@jupyter-widgets/controls",
      "model_module_version": "1.5.0",
      "model_name": "DescriptionStyleModel",
      "state": {
       "description_width": ""
      }
     },
     "fe2dd419d2314cd7b31b474f2e6db8bb": {
      "model_module": "@jupyter-widgets/base",
      "model_module_version": "1.2.0",
      "model_name": "LayoutModel",
      "state": {}
     },
     "fe69c8d82ef4461b90074e3598af3776": {
      "model_module": "@jupyter-widgets/controls",
      "model_module_version": "1.5.0",
      "model_name": "DescriptionStyleModel",
      "state": {
       "description_width": ""
      }
     },
     "fe75be41be964e10a8186e34e4e70fdf": {
      "model_module": "@jupyter-widgets/base",
      "model_module_version": "1.2.0",
      "model_name": "LayoutModel",
      "state": {}
     },
     "fea84fe3b80c4a71be36fd6a7df9a7da": {
      "model_module": "@jupyter-widgets/base",
      "model_module_version": "1.2.0",
      "model_name": "LayoutModel",
      "state": {}
     },
     "feb5cb131e4c46e2852b0b922ee9b1bc": {
      "model_module": "@jupyter-widgets/controls",
      "model_module_version": "1.5.0",
      "model_name": "ButtonStyleModel",
      "state": {}
     },
     "febb05a44a934bcf91256f1c67dd998e": {
      "model_module": "@jupyter-widgets/controls",
      "model_module_version": "1.5.0",
      "model_name": "DescriptionStyleModel",
      "state": {
       "description_width": ""
      }
     },
     "febf23cf6a6a4fa4b5fea228b075696c": {
      "model_module": "@jupyter-widgets/controls",
      "model_module_version": "1.5.0",
      "model_name": "HTMLModel",
      "state": {
       "layout": "IPY_MODEL_65dd4e2c582646da88063bbfaf5bbee8",
       "style": "IPY_MODEL_c36da850e4f2427fb01d7f919c0dd422",
       "value": "<h2>Utterance <b>14:</b></h2>"
      }
     },
     "ff0ccec61be5439d9106d4a02f11d4d6": {
      "model_module": "@jupyter-widgets/base",
      "model_module_version": "1.2.0",
      "model_name": "LayoutModel",
      "state": {}
     },
     "ff4351cb757e48bbb77db055a491466f": {
      "model_module": "@jupyter-widgets/controls",
      "model_module_version": "1.5.0",
      "model_name": "HTMLModel",
      "state": {
       "layout": "IPY_MODEL_ba8911d3348d4695b8132405f3b375a9",
       "style": "IPY_MODEL_5617bf39e7264b978dc0a74861e1b927",
       "value": "<h2>Utterance <b>13:</b></h2>"
      }
     },
     "ff484c741f1e4b0a9be1085294e32d4b": {
      "model_module": "@jupyter-widgets/base",
      "model_module_version": "1.2.0",
      "model_name": "LayoutModel",
      "state": {}
     },
     "ffb9564acae646e99116d19eacab363a": {
      "model_module": "@jupyter-widgets/base",
      "model_module_version": "1.2.0",
      "model_name": "LayoutModel",
      "state": {}
     },
     "ffd7719d8b8349a2a3ecb23bf52f6abf": {
      "model_module": "@jupyter-widgets/controls",
      "model_module_version": "1.5.0",
      "model_name": "FloatSliderModel",
      "state": {
       "continuous_update": false,
       "description": "Test:",
       "layout": "IPY_MODEL_15fb995596f544bbb9f21a14df63b799",
       "max": 5,
       "min": 1,
       "readout_format": ".1f",
       "step": 0.1,
       "style": "IPY_MODEL_d251ad71d00246e19977b452c4e5eb09",
       "value": 3
      }
     },
     "ffdbfb80306e419fa5d9aeae440ebd3e": {
      "model_module": "@jupyter-widgets/controls",
      "model_module_version": "1.5.0",
      "model_name": "HTMLModel",
      "state": {
       "layout": "IPY_MODEL_c783030df4084f76a0a8a1a32bbabd09",
       "style": "IPY_MODEL_f6d323f305b345f79b774297d3b6b695",
       "value": "<h2>Utterance <b>1:</b></h2>"
      }
     }
    },
    "version_major": 2,
    "version_minor": 0
   }
  }
 },
 "nbformat": 4,
 "nbformat_minor": 4
}
